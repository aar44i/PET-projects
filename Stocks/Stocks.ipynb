{
 "cells": [
  {
   "cell_type": "code",
   "execution_count": 5,
   "id": "630099db",
   "metadata": {},
   "outputs": [],
   "source": [
    "from yahoo_fin.stock_info import * "
   ]
  },
  {
   "cell_type": "code",
   "execution_count": 8,
   "id": "45ed4466",
   "metadata": {},
   "outputs": [
    {
     "data": {
      "text/plain": [
       "4.364999771118164"
      ]
     },
     "execution_count": 8,
     "metadata": {},
     "output_type": "execute_result"
    }
   ],
   "source": [
    "get_live_price('tal')"
   ]
  },
  {
   "cell_type": "code",
   "execution_count": null,
   "id": "5c14cf98",
   "metadata": {},
   "outputs": [],
   "source": []
  }
 ],
 "metadata": {
  "kernelspec": {
   "display_name": "Python 3",
   "language": "python",
   "name": "python3"
  },
  "language_info": {
   "codemirror_mode": {
    "name": "ipython",
    "version": 3
   },
   "file_extension": ".py",
   "mimetype": "text/x-python",
   "name": "python",
   "nbconvert_exporter": "python",
   "pygments_lexer": "ipython3",
   "version": "3.8.8"
  }
 },
 "nbformat": 4,
 "nbformat_minor": 5
}
