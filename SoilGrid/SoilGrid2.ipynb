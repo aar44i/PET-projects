{
 "cells": [
  {
   "cell_type": "code",
   "execution_count": 25,
   "id": "bb0737f8",
   "metadata": {},
   "outputs": [],
   "source": [
    "import requests\n",
    "import time "
   ]
  },
  {
   "cell_type": "code",
   "execution_count": 26,
   "id": "0dd32462",
   "metadata": {},
   "outputs": [],
   "source": [
    " from owslib.wcs import WebCoverageService\n",
    "\n",
    "wcs = WebCoverageService('https://maps.isric.org/mapserv?map=/map/ocs.map')"
   ]
  },
  {
   "cell_type": "code",
   "execution_count": 27,
   "id": "9c3156de",
   "metadata": {},
   "outputs": [
    {
     "name": "stdout",
     "output_type": "stream",
     "text": [
      "dict_keys(['ocs_0-30cm_Q0.05', 'ocs_0-30cm_Q0.5', 'ocs_0-30cm_Q0.95', 'ocs_0-30cm_mean', 'ocs_0-30cm_uncertainty'])\n"
     ]
    }
   ],
   "source": [
    "print(wcs.contents.keys()) "
   ]
  },
  {
   "cell_type": "code",
   "execution_count": 28,
   "id": "ca04b975",
   "metadata": {},
   "outputs": [
    {
     "data": {
      "text/plain": [
       "['image/tiff',\n",
       " 'image/png',\n",
       " 'image/jpeg',\n",
       " 'image/png; mode=8bit',\n",
       " 'image/vnd.jpeg-png',\n",
       " 'image/vnd.jpeg-png8']"
      ]
     },
     "execution_count": 28,
     "metadata": {},
     "output_type": "execute_result"
    }
   ],
   "source": [
    " cov_id = 'ocs_0-30cm_mean'\n",
    "ph_0_5 = wcs.contents[cov_id]\n",
    "ph_0_5.supportedFormats"
   ]
  },
  {
   "cell_type": "markdown",
   "id": "7c237669",
   "metadata": {},
   "source": [
    "subsets = [('X',  -2784000, 800000), ('Y', 156000, 3863000)] Гвинейский залив"
   ]
  },
  {
   "cell_type": "markdown",
   "id": "d20fa561",
   "metadata": {},
   "source": [
    "subsets = [('X',  -584000, 3000000), ('Y', 156000, 3863000)] Сахара"
   ]
  },
  {
   "cell_type": "markdown",
   "id": "cb65ca7a",
   "metadata": {},
   "source": [
    "subsets = [('X', -800000, 3000000), ('Y', 4000000, 7700000)] Европа"
   ]
  },
  {
   "cell_type": "markdown",
   "id": "10d0857d",
   "metadata": {},
   "source": [
    "subsets = [('X', 1000000, 5000000), ('Y', 4000000, 7700000)]  Чуть ближе к россии "
   ]
  },
  {
   "cell_type": "markdown",
   "id": "2580e769",
   "metadata": {},
   "source": [
    "subsets = [('X', 3000000, 7000000), ('Y', 4000000, 7700000)] Россия!"
   ]
  },
  {
   "cell_type": "code",
   "execution_count": 39,
   "id": "5e9cd584",
   "metadata": {},
   "outputs": [
    {
     "ename": "ServiceException",
     "evalue": "<?xml version=\"1.0\" encoding=\"UTF-8\"?>\n<ows:ExceptionReport xmlns:ows=\"http://www.opengis.net/ows/2.0\" xmlns:xsi=\"http://www.w3.org/2001/XMLSchema-instance\" version=\"2.0.1\" xml:lang=\"en-US\" xsi:schemaLocation=\"http://www.opengis.net/ows/2.0 http://schemas.opengis.net/ows/2.0/owsExceptionReport.xsd\">\n  <ows:Exception exceptionCode=\"InvalidParameterValue\" locator=\"size\">\n    <ows:ExceptionText>msWCSGetCoverage20(): WCS server error. Raster size out of range, width and height of resulting coverage must be no more than MAXSIZE=16384.</ows:ExceptionText>\n  </ows:Exception>\n</ows:ExceptionReport>\n",
     "output_type": "error",
     "traceback": [
      "\u001b[1;31m---------------------------------------------------------------------------\u001b[0m",
      "\u001b[1;31mServiceException\u001b[0m                          Traceback (most recent call last)",
      "\u001b[1;32m<ipython-input-39-23b123fdc7c7>\u001b[0m in \u001b[0;36m<module>\u001b[1;34m\u001b[0m\n\u001b[0;32m     11\u001b[0m     \u001b[1;31m# crs = \"http://www.opengis.net/def/crs/EPSG/0/4326\"\u001b[0m\u001b[1;33m\u001b[0m\u001b[1;33m\u001b[0m\u001b[1;33m\u001b[0m\u001b[0m\n\u001b[0;32m     12\u001b[0m \u001b[1;33m\u001b[0m\u001b[0m\n\u001b[1;32m---> 13\u001b[1;33m     response = wcs.getCoverage(\n\u001b[0m\u001b[0;32m     14\u001b[0m         \u001b[0midentifier\u001b[0m\u001b[1;33m=\u001b[0m\u001b[1;33m[\u001b[0m\u001b[0mcov_id\u001b[0m\u001b[1;33m]\u001b[0m\u001b[1;33m,\u001b[0m\u001b[1;33m\u001b[0m\u001b[1;33m\u001b[0m\u001b[0m\n\u001b[0;32m     15\u001b[0m         \u001b[0mcrs\u001b[0m\u001b[1;33m=\u001b[0m\u001b[0mcrs\u001b[0m\u001b[1;33m,\u001b[0m\u001b[1;33m\u001b[0m\u001b[1;33m\u001b[0m\u001b[0m\n",
      "\u001b[1;32m~\\anaconda3\\lib\\site-packages\\owslib\\coverage\\wcs201.py\u001b[0m in \u001b[0;36mgetCoverage\u001b[1;34m(self, identifier, bbox, time, format, subsets, resolutions, sizes, crs, width, height, resx, resy, resz, parameter, method, timeout, **kwargs)\u001b[0m\n\u001b[0;32m    217\u001b[0m         \u001b[0mlog\u001b[0m\u001b[1;33m.\u001b[0m\u001b[0mdebug\u001b[0m\u001b[1;33m(\u001b[0m\u001b[1;34m\"WCS 2.0.1 DEBUG: Second part of URL: %s\"\u001b[0m \u001b[1;33m%\u001b[0m \u001b[0mdata\u001b[0m\u001b[1;33m)\u001b[0m\u001b[1;33m\u001b[0m\u001b[1;33m\u001b[0m\u001b[0m\n\u001b[0;32m    218\u001b[0m \u001b[1;33m\u001b[0m\u001b[0m\n\u001b[1;32m--> 219\u001b[1;33m         \u001b[0mu\u001b[0m \u001b[1;33m=\u001b[0m \u001b[0mopenURL\u001b[0m\u001b[1;33m(\u001b[0m\u001b[0mbase_url\u001b[0m\u001b[1;33m,\u001b[0m \u001b[0mdata\u001b[0m\u001b[1;33m,\u001b[0m \u001b[0mmethod\u001b[0m\u001b[1;33m,\u001b[0m \u001b[0mself\u001b[0m\u001b[1;33m.\u001b[0m\u001b[0mcookies\u001b[0m\u001b[1;33m,\u001b[0m \u001b[0mauth\u001b[0m\u001b[1;33m=\u001b[0m\u001b[0mself\u001b[0m\u001b[1;33m.\u001b[0m\u001b[0mauth\u001b[0m\u001b[1;33m,\u001b[0m \u001b[0mtimeout\u001b[0m\u001b[1;33m=\u001b[0m\u001b[0mtimeout\u001b[0m\u001b[1;33m,\u001b[0m \u001b[0mheaders\u001b[0m\u001b[1;33m=\u001b[0m\u001b[0mself\u001b[0m\u001b[1;33m.\u001b[0m\u001b[0mheaders\u001b[0m\u001b[1;33m)\u001b[0m\u001b[1;33m\u001b[0m\u001b[1;33m\u001b[0m\u001b[0m\n\u001b[0m\u001b[0;32m    220\u001b[0m         \u001b[1;32mreturn\u001b[0m \u001b[0mu\u001b[0m\u001b[1;33m\u001b[0m\u001b[1;33m\u001b[0m\u001b[0m\n\u001b[0;32m    221\u001b[0m \u001b[1;33m\u001b[0m\u001b[0m\n",
      "\u001b[1;32m~\\anaconda3\\lib\\site-packages\\owslib\\util.py\u001b[0m in \u001b[0;36mopenURL\u001b[1;34m(url_base, data, method, cookies, username, password, timeout, headers, verify, cert, auth)\u001b[0m\n\u001b[0;32m    209\u001b[0m \u001b[1;33m\u001b[0m\u001b[0m\n\u001b[0;32m    210\u001b[0m     \u001b[1;32mif\u001b[0m \u001b[0mreq\u001b[0m\u001b[1;33m.\u001b[0m\u001b[0mstatus_code\u001b[0m \u001b[1;32min\u001b[0m \u001b[1;33m[\u001b[0m\u001b[1;36m400\u001b[0m\u001b[1;33m,\u001b[0m \u001b[1;36m401\u001b[0m\u001b[1;33m]\u001b[0m\u001b[1;33m:\u001b[0m\u001b[1;33m\u001b[0m\u001b[1;33m\u001b[0m\u001b[0m\n\u001b[1;32m--> 211\u001b[1;33m         \u001b[1;32mraise\u001b[0m \u001b[0mServiceException\u001b[0m\u001b[1;33m(\u001b[0m\u001b[0mreq\u001b[0m\u001b[1;33m.\u001b[0m\u001b[0mtext\u001b[0m\u001b[1;33m)\u001b[0m\u001b[1;33m\u001b[0m\u001b[1;33m\u001b[0m\u001b[0m\n\u001b[0m\u001b[0;32m    212\u001b[0m \u001b[1;33m\u001b[0m\u001b[0m\n\u001b[0;32m    213\u001b[0m     \u001b[1;32mif\u001b[0m \u001b[0mreq\u001b[0m\u001b[1;33m.\u001b[0m\u001b[0mstatus_code\u001b[0m \u001b[1;32min\u001b[0m \u001b[1;33m[\u001b[0m\u001b[1;36m404\u001b[0m\u001b[1;33m,\u001b[0m \u001b[1;36m500\u001b[0m\u001b[1;33m,\u001b[0m \u001b[1;36m502\u001b[0m\u001b[1;33m,\u001b[0m \u001b[1;36m503\u001b[0m\u001b[1;33m,\u001b[0m \u001b[1;36m504\u001b[0m\u001b[1;33m]\u001b[0m\u001b[1;33m:\u001b[0m    \u001b[1;31m# add more if needed\u001b[0m\u001b[1;33m\u001b[0m\u001b[1;33m\u001b[0m\u001b[0m\n",
      "\u001b[1;31mServiceException\u001b[0m: <?xml version=\"1.0\" encoding=\"UTF-8\"?>\n<ows:ExceptionReport xmlns:ows=\"http://www.opengis.net/ows/2.0\" xmlns:xsi=\"http://www.w3.org/2001/XMLSchema-instance\" version=\"2.0.1\" xml:lang=\"en-US\" xsi:schemaLocation=\"http://www.opengis.net/ows/2.0 http://schemas.opengis.net/ows/2.0/owsExceptionReport.xsd\">\n  <ows:Exception exceptionCode=\"InvalidParameterValue\" locator=\"size\">\n    <ows:ExceptionText>msWCSGetCoverage20(): WCS server error. Raster size out of range, width and height of resulting coverage must be no more than MAXSIZE=16384.</ows:ExceptionText>\n  </ows:Exception>\n</ows:ExceptionReport>\n"
     ]
    }
   ],
   "source": [
    "try:\n",
    "#     subsets = [('X', -1784000, -1140000), ('Y', 1356000, 1863000)] #original\n",
    "#     subsets = [('X', -584000, 3000000), ('Y', 156000, 3863000)] \n",
    "#     subsets = [('X', 3000000, 7000000), ('Y', 4000000, 7700000)] # ЕТР\n",
    "#     subsets = [('X', 7000000, 11000000), ('Y', 5000000, 8700000)] # Сибирь\n",
    "#     subsets = [('X', 11000000, 13000000), ('Y', 4500000, 8200000)] # Дальний восток\n",
    "#     subsets = [('X', 3000000, 7000000), ('Y', 7700000, 9000000)] # Таймыр\n",
    "    subsets = [('X', 3000000, 7000000), ('Y', 4000000, 9000000)] # ЕТР + Таймыр\n",
    "\n",
    "    crs = \"http://www.opengis.net/def/crs/EPSG/0/152160\"\n",
    "    # crs = \"http://www.opengis.net/def/crs/EPSG/0/4326\"\n",
    "\n",
    "    response = wcs.getCoverage(\n",
    "        identifier=[cov_id], \n",
    "        crs=crs,\n",
    "        subsets=subsets, \n",
    "        resx=250, resy=250, \n",
    "        format=ph_0_5.supportedFormats[0])\n",
    "\n",
    "    with open('C:/Users/gorba/DataSciense/PET-projects/SoilGrid/CO2_05_03_V2.tif', 'wb') as file:\n",
    "        file.write(response.read())\n",
    "\n",
    "    import rasterio\n",
    "    from rasterio import plot\n",
    "\n",
    "    ph = rasterio.open('C:/Users/gorba/DataSciense/PET-projects/SoilGrid/CO2_05_03_V2.tif', driver=\"GTiff\")\n",
    "    %matplotlib inline\n",
    "    plot.show(ph, cmap='gist_ncar')\n",
    "except requests.exceptions.ReadTimeout:\n",
    "        print(\"\\n Переподключение к серверам\\n\")\n",
    "        time.sleep(30)"
   ]
  },
  {
   "cell_type": "code",
   "execution_count": null,
   "id": "545a2b5d",
   "metadata": {},
   "outputs": [],
   "source": []
  }
 ],
 "metadata": {
  "kernelspec": {
   "display_name": "Python 3",
   "language": "python",
   "name": "python3"
  },
  "language_info": {
   "codemirror_mode": {
    "name": "ipython",
    "version": 3
   },
   "file_extension": ".py",
   "mimetype": "text/x-python",
   "name": "python",
   "nbconvert_exporter": "python",
   "pygments_lexer": "ipython3",
   "version": "3.8.8"
  }
 },
 "nbformat": 4,
 "nbformat_minor": 5
}
