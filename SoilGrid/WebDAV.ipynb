{
 "cells": [
  {
   "cell_type": "code",
   "execution_count": 1,
   "id": "0d8c8ddf",
   "metadata": {},
   "outputs": [],
   "source": [
    "from osgeo import gdal,ogr,osr\n",
    "\n",
    "bb = (-337500.000,1242500.000,152500.000,527500.000) # Example bounding box (homolosine) for Ghana\n",
    "igh = \"+proj=igh +lat_0=0 +lon_0=0 +datum=WGS84 +units=m +no_defs\" # proj string for Homolosine projection\n",
    "res = 250 \n",
    "location = \"https://files.isric.org/soilgrids/latest/data/\"\n",
    "sg_url = f\"/vsicurl?max_retry=3&retry_delay=1&list_dir=no&url={location}\"\n"
   ]
  },
  {
   "cell_type": "code",
   "execution_count": 2,
   "id": "6b277fea",
   "metadata": {},
   "outputs": [],
   "source": [
    "kwargs = {'format': 'GTiff', 'projWin': bb, 'projWinSRS': igh, 'xRes': res, 'yRes': res, 'creationOptions': [\"TILED=YES\", \"COMPRESS=DEFLATE\", \"PREDICTOR=2\", \"BIGTIFF=YES\"]}\n",
    "\n",
    "ds = gdal.Translate('./crop_roi_igh_py.tif', \n",
    "                    sg_url + 'ocs/ocs_0-30cm_mean.vrt', \n",
    "                    **kwargs)\n",
    "del ds #flush contents\n"
   ]
  },
  {
   "cell_type": "code",
   "execution_count": 3,
   "id": "9832597b",
   "metadata": {},
   "outputs": [],
   "source": [
    "kwargs = {'format': 'GTiff', 'projWin': bb, 'projWinSRS': igh, 'xRes': res, 'yRes': res}\n",
    "\n",
    "ds = gdal.Translate('./crop_roi_igh_py.vrt', \n",
    "                    '/vsicurl?max_retry=3&retry_delay=1&list_dir=no&url=https://files.isric.org/soilgrids/latest/data/ocs/ocs_0-30cm_mean.vrt', \n",
    "                    **kwargs)\n",
    "del ds\n"
   ]
  },
  {
   "cell_type": "code",
   "execution_count": 4,
   "id": "df6dff9d",
   "metadata": {},
   "outputs": [],
   "source": [
    "kwargs = {'format': 'GTiff', 'creationOptions': [\"TILED=YES\", \"COMPRESS=DEFLATE\", \"PREDICTOR=2\", \"BIGTIFF=YES\"]}\n",
    "\n",
    "ds = gdal.Translate('./crop_roi_igh_py.tif', \n",
    "                    '/vsicurl?max_retry=3&retry_delay=1&list_dir=no&url=https://files.isric.org/soilgrids/latest/data/ocs/ocs_0-30cm_mean.vrt', \n",
    "                    **kwargs)\n",
    "del ds\n"
   ]
  },
  {
   "cell_type": "code",
   "execution_count": null,
   "id": "f88e36e1",
   "metadata": {},
   "outputs": [],
   "source": []
  }
 ],
 "metadata": {
  "kernelspec": {
   "display_name": "Python 3",
   "language": "python",
   "name": "python3"
  },
  "language_info": {
   "codemirror_mode": {
    "name": "ipython",
    "version": 3
   },
   "file_extension": ".py",
   "mimetype": "text/x-python",
   "name": "python",
   "nbconvert_exporter": "python",
   "pygments_lexer": "ipython3",
   "version": "3.8.8"
  }
 },
 "nbformat": 4,
 "nbformat_minor": 5
}
