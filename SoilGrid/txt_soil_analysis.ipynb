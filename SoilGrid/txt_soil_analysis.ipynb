{
 "cells": [
  {
   "cell_type": "code",
   "execution_count": 93,
   "id": "cd5d256c",
   "metadata": {},
   "outputs": [],
   "source": [
    "import os\n",
    "import re\n",
    "import pandas as pd"
   ]
  },
  {
   "cell_type": "code",
   "execution_count": 94,
   "id": "3bda71ab",
   "metadata": {},
   "outputs": [
    {
     "data": {
      "text/plain": [
       "'C:\\\\Users\\\\gorba\\\\DataSciense\\\\PET-projects\\\\SoilGrid'"
      ]
     },
     "execution_count": 94,
     "metadata": {},
     "output_type": "execute_result"
    }
   ],
   "source": [
    "os.getcwd()"
   ]
  },
  {
   "cell_type": "code",
   "execution_count": 95,
   "id": "f111b1e6",
   "metadata": {},
   "outputs": [],
   "source": [
    "files = []\n",
    "data_links = []\n",
    "file_name = []\n",
    "path = 'C:/Users/gorba/Desktop/Univercity/1 mag/Dissertation/Soil/Табличные данные/'\n",
    "\n",
    "for path, dirs, files in os.walk(path):\n",
    "    for file in files:\n",
    "        if file.endswith(\".txt\"):\n",
    "            data_links.append(os.path.join(path + '/' + file))\n",
    "            file_name.append(file.split('.txt')[0])\n",
    "data_links = pd.DataFrame(data_links)\n",
    "data_links.columns = ['link']"
   ]
  },
  {
   "cell_type": "code",
   "execution_count": 104,
   "id": "7616a7be",
   "metadata": {},
   "outputs": [],
   "source": [
    "# data_links"
   ]
  },
  {
   "cell_type": "code",
   "execution_count": 97,
   "id": "14090542",
   "metadata": {},
   "outputs": [],
   "source": [
    "names = []\n",
    "for i in range(len(file_name)):\n",
    "    a = re.findall(r'[a-zA-Z]', file_name[i])\n",
    "    names.append([''.join(a)])\n",
    "names = [val for sublist in names for val in sublist]"
   ]
  },
  {
   "cell_type": "code",
   "execution_count": 102,
   "id": "6c3852b7",
   "metadata": {},
   "outputs": [
    {
     "data": {
      "text/plain": [
       "['Bulk',\n",
       " 'Bulk',\n",
       " 'Bulk',\n",
       " 'Bulk',\n",
       " 'Carbon',\n",
       " 'Carbon',\n",
       " 'Carbon',\n",
       " 'Carbon',\n",
       " 'Cation',\n",
       " 'Cation',\n",
       " 'Cation',\n",
       " 'Cation',\n",
       " 'Clay',\n",
       " 'Clay',\n",
       " 'Clay',\n",
       " 'Clay',\n",
       " 'Coarse',\n",
       " 'Coarse',\n",
       " 'Coarse',\n",
       " 'Coarse',\n",
       " 'nitrogen',\n",
       " 'nitrogen',\n",
       " 'nitrogen',\n",
       " 'nitrogen',\n",
       " 'Sand',\n",
       " 'Sand',\n",
       " 'Sand',\n",
       " 'Sand',\n",
       " 'Silt',\n",
       " 'Silt',\n",
       " 'Silt',\n",
       " 'Silt',\n",
       " 'SoilpH',\n",
       " 'SoilpH',\n",
       " 'SoilpH',\n",
       " 'SoilpH']"
      ]
     },
     "execution_count": 102,
     "metadata": {},
     "output_type": "execute_result"
    }
   ],
   "source": [
    "names"
   ]
  },
  {
   "cell_type": "code",
   "execution_count": 99,
   "id": "838d5611",
   "metadata": {},
   "outputs": [
    {
     "data": {
      "text/plain": [
       "'C:/Users/gorba/Desktop/Univercity/1 mag/Dissertation/Soil/Табличные данные//Bulk1.txt'"
      ]
     },
     "execution_count": 99,
     "metadata": {},
     "output_type": "execute_result"
    }
   ],
   "source": [
    "data_links.link[0]"
   ]
  },
  {
   "cell_type": "code",
   "execution_count": 100,
   "id": "b063f997",
   "metadata": {},
   "outputs": [
    {
     "data": {
      "text/html": [
       "<div>\n",
       "<style scoped>\n",
       "    .dataframe tbody tr th:only-of-type {\n",
       "        vertical-align: middle;\n",
       "    }\n",
       "\n",
       "    .dataframe tbody tr th {\n",
       "        vertical-align: top;\n",
       "    }\n",
       "\n",
       "    .dataframe thead th {\n",
       "        text-align: right;\n",
       "    }\n",
       "</style>\n",
       "<table border=\"1\" class=\"dataframe\">\n",
       "  <thead>\n",
       "    <tr style=\"text-align: right;\">\n",
       "      <th></th>\n",
       "      <th>OBJECTID</th>\n",
       "      <th>id_2</th>\n",
       "      <th>COUNT</th>\n",
       "      <th>AREA</th>\n",
       "      <th>MEAN</th>\n",
       "    </tr>\n",
       "  </thead>\n",
       "  <tbody>\n",
       "    <tr>\n",
       "      <th>0</th>\n",
       "      <td>1</td>\n",
       "      <td>70002</td>\n",
       "      <td>207096</td>\n",
       "      <td>1.294350e+10</td>\n",
       "      <td>55.288422</td>\n",
       "    </tr>\n",
       "    <tr>\n",
       "      <th>1</th>\n",
       "      <td>2</td>\n",
       "      <td>70098</td>\n",
       "      <td>784572</td>\n",
       "      <td>4.903575e+10</td>\n",
       "      <td>60.983040</td>\n",
       "    </tr>\n",
       "    <tr>\n",
       "      <th>2</th>\n",
       "      <td>3</td>\n",
       "      <td>70180</td>\n",
       "      <td>421175</td>\n",
       "      <td>2.632344e+10</td>\n",
       "      <td>56.423598</td>\n",
       "    </tr>\n",
       "    <tr>\n",
       "      <th>3</th>\n",
       "      <td>4</td>\n",
       "      <td>70238</td>\n",
       "      <td>305487</td>\n",
       "      <td>1.909294e+10</td>\n",
       "      <td>47.754232</td>\n",
       "    </tr>\n",
       "    <tr>\n",
       "      <th>4</th>\n",
       "      <td>5</td>\n",
       "      <td>70275</td>\n",
       "      <td>209749</td>\n",
       "      <td>1.310931e+10</td>\n",
       "      <td>57.528589</td>\n",
       "    </tr>\n",
       "    <tr>\n",
       "      <th>...</th>\n",
       "      <td>...</td>\n",
       "      <td>...</td>\n",
       "      <td>...</td>\n",
       "      <td>...</td>\n",
       "      <td>...</td>\n",
       "    </tr>\n",
       "    <tr>\n",
       "      <th>61</th>\n",
       "      <td>62</td>\n",
       "      <td>78229</td>\n",
       "      <td>104322</td>\n",
       "      <td>6.520125e+09</td>\n",
       "      <td>112.853674</td>\n",
       "    </tr>\n",
       "    <tr>\n",
       "      <th>62</th>\n",
       "      <td>63</td>\n",
       "      <td>78252</td>\n",
       "      <td>135506</td>\n",
       "      <td>8.469125e+09</td>\n",
       "      <td>110.872936</td>\n",
       "    </tr>\n",
       "    <tr>\n",
       "      <th>63</th>\n",
       "      <td>64</td>\n",
       "      <td>78394</td>\n",
       "      <td>139070</td>\n",
       "      <td>8.691875e+09</td>\n",
       "      <td>100.858503</td>\n",
       "    </tr>\n",
       "    <tr>\n",
       "      <th>64</th>\n",
       "      <td>65</td>\n",
       "      <td>78504</td>\n",
       "      <td>167218</td>\n",
       "      <td>1.045112e+10</td>\n",
       "      <td>109.360039</td>\n",
       "    </tr>\n",
       "    <tr>\n",
       "      <th>65</th>\n",
       "      <td>66</td>\n",
       "      <td>78515</td>\n",
       "      <td>54193</td>\n",
       "      <td>3.387062e+09</td>\n",
       "      <td>110.708782</td>\n",
       "    </tr>\n",
       "  </tbody>\n",
       "</table>\n",
       "<p>66 rows × 5 columns</p>\n",
       "</div>"
      ],
      "text/plain": [
       "    OBJECTID   id_2   COUNT          AREA        MEAN\n",
       "0          1  70002  207096  1.294350e+10   55.288422\n",
       "1          2  70098  784572  4.903575e+10   60.983040\n",
       "2          3  70180  421175  2.632344e+10   56.423598\n",
       "3          4  70238  305487  1.909294e+10   47.754232\n",
       "4          5  70275  209749  1.310931e+10   57.528589\n",
       "..       ...    ...     ...           ...         ...\n",
       "61        62  78229  104322  6.520125e+09  112.853674\n",
       "62        63  78252  135506  8.469125e+09  110.872936\n",
       "63        64  78394  139070  8.691875e+09  100.858503\n",
       "64        65  78504  167218  1.045112e+10  109.360039\n",
       "65        66  78515   54193  3.387062e+09  110.708782\n",
       "\n",
       "[66 rows x 5 columns]"
      ]
     },
     "execution_count": 100,
     "metadata": {},
     "output_type": "execute_result"
    }
   ],
   "source": [
    "data = pd.read_csv(data_links.link[0])\n",
    "data"
   ]
  },
  {
   "cell_type": "code",
   "execution_count": 82,
   "id": "f6b05ab6",
   "metadata": {},
   "outputs": [],
   "source": [
    "for i in range(len(data_links)):\n",
    "    df = pd.read_csv(data_links.link[i])\n",
    "    if name[i] isin data_links.link[i] тогда соединяем"
   ]
  },
  {
   "cell_type": "code",
   "execution_count": null,
   "id": "3769341a",
   "metadata": {},
   "outputs": [],
   "source": []
  }
 ],
 "metadata": {
  "kernelspec": {
   "display_name": "Python 3",
   "language": "python",
   "name": "python3"
  },
  "language_info": {
   "codemirror_mode": {
    "name": "ipython",
    "version": 3
   },
   "file_extension": ".py",
   "mimetype": "text/x-python",
   "name": "python",
   "nbconvert_exporter": "python",
   "pygments_lexer": "ipython3",
   "version": "3.8.8"
  }
 },
 "nbformat": 4,
 "nbformat_minor": 5
}
