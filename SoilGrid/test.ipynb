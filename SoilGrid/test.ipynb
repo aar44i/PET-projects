{
 "cells": [
  {
   "cell_type": "code",
   "execution_count": 1,
   "id": "5b71afa4",
   "metadata": {},
   "outputs": [],
   "source": [
    "from owslib.wcs import WebCoverageService"
   ]
  },
  {
   "cell_type": "code",
   "execution_count": 2,
   "id": "8a125824",
   "metadata": {},
   "outputs": [],
   "source": [
    "my_wcs = WebCoverageService('http://ows.rasdaman.org/rasdaman/ows', version='2.0.1')"
   ]
  },
  {
   "cell_type": "code",
   "execution_count": 4,
   "id": "23479732",
   "metadata": {},
   "outputs": [
    {
     "name": "stdout",
     "output_type": "stream",
     "text": [
      "dict_keys(['AverageChloroColor', 'AverageChloroColorScaled', 'AverageChlorophyllScaled', 'AvgLandTemp', 'AvgTemperatureColorScaled', 'Bavaria_50_DSM', 'BlueMarbleCov', 'FiLCCoverageBit', 'Germany_2D_B04_10m', 'Germany_2D_B08_10m', 'Germany_DTM', 'INSPIRE_EL', 'INSPIRE_OI_IR', 'INSPIRE_OI_RGB', 'INSPIRE_WS_LC', 'LandsatMultiBand', 'NIR', 'NN3_1', 'NN3_2', 'NN3_3', 'NN3_4', 'RadianceColor', 'RadianceColorScaled', 'S2_federation_demo', 'Temperature4D', 'climate_cloud', 'climate_earth', 'lena', 'mean_summer_airtemp', 'meris_lai', 'multiband', 'test_double_1d', 'test_irr_cube_2', 'test_mean_summer_airtemp', 'visible_human'])\n"
     ]
    }
   ],
   "source": [
    "print(my_wcs.contents.keys())"
   ]
  },
  {
   "cell_type": "code",
   "execution_count": 5,
   "id": "2aa039a7",
   "metadata": {},
   "outputs": [
    {
     "data": {
      "text/plain": [
       "[{'nativeSrs': 'http://crs.rasdaman.com/def/crs-compound?1=http://crs.rasdaman.com/def/crs/EPSG/0/4326&2=http://crs.rasdaman.com/def/crs/OGC/0/UnixTime',\n",
       "  'bbox': (-90.0, -180.0, 90.0, 180.0)}]"
      ]
     },
     "execution_count": 5,
     "metadata": {},
     "output_type": "execute_result"
    }
   ],
   "source": [
    "my_wcs.contents['AverageChlorophyllScaled'].boundingboxes"
   ]
  },
  {
   "cell_type": "code",
   "execution_count": null,
   "id": "b4920996",
   "metadata": {},
   "outputs": [],
   "source": []
  }
 ],
 "metadata": {
  "kernelspec": {
   "display_name": "Python 3",
   "language": "python",
   "name": "python3"
  },
  "language_info": {
   "codemirror_mode": {
    "name": "ipython",
    "version": 3
   },
   "file_extension": ".py",
   "mimetype": "text/x-python",
   "name": "python",
   "nbconvert_exporter": "python",
   "pygments_lexer": "ipython3",
   "version": "3.8.8"
  }
 },
 "nbformat": 4,
 "nbformat_minor": 5
}
