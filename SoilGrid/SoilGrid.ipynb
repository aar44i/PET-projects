{
 "cells": [
  {
   "cell_type": "code",
   "execution_count": 1,
   "id": "364ef8e7",
   "metadata": {},
   "outputs": [],
   "source": [
    "# pip install owslib"
   ]
  },
  {
   "cell_type": "code",
   "execution_count": 59,
   "id": "f2690f82",
   "metadata": {},
   "outputs": [],
   "source": [
    " from owslib.wcs import WebCoverageService\n",
    "wcs = WebCoverageService('http://maps.isric.org/mapserv?map=/map/phh2o.map',\n",
    "                         version='1.0.0')"
   ]
  },
  {
   "cell_type": "code",
   "execution_count": 60,
   "id": "067cda9e",
   "metadata": {},
   "outputs": [
    {
     "name": "stdout",
     "output_type": "stream",
     "text": [
      "dict_keys(['phh2o_0-5cm_Q0.05', 'phh2o_0-5cm_Q0.5', 'phh2o_0-5cm_Q0.95', 'phh2o_0-5cm_mean', 'phh2o_0-5cm_uncertainty', 'phh2o_5-15cm_Q0.5', 'phh2o_5-15cm_Q0.05', 'phh2o_5-15cm_Q0.95', 'phh2o_5-15cm_mean', 'phh2o_5-15cm_uncertainty', 'phh2o_15-30cm_Q0.05', 'phh2o_15-30cm_Q0.5', 'phh2o_15-30cm_Q0.95', 'phh2o_15-30cm_mean', 'phh2o_15-30cm_uncertainty', 'phh2o_30-60cm_Q0.05', 'phh2o_30-60cm_Q0.5', 'phh2o_30-60cm_Q0.95', 'phh2o_30-60cm_mean', 'phh2o_30-60cm_uncertainty', 'phh2o_60-100cm_Q0.5', 'phh2o_60-100cm_Q0.05', 'phh2o_60-100cm_Q0.95', 'phh2o_60-100cm_mean', 'phh2o_60-100cm_uncertainty', 'phh2o_100-200cm_Q0.05', 'phh2o_100-200cm_Q0.5', 'phh2o_100-200cm_Q0.95', 'phh2o_100-200cm_mean', 'phh2o_100-200cm_uncertainty'])\n"
     ]
    }
   ],
   "source": [
    "print(wcs.contents.keys()) "
   ]
  },
  {
   "cell_type": "code",
   "execution_count": 61,
   "id": "50e82186",
   "metadata": {},
   "outputs": [
    {
     "data": {
      "text/plain": [
       "[{'nativeSrs': 'EPSG:4326',\n",
       "  'bbox': (-179.998360809347,\n",
       "   -55.9773009202418,\n",
       "   179.994461880094,\n",
       "   82.7192840534453)},\n",
       " {'nativeSrs': 'EPSG:152160',\n",
       "  'bbox': (-19949750.0, -6147500.0, 19861750.0, 8361000.0)}]"
      ]
     },
     "execution_count": 61,
     "metadata": {},
     "output_type": "execute_result"
    }
   ],
   "source": [
    "wcs.contents['phh2o_0-5cm_mean'].boundingboxes"
   ]
  },
  {
   "cell_type": "code",
   "execution_count": 70,
   "id": "8255a324",
   "metadata": {},
   "outputs": [
    {
     "ename": "RasterioIOError",
     "evalue": "'C:/Users/gorba/DataSciense/PET-projects/SoilGrid/Senegal_pH_0-5_mean.tif' not recognized as a supported file format.",
     "output_type": "error",
     "traceback": [
      "\u001b[1;31m---------------------------------------------------------------------------\u001b[0m",
      "\u001b[1;31mCPLE_OpenFailedError\u001b[0m                      Traceback (most recent call last)",
      "\u001b[1;32mrasterio\\_base.pyx\u001b[0m in \u001b[0;36mrasterio._base.DatasetBase.__init__\u001b[1;34m()\u001b[0m\n",
      "\u001b[1;32mrasterio\\_shim.pyx\u001b[0m in \u001b[0;36mrasterio._shim.open_dataset\u001b[1;34m()\u001b[0m\n",
      "\u001b[1;32mrasterio\\_err.pyx\u001b[0m in \u001b[0;36mrasterio._err.exc_wrap_pointer\u001b[1;34m()\u001b[0m\n",
      "\u001b[1;31mCPLE_OpenFailedError\u001b[0m: 'C:/Users/gorba/DataSciense/PET-projects/SoilGrid/Senegal_pH_0-5_mean.tif' not recognized as a supported file format.",
      "\nDuring handling of the above exception, another exception occurred:\n",
      "\u001b[1;31mRasterioIOError\u001b[0m                           Traceback (most recent call last)",
      "\u001b[1;32m<ipython-input-70-d6993917cf20>\u001b[0m in \u001b[0;36m<module>\u001b[1;34m\u001b[0m\n\u001b[0;32m     18\u001b[0m \u001b[1;33m\u001b[0m\u001b[0m\n\u001b[0;32m     19\u001b[0m \u001b[1;32mimport\u001b[0m \u001b[0mrasterio\u001b[0m\u001b[1;33m\u001b[0m\u001b[1;33m\u001b[0m\u001b[0m\n\u001b[1;32m---> 20\u001b[1;33m \u001b[0mph\u001b[0m \u001b[1;33m=\u001b[0m \u001b[0mrasterio\u001b[0m\u001b[1;33m.\u001b[0m\u001b[0mopen\u001b[0m\u001b[1;33m(\u001b[0m\u001b[1;34m'C:/Users/gorba/DataSciense/PET-projects/SoilGrid/Senegal_pH_0-5_mean.tif'\u001b[0m\u001b[1;33m,\u001b[0m \u001b[0mdriver\u001b[0m\u001b[1;33m=\u001b[0m\u001b[1;34m\"GTiff\"\u001b[0m\u001b[1;33m)\u001b[0m\u001b[1;33m\u001b[0m\u001b[1;33m\u001b[0m\u001b[0m\n\u001b[0m\u001b[0;32m     21\u001b[0m \u001b[1;33m\u001b[0m\u001b[0m\n\u001b[0;32m     22\u001b[0m \u001b[1;32mfrom\u001b[0m \u001b[0mrasterio\u001b[0m \u001b[1;32mimport\u001b[0m \u001b[0mplot\u001b[0m\u001b[1;33m\u001b[0m\u001b[1;33m\u001b[0m\u001b[0m\n",
      "\u001b[1;32m~\\anaconda3\\lib\\site-packages\\rasterio\\env.py\u001b[0m in \u001b[0;36mwrapper\u001b[1;34m(*args, **kwds)\u001b[0m\n\u001b[0;32m    435\u001b[0m \u001b[1;33m\u001b[0m\u001b[0m\n\u001b[0;32m    436\u001b[0m         \u001b[1;32mwith\u001b[0m \u001b[0menv_ctor\u001b[0m\u001b[1;33m(\u001b[0m\u001b[0msession\u001b[0m\u001b[1;33m=\u001b[0m\u001b[0msession\u001b[0m\u001b[1;33m)\u001b[0m\u001b[1;33m:\u001b[0m\u001b[1;33m\u001b[0m\u001b[1;33m\u001b[0m\u001b[0m\n\u001b[1;32m--> 437\u001b[1;33m             \u001b[1;32mreturn\u001b[0m \u001b[0mf\u001b[0m\u001b[1;33m(\u001b[0m\u001b[1;33m*\u001b[0m\u001b[0margs\u001b[0m\u001b[1;33m,\u001b[0m \u001b[1;33m**\u001b[0m\u001b[0mkwds\u001b[0m\u001b[1;33m)\u001b[0m\u001b[1;33m\u001b[0m\u001b[1;33m\u001b[0m\u001b[0m\n\u001b[0m\u001b[0;32m    438\u001b[0m \u001b[1;33m\u001b[0m\u001b[0m\n\u001b[0;32m    439\u001b[0m     \u001b[1;32mreturn\u001b[0m \u001b[0mwrapper\u001b[0m\u001b[1;33m\u001b[0m\u001b[1;33m\u001b[0m\u001b[0m\n",
      "\u001b[1;32m~\\anaconda3\\lib\\site-packages\\rasterio\\__init__.py\u001b[0m in \u001b[0;36mopen\u001b[1;34m(fp, mode, driver, width, height, count, crs, transform, dtype, nodata, sharing, **kwargs)\u001b[0m\n\u001b[0;32m    226\u001b[0m         \u001b[1;31m# None.\u001b[0m\u001b[1;33m\u001b[0m\u001b[1;33m\u001b[0m\u001b[1;33m\u001b[0m\u001b[0m\n\u001b[0;32m    227\u001b[0m         \u001b[1;32mif\u001b[0m \u001b[0mmode\u001b[0m \u001b[1;33m==\u001b[0m \u001b[1;34m'r'\u001b[0m\u001b[1;33m:\u001b[0m\u001b[1;33m\u001b[0m\u001b[1;33m\u001b[0m\u001b[0m\n\u001b[1;32m--> 228\u001b[1;33m             \u001b[0ms\u001b[0m \u001b[1;33m=\u001b[0m \u001b[0mDatasetReader\u001b[0m\u001b[1;33m(\u001b[0m\u001b[0mpath\u001b[0m\u001b[1;33m,\u001b[0m \u001b[0mdriver\u001b[0m\u001b[1;33m=\u001b[0m\u001b[0mdriver\u001b[0m\u001b[1;33m,\u001b[0m \u001b[0msharing\u001b[0m\u001b[1;33m=\u001b[0m\u001b[0msharing\u001b[0m\u001b[1;33m,\u001b[0m \u001b[1;33m**\u001b[0m\u001b[0mkwargs\u001b[0m\u001b[1;33m)\u001b[0m\u001b[1;33m\u001b[0m\u001b[1;33m\u001b[0m\u001b[0m\n\u001b[0m\u001b[0;32m    229\u001b[0m         \u001b[1;32melif\u001b[0m \u001b[0mmode\u001b[0m \u001b[1;33m==\u001b[0m \u001b[1;34m\"r+\"\u001b[0m\u001b[1;33m:\u001b[0m\u001b[1;33m\u001b[0m\u001b[1;33m\u001b[0m\u001b[0m\n\u001b[0;32m    230\u001b[0m             s = get_writer_for_path(path, driver=driver)(\n",
      "\u001b[1;32mrasterio\\_base.pyx\u001b[0m in \u001b[0;36mrasterio._base.DatasetBase.__init__\u001b[1;34m()\u001b[0m\n",
      "\u001b[1;31mRasterioIOError\u001b[0m: 'C:/Users/gorba/DataSciense/PET-projects/SoilGrid/Senegal_pH_0-5_mean.tif' not recognized as a supported file format."
     ]
    }
   ],
   "source": [
    "#  bbox = (-1781000, 1355000, -1141000, 1864000)\n",
    "bbox = (-19949750.0, -6147500.0, 19861750.0, 8361000.0)\n",
    "#  bbox = (-1781000, 1955000, -1141000, 1864000)\n",
    "# bbox = (5625425, 5211709, 12576057, 7546352)\n",
    "#  bbox = (5630000, 5220000, 12700000, 7550000)\n",
    "\n",
    "response = wcs.getCoverage(\n",
    "#     identifier='phh2o_0-5cm_mean', \n",
    "    identifier= 'phh2o_0-5cm_mean',\n",
    "    crs='urn:ogc:def:crs:EPSG::152160',\n",
    "#     crs='EPSG:4326',\n",
    "    bbox=bbox, \n",
    "    resx=250, resy=250, \n",
    "    format='GEOTIFF_INT16')\n",
    "\n",
    "with open('C:/Users/gorba/DataSciense/PET-projects/SoilGrid/Senegal_pH_0-5_mean.tif', 'wb') as file:\n",
    "    file.write(response.read())\n",
    "\n",
    "import rasterio\n",
    "ph = rasterio.open('C:/Users/gorba/DataSciense/PET-projects/SoilGrid/Senegal_pH_0-5_mean.tif', driver=\"GTiff\")\n",
    "\n",
    "from rasterio import plot\n",
    "%matplotlib inline\n",
    "plot.show(ph, cmap='gist_ncar')"
   ]
  },
  {
   "cell_type": "code",
   "execution_count": null,
   "id": "97da2875",
   "metadata": {},
   "outputs": [],
   "source": []
  }
 ],
 "metadata": {
  "kernelspec": {
   "display_name": "Python 3",
   "language": "python",
   "name": "python3"
  },
  "language_info": {
   "codemirror_mode": {
    "name": "ipython",
    "version": 3
   },
   "file_extension": ".py",
   "mimetype": "text/x-python",
   "name": "python",
   "nbconvert_exporter": "python",
   "pygments_lexer": "ipython3",
   "version": "3.8.8"
  }
 },
 "nbformat": 4,
 "nbformat_minor": 5
}
