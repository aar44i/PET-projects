{
 "cells": [
  {
   "cell_type": "code",
   "execution_count": 1,
   "id": "4268c01f",
   "metadata": {},
   "outputs": [],
   "source": [
    "import pandas as pd\n",
    "from datetime import datetime, timedelta\n",
    "import warnings\n",
    "warnings.filterwarnings('ignore')"
   ]
  },
  {
   "cell_type": "code",
   "execution_count": 2,
   "id": "e6430873",
   "metadata": {},
   "outputs": [],
   "source": [
    "df_1 = pd.read_excel(open('gas_model_fulldata.xlsx', 'rb'), sheet_name='1')\n",
    "df_2 = pd.read_excel(open('gas_model_fulldata.xlsx', 'rb'), sheet_name='2')\n",
    "df_3 = pd.read_excel(open('gas_model_fulldata.xlsx', 'rb'), sheet_name='3')\n",
    "df_4 = pd.read_excel(open('gas_model_fulldata.xlsx', 'rb'), sheet_name='4')"
   ]
  },
  {
   "cell_type": "markdown",
   "id": "abd975a8",
   "metadata": {},
   "source": [
    "# df_1 + df_2"
   ]
  },
  {
   "cell_type": "code",
   "execution_count": 3,
   "id": "0010deae",
   "metadata": {},
   "outputs": [],
   "source": [
    "df_1 = df_1.interpolate()"
   ]
  },
  {
   "cell_type": "code",
   "execution_count": 4,
   "id": "64bf26c0",
   "metadata": {},
   "outputs": [],
   "source": [
    "df_1['datetime'] = pd.to_datetime(df_1['Date'] + df_1['Time'], format='%Y-%m-%d%H:%M:%S')\n",
    "df_2['datetime'] = pd.to_datetime(df_2['date'] + df_2['time'], format='%Y-%m-%d%H:%M')"
   ]
  },
  {
   "cell_type": "code",
   "execution_count": 5,
   "id": "8d69ec0e",
   "metadata": {},
   "outputs": [],
   "source": [
    "df_1_2 = pd.merge(df_1, df_2, on=[\"datetime\"], how='inner')"
   ]
  },
  {
   "cell_type": "markdown",
   "id": "2afb91ff",
   "metadata": {},
   "source": [
    "# df_3"
   ]
  },
  {
   "cell_type": "code",
   "execution_count": 6,
   "id": "efdcb757",
   "metadata": {},
   "outputs": [
    {
     "data": {
      "text/html": [
       "<div>\n",
       "<style scoped>\n",
       "    .dataframe tbody tr th:only-of-type {\n",
       "        vertical-align: middle;\n",
       "    }\n",
       "\n",
       "    .dataframe tbody tr th {\n",
       "        vertical-align: top;\n",
       "    }\n",
       "\n",
       "    .dataframe thead th {\n",
       "        text-align: right;\n",
       "    }\n",
       "</style>\n",
       "<table border=\"1\" class=\"dataframe\">\n",
       "  <thead>\n",
       "    <tr style=\"text-align: right;\">\n",
       "      <th></th>\n",
       "      <th>filename</th>\n",
       "      <th>date</th>\n",
       "      <th>Month</th>\n",
       "      <th>Day</th>\n",
       "      <th>daytime</th>\n",
       "      <th>air_molar_volume</th>\n",
       "      <th>e</th>\n",
       "      <th>wind_speed</th>\n",
       "      <th>max_wind_speed</th>\n",
       "      <th>wind_dir</th>\n",
       "      <th>u*</th>\n",
       "    </tr>\n",
       "  </thead>\n",
       "  <tbody>\n",
       "    <tr>\n",
       "      <th>2</th>\n",
       "      <td>2022-05-11T000000_AIU-2343.ghg</td>\n",
       "      <td>2022</td>\n",
       "      <td>05</td>\n",
       "      <td>11</td>\n",
       "      <td>0</td>\n",
       "      <td>0.236947E-01</td>\n",
       "      <td>968.552</td>\n",
       "      <td>0.234039</td>\n",
       "      <td>2.49742</td>\n",
       "      <td>53.0498</td>\n",
       "      <td>0.195922</td>\n",
       "    </tr>\n",
       "    <tr>\n",
       "      <th>3</th>\n",
       "      <td>not_enough_data</td>\n",
       "      <td>2022</td>\n",
       "      <td>05</td>\n",
       "      <td>11</td>\n",
       "      <td>-9999</td>\n",
       "      <td>-9999</td>\n",
       "      <td>-9999</td>\n",
       "      <td>-9999</td>\n",
       "      <td>-9999</td>\n",
       "      <td>-9999</td>\n",
       "      <td>-9999</td>\n",
       "    </tr>\n",
       "    <tr>\n",
       "      <th>4</th>\n",
       "      <td>2022-05-11T010000_AIU-2343.ghg</td>\n",
       "      <td>2022</td>\n",
       "      <td>05</td>\n",
       "      <td>11</td>\n",
       "      <td>0</td>\n",
       "      <td>0.236717E-01</td>\n",
       "      <td>742.326</td>\n",
       "      <td>0.829133</td>\n",
       "      <td>2.88472</td>\n",
       "      <td>326.316</td>\n",
       "      <td>0.134331</td>\n",
       "    </tr>\n",
       "    <tr>\n",
       "      <th>5</th>\n",
       "      <td>2022-05-11T013000_AIU-2343.ghg</td>\n",
       "      <td>2022</td>\n",
       "      <td>05</td>\n",
       "      <td>11</td>\n",
       "      <td>0</td>\n",
       "      <td>0.236777E-01</td>\n",
       "      <td>727.909</td>\n",
       "      <td>0.340054</td>\n",
       "      <td>2.80909</td>\n",
       "      <td>140.988</td>\n",
       "      <td>0.240781</td>\n",
       "    </tr>\n",
       "    <tr>\n",
       "      <th>6</th>\n",
       "      <td>2022-05-11T020000_AIU-2343.ghg</td>\n",
       "      <td>2022</td>\n",
       "      <td>05</td>\n",
       "      <td>11</td>\n",
       "      <td>0</td>\n",
       "      <td>0.236924E-01</td>\n",
       "      <td>669.809</td>\n",
       "      <td>1.47261</td>\n",
       "      <td>5.58247</td>\n",
       "      <td>49.6942</td>\n",
       "      <td>0.143896</td>\n",
       "    </tr>\n",
       "    <tr>\n",
       "      <th>...</th>\n",
       "      <td>...</td>\n",
       "      <td>...</td>\n",
       "      <td>...</td>\n",
       "      <td>...</td>\n",
       "      <td>...</td>\n",
       "      <td>...</td>\n",
       "      <td>...</td>\n",
       "      <td>...</td>\n",
       "      <td>...</td>\n",
       "      <td>...</td>\n",
       "      <td>...</td>\n",
       "    </tr>\n",
       "    <tr>\n",
       "      <th>4483</th>\n",
       "      <td>2022-08-12T083000_AIU-2343.ghg</td>\n",
       "      <td>2022</td>\n",
       "      <td>08</td>\n",
       "      <td>12</td>\n",
       "      <td>1</td>\n",
       "      <td>0.255062E-01</td>\n",
       "      <td>2203.81</td>\n",
       "      <td>0.700584</td>\n",
       "      <td>2.45816</td>\n",
       "      <td>150.571</td>\n",
       "      <td>0.25883</td>\n",
       "    </tr>\n",
       "    <tr>\n",
       "      <th>4484</th>\n",
       "      <td>2022-08-12T090000_AIU-2343.ghg</td>\n",
       "      <td>2022</td>\n",
       "      <td>08</td>\n",
       "      <td>12</td>\n",
       "      <td>1</td>\n",
       "      <td>0.256307E-01</td>\n",
       "      <td>2088.91</td>\n",
       "      <td>1.03271</td>\n",
       "      <td>3.37999</td>\n",
       "      <td>138.592</td>\n",
       "      <td>0.219127</td>\n",
       "    </tr>\n",
       "    <tr>\n",
       "      <th>4485</th>\n",
       "      <td>2022-08-12T093000_AIU-2343.ghg</td>\n",
       "      <td>2022</td>\n",
       "      <td>08</td>\n",
       "      <td>12</td>\n",
       "      <td>1</td>\n",
       "      <td>0.256862E-01</td>\n",
       "      <td>2139.62</td>\n",
       "      <td>0.657459</td>\n",
       "      <td>3.34711</td>\n",
       "      <td>208.930</td>\n",
       "      <td>0.388367</td>\n",
       "    </tr>\n",
       "    <tr>\n",
       "      <th>4486</th>\n",
       "      <td>2022-08-12T100000_AIU-2343.ghg</td>\n",
       "      <td>2022</td>\n",
       "      <td>08</td>\n",
       "      <td>12</td>\n",
       "      <td>1</td>\n",
       "      <td>0.257447E-01</td>\n",
       "      <td>2224.22</td>\n",
       "      <td>1.56840</td>\n",
       "      <td>7.75004</td>\n",
       "      <td>105.818</td>\n",
       "      <td>0.264456</td>\n",
       "    </tr>\n",
       "    <tr>\n",
       "      <th>4487</th>\n",
       "      <td>2022-08-12T103000_AIU-2343.ghg</td>\n",
       "      <td>2022</td>\n",
       "      <td>08</td>\n",
       "      <td>12</td>\n",
       "      <td>1</td>\n",
       "      <td>0.258553E-01</td>\n",
       "      <td>2165.85</td>\n",
       "      <td>1.13931</td>\n",
       "      <td>4.48131</td>\n",
       "      <td>108.450</td>\n",
       "      <td>0.398411</td>\n",
       "    </tr>\n",
       "  </tbody>\n",
       "</table>\n",
       "<p>4486 rows × 11 columns</p>\n",
       "</div>"
      ],
      "text/plain": [
       "0                           filename  date Month Day daytime air_molar_volume  \\\n",
       "2     2022-05-11T000000_AIU-2343.ghg  2022    05  11       0     0.236947E-01   \n",
       "3                    not_enough_data  2022    05  11   -9999            -9999   \n",
       "4     2022-05-11T010000_AIU-2343.ghg  2022    05  11       0     0.236717E-01   \n",
       "5     2022-05-11T013000_AIU-2343.ghg  2022    05  11       0     0.236777E-01   \n",
       "6     2022-05-11T020000_AIU-2343.ghg  2022    05  11       0     0.236924E-01   \n",
       "...                              ...   ...   ...  ..     ...              ...   \n",
       "4483  2022-08-12T083000_AIU-2343.ghg  2022    08  12       1     0.255062E-01   \n",
       "4484  2022-08-12T090000_AIU-2343.ghg  2022    08  12       1     0.256307E-01   \n",
       "4485  2022-08-12T093000_AIU-2343.ghg  2022    08  12       1     0.256862E-01   \n",
       "4486  2022-08-12T100000_AIU-2343.ghg  2022    08  12       1     0.257447E-01   \n",
       "4487  2022-08-12T103000_AIU-2343.ghg  2022    08  12       1     0.258553E-01   \n",
       "\n",
       "0           e wind_speed max_wind_speed wind_dir        u*  \n",
       "2     968.552   0.234039        2.49742  53.0498  0.195922  \n",
       "3       -9999      -9999          -9999    -9999     -9999  \n",
       "4     742.326   0.829133        2.88472  326.316  0.134331  \n",
       "5     727.909   0.340054        2.80909  140.988  0.240781  \n",
       "6     669.809    1.47261        5.58247  49.6942  0.143896  \n",
       "...       ...        ...            ...      ...       ...  \n",
       "4483  2203.81   0.700584        2.45816  150.571   0.25883  \n",
       "4484  2088.91    1.03271        3.37999  138.592  0.219127  \n",
       "4485  2139.62   0.657459        3.34711  208.930  0.388367  \n",
       "4486  2224.22    1.56840        7.75004  105.818  0.264456  \n",
       "4487  2165.85    1.13931        4.48131  108.450  0.398411  \n",
       "\n",
       "[4486 rows x 11 columns]"
      ]
     },
     "execution_count": 6,
     "metadata": {},
     "output_type": "execute_result"
    }
   ],
   "source": [
    "df_3.columns = df_3.iloc[0]\n",
    "df_3.drop(df_3.index[[0,1]], inplace = True)\n",
    "df_3"
   ]
  },
  {
   "cell_type": "code",
   "execution_count": 7,
   "id": "b781ab56",
   "metadata": {},
   "outputs": [
    {
     "data": {
      "text/html": [
       "<div>\n",
       "<style scoped>\n",
       "    .dataframe tbody tr th:only-of-type {\n",
       "        vertical-align: middle;\n",
       "    }\n",
       "\n",
       "    .dataframe tbody tr th {\n",
       "        vertical-align: top;\n",
       "    }\n",
       "\n",
       "    .dataframe thead th {\n",
       "        text-align: right;\n",
       "    }\n",
       "</style>\n",
       "<table border=\"1\" class=\"dataframe\">\n",
       "  <thead>\n",
       "    <tr style=\"text-align: right;\">\n",
       "      <th></th>\n",
       "      <th>filename</th>\n",
       "      <th>date</th>\n",
       "      <th>Month</th>\n",
       "      <th>Day</th>\n",
       "      <th>daytime</th>\n",
       "      <th>air_molar_volume</th>\n",
       "      <th>e</th>\n",
       "      <th>wind_speed</th>\n",
       "      <th>max_wind_speed</th>\n",
       "      <th>wind_dir</th>\n",
       "      <th>u*</th>\n",
       "    </tr>\n",
       "  </thead>\n",
       "  <tbody>\n",
       "  </tbody>\n",
       "</table>\n",
       "</div>"
      ],
      "text/plain": [
       "Empty DataFrame\n",
       "Columns: [filename, date, Month, Day, daytime, air_molar_volume, e, wind_speed, max_wind_speed, wind_dir, u*]\n",
       "Index: []"
      ]
     },
     "execution_count": 7,
     "metadata": {},
     "output_type": "execute_result"
    }
   ],
   "source": [
    "df_3[df_3['wind_dir'].isna() == True]"
   ]
  },
  {
   "cell_type": "code",
   "execution_count": 8,
   "id": "6aff8398",
   "metadata": {},
   "outputs": [],
   "source": [
    "df_3['datetime'] = pd.to_datetime(df_3['date'] + df_3['Month'] + df_3['Day'], format='%Y-%m-%d')"
   ]
  },
  {
   "cell_type": "code",
   "execution_count": 9,
   "id": "c14d6b91",
   "metadata": {},
   "outputs": [],
   "source": [
    "df_3.reset_index(drop=True, inplace=True)"
   ]
  },
  {
   "cell_type": "code",
   "execution_count": 10,
   "id": "243687fe",
   "metadata": {},
   "outputs": [
    {
     "ename": "KeyboardInterrupt",
     "evalue": "",
     "output_type": "error",
     "traceback": [
      "\u001b[1;31m---------------------------------------------------------------------------\u001b[0m",
      "\u001b[1;31mKeyboardInterrupt\u001b[0m                         Traceback (most recent call last)",
      "\u001b[1;32m<ipython-input-10-9a3f393d75b9>\u001b[0m in \u001b[0;36m<module>\u001b[1;34m\u001b[0m\n\u001b[0;32m      1\u001b[0m \u001b[1;32mfor\u001b[0m \u001b[0mi\u001b[0m \u001b[1;32min\u001b[0m \u001b[0mrange\u001b[0m\u001b[1;33m(\u001b[0m\u001b[0mlen\u001b[0m\u001b[1;33m(\u001b[0m\u001b[0mdf_3\u001b[0m\u001b[1;33m)\u001b[0m\u001b[1;33m)\u001b[0m\u001b[1;33m:\u001b[0m\u001b[1;33m\u001b[0m\u001b[1;33m\u001b[0m\u001b[0m\n\u001b[1;32m----> 2\u001b[1;33m     \u001b[0mdf_3\u001b[0m\u001b[1;33m[\u001b[0m\u001b[1;34m'datetime'\u001b[0m\u001b[1;33m]\u001b[0m\u001b[1;33m[\u001b[0m\u001b[0mi\u001b[0m\u001b[1;33m+\u001b[0m\u001b[1;36m1\u001b[0m\u001b[1;33m]\u001b[0m \u001b[1;33m=\u001b[0m \u001b[1;33m(\u001b[0m\u001b[0mdf_3\u001b[0m\u001b[1;33m[\u001b[0m\u001b[1;34m'datetime'\u001b[0m\u001b[1;33m]\u001b[0m\u001b[1;33m[\u001b[0m\u001b[0mi\u001b[0m\u001b[1;33m]\u001b[0m \u001b[1;33m+\u001b[0m \u001b[0mtimedelta\u001b[0m\u001b[1;33m(\u001b[0m\u001b[0mminutes\u001b[0m\u001b[1;33m=\u001b[0m\u001b[1;36m30\u001b[0m\u001b[1;33m)\u001b[0m\u001b[1;33m)\u001b[0m\u001b[1;33m.\u001b[0m\u001b[0mstrftime\u001b[0m\u001b[1;33m(\u001b[0m\u001b[1;34m'%Y-%m-%d %H:%M'\u001b[0m\u001b[1;33m)\u001b[0m\u001b[1;33m\u001b[0m\u001b[1;33m\u001b[0m\u001b[0m\n\u001b[0m",
      "\u001b[1;32m~\\anaconda3\\lib\\site-packages\\pandas\\core\\series.py\u001b[0m in \u001b[0;36m__setitem__\u001b[1;34m(self, key, value)\u001b[0m\n\u001b[0;32m   1054\u001b[0m     \u001b[1;32mdef\u001b[0m \u001b[0m__setitem__\u001b[0m\u001b[1;33m(\u001b[0m\u001b[0mself\u001b[0m\u001b[1;33m,\u001b[0m \u001b[0mkey\u001b[0m\u001b[1;33m,\u001b[0m \u001b[0mvalue\u001b[0m\u001b[1;33m)\u001b[0m \u001b[1;33m->\u001b[0m \u001b[1;32mNone\u001b[0m\u001b[1;33m:\u001b[0m\u001b[1;33m\u001b[0m\u001b[1;33m\u001b[0m\u001b[0m\n\u001b[0;32m   1055\u001b[0m         \u001b[0mkey\u001b[0m \u001b[1;33m=\u001b[0m \u001b[0mcom\u001b[0m\u001b[1;33m.\u001b[0m\u001b[0mapply_if_callable\u001b[0m\u001b[1;33m(\u001b[0m\u001b[0mkey\u001b[0m\u001b[1;33m,\u001b[0m \u001b[0mself\u001b[0m\u001b[1;33m)\u001b[0m\u001b[1;33m\u001b[0m\u001b[1;33m\u001b[0m\u001b[0m\n\u001b[1;32m-> 1056\u001b[1;33m         \u001b[0mcacher_needs_updating\u001b[0m \u001b[1;33m=\u001b[0m \u001b[0mself\u001b[0m\u001b[1;33m.\u001b[0m\u001b[0m_check_is_chained_assignment_possible\u001b[0m\u001b[1;33m(\u001b[0m\u001b[1;33m)\u001b[0m\u001b[1;33m\u001b[0m\u001b[1;33m\u001b[0m\u001b[0m\n\u001b[0m\u001b[0;32m   1057\u001b[0m \u001b[1;33m\u001b[0m\u001b[0m\n\u001b[0;32m   1058\u001b[0m         \u001b[1;32mif\u001b[0m \u001b[0mkey\u001b[0m \u001b[1;32mis\u001b[0m \u001b[0mEllipsis\u001b[0m\u001b[1;33m:\u001b[0m\u001b[1;33m\u001b[0m\u001b[1;33m\u001b[0m\u001b[0m\n",
      "\u001b[1;32m~\\anaconda3\\lib\\site-packages\\pandas\\core\\series.py\u001b[0m in \u001b[0;36m_check_is_chained_assignment_possible\u001b[1;34m(self)\u001b[0m\n\u001b[0;32m   1209\u001b[0m         \u001b[1;32mif\u001b[0m \u001b[0mself\u001b[0m\u001b[1;33m.\u001b[0m\u001b[0m_is_view\u001b[0m \u001b[1;32mand\u001b[0m \u001b[0mself\u001b[0m\u001b[1;33m.\u001b[0m\u001b[0m_is_cached\u001b[0m\u001b[1;33m:\u001b[0m\u001b[1;33m\u001b[0m\u001b[1;33m\u001b[0m\u001b[0m\n\u001b[0;32m   1210\u001b[0m             \u001b[0mref\u001b[0m \u001b[1;33m=\u001b[0m \u001b[0mself\u001b[0m\u001b[1;33m.\u001b[0m\u001b[0m_get_cacher\u001b[0m\u001b[1;33m(\u001b[0m\u001b[1;33m)\u001b[0m\u001b[1;33m\u001b[0m\u001b[1;33m\u001b[0m\u001b[0m\n\u001b[1;32m-> 1211\u001b[1;33m             \u001b[1;32mif\u001b[0m \u001b[0mref\u001b[0m \u001b[1;32mis\u001b[0m \u001b[1;32mnot\u001b[0m \u001b[1;32mNone\u001b[0m \u001b[1;32mand\u001b[0m \u001b[0mref\u001b[0m\u001b[1;33m.\u001b[0m\u001b[0m_is_mixed_type\u001b[0m\u001b[1;33m:\u001b[0m\u001b[1;33m\u001b[0m\u001b[1;33m\u001b[0m\u001b[0m\n\u001b[0m\u001b[0;32m   1212\u001b[0m                 \u001b[0mself\u001b[0m\u001b[1;33m.\u001b[0m\u001b[0m_check_setitem_copy\u001b[0m\u001b[1;33m(\u001b[0m\u001b[0mstacklevel\u001b[0m\u001b[1;33m=\u001b[0m\u001b[1;36m4\u001b[0m\u001b[1;33m,\u001b[0m \u001b[0mt\u001b[0m\u001b[1;33m=\u001b[0m\u001b[1;34m\"referent\"\u001b[0m\u001b[1;33m,\u001b[0m \u001b[0mforce\u001b[0m\u001b[1;33m=\u001b[0m\u001b[1;32mTrue\u001b[0m\u001b[1;33m)\u001b[0m\u001b[1;33m\u001b[0m\u001b[1;33m\u001b[0m\u001b[0m\n\u001b[0;32m   1213\u001b[0m             \u001b[1;32mreturn\u001b[0m \u001b[1;32mTrue\u001b[0m\u001b[1;33m\u001b[0m\u001b[1;33m\u001b[0m\u001b[0m\n",
      "\u001b[1;32m~\\anaconda3\\lib\\site-packages\\pandas\\core\\generic.py\u001b[0m in \u001b[0;36m_is_mixed_type\u001b[1;34m(self)\u001b[0m\n\u001b[0;32m   5590\u001b[0m             \u001b[1;32mreturn\u001b[0m \u001b[1;32mTrue\u001b[0m\u001b[1;33m\u001b[0m\u001b[1;33m\u001b[0m\u001b[0m\n\u001b[0;32m   5591\u001b[0m \u001b[1;33m\u001b[0m\u001b[0m\n\u001b[1;32m-> 5592\u001b[1;33m         \u001b[1;32mreturn\u001b[0m \u001b[0mself\u001b[0m\u001b[1;33m.\u001b[0m\u001b[0mdtypes\u001b[0m\u001b[1;33m.\u001b[0m\u001b[0mnunique\u001b[0m\u001b[1;33m(\u001b[0m\u001b[1;33m)\u001b[0m \u001b[1;33m>\u001b[0m \u001b[1;36m1\u001b[0m\u001b[1;33m\u001b[0m\u001b[1;33m\u001b[0m\u001b[0m\n\u001b[0m\u001b[0;32m   5593\u001b[0m \u001b[1;33m\u001b[0m\u001b[0m\n\u001b[0;32m   5594\u001b[0m     \u001b[1;33m@\u001b[0m\u001b[0mfinal\u001b[0m\u001b[1;33m\u001b[0m\u001b[1;33m\u001b[0m\u001b[0m\n",
      "\u001b[1;32m~\\anaconda3\\lib\\site-packages\\pandas\\core\\base.py\u001b[0m in \u001b[0;36mnunique\u001b[1;34m(self, dropna)\u001b[0m\n\u001b[0;32m   1015\u001b[0m         \u001b[1;36m4\u001b[0m\u001b[1;33m\u001b[0m\u001b[1;33m\u001b[0m\u001b[0m\n\u001b[0;32m   1016\u001b[0m         \"\"\"\n\u001b[1;32m-> 1017\u001b[1;33m         \u001b[0muniqs\u001b[0m \u001b[1;33m=\u001b[0m \u001b[0mself\u001b[0m\u001b[1;33m.\u001b[0m\u001b[0munique\u001b[0m\u001b[1;33m(\u001b[0m\u001b[1;33m)\u001b[0m\u001b[1;33m\u001b[0m\u001b[1;33m\u001b[0m\u001b[0m\n\u001b[0m\u001b[0;32m   1018\u001b[0m         \u001b[1;32mif\u001b[0m \u001b[0mdropna\u001b[0m\u001b[1;33m:\u001b[0m\u001b[1;33m\u001b[0m\u001b[1;33m\u001b[0m\u001b[0m\n\u001b[0;32m   1019\u001b[0m             \u001b[0muniqs\u001b[0m \u001b[1;33m=\u001b[0m \u001b[0mremove_na_arraylike\u001b[0m\u001b[1;33m(\u001b[0m\u001b[0muniqs\u001b[0m\u001b[1;33m)\u001b[0m\u001b[1;33m\u001b[0m\u001b[1;33m\u001b[0m\u001b[0m\n",
      "\u001b[1;32m~\\anaconda3\\lib\\site-packages\\pandas\\core\\series.py\u001b[0m in \u001b[0;36munique\u001b[1;34m(self)\u001b[0m\n\u001b[0;32m   2037\u001b[0m         \u001b[0mCategories\u001b[0m \u001b[1;33m(\u001b[0m\u001b[1;36m3\u001b[0m\u001b[1;33m,\u001b[0m \u001b[0mobject\u001b[0m\u001b[1;33m)\u001b[0m\u001b[1;33m:\u001b[0m \u001b[1;33m[\u001b[0m\u001b[1;34m'a'\u001b[0m \u001b[1;33m<\u001b[0m \u001b[1;34m'b'\u001b[0m \u001b[1;33m<\u001b[0m \u001b[1;34m'c'\u001b[0m\u001b[1;33m]\u001b[0m\u001b[1;33m\u001b[0m\u001b[1;33m\u001b[0m\u001b[0m\n\u001b[0;32m   2038\u001b[0m         \"\"\"\n\u001b[1;32m-> 2039\u001b[1;33m         \u001b[1;32mreturn\u001b[0m \u001b[0msuper\u001b[0m\u001b[1;33m(\u001b[0m\u001b[1;33m)\u001b[0m\u001b[1;33m.\u001b[0m\u001b[0munique\u001b[0m\u001b[1;33m(\u001b[0m\u001b[1;33m)\u001b[0m\u001b[1;33m\u001b[0m\u001b[1;33m\u001b[0m\u001b[0m\n\u001b[0m\u001b[0;32m   2040\u001b[0m \u001b[1;33m\u001b[0m\u001b[0m\n\u001b[0;32m   2041\u001b[0m     \u001b[1;33m@\u001b[0m\u001b[0moverload\u001b[0m\u001b[1;33m\u001b[0m\u001b[1;33m\u001b[0m\u001b[0m\n",
      "\u001b[1;32m~\\anaconda3\\lib\\site-packages\\pandas\\core\\base.py\u001b[0m in \u001b[0;36munique\u001b[1;34m(self)\u001b[0m\n\u001b[0;32m    977\u001b[0m                     \u001b[0mresult\u001b[0m \u001b[1;33m=\u001b[0m \u001b[0mnp\u001b[0m\u001b[1;33m.\u001b[0m\u001b[0masarray\u001b[0m\u001b[1;33m(\u001b[0m\u001b[0mresult\u001b[0m\u001b[1;33m)\u001b[0m\u001b[1;33m\u001b[0m\u001b[1;33m\u001b[0m\u001b[0m\n\u001b[0;32m    978\u001b[0m         \u001b[1;32melse\u001b[0m\u001b[1;33m:\u001b[0m\u001b[1;33m\u001b[0m\u001b[1;33m\u001b[0m\u001b[0m\n\u001b[1;32m--> 979\u001b[1;33m             \u001b[0mresult\u001b[0m \u001b[1;33m=\u001b[0m \u001b[0munique1d\u001b[0m\u001b[1;33m(\u001b[0m\u001b[0mvalues\u001b[0m\u001b[1;33m)\u001b[0m\u001b[1;33m\u001b[0m\u001b[1;33m\u001b[0m\u001b[0m\n\u001b[0m\u001b[0;32m    980\u001b[0m \u001b[1;33m\u001b[0m\u001b[0m\n\u001b[0;32m    981\u001b[0m         \u001b[1;32mreturn\u001b[0m \u001b[0mresult\u001b[0m\u001b[1;33m\u001b[0m\u001b[1;33m\u001b[0m\u001b[0m\n",
      "\u001b[1;32m~\\anaconda3\\lib\\site-packages\\pandas\\core\\algorithms.py\u001b[0m in \u001b[0;36munique\u001b[1;34m(values)\u001b[0m\n\u001b[0;32m    429\u001b[0m \u001b[1;33m\u001b[0m\u001b[0m\n\u001b[0;32m    430\u001b[0m     \u001b[0mtable\u001b[0m \u001b[1;33m=\u001b[0m \u001b[0mhtable\u001b[0m\u001b[1;33m(\u001b[0m\u001b[0mlen\u001b[0m\u001b[1;33m(\u001b[0m\u001b[0mvalues\u001b[0m\u001b[1;33m)\u001b[0m\u001b[1;33m)\u001b[0m\u001b[1;33m\u001b[0m\u001b[1;33m\u001b[0m\u001b[0m\n\u001b[1;32m--> 431\u001b[1;33m     \u001b[0muniques\u001b[0m \u001b[1;33m=\u001b[0m \u001b[0mtable\u001b[0m\u001b[1;33m.\u001b[0m\u001b[0munique\u001b[0m\u001b[1;33m(\u001b[0m\u001b[0mvalues\u001b[0m\u001b[1;33m)\u001b[0m\u001b[1;33m\u001b[0m\u001b[1;33m\u001b[0m\u001b[0m\n\u001b[0m\u001b[0;32m    432\u001b[0m     \u001b[0muniques\u001b[0m \u001b[1;33m=\u001b[0m \u001b[0m_reconstruct_data\u001b[0m\u001b[1;33m(\u001b[0m\u001b[0muniques\u001b[0m\u001b[1;33m,\u001b[0m \u001b[0moriginal\u001b[0m\u001b[1;33m.\u001b[0m\u001b[0mdtype\u001b[0m\u001b[1;33m,\u001b[0m \u001b[0moriginal\u001b[0m\u001b[1;33m)\u001b[0m\u001b[1;33m\u001b[0m\u001b[1;33m\u001b[0m\u001b[0m\n\u001b[0;32m    433\u001b[0m     \u001b[1;32mreturn\u001b[0m \u001b[0muniques\u001b[0m\u001b[1;33m\u001b[0m\u001b[1;33m\u001b[0m\u001b[0m\n",
      "\u001b[1;31mKeyboardInterrupt\u001b[0m: "
     ]
    }
   ],
   "source": [
    "for i in range(len(df_3)):\n",
    "    df_3['datetime'][i+1] = (df_3['datetime'][i] + timedelta(minutes=30)).strftime('%Y-%m-%d %H:%M')"
   ]
  },
  {
   "cell_type": "code",
   "execution_count": null,
   "id": "8dd848c5",
   "metadata": {},
   "outputs": [],
   "source": [
    "df_1_2_3 = pd.merge(df_1_2, df_3, on=[\"datetime\"], how='inner')"
   ]
  },
  {
   "cell_type": "markdown",
   "id": "46fe070f",
   "metadata": {},
   "source": [
    "# df_4"
   ]
  },
  {
   "cell_type": "code",
   "execution_count": null,
   "id": "a62953d2",
   "metadata": {},
   "outputs": [],
   "source": [
    "df_4"
   ]
  },
  {
   "cell_type": "code",
   "execution_count": null,
   "id": "fd3770f2",
   "metadata": {},
   "outputs": [],
   "source": [
    "df_4['datetime'] = pd.to_datetime(df_4['Дата'] + df_4['Время'], format=  '%d.%m.%Y%H:%M:%S')"
   ]
  },
  {
   "cell_type": "code",
   "execution_count": null,
   "id": "9c72e197",
   "metadata": {},
   "outputs": [],
   "source": [
    "df_4.info()"
   ]
  },
  {
   "cell_type": "code",
   "execution_count": null,
   "id": "52a8398e",
   "metadata": {},
   "outputs": [],
   "source": [
    "df_4_columns = df_4.columns.values.tolist()"
   ]
  },
  {
   "cell_type": "code",
   "execution_count": null,
   "id": "9d5d6030",
   "metadata": {},
   "outputs": [],
   "source": [
    "unwanted_num = ['UNIXTIME', 'Дата', 'Время', 'Направление ветра', 'datetime']"
   ]
  },
  {
   "cell_type": "code",
   "execution_count": null,
   "id": "a5b3d2a8",
   "metadata": {},
   "outputs": [],
   "source": [
    "df_4_columns = [elem for elem in df_4_columns if elem not in unwanted_num]"
   ]
  },
  {
   "cell_type": "code",
   "execution_count": null,
   "id": "ab4eb0f6",
   "metadata": {},
   "outputs": [],
   "source": [
    "df_4_columns"
   ]
  },
  {
   "cell_type": "code",
   "execution_count": null,
   "id": "ae6d57ca",
   "metadata": {},
   "outputs": [],
   "source": [
    "df_1_4= pd.merge(df_1_2_3, df_4, on=[\"datetime\"], how='left')"
   ]
  },
  {
   "cell_type": "code",
   "execution_count": null,
   "id": "3a3523d7",
   "metadata": {},
   "outputs": [],
   "source": [
    "df_1_4[df_4_columns] = df_1_4[df_4_columns].interpolate()"
   ]
  },
  {
   "cell_type": "code",
   "execution_count": null,
   "id": "d2dd43b7",
   "metadata": {},
   "outputs": [],
   "source": [
    "df_1_4.describe()"
   ]
  },
  {
   "cell_type": "code",
   "execution_count": null,
   "id": "d5673b3f",
   "metadata": {},
   "outputs": [],
   "source": []
  },
  {
   "cell_type": "code",
   "execution_count": null,
   "id": "1c5e4cc2",
   "metadata": {},
   "outputs": [],
   "source": [
    "df_1_4.to_excel('gas_model_data_convert.xlsx')"
   ]
  },
  {
   "cell_type": "code",
   "execution_count": null,
   "id": "b054cae9",
   "metadata": {},
   "outputs": [],
   "source": []
  }
 ],
 "metadata": {
  "kernelspec": {
   "display_name": "Python 3",
   "language": "python",
   "name": "python3"
  },
  "language_info": {
   "codemirror_mode": {
    "name": "ipython",
    "version": 3
   },
   "file_extension": ".py",
   "mimetype": "text/x-python",
   "name": "python",
   "nbconvert_exporter": "python",
   "pygments_lexer": "ipython3",
   "version": "3.8.8"
  }
 },
 "nbformat": 4,
 "nbformat_minor": 5
}
