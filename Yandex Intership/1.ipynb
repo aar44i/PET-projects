{
 "cells": [
  {
   "cell_type": "markdown",
   "id": "250aed42",
   "metadata": {},
   "source": [
    "# Кондиционер "
   ]
  },
  {
   "cell_type": "markdown",
   "id": "6bab2407",
   "metadata": {},
   "source": [
    "В офисе, где работает программист Петр, установили кондиционер нового типа. Этот кондиционер отличается особой простотой в управлении. У кондиционера есть всего лишь два управляемых параметра: желаемая температура и режим работы.\n",
    "\n",
    "Кондиционер может работать в следующих четырех режимах:\n",
    "\n",
    "«freeze» — охлаждение. В этом режиме кондиционер может только уменьшать температуру. Если температура в комнате и так не больше желаемой, то он выключается.\n",
    "\n",
    "«heat» — нагрев. В этом режиме кондиционер может только увеличивать температуру. Если температура в комнате и так не меньше желаемой, то он выключается.\n",
    "\n",
    "«auto» — автоматический режим. В этом режиме кондиционер может как увеличивать, так и уменьшать температуру в комнате до желаемой.\n",
    "\n",
    "«fan» — вентиляция. В этом режиме кондиционер осуществляет только вентиляцию воздуха и не изменяет температуру в комнате.\n",
    "\n",
    "Кондиционер достаточно мощный, поэтому при настройке на правильный режим работы он за час доводит температуру в комнате до желаемой.\n",
    "\n",
    "Требуется написать программу, которая по заданной температуре в комнате troom, установленным на кондиционере желаемой температуре tcond и режиму работы определяет температуру, которая установится в комнате через час.\n",
    "\n",
    "Формат ввода\n",
    "Первая строка входного файла содержит два целых числа troom, и tcond, разделенных ровно одним пробелом (–50 ≤ troom ≤ 50, –50 ≤ tcond ≤ 50).\n",
    "\n",
    "Вторая строка содержит одно слово, записанное строчными буквами латинского алфавита — режим работы кондиционера.\n",
    "\n",
    "Формат вывода\n",
    "Выходной файл должен содержать одно целое число — температуру, которая установится в комнате через час."
   ]
  },
  {
   "cell_type": "code",
   "execution_count": 63,
   "id": "cd66d27a",
   "metadata": {},
   "outputs": [
    {
     "name": "stdout",
     "output_type": "stream",
     "text": [
      "\n",
      "troom и tcond : 10 20 \n",
      "\n",
      "regime :freeze\n"
     ]
    }
   ],
   "source": [
    "troom, tcond = map(int, input(\"\\ntroom и tcond : \").split( ))\n",
    "regime = input('\\nregime :')"
   ]
  },
  {
   "cell_type": "code",
   "execution_count": 64,
   "id": "0a52271f",
   "metadata": {},
   "outputs": [
    {
     "name": "stdout",
     "output_type": "stream",
     "text": [
      "10\n"
     ]
    }
   ],
   "source": [
    "if regime == 'freeze':\n",
    "    print(troom if troom <= tcond else tcond)\n",
    "#     print(regime)\n",
    "elif regime == 'heat':\n",
    "    print(troom if troom >= tcond else tcond)\n",
    "#     print(regime)\n",
    "else:\n",
    "    print(tcond if regime == 'auto' else  troom if regime == 'fan' else 0)"
   ]
  },
  {
   "cell_type": "markdown",
   "id": "3361a1d8",
   "metadata": {},
   "source": [
    "# Треугольник"
   ]
  },
  {
   "cell_type": "markdown",
   "id": "f1d06c62",
   "metadata": {},
   "source": [
    "Даны три натуральных числа. Возможно ли построить треугольник с такими сторонами. Если это возможно, выведите строку YES, иначе выведите строку NO.\n",
    "\n",
    "Треугольник — это три точки, не лежащие на одной прямой."
   ]
  },
  {
   "cell_type": "code",
   "execution_count": 71,
   "id": "5aed0dd7",
   "metadata": {},
   "outputs": [
    {
     "name": "stdout",
     "output_type": "stream",
     "text": [
      "\n",
      "a, b, c : 3 4 5 \n",
      "Yes\n"
     ]
    }
   ],
   "source": [
    "a, b, c = map(int, input(\"\\na, b, c : \").split( ))\n",
    "print('No' if (c >= (a + b)) or (b >= (a + c)) or (a >= (b + c)) else \"Yes\")"
   ]
  },
  {
   "cell_type": "markdown",
   "id": "e23e49a3",
   "metadata": {},
   "source": [
    "# Телефонные номера"
   ]
  },
  {
   "cell_type": "markdown",
   "id": "22c117f0",
   "metadata": {},
   "source": [
    "Телефонные номера в адресной книге мобильного телефона имеют один из следующих форматов: +7<код><номер> 8<код><номер> <номер> где <номер> — это семь цифр, а <код> — это три цифры или три цифры в круглых скобках. Если код не указан, то считается, что он равен 495. Кроме того, в записи телефонного номера может стоять знак “-” между любыми двумя цифрами (см. пример). На данный момент в адресной книге телефона Васи записано всего три телефонных номера, и он хочет записать туда еще один. Но он не может понять, не записан ли уже такой номер в телефонной книге. Помогите ему! Два телефонных номера совпадают, если у них равны коды и равны номера. Например, +7(916)0123456 и 89160123456 — это один и тот же номер.\n",
    "\n",
    "Формат ввода\n",
    "В первой строке входных данных записан номер телефона, который Вася хочет добавить в адресную книгу своего телефона. В следующих трех строках записаны три номера телефонов, которые уже находятся в адресной книге телефона Васи. Гарантируется, что каждая из записей соответствует одному из трех приведенных в условии форматов.\n",
    "\n",
    "Формат вывода\n",
    "Для каждого телефонного номера в адресной книге выведите YES (заглавными буквами), если он совпадает с тем телефонным номером, который Вася хочет добавить в адресную книгу или NO (заглавными буквами) в противном случае."
   ]
  },
  {
   "cell_type": "code",
   "execution_count": 93,
   "id": "8a8b9e08",
   "metadata": {},
   "outputs": [
    {
     "name": "stdout",
     "output_type": "stream",
     "text": [
      "8(495)430-23-97\n"
     ]
    },
    {
     "ename": "ValueError",
     "evalue": "invalid literal for int() with base 10: '8(495)430-23-97'",
     "output_type": "error",
     "traceback": [
      "\u001b[1;31m---------------------------------------------------------------------------\u001b[0m",
      "\u001b[1;31mValueError\u001b[0m                                Traceback (most recent call last)",
      "\u001b[1;32m<ipython-input-93-677a4b06399b>\u001b[0m in \u001b[0;36m<module>\u001b[1;34m\u001b[0m\n\u001b[1;32m----> 1\u001b[1;33m \u001b[0mlines\u001b[0m \u001b[1;33m=\u001b[0m \u001b[0mint\u001b[0m\u001b[1;33m(\u001b[0m\u001b[0minput\u001b[0m\u001b[1;33m(\u001b[0m\u001b[1;33m)\u001b[0m\u001b[1;33m)\u001b[0m\u001b[1;33m\u001b[0m\u001b[1;33m\u001b[0m\u001b[0m\n\u001b[0m\u001b[0;32m      2\u001b[0m \u001b[1;33m\u001b[0m\u001b[0m\n\u001b[0;32m      3\u001b[0m \u001b[1;33m\u001b[0m\u001b[0m\n\u001b[0;32m      4\u001b[0m \u001b[0mchange_lines\u001b[0m \u001b[1;33m=\u001b[0m \u001b[1;33m[\u001b[0m\u001b[1;33m]\u001b[0m\u001b[1;33m\u001b[0m\u001b[1;33m\u001b[0m\u001b[0m\n\u001b[0;32m      5\u001b[0m \u001b[1;33m\u001b[0m\u001b[0m\n",
      "\u001b[1;31mValueError\u001b[0m: invalid literal for int() with base 10: '8(495)430-23-97'"
     ]
    }
   ],
   "source": [
    "lines = int(input())\n",
    "\n",
    "\n",
    "change_lines = []\n",
    "\n",
    "for line in lines:\n",
    "    line = line.replace('-', '')\n",
    "    line = line.replace ('+7', '8')\n",
    "    line = line.replace ('(', '')\n",
    "    line = line.replace (')', '')\n",
    "    if line[0] != '8':\n",
    "        line = '8495' + line\n",
    "    change_lines.append(line)\n",
    "#print(change_lines)\n",
    "\n",
    "for i in range(1,4):\n",
    "    if change_lines[0] == change_lines[i]:\n",
    "        change_lines[i] = 'YES\\n'\n",
    "    else:\n",
    "        change_lines[i] = 'NO\\n'\n",
    "\n",
    "change_lines = change_lines[1:]\n",
    "#print(change_lines)"
   ]
  },
  {
   "cell_type": "markdown",
   "id": "3a3a7df4",
   "metadata": {},
   "source": [
    "# Уравнение с корнем"
   ]
  },
  {
   "cell_type": "markdown",
   "id": "305feca7",
   "metadata": {},
   "source": [
    "Решите в целых числах уравнение:\n",
    "\n",
    "\n",
    "a, b, c – данные целые числа: найдите все решения или сообщите, что решений в целых числах нет.\n",
    "\n",
    "Вводятся три числа a, b и c по одному в строке."
   ]
  },
  {
   "cell_type": "code",
   "execution_count": 91,
   "id": "44b913f7",
   "metadata": {},
   "outputs": [
    {
     "name": "stdout",
     "output_type": "stream",
     "text": [
      "\n",
      "a, b, c : 1 2 -3\n",
      "7\n"
     ]
    }
   ],
   "source": [
    "a, b, c = map(int, input(\"\\na, b, c : \").split( ))\n",
    "try:\n",
    "    print(int((c**2 - b) / a if a >= 0 else 0))\n",
    "except ZeroDivisionError:\n",
    "    print('NO SOLUTION')"
   ]
  },
  {
   "cell_type": "code",
   "execution_count": 95,
   "id": "fce9a49b",
   "metadata": {},
   "outputs": [
    {
     "name": "stdout",
     "output_type": "stream",
     "text": [
      "1\n",
      "2\n",
      "-3\n",
      "NO SOLUTION\n"
     ]
    }
   ],
   "source": [
    "a, b, c = int(input()), int(input()), int(input())\n",
    "if c < 0 or (a == 0 and b != c**2):\n",
    "    print('NO SOLUTION')\n",
    "elif (a == 0 and b == c**2) or a == b == c == 0:\n",
    "    print('MANY SOLUTIONS')\n",
    "else:\n",
    "    if (c**2 - b) % a == 0:\n",
    "        print(int((c**2 - b) / a))\n",
    "    else:\n",
    "        print ('NO SOLUTION')"
   ]
  },
  {
   "cell_type": "markdown",
   "id": "ba0b758b",
   "metadata": {},
   "source": [
    "# Скорая помощь"
   ]
  },
  {
   "cell_type": "markdown",
   "id": "8720909e",
   "metadata": {},
   "source": [
    " Бригада скорой помощи выехала по вызову в один из отделенных районов. К сожалению, когда диспетчер получил вызов, он успел записать только адрес дома и номер квартиры K1, а затем связь прервалась. Однако он вспомнил, что по этому же адресу дома некоторое время назад скорая помощь выезжала в квартиру K2, которая расположена в подъезда P2 на этаже N2. Известно, что в доме M этажей и количество квартир на каждой лестничной площадке одинаково. Напишите программу, которая вычилсяет номер подъезда P1 и номер этажа N1 квартиры K1.\n",
    " \n",
    " Формат ввода\n",
    "Во входном файле записаны пять положительных целых чисел K1, M, K2, P2, N2. Все числа не превосходят 106.\n",
    "\n",
    "Формат вывода\n",
    "Выведите два числа P1 и N1. Если входные данные не позволяют однозначно определить P1 или N1, вместо соответствующего числа напечатайте 0. Если входные данные противоречивы, напечатайте два числа –1 (минус один)."
   ]
  },
  {
   "cell_type": "markdown",
   "id": "e8be70a7",
   "metadata": {},
   "source": [
    "# Расстановка ноутбуков"
   ]
  },
  {
   "cell_type": "markdown",
   "id": "40e4a4c4",
   "metadata": {},
   "source": [
    "В школе решили на один прямоугольный стол поставить два прямоугольных ноутбука. Ноутбуки нужно поставить так, чтобы их стороны были параллельны сторонам стола. Определите, какие размеры должен иметь стол, чтобы оба ноутбука на него поместились, и площадь стола была минимальна."
   ]
  },
  {
   "cell_type": "code",
   "execution_count": null,
   "id": "9eb6cfc0",
   "metadata": {},
   "outputs": [],
   "source": [
    "str_data = input()\n",
    "a1, b1, a2, b2 = str_data.split()\n",
    "a1 = int(a1)\n",
    "a2 = int(a2)\n",
    "b1 = int(b1)\n",
    "b2 = int(b2)\n",
    "\n",
    "\n",
    "stols = []\n",
    "stols.append((a1+a2, max(b1,b2)))\n",
    "stols.append((a1+b2, max(b1,a2)))\n",
    "stols.append((max(a1, a2), b1 + b2))\n",
    "stols.append((max(a1, b2), b1 + a2))\n",
    "\n",
    "i_max = 0\n",
    "i = 0\n",
    "for stol in stols:\n",
    "\n",
    "    if stol[0]*stol[1] < stols[i_max][0]*stols[i_max][1]:\n",
    "        i_max = i\n",
    "    i += 1\n",
    "\n",
    "print(stols[i_max][0], stols[i_max][1])"
   ]
  },
  {
   "cell_type": "markdown",
   "id": "c8300bf3",
   "metadata": {},
   "source": [
    "# Детали"
   ]
  },
  {
   "cell_type": "markdown",
   "id": "7abc0e69",
   "metadata": {},
   "source": [
    "Имеется N кг металлического сплава. Из него изготавливают заготовки массой K кг каждая. После этого из каждой заготовки вытачиваются детали массой M кг каждая (из каждой заготовки вытачивают максимально возможное количество деталей). Если от заготовок после этого что-то остается, то этот материал возвращают к началу производственного цикла и сплавляют с тем, что осталось при изготовлении заготовок. Если того сплава, который получился, достаточно для изготовления хотя бы одной заготовки, то из него снова изготавливают заготовки, из них – детали и т.д. Напишите программу, которая вычислит, какое количество деталей может быть получено по этой технологии из имеющихся исходно N кг сплава.\n",
    "\n",
    "Формат ввода\n",
    "Вводятся N, K, M. Все числа натуральные и не превосходят 200.\n",
    "\n",
    "Формат вывода\n",
    "Выведите одно число — количество деталей, которое может получиться по такой технологии."
   ]
  },
  {
   "cell_type": "code",
   "execution_count": 114,
   "id": "138a8e34",
   "metadata": {},
   "outputs": [
    {
     "name": "stdout",
     "output_type": "stream",
     "text": [
      "\n",
      "N, K, M  : 13 5 3 \n"
     ]
    }
   ],
   "source": [
    "N, K, M = map(int, input(\"\\nN, K, M  : \").split( ))"
   ]
  },
  {
   "cell_type": "code",
   "execution_count": 115,
   "id": "0fec1692",
   "metadata": {},
   "outputs": [
    {
     "name": "stdout",
     "output_type": "stream",
     "text": [
      "7\n",
      "4\n",
      "3\n"
     ]
    }
   ],
   "source": [
    "result = 0\n",
    "while N >= K:\n",
    "    kol_zag = int(N / K)\n",
    "    N_ost = N % K\n",
    "    kol_det_s_zag = int(K / M)\n",
    "    izl = K % M\n",
    "    result += kol_zag * kol_det_s_zag\n",
    "    N = N_ost + (izl * kol_zag)\n",
    "    print(N)\n",
    "print(result)"
   ]
  },
  {
   "cell_type": "code",
   "execution_count": 6,
   "id": "bf9f7c39",
   "metadata": {},
   "outputs": [
    {
     "data": {
      "text/plain": [
       "['Python',\n",
       " 'is',\n",
       " 'a',\n",
       " 'programming',\n",
       " 'language',\n",
       " 'that',\n",
       " 'lets',\n",
       " 'you',\n",
       " 'work',\n",
       " 'more',\n",
       " 'quickly',\n",
       " 'and',\n",
       " 'integrate',\n",
       " 'your',\n",
       " 'systems',\n",
       " 'more',\n",
       " 'effectively',\n",
       " 'You',\n",
       " 'can',\n",
       " 'learn',\n",
       " 'to',\n",
       " 'use',\n",
       " 'Python',\n",
       " 'and',\n",
       " 'see',\n",
       " 'almost',\n",
       " 'immediate',\n",
       " 'gains',\n",
       " 'in',\n",
       " 'productivity',\n",
       " 'and',\n",
       " 'lower',\n",
       " 'maintenance',\n",
       " 'costs',\n",
       " 'The',\n",
       " 'mission',\n",
       " 'of',\n",
       " 'the',\n",
       " 'Python',\n",
       " 'Software',\n",
       " 'Foundation',\n",
       " 'is',\n",
       " 'to',\n",
       " 'promote',\n",
       " 'protect',\n",
       " 'and',\n",
       " 'advance',\n",
       " 'the',\n",
       " 'Python',\n",
       " 'programming',\n",
       " 'language',\n",
       " 'and',\n",
       " 'to',\n",
       " 'support',\n",
       " 'and',\n",
       " 'facilitate',\n",
       " 'the',\n",
       " 'growth',\n",
       " 'of',\n",
       " 'a',\n",
       " 'diverse',\n",
       " 'and',\n",
       " 'international',\n",
       " 'community',\n",
       " 'of',\n",
       " 'Python',\n",
       " 'programmers']"
      ]
     },
     "execution_count": 6,
     "metadata": {},
     "output_type": "execute_result"
    }
   ],
   "source": [
    "raw_text = \"\"\"Python is a programming language that lets you work more quickly \n",
    "and integrate your systems more effectively. You can learn to use Python and \n",
    "see almost immediate gains in productivity and lower maintenance costs. The \n",
    "mission of the Python Software Foundation is to promote, protect, and advance \n",
    "the Python programming language, and to support and facilitate the growth of \n",
    "a diverse and international community of Python programmers.\"\"\"\n",
    "\n",
    "tokens = raw_text.split()\n",
    "tokens = [token.replace('.', '').replace(',', '') for token in tokens]\n",
    "# tokens = [token.lower() for token in tokens]\n",
    "# tokens = list(set(tokens))\n",
    "# tokens.sort()\n",
    "tokens"
   ]
  },
  {
   "cell_type": "code",
   "execution_count": null,
   "id": "494dae70",
   "metadata": {},
   "outputs": [],
   "source": []
  }
 ],
 "metadata": {
  "kernelspec": {
   "display_name": "Python 3",
   "language": "python",
   "name": "python3"
  },
  "language_info": {
   "codemirror_mode": {
    "name": "ipython",
    "version": 3
   },
   "file_extension": ".py",
   "mimetype": "text/x-python",
   "name": "python",
   "nbconvert_exporter": "python",
   "pygments_lexer": "ipython3",
   "version": "3.8.8"
  }
 },
 "nbformat": 4,
 "nbformat_minor": 5
}
