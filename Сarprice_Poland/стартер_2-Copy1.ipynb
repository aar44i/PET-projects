{
 "cells": [
  {
   "cell_type": "markdown",
   "id": "concerned-humor",
   "metadata": {},
   "source": [
    "# Второй стартер\n",
    "\n",
    "Начнем \"копать\" поглубже в признаках автомобилей 🏎. Создадим модель лучшего качества. Ну и, конечно, начнем вникать в наиболее интересные признаки, чтобы потом еще больше улучшить качество модели (создавая новые признаки).\n",
    "\n",
    "## Импортируем библиотеки"
   ]
  },
  {
   "cell_type": "code",
   "execution_count": null,
   "id": "anticipated-shower",
   "metadata": {},
   "outputs": [],
   "source": [
    "import pandas as pd\n",
    "pd.set_option('display.float_format', lambda x: '%.3f' % x)\n",
    "import numpy as np\n",
    "import helper as h\n",
    "\n",
    "from sklearn.tree import DecisionTreeRegressor\n",
    "import xgboost as xgb\n",
    "from sklearn.model_selection import cross_val_score\n",
    "import eli5\n",
    "from tqdm import tqdm\n",
    "\n",
    "import gc"
   ]
  },
  {
   "cell_type": "markdown",
   "id": "compliant-bronze",
   "metadata": {},
   "source": [
    "## Загружаем данные\n",
    "\n",
    "Сейчас уже сразу импортируем и `train`, и `test`. Почему? \n",
    "Потому что дальше будем создавать совместные признаки, например, используя `.factorize()`. Кстати, подумай, что произойдет плохого, если запустим `.factorize()` отдельно для `train` и `test`? "
   ]
  },
  {
   "cell_type": "code",
   "execution_count": null,
   "id": "favorite-field",
   "metadata": {},
   "outputs": [],
   "source": [
    "df_train = pd.read_hdf(\"../input/df.train.h5\")\n",
    "df_train['price_value'] = df_train['price_value'].map(h.parse_price)\n",
    "\n",
    "df_test = pd.read_hdf(\"../input/df.test.h5\")\n",
    "\n",
    "print(df_train.shape, df_test.shape)"
   ]
  },
  {
   "cell_type": "markdown",
   "id": "median-conversion",
   "metadata": {},
   "source": [
    "## [Выброс](https://ru.wikipedia.org/wiki/%D0%92%D1%8B%D0%B1%D1%80%D0%BE%D1%81_(%D1%81%D1%82%D0%B0%D1%82%D0%B8%D1%81%D1%82%D0%B8%D0%BA%D0%B0)) (англ. `outlier`)\n",
    "\n",
    "Давай проверим машины, которые дороже 3 млн польских злотых (примерно $1млн)."
   ]
  },
  {
   "cell_type": "code",
   "execution_count": null,
   "id": "focal-cambodia",
   "metadata": {},
   "outputs": [],
   "source": [
    "df_train[ df_train[\"price_value\"] > 3000_000 ]"
   ]
  },
  {
   "cell_type": "markdown",
   "id": "least-inclusion",
   "metadata": {},
   "source": [
    "Странно очень, что `Honda` стоит 9_999_999_999_999. Здесь явно произошла какая-та ошибка, поэтому давай сразу это удалим, иначе у нас \"сломается\" среднее значение."
   ]
  },
  {
   "cell_type": "code",
   "execution_count": null,
   "id": "federal-ratio",
   "metadata": {},
   "outputs": [],
   "source": [
    "df_train = df_train[ df_train.index != 106447 ]"
   ]
  },
  {
   "cell_type": "markdown",
   "id": "interpreted-niger",
   "metadata": {},
   "source": [
    "## ☝️ Обрати внимание\n",
    "Обычно мы не удаляем данные. Но все же здравый смысл должен присутствовать. Если видим, что есть что-то совсем аномальное (например, цена за авто больше, чем ВВП Польши, то это как-то странно 😂). Главное запомни, что никогда не удаляй данные, иначе можно потерять что-то важное. Затем вспомни, что никогда не говори „никогда“. Иногда бывают исключения. Но для того они и исключения, что появляются очень редко. Вот сейчас такой случай. Обрати внимание, что мы не удаляли, например, 1% данных, т.к. скорее все это может навредить (потеряем информацию, ведь это реальный случай и дорогие машины тоже существуют)."
   ]
  },
  {
   "cell_type": "markdown",
   "id": "aging-skiing",
   "metadata": {},
   "source": [
    "## Объединяем\n",
    "Соединяем `df_train` и `df_test` и записываем результат в `df`.\n",
    "\n",
    "\n",
    "### ⌛️⌛️⌛️ Внимание ☝️\n",
    "У нас достаточно много данных, поэтому спокойно подожди пока проходит трансформация из словаря в `dataframe` и потом объединение данных с главным `df`."
   ]
  },
  {
   "cell_type": "code",
   "execution_count": null,
   "id": "royal-jewel",
   "metadata": {},
   "outputs": [],
   "source": [
    "df = pd.concat([df_train, df_test])\n",
    "df.shape"
   ]
  },
  {
   "cell_type": "markdown",
   "id": "every-thickness",
   "metadata": {},
   "source": [
    "Можем посмотреть 👀  на 5 случайных строк."
   ]
  },
  {
   "cell_type": "code",
   "execution_count": null,
   "id": "alike-occurrence",
   "metadata": {},
   "outputs": [],
   "source": [
    "df.sample(5)"
   ]
  },
  {
   "cell_type": "markdown",
   "id": "substantial-algorithm",
   "metadata": {},
   "source": [
    "## `offer_params`\n",
    "Здесь куча полезной информации про автомобили, поэтому с этого и начнем. Нам нужно \"распаковать словарик\" в табличку (`dataframe`). Здесь очень пригодится простая, но надежная структура."
   ]
  },
  {
   "cell_type": "code",
   "execution_count": null,
   "id": "auburn-guide",
   "metadata": {},
   "outputs": [],
   "source": [
    "df[\"offer_params\"].head().apply(pd.Series)"
   ]
  },
  {
   "cell_type": "code",
   "execution_count": null,
   "id": "identified-europe",
   "metadata": {},
   "outputs": [],
   "source": [
    "params = df[\"offer_params\"].apply(pd.Series)\n",
    "params = params.fillna(-1)\n",
    "\n",
    "if \"Bezwypadkowy\" not in df:\n",
    "    df = pd.concat([df, params], axis=1)\n",
    "df.shape"
   ]
  },
  {
   "cell_type": "markdown",
   "id": "thrown-floor",
   "metadata": {},
   "source": [
    "Кстати, условие `if \"Bezwypadkowy\" not in df` защищает нас от добавления `params` к `df` еще раз, в случае запуска ячейки более 1 раза. Такое может произойти, поэтому стоит писать код таким образом, чтобы, запуская ячейку более одного раза, результат остался прежний. Этот простой навык поможет сберечь кучу нервов 😂.\n",
    "\n",
    "\n",
    "## ☝️ Возможно, пугает, что не совсем понятно - о чем речь, ведь здесь все по-польски?\n",
    "\n",
    "Давай помогу перевести. Хотя это легко делается. Копируется список названий столбцов по-польски (например, `params.columns`) в переводчик и потом создаем такой-же на русском языке и затем словарик, ключ - польские слова и значения по-русски. Нам это пригодится на следующем \n",
    "шаге. \n",
    "\n",
    "Обрати внимание, что в `params` также есть значения и на английском, их пока переводить не будем (но если нужно - можно перевести 😉)."
   ]
  },
  {
   "cell_type": "code",
   "execution_count": null,
   "id": "theoretical-fancy",
   "metadata": {},
   "outputs": [],
   "source": [
    "ru_params = [\"Безаварийный\", \"Количество мест\", \"Страна происхождения\",\n",
    "       \"Объем\", \"Тип топлива\", \"Коробка передач\",\n",
    "       \"Кредит\", \"Первый владелец\", \"Предложение от\",\n",
    "       \"Количество дверей\", \"Пробег\", \"Мощность\", \"Металлик\", \"Тип\", \"Цвет\",\n",
    "       \"Модель автомобиля\", \"Состояние\", \"Категория\", \"Обслуживание в сервисном центре\", \"Привод\",\n",
    "       \"Лизинг\", \"Год выпуска\", \"Марка автомобиля\", \"Счет-фактура по НДС\",\n",
    "       \"Первая регистрация\", \"Зарегистрировано в Польше\", \"Маржа НДС\",\n",
    "       \"Версия\", \"VIN\", \"Перламутр\", \"Поврежденный\", \"Код двигателя\",\n",
    "       \"Сажевый фильтр\", \"Выбросы CO2\", \"Ежемесячный платеж\",\n",
    "       \"Количество оставшихся платежей\", \"Первоначальный платеж\", \"Сумма погашения\",\n",
    "       \"Акрил (неметаллический)\", \"Тюнинг\", \"Правый руль (английский)\",\n",
    "       \"Допуск грузовика\"]\n",
    "\n",
    "\n",
    "dict_params = {pl:ru for pl,ru in zip(params.columns, ru_params)}\n",
    "dict_params"
   ]
  },
  {
   "cell_type": "markdown",
   "id": "fluid-cloud",
   "metadata": {},
   "source": [
    "Теперь можно поменять названия в данных в столбцах. Это легко сделать при помощи `.rename()`."
   ]
  },
  {
   "cell_type": "code",
   "execution_count": null,
   "id": "removed-accident",
   "metadata": {},
   "outputs": [],
   "source": [
    "df.columns"
   ]
  },
  {
   "cell_type": "code",
   "execution_count": null,
   "id": "invisible-nashville",
   "metadata": {},
   "outputs": [],
   "source": [
    "df.rename(columns=dict_params, inplace=True)\n",
    "df"
   ]
  },
  {
   "cell_type": "markdown",
   "id": "certified-charger",
   "metadata": {},
   "source": [
    "## Сколько уникальных значений?\n",
    "\n",
    "Можно посмотреть, сколько уникальных значений в каждом признаке. В коде не нужно особо разбираться, лучше посмотри на результат."
   ]
  },
  {
   "cell_type": "code",
   "execution_count": null,
   "id": "japanese-harrison",
   "metadata": {},
   "outputs": [],
   "source": [
    "feats_nunique = {feat:df[feat].nunique() for feat in ru_params}\n",
    "feats_nunique"
   ]
  },
  {
   "cell_type": "code",
   "execution_count": null,
   "id": "creative-student",
   "metadata": {},
   "outputs": [],
   "source": [
    "obj_feats = df.select_dtypes(object).columns\n",
    "\n",
    "for feat in tqdm(obj_feats):\n",
    "    some_value = df[feat].values[0]\n",
    "    if isinstance(some_value, list): continue\n",
    "    if isinstance(some_value, dict): continue\n",
    "    if \"price\" in feat: continue\n",
    "        \n",
    "    df[\"{}_cat\".format(feat)] = df[feat].factorize()[0]\n",
    "    \n",
    "cat_feats = [x for x in df.columns if \"_cat\" in x]\n",
    "cat_feats"
   ]
  },
  {
   "cell_type": "markdown",
   "id": "everyday-deadline",
   "metadata": {},
   "source": [
    "Теперь, когда признаки созданы и для `test`, и для `train`, можно возвращать разделение данных и будем уже обучать модель и прогнозировать.\n",
    "\n",
    "\n",
    "А как разделить? Применим простой трюк, ведь в тестовых данных не было цены (`price_value`), поэтому можем сделать простой фильтр: если цена есть - то это `train` в противном случае - `test`."
   ]
  },
  {
   "cell_type": "code",
   "execution_count": null,
   "id": "meaning-rebel",
   "metadata": {},
   "outputs": [],
   "source": [
    "df_train = df[ ~df[\"price_value\"].isnull() ].copy()\n",
    "df_test = df[ df[\"price_value\"].isnull() ].copy()\n",
    "\n",
    "df_train.shape, df_test.shape"
   ]
  },
  {
   "cell_type": "markdown",
   "id": "classical-amendment",
   "metadata": {},
   "source": [
    "## X, y\n",
    "\n",
    "Теперь подготавливаем матрицу с признаками (сразу `X_train` и  `X_test`) и наши ответы (`y_train`)."
   ]
  },
  {
   "cell_type": "code",
   "execution_count": null,
   "id": "worthy-relations",
   "metadata": {},
   "outputs": [],
   "source": [
    "X_train = df_train[cat_feats]\n",
    "y_train = df_train[\"price_value\"]\n",
    "\n",
    "X_test = df_test[cat_feats]"
   ]
  },
  {
   "cell_type": "markdown",
   "id": "developmental-blame",
   "metadata": {},
   "source": [
    "## Валидация модели\n",
    "Проверяем локально качество модели.\n",
    "Знак минус - это техническая деталь, проигнорируй.\n",
    "\n",
    "Но если все же оооочень интересно - \"а почему так\". То вот пару слов с объяснениями:\n",
    "просто разные метрики стремятся в разные стороны, некоторые к нулю, а некоторые к единице. Поэтому чтобы максимизировать `Score` во всех случаях (так код \"абстрактно\" написан), для метрик стремящихся к нулю, добавили знак минус (т.е. самое большое возможное значение будет 0)."
   ]
  },
  {
   "cell_type": "code",
   "execution_count": null,
   "id": "material-poker",
   "metadata": {},
   "outputs": [],
   "source": [
    "model = DecisionTreeRegressor(max_depth=5)\n",
    "scores = cross_val_score(model, X_train, y_train, cv=5, scoring=\"neg_mean_absolute_error\")\n",
    "np.mean(scores), np.std(scores)"
   ]
  },
  {
   "cell_type": "markdown",
   "id": "artificial-buyer",
   "metadata": {},
   "source": [
    "## Тренируем модель и прогнозируем\n",
    "\n",
    "Для начала возьмем простую модель - дерево решений."
   ]
  },
  {
   "cell_type": "code",
   "execution_count": null,
   "id": "centered-session",
   "metadata": {},
   "outputs": [],
   "source": [
    "model = DecisionTreeRegressor(max_depth=5)\n",
    "model.fit(X_train, y_train)\n",
    "y_pred = model.predict(X_test)"
   ]
  },
  {
   "cell_type": "markdown",
   "id": "superior-upper",
   "metadata": {},
   "source": [
    "## Записываем результат\n",
    "\n",
    "И отправляем в Kaggle. Это должно дать около `score=~21k`. Кстати, помни, что количество `submit` на Kaggle ограничено - только 5 штук в день. Поэтому учись проверять результат локально. Он не должен идеально совпадать. Но должна быть взаимосвязь (локальные улучшения заметны на **Public Leaderboard**)."
   ]
  },
  {
   "cell_type": "code",
   "execution_count": null,
   "id": "vietnamese-motor",
   "metadata": {},
   "outputs": [],
   "source": [
    "df_test[\"price_value\"] = y_pred\n",
    "df_test[ [\"id\", \"price_value\"] ].to_csv(\"../output/decision_tree.csv\", index=False)"
   ]
  },
  {
   "cell_type": "markdown",
   "id": "danish-plaintiff",
   "metadata": {},
   "source": [
    "## Анализируем\n",
    "\n",
    "\n",
    "Используя библиотеку `eli5`, можно попробовать посмотреть, какие признаки наиболее \"интересны\" для модели (повлияли на результат).\n",
    "\n",
    "### ☝️Осторожно!\n",
    "Нельзя к этому рэнкингу относиться сильно \"доверчиво\". Очень много подводных камней, которые нужно уметь правильно интерпретировать. Поэтому отнесись к этому просто с уважением и предположением, что, наверное, стоит посмотреть глазами 👀 и пощупать руками💪."
   ]
  },
  {
   "cell_type": "code",
   "execution_count": null,
   "id": "fluid-fisher",
   "metadata": {},
   "outputs": [],
   "source": [
    "eli5.show_weights(model, feature_names=cat_feats)"
   ]
  },
  {
   "cell_type": "markdown",
   "id": "piano-exhibit",
   "metadata": {},
   "source": [
    "Давай покажу, как можно проанализировать все то, что уже видно.\n",
    "\n",
    "Например, видно что **\"Привод\"** - важный признак. Давай посмотрим, как изменяется цена."
   ]
  },
  {
   "cell_type": "code",
   "execution_count": null,
   "id": "accomplished-thomas",
   "metadata": {},
   "outputs": [],
   "source": [
    "pd.pivot_table(df, index=[\"Привод\"], values=[\"price_value\"], aggfunc=[\"mean\", \"median\", \"min\", \"max\", len])"
   ]
  },
  {
   "cell_type": "markdown",
   "id": "geological-simon",
   "metadata": {},
   "source": [
    "Можно сделать разные выводы, можем начать вместе:\n",
    "- на переднеприводные автомобили медиана цены - **21 999**, а на заднеприводные - **29 990**.\n",
    "- для полноприводных (4x4 (stały)) медина -  **92 900** злотых (дороже, более, чем в 3 раза, по сравнению с переднеприводными или заднеприводными!) и таких автомобилей больше **10k+**\n",
    "- ...\n",
    "\n",
    "### 🧐 Какие еще выводы можно сделать? \n",
    "\n",
    "Поделись, пожалуйста, своими размышлениями в [#dwthon_2_ideas](https://dataworkshop-ru.slack.com/archives/C02FG4J7TU4) 🤝."
   ]
  },
  {
   "cell_type": "markdown",
   "id": "adjustable-category",
   "metadata": {},
   "source": [
    "## Мощность\n",
    "\n",
    "Посмотрим аналогичным образом."
   ]
  },
  {
   "cell_type": "code",
   "execution_count": null,
   "id": "characteristic-biography",
   "metadata": {},
   "outputs": [],
   "source": [
    "pd.pivot_table(df, index=[\"Мощность\"], values=[\"price_value\"], aggfunc=[\"mean\", \"median\", \"min\", \"max\", len])"
   ]
  },
  {
   "cell_type": "markdown",
   "id": "victorian-swimming",
   "metadata": {},
   "source": [
    "Кстати, здесь KM в переводе обозначает - лошадиные силы. Хорошо было бы сделать нормализацию и вытянуть `int` или `float`.\n",
    "\n",
    "## Примечание \n",
    "\n",
    "Понятие **«лошадиная сила автомобиля»** 🐎 было введено ещё в 18 веке Джеймсом Уаттом. Это параметр, показывающий мощность автомобиля, сравниваемую с силой лошади.\n",
    "\n",
    "1 лошадиная сила или л.с. равна мощности, необходимой для подъёма **75-килограммового** груза на высоту один метр за **1 секунду**. В некоторых случаях принято переводить л.с. в киловатты — тогда 1 лошадиная сила будет равна **735,5 Вт** или **0,735 кВт**.\n",
    "\n",
    "Для определения мощности в л.с. конкретного автомобиля, надо перевести кВт, указанные в паспортных данных, в лошадиные силы. Делается это так: приведённые значения в киловаттах просто делятся на **0,735**. Итоговое значение и будет означать лошадиные силы определённого автомобиля.\n",
    "\n",
    "Как интересно 😉."
   ]
  },
  {
   "cell_type": "markdown",
   "id": "mediterranean-military",
   "metadata": {},
   "source": [
    "### 🧐 Какие выводы можно сделать? \n",
    "\n",
    "Поделись пожалуйста своимии размышлениями в [#dwthon_2_ideas](https://dataworkshop-ru.slack.com/archives/C02FG4J7TU4) 🤝."
   ]
  },
  {
   "cell_type": "markdown",
   "id": "forced-leone",
   "metadata": {},
   "source": [
    "## Что дальше?\n",
    "\n",
    "Надеюсь уже задана \"траектория мышления\". Теперь нужно покопаться в данных (например, проверить 10-30 признаков) и сделать выводы (лучше всего эти выводы записать, наше внимание и мышление лучше работают, когда не нужно держать в голове много монотонной информации).\n",
    "\n",
    "\n",
    "Обязательно поделись своими размышлениями в Slack - [#dwthon_2_ideas](https://dataworkshop-ru.slack.com/archives/C02FG4J7TU4) 🤝. Вместе можно выдумать больше.\n",
    "\n",
    "Кстати, сегодня будет еще один стартер, но все же перед ним - поработай с теми идеями, которые появились в этом стартере, чтобы потом было на что опереться."
   ]
  }
 ],
 "metadata": {
  "kernelspec": {
   "display_name": "Python 3",
   "language": "python",
   "name": "python3"
  },
  "language_info": {
   "codemirror_mode": {
    "name": "ipython",
    "version": 3
   },
   "file_extension": ".py",
   "mimetype": "text/x-python",
   "name": "python",
   "nbconvert_exporter": "python",
   "pygments_lexer": "ipython3",
   "version": "3.8.6"
  }
 },
 "nbformat": 4,
 "nbformat_minor": 5
}
