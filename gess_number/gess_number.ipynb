{
 "cells": [
  {
   "cell_type": "code",
   "execution_count": 6,
   "metadata": {},
   "outputs": [
    {
     "name": "stdout",
     "output_type": "stream",
     "text": [
      "Ваш алгоритм угадывает число в среднем за 5 попыток\n"
     ]
    },
    {
     "data": {
      "text/plain": [
       "5"
      ]
     },
     "execution_count": 6,
     "metadata": {},
     "output_type": "execute_result"
    }
   ],
   "source": [
    "import numpy as np\n",
    "def gess_number(number):\n",
    "\n",
    "     '''Данная програма поиска загаданного числа, основана на методе быстрой сортировки (QuickSort).\n",
    "        Загаданное число каждый раз сравнивается со средним значением интервала.\n",
    "        Интервал уменьшается после каждого прохода цикла, принимая предыдущее среднее значение либо за нижнию \n",
    "        либо за верхнюю границу\n",
    "        Функция принимает загаданное число и возвращает число попыток'''\n",
    "\n",
    "    count = 1\n",
    "    upper_bd = 100 # верхняя граница интервала\n",
    "    lower_bd = 0  # нижняя граница интервала\n",
    "    predict = upper_bd // 2 # среднее значение интервала\n",
    "\n",
    "    while number != predict:\n",
    "        count += 1\n",
    "        if number > predict:\n",
    "            lower_bd = predict\n",
    "            predict = (upper_bd-lower_bd)//2 + lower_bd\n",
    "        else:\n",
    "            upper_bd = predict\n",
    "            predict = (upper_bd-lower_bd)//2 + lower_bd\n",
    "\n",
    "    return (count)  # выход из цикла, если число угадано \n",
    "\n",
    "\n",
    "def score_game(game_core):\n",
    "\n",
    "    '''Запускаем игру 1000 раз, чтобы узнать, как быстро игра угадывает число'''\n",
    "\n",
    "    count_ls = []\n",
    "    np.random.seed(1)  # фиксируем RANDOM SEED, чтобы ваш эксперимент был воспроизводим!\n",
    "    random_array = np.random.randint(1, 101, size=(1000))\n",
    "\n",
    "    for number in random_array:\n",
    "        count_ls.append(game_core(number))\n",
    "\n",
    "    score = int(np.mean(count_ls))\n",
    "    print(f\"Ваш алгоритм угадывает число в среднем за {score} попыток\")\n",
    "    return (score)\n",
    "\n",
    "\n",
    "# Проверяем\n",
    "score_game(game_core_v3)"
   ]
  },
  {
   "cell_type": "code",
   "execution_count": null,
   "metadata": {},
   "outputs": [],
   "source": []
  }
 ],
 "metadata": {
  "kernelspec": {
   "display_name": "Python 3",
   "language": "python",
   "name": "python3"
  },
  "language_info": {
   "codemirror_mode": {
    "name": "ipython",
    "version": 3
   },
   "file_extension": ".py",
   "mimetype": "text/x-python",
   "name": "python",
   "nbconvert_exporter": "python",
   "pygments_lexer": "ipython3",
   "version": "3.7.6"
  }
 },
 "nbformat": 4,
 "nbformat_minor": 4
}
