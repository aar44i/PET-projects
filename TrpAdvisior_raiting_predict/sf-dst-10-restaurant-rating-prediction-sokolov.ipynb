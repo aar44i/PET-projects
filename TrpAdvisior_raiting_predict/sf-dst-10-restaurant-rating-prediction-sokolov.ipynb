{
 "cells": [
  {
   "cell_type": "markdown",
   "metadata": {},
   "source": [
    "### Итоговое задание Соколова Александра  \n",
    "### по Проекту 3. О вкусной и здоровой пище (SF-DST-10)\n",
    "####  Юнит 3. Введение в машинное обучение (отредактирован 15.06.2020)\n",
    "---\n",
    "\n",
    "### Импорт библиотек"
   ]
  },
  {
   "cell_type": "code",
   "execution_count": 4,
   "metadata": {
    "_cell_guid": "b1076dfc-b9ad-4769-8c92-a6c4dae69d19",
    "_uuid": "8f2839f25d086af736a60e9eeb907d3b93b6e0e5"
   },
   "outputs": [],
   "source": [
    "import pandas as pd\n",
    "import numpy as np\n",
    "from sklearn.model_selection import train_test_split \n",
    "from sklearn.ensemble import RandomForestRegressor \n",
    "from sklearn import metrics\n",
    "from sklearn.preprocessing import StandardScaler\n",
    "from sklearn.preprocessing import LabelEncoder\n",
    "from collections import Counter\n",
    "import datetime\n",
    "import os\n",
    "import matplotlib.pyplot as plt\n",
    "import seaborn as sns \n",
    "%matplotlib inline\n",
    "import re\n",
    "import math\n",
    "import copy\n",
    "from IPython.display import display\n",
    "pd.options.mode.chained_assignment = None"
   ]
  },
  {
   "cell_type": "code",
   "execution_count": 5,
   "metadata": {
    "_cell_guid": "79c7e3d0-c299-4dcb-8224-4455121ee9b0",
    "_uuid": "d629ff2d2480ee46fbb7e2d37f6b5fab8052498a"
   },
   "outputs": [],
   "source": [
    "# import my_module as my"
   ]
  },
  {
   "cell_type": "code",
   "execution_count": null,
   "metadata": {},
   "outputs": [],
   "source": [
    "RANDOM_SEED = 42\n",
    "!pip freeze > requirements.txt\n",
    "CURRENT_DATE = pd.to_datetime('15/06/2020')"
   ]
  },
  {
   "cell_type": "markdown",
   "metadata": {},
   "source": [
    "### Импорт данных"
   ]
  },
  {
   "cell_type": "code",
   "execution_count": 4,
   "metadata": {},
   "outputs": [
    {
     "data": {
      "text/html": [
       "<div>\n",
       "<style scoped>\n",
       "    .dataframe tbody tr th:only-of-type {\n",
       "        vertical-align: middle;\n",
       "    }\n",
       "\n",
       "    .dataframe tbody tr th {\n",
       "        vertical-align: top;\n",
       "    }\n",
       "\n",
       "    .dataframe thead th {\n",
       "        text-align: right;\n",
       "    }\n",
       "</style>\n",
       "<table border=\"1\" class=\"dataframe\">\n",
       "  <thead>\n",
       "    <tr style=\"text-align: right;\">\n",
       "      <th></th>\n",
       "      <th>Restaurant_id</th>\n",
       "      <th>City</th>\n",
       "      <th>Cuisine Style</th>\n",
       "      <th>Ranking</th>\n",
       "      <th>Rating</th>\n",
       "      <th>Price Range</th>\n",
       "      <th>Number of Reviews</th>\n",
       "      <th>Reviews</th>\n",
       "      <th>URL_TA</th>\n",
       "      <th>ID_TA</th>\n",
       "    </tr>\n",
       "  </thead>\n",
       "  <tbody>\n",
       "    <tr>\n",
       "      <th>0</th>\n",
       "      <td>id_5569</td>\n",
       "      <td>Paris</td>\n",
       "      <td>['European', 'French', 'International']</td>\n",
       "      <td>5570.0</td>\n",
       "      <td>3.5</td>\n",
       "      <td>$$ - $$$</td>\n",
       "      <td>194.0</td>\n",
       "      <td>[['Good food at your doorstep', 'A good hotel ...</td>\n",
       "      <td>/Restaurant_Review-g187147-d1912643-Reviews-R_...</td>\n",
       "      <td>d1912643</td>\n",
       "    </tr>\n",
       "    <tr>\n",
       "      <th>1</th>\n",
       "      <td>id_1535</td>\n",
       "      <td>Stockholm</td>\n",
       "      <td>NaN</td>\n",
       "      <td>1537.0</td>\n",
       "      <td>4.0</td>\n",
       "      <td>NaN</td>\n",
       "      <td>10.0</td>\n",
       "      <td>[['Unique cuisine', 'Delicious Nepalese food']...</td>\n",
       "      <td>/Restaurant_Review-g189852-d7992032-Reviews-Bu...</td>\n",
       "      <td>d7992032</td>\n",
       "    </tr>\n",
       "  </tbody>\n",
       "</table>\n",
       "</div>"
      ],
      "text/plain": [
       "  Restaurant_id       City                            Cuisine Style  Ranking  \\\n",
       "0       id_5569      Paris  ['European', 'French', 'International']   5570.0   \n",
       "1       id_1535  Stockholm                                      NaN   1537.0   \n",
       "\n",
       "   Rating Price Range  Number of Reviews  \\\n",
       "0     3.5    $$ - $$$              194.0   \n",
       "1     4.0         NaN               10.0   \n",
       "\n",
       "                                             Reviews  \\\n",
       "0  [['Good food at your doorstep', 'A good hotel ...   \n",
       "1  [['Unique cuisine', 'Delicious Nepalese food']...   \n",
       "\n",
       "                                              URL_TA     ID_TA  \n",
       "0  /Restaurant_Review-g187147-d1912643-Reviews-R_...  d1912643  \n",
       "1  /Restaurant_Review-g189852-d7992032-Reviews-Bu...  d7992032  "
      ]
     },
     "metadata": {},
     "output_type": "display_data"
    },
    {
     "data": {
      "text/html": [
       "<div>\n",
       "<style scoped>\n",
       "    .dataframe tbody tr th:only-of-type {\n",
       "        vertical-align: middle;\n",
       "    }\n",
       "\n",
       "    .dataframe tbody tr th {\n",
       "        vertical-align: top;\n",
       "    }\n",
       "\n",
       "    .dataframe thead th {\n",
       "        text-align: right;\n",
       "    }\n",
       "</style>\n",
       "<table border=\"1\" class=\"dataframe\">\n",
       "  <thead>\n",
       "    <tr style=\"text-align: right;\">\n",
       "      <th></th>\n",
       "      <th>Restaurant_id</th>\n",
       "      <th>City</th>\n",
       "      <th>Cuisine Style</th>\n",
       "      <th>Ranking</th>\n",
       "      <th>Price Range</th>\n",
       "      <th>Number of Reviews</th>\n",
       "      <th>Reviews</th>\n",
       "      <th>URL_TA</th>\n",
       "      <th>ID_TA</th>\n",
       "    </tr>\n",
       "  </thead>\n",
       "  <tbody>\n",
       "    <tr>\n",
       "      <th>0</th>\n",
       "      <td>id_0</td>\n",
       "      <td>Paris</td>\n",
       "      <td>['Bar', 'Pub']</td>\n",
       "      <td>12963.0</td>\n",
       "      <td>$$ - $$$</td>\n",
       "      <td>4.0</td>\n",
       "      <td>[[], []]</td>\n",
       "      <td>/Restaurant_Review-g187147-d10746918-Reviews-L...</td>\n",
       "      <td>d10746918</td>\n",
       "    </tr>\n",
       "    <tr>\n",
       "      <th>1</th>\n",
       "      <td>id_1</td>\n",
       "      <td>Helsinki</td>\n",
       "      <td>['European', 'Scandinavian', 'Gluten Free Opti...</td>\n",
       "      <td>106.0</td>\n",
       "      <td>$$ - $$$</td>\n",
       "      <td>97.0</td>\n",
       "      <td>[['Very good reviews!', 'Fine dining in Hakani...</td>\n",
       "      <td>/Restaurant_Review-g189934-d6674944-Reviews-Ra...</td>\n",
       "      <td>d6674944</td>\n",
       "    </tr>\n",
       "  </tbody>\n",
       "</table>\n",
       "</div>"
      ],
      "text/plain": [
       "  Restaurant_id      City                                      Cuisine Style  \\\n",
       "0          id_0     Paris                                     ['Bar', 'Pub']   \n",
       "1          id_1  Helsinki  ['European', 'Scandinavian', 'Gluten Free Opti...   \n",
       "\n",
       "   Ranking Price Range  Number of Reviews  \\\n",
       "0  12963.0    $$ - $$$                4.0   \n",
       "1    106.0    $$ - $$$               97.0   \n",
       "\n",
       "                                             Reviews  \\\n",
       "0                                           [[], []]   \n",
       "1  [['Very good reviews!', 'Fine dining in Hakani...   \n",
       "\n",
       "                                              URL_TA      ID_TA  \n",
       "0  /Restaurant_Review-g187147-d10746918-Reviews-L...  d10746918  \n",
       "1  /Restaurant_Review-g189934-d6674944-Reviews-Ra...   d6674944  "
      ]
     },
     "metadata": {},
     "output_type": "display_data"
    }
   ],
   "source": [
    "path_to_file = '/kaggle/input/sf-dst-restaurant-rating/'\n",
    "df_train = pd.read_csv(path_to_file+'main_task.csv')\n",
    "df_test = pd.read_csv(path_to_file+'kaggle_task.csv')\n",
    "pd.set_option('display.max_columns', 200)\n",
    "display(df_train.head(2))\n",
    "display(df_test.head(2))"
   ]
  },
  {
   "cell_type": "code",
   "execution_count": 5,
   "metadata": {},
   "outputs": [],
   "source": [
    "# ВАЖНО! дря корректной обработки признаков объединяем трейн и тест в один датасет\n",
    "df_train['Sample'] = 1 # помечаем где у нас трейн\n",
    "df_test['Sample'] = 0 # помечаем где у нас тест\n",
    "df_test['Rating'] = 0 # в тесте у нас нет значения Rating, мы его должны предсказать, по этому пока просто заполняем нулями\n",
    "\n",
    "df = df_test.append(df_train, sort=False).reset_index(drop=True) # объединяем"
   ]
  },
  {
   "cell_type": "markdown",
   "metadata": {},
   "source": [
    "### Предварительный анализ данных"
   ]
  },
  {
   "cell_type": "code",
   "execution_count": 6,
   "metadata": {},
   "outputs": [],
   "source": [
    "# предварительный анализ данных с помощью библиотеки pandas_profiling закомментирован так как отображается не корректно\n",
    "# pandas_profiling.ProfileReport(df_train)"
   ]
  },
  {
   "cell_type": "markdown",
   "metadata": {},
   "source": [
    "### Детальный анализ по переменным\n",
    "---\n",
    "### 1. Restaurant_id"
   ]
  },
  {
   "cell_type": "code",
   "execution_count": 7,
   "metadata": {},
   "outputs": [],
   "source": [
    "df['code_Restaurant_id'] = df['Restaurant_id'].apply(lambda x: float(x[3:]))"
   ]
  },
  {
   "cell_type": "markdown",
   "metadata": {},
   "source": [
    "Резюме - Restaurant_id: Визуальный осмотр показал, что код Restaurant_id очень сильно похож на Ranking в data_train. Надо проверить корреляцию и при необходимости удалить 'code_Restaurant_id'"
   ]
  },
  {
   "cell_type": "markdown",
   "metadata": {},
   "source": [
    "### 2. Cuisine Style"
   ]
  },
  {
   "cell_type": "code",
   "execution_count": 8,
   "metadata": {},
   "outputs": [],
   "source": [
    "# в переменной 9283 (23.2%) пропущенных значений \n",
    "# сохраним эту информацию\n",
    "df['NAN_Cuisine Style'] = pd.isna(df['Cuisine Style']).astype('float64') \n",
    "\n",
    "# заполним пропуски значением 'Other'\n",
    "df['Cuisine Style'] = df['Cuisine Style'].fillna(\"['Other']\")\n",
    "\n",
    "# закодируем значения в переменной до их преобразования\n",
    "le = LabelEncoder()\n",
    "le.fit(df['Cuisine Style'])\n",
    "df['code_Cuisine Style'] = le.transform(df['Cuisine Style'])"
   ]
  },
  {
   "cell_type": "code",
   "execution_count": 9,
   "metadata": {},
   "outputs": [],
   "source": [
    "# проведем обработку значений переменной\n",
    "df['Cuisine Style'] = df['Cuisine Style'].str.findall(r\"'(\\b.*?\\b)'\") \n",
    "\n",
    "temp_list = df['Cuisine Style'].tolist()\n",
    "\n",
    "def list_unrar(list_of_lists):\n",
    "    result=[]\n",
    "    for lst in list_of_lists:\n",
    "      result.extend(lst)\n",
    "    return result\n",
    "\n",
    "temp_counter=Counter(list_unrar(temp_list))"
   ]
  },
  {
   "cell_type": "code",
   "execution_count": 10,
   "metadata": {},
   "outputs": [],
   "source": [
    "# сформируем список достаточно уникальных кухонь и сформируем на его основе новый признак\n",
    "list_of_unique_Cuisine = [x[0] for x in temp_counter.most_common()[-16:]]\n",
    "df['unique_Cuisine_Style'] = df['Cuisine Style'].apply(lambda x: 1 if len(set(x) & set(list_of_unique_Cuisine))>0  else 0).astype('float64')"
   ]
  },
  {
   "cell_type": "code",
   "execution_count": 11,
   "metadata": {},
   "outputs": [],
   "source": [
    "for cuisine in temp_counter:\n",
    "    df[cuisine] = df['Cuisine Style'].apply(lambda x: 1 if cuisine in x else 0 ).astype('float64')\n",
    "\n",
    "# генерируем новый признак кол-во кухонь в ресторане\n",
    "df['count_Cuisine_Style'] = df['Cuisine Style'].apply(lambda x: len(x)).astype('float64')"
   ]
  },
  {
   "cell_type": "code",
   "execution_count": 12,
   "metadata": {},
   "outputs": [
    {
     "data": {
      "image/png": "[encoded data removed]",
      "text/plain": [
       "<Figure size 864x216 with 4 Axes>"
      ]
     },
     "metadata": {
      "needs_background": "light"
     },
     "output_type": "display_data"
    }
   ],
   "source": [
    "my.four_plot_with_log('count_Cuisine', df[df['Sample'] == 1].count_Cuisine_Style)"
   ]
  },
  {
   "cell_type": "code",
   "execution_count": 13,
   "metadata": {},
   "outputs": [
    {
     "data": {
      "text/html": [
       "<div>\n",
       "<style scoped>\n",
       "    .dataframe tbody tr th:only-of-type {\n",
       "        vertical-align: middle;\n",
       "    }\n",
       "\n",
       "    .dataframe tbody tr th {\n",
       "        vertical-align: top;\n",
       "    }\n",
       "\n",
       "    .dataframe thead th {\n",
       "        text-align: right;\n",
       "    }\n",
       "</style>\n",
       "<table border=\"1\" class=\"dataframe\">\n",
       "  <thead>\n",
       "    <tr style=\"text-align: right;\">\n",
       "      <th></th>\n",
       "      <th>count_Cuisine_Style</th>\n",
       "    </tr>\n",
       "  </thead>\n",
       "  <tbody>\n",
       "    <tr>\n",
       "      <th>кол-во строк</th>\n",
       "      <td>40000</td>\n",
       "    </tr>\n",
       "    <tr>\n",
       "      <th>тип значений</th>\n",
       "      <td>float64</td>\n",
       "    </tr>\n",
       "    <tr>\n",
       "      <th>кол-во значений</th>\n",
       "      <td>40000</td>\n",
       "    </tr>\n",
       "    <tr>\n",
       "      <th>кол-во NaN</th>\n",
       "      <td>0</td>\n",
       "    </tr>\n",
       "    <tr>\n",
       "      <th>среднее</th>\n",
       "      <td>2.6224</td>\n",
       "    </tr>\n",
       "    <tr>\n",
       "      <th>медиана</th>\n",
       "      <td>2</td>\n",
       "    </tr>\n",
       "    <tr>\n",
       "      <th>мин</th>\n",
       "      <td>1</td>\n",
       "    </tr>\n",
       "    <tr>\n",
       "      <th>макс</th>\n",
       "      <td>21</td>\n",
       "    </tr>\n",
       "  </tbody>\n",
       "</table>\n",
       "</div>"
      ],
      "text/plain": [
       "                count_Cuisine_Style\n",
       "кол-во строк                  40000\n",
       "тип значений                float64\n",
       "кол-во значений               40000\n",
       "кол-во NaN                        0\n",
       "среднее                      2.6224\n",
       "медиана                           2\n",
       "мин                               1\n",
       "макс                             21"
      ]
     },
     "metadata": {},
     "output_type": "display_data"
    }
   ],
   "source": [
    "# видимо в значениях есть нули, это значит что это не Other, а просто не заполненные. проверим\n",
    "my.describe_without_plots('count_Cuisine_Style', df[df['Sample'] == 1].count_Cuisine_Style)"
   ]
  },
  {
   "cell_type": "markdown",
   "metadata": {},
   "source": [
    "***Резюме - Cuisine Style:*** Много пропусков 9283 (23.2%). Чтобы сохранить эту информацию сформирован новый признак 'NAN_Cuisine Style'. С помощью интелектуального кодера закодировал изначальные значения и ввел новый критерий - 'code_Cuisine Style'. Значения критерия обработаны с помощью регулярных выражений, чтобы составить статистику по типам кухонь. По самым не популярным составлен признак - 'unique_Cuisine_Style'. Кроме этого, после обработки, добавлен критерий количества типов кухонь в ресторане 'count_Cuisine_Style'. В новом признаке выбросов нет. В исходном критерии все типы кухонь были заполнены, \\[\\] пустых списков не было.\n",
    "\n",
    "### 3. Price Range"
   ]
  },
  {
   "cell_type": "code",
   "execution_count": 14,
   "metadata": {},
   "outputs": [],
   "source": [
    "# в переменной очень много пропусков 13886 (34.7%)\n",
    "# сохраним информацию о пропусках чтобы не потерять\n",
    "df['NaN_Price Range'] = pd.isna(df['Price Range']).astype('float64') \n",
    "\n",
    "# заполним значения в переменной по словарю\n",
    "dic_value_Price = {'$':1,'$$ - $$$':2,'$$$$':3}\n",
    "df['Price_Range']=df['Price Range'].map(lambda x: dic_value_Price.get(x,x))\n",
    "\n",
    "# 18412 ресторанов это более 70% из заполненной информации имеют средний параметр цены\n",
    "# поэтому заполняем пропуски двойкой (2)\n",
    "df['Price_Range'] = df['Price_Range'].fillna(2)"
   ]
  },
  {
   "cell_type": "code",
   "execution_count": 15,
   "metadata": {},
   "outputs": [
    {
     "data": {
      "text/html": [
       "<div>\n",
       "<style scoped>\n",
       "    .dataframe tbody tr th:only-of-type {\n",
       "        vertical-align: middle;\n",
       "    }\n",
       "\n",
       "    .dataframe tbody tr th {\n",
       "        vertical-align: top;\n",
       "    }\n",
       "\n",
       "    .dataframe thead th {\n",
       "        text-align: right;\n",
       "    }\n",
       "</style>\n",
       "<table border=\"1\" class=\"dataframe\">\n",
       "  <thead>\n",
       "    <tr style=\"text-align: right;\">\n",
       "      <th></th>\n",
       "      <th>Price Range</th>\n",
       "    </tr>\n",
       "  </thead>\n",
       "  <tbody>\n",
       "    <tr>\n",
       "      <th>кол-во строк</th>\n",
       "      <td>40000</td>\n",
       "    </tr>\n",
       "    <tr>\n",
       "      <th>тип значений</th>\n",
       "      <td>float64</td>\n",
       "    </tr>\n",
       "    <tr>\n",
       "      <th>кол-во значений</th>\n",
       "      <td>40000</td>\n",
       "    </tr>\n",
       "    <tr>\n",
       "      <th>кол-во NaN</th>\n",
       "      <td>0</td>\n",
       "    </tr>\n",
       "    <tr>\n",
       "      <th>среднее</th>\n",
       "      <td>1.8786</td>\n",
       "    </tr>\n",
       "    <tr>\n",
       "      <th>медиана</th>\n",
       "      <td>2</td>\n",
       "    </tr>\n",
       "    <tr>\n",
       "      <th>мин</th>\n",
       "      <td>1</td>\n",
       "    </tr>\n",
       "    <tr>\n",
       "      <th>макс</th>\n",
       "      <td>3</td>\n",
       "    </tr>\n",
       "  </tbody>\n",
       "</table>\n",
       "</div>"
      ],
      "text/plain": [
       "                Price Range\n",
       "кол-во строк          40000\n",
       "тип значений        float64\n",
       "кол-во значений       40000\n",
       "кол-во NaN                0\n",
       "среднее              1.8786\n",
       "медиана                   2\n",
       "мин                       1\n",
       "макс                      3"
      ]
     },
     "metadata": {},
     "output_type": "display_data"
    },
    {
     "data": {
      "image/png": "[encoded data removed]",
      "text/plain": [
       "<Figure size 288x216 with 1 Axes>"
      ]
     },
     "metadata": {
      "needs_background": "light"
     },
     "output_type": "display_data"
    }
   ],
   "source": [
    "# проверим полученный критерий\n",
    "my.describe_with_hist('Price Range', df[df['Sample'] == 1].Price_Range)"
   ]
  },
  {
   "cell_type": "markdown",
   "metadata": {},
   "source": [
    "***Резюме - Price Range:*** в переменной очень много пропусков 13886 (34.7%). Чтобы не потерять информацию о пропусках создан новый критерий - 'NaN_Price Range'. Также создан новый признак числового кодирования цены - 'Price_Range' (низкая цена - 1, средняя цена -2 , высокая цена - 3).  Пропуски заполнили модой - средней ценой (двойкой). \n",
    "\n",
    "### 4. Number of Reviews"
   ]
  },
  {
   "cell_type": "code",
   "execution_count": 16,
   "metadata": {},
   "outputs": [],
   "source": [
    "# в переменной 2543 (6.4%) пропущенных значений \n",
    "# сохраним эту информацию\n",
    "df['NAN_Number of Reviews'] = pd.isna(df['Number of Reviews']).astype('float64')\n",
    "\n",
    "# для удобства изменим название столбца\n",
    "df.rename(columns={'Number of Reviews': 'Number_of_Reviews'}, inplace=True)"
   ]
  },
  {
   "cell_type": "code",
   "execution_count": 17,
   "metadata": {},
   "outputs": [
    {
     "data": {
      "image/png": "[encoded data removed]",
      "text/plain": [
       "<Figure size 864x216 with 4 Axes>"
      ]
     },
     "metadata": {
      "needs_background": "light"
     },
     "output_type": "display_data"
    }
   ],
   "source": [
    "my.four_plot_with_log2('Number_of_Reviews', df[df['Sample'] == 1])"
   ]
  },
  {
   "cell_type": "code",
   "execution_count": 18,
   "metadata": {},
   "outputs": [
    {
     "data": {
      "image/png": "[encoded data removed]",
      "text/plain": [
       "<Figure size 864x216 with 1 Axes>"
      ]
     },
     "metadata": {
      "needs_background": "light"
     },
     "output_type": "display_data"
    }
   ],
   "source": [
    "# выбросы есть, купол распределения с точками перегиба, необходимо посмотреть на гистограмму по крупнее\n",
    "my.big_hist_log('Number_of_Reviews', df[df['Sample'] == 1])"
   ]
  },
  {
   "cell_type": "code",
   "execution_count": 19,
   "metadata": {},
   "outputs": [
    {
     "data": {
      "text/html": [
       "<div>\n",
       "<style scoped>\n",
       "    .dataframe tbody tr th:only-of-type {\n",
       "        vertical-align: middle;\n",
       "    }\n",
       "\n",
       "    .dataframe tbody tr th {\n",
       "        vertical-align: top;\n",
       "    }\n",
       "\n",
       "    .dataframe thead th {\n",
       "        text-align: right;\n",
       "    }\n",
       "</style>\n",
       "<table border=\"1\" class=\"dataframe\">\n",
       "  <thead>\n",
       "    <tr style=\"text-align: right;\">\n",
       "      <th></th>\n",
       "      <th>левая</th>\n",
       "      <th>правая</th>\n",
       "    </tr>\n",
       "  </thead>\n",
       "  <tbody>\n",
       "    <tr>\n",
       "      <th>границы выбросов с логарифмом</th>\n",
       "      <td>-1.624337</td>\n",
       "      <td>8.566493</td>\n",
       "    </tr>\n",
       "    <tr>\n",
       "      <th>границы выбросов без логарифма</th>\n",
       "      <td>0.197042</td>\n",
       "      <td>5252.678628</td>\n",
       "    </tr>\n",
       "    <tr>\n",
       "      <th>кол-во значений за границей</th>\n",
       "      <td>0.000000</td>\n",
       "      <td>10.000000</td>\n",
       "    </tr>\n",
       "  </tbody>\n",
       "</table>\n",
       "</div>"
      ],
      "text/plain": [
       "                                   левая       правая\n",
       "границы выбросов с логарифмом  -1.624337     8.566493\n",
       "границы выбросов без логарифма  0.197042  5252.678628\n",
       "кол-во значений за границей     0.000000    10.000000"
      ]
     },
     "metadata": {},
     "output_type": "display_data"
    }
   ],
   "source": [
    "# посмотрим на границы\n",
    "my.borders_of_outliers('Number_of_Reviews', df[df['Sample'] == 1], log=True)"
   ]
  },
  {
   "cell_type": "code",
   "execution_count": 20,
   "metadata": {},
   "outputs": [],
   "source": [
    "# выбросов не так много, удалим их, предварительно сохранив информацию о них\n",
    "df['outliers_Number_of_Reviews'] = pd.DataFrame(df['Number_of_Reviews']>5252).astype('float64')\n",
    "df.loc[df['Number_of_Reviews']>5252, 'Number_of_Reviews']=None"
   ]
  },
  {
   "cell_type": "markdown",
   "metadata": {},
   "source": [
    "***Резюме - Number of Reviews*** 2543 (6.4%) пропусков.  \n",
    "Странный вид прологарифмированного распределения, как будто в нем два распределения причем одно логнормальное, а другое распределение Бернули при малом кол-ве кухонь. Второе распределение может быть искуственным снижением или удалением кол-ва отзывов (возможно за \"фейковые\" отзывы или \"накрутки\")  Необходимо попытаться сделать срезы на других переменных (City) или на новых переменных (Population и т.п.), если хватит времени.  \n",
    "Выбросов 10. Удалил. Сохранил информацию о них в отдельной переменной.\n",
    "\n",
    "### 5. Reviews"
   ]
  },
  {
   "cell_type": "code",
   "execution_count": 21,
   "metadata": {},
   "outputs": [],
   "source": [
    "# в ревью нет пропусков, но 6471 строк со значением [[], []]. По сути это пустые строки сохраним их \n",
    "df['empty_Reviews'] = (df['Reviews']=='[[], []]').astype('float64')\n",
    "\n",
    "# анализ тестовой базы выявил два пропуска, несмотря на то, что pandas.profiling на тренировочной базе пропусков не выявил, заполним их '[[], []]' и закинем в empty_Reviews\n",
    "df['Reviews'] = df['Reviews'].fillna('[[], []]')\n",
    "df['empty_Reviews'] = (df['Reviews']=='[[], []]').astype('float64')"
   ]
  },
  {
   "cell_type": "code",
   "execution_count": 22,
   "metadata": {},
   "outputs": [
    {
     "data": {
      "text/html": [
       "<div>\n",
       "<style scoped>\n",
       "    .dataframe tbody tr th:only-of-type {\n",
       "        vertical-align: middle;\n",
       "    }\n",
       "\n",
       "    .dataframe tbody tr th {\n",
       "        vertical-align: top;\n",
       "    }\n",
       "\n",
       "    .dataframe thead th {\n",
       "        text-align: right;\n",
       "    }\n",
       "</style>\n",
       "<table border=\"1\" class=\"dataframe\">\n",
       "  <thead>\n",
       "    <tr style=\"text-align: right;\">\n",
       "      <th></th>\n",
       "      <th>len_date</th>\n",
       "    </tr>\n",
       "  </thead>\n",
       "  <tbody>\n",
       "    <tr>\n",
       "      <th>кол-во строк</th>\n",
       "      <td>40000</td>\n",
       "    </tr>\n",
       "    <tr>\n",
       "      <th>тип значений</th>\n",
       "      <td>int64</td>\n",
       "    </tr>\n",
       "    <tr>\n",
       "      <th>кол-во значений</th>\n",
       "      <td>40000</td>\n",
       "    </tr>\n",
       "    <tr>\n",
       "      <th>кол-во NaN</th>\n",
       "      <td>0</td>\n",
       "    </tr>\n",
       "    <tr>\n",
       "      <th>среднее</th>\n",
       "      <td>1.5626</td>\n",
       "    </tr>\n",
       "    <tr>\n",
       "      <th>медиана</th>\n",
       "      <td>2</td>\n",
       "    </tr>\n",
       "    <tr>\n",
       "      <th>мин</th>\n",
       "      <td>0</td>\n",
       "    </tr>\n",
       "    <tr>\n",
       "      <th>макс</th>\n",
       "      <td>3</td>\n",
       "    </tr>\n",
       "  </tbody>\n",
       "</table>\n",
       "</div>"
      ],
      "text/plain": [
       "                len_date\n",
       "кол-во строк       40000\n",
       "тип значений       int64\n",
       "кол-во значений    40000\n",
       "кол-во NaN             0\n",
       "среднее           1.5626\n",
       "медиана                2\n",
       "мин                    0\n",
       "макс                   3"
      ]
     },
     "metadata": {},
     "output_type": "display_data"
    }
   ],
   "source": [
    "# вытащим дату из ревью и создадим новые критерии\n",
    "df['date_of_Review'] = df['Reviews'].str.findall('\\d+/\\d+/\\d+')\n",
    "df['len_date'] = df['date_of_Review'].apply(lambda x: len(x))\n",
    "\n",
    "# проверим длину дат, на случай если там больше или меньше двух (2)\n",
    "my.describe_without_plots('len_date', df[df['Sample'] == 1].len_date)"
   ]
  },
  {
   "cell_type": "code",
   "execution_count": 23,
   "metadata": {},
   "outputs": [
    {
     "name": "stdout",
     "output_type": "stream",
     "text": [
      "кол-во значений Reviews с тремя датами := 4\n",
      "значения Reviews с тремя датами :=\n"
     ]
    },
    {
     "data": {
      "text/plain": [
       "[\"[['We visited 21/10/17', 'Best Kebab in London'], ['12/22/2017', '10/19/2017']]\",\n",
       " \"[['Good Museum Cafeteria', 'Lunch 30/5/2017'], ['04/13/2017', '05/30/2017']]\",\n",
       " \"[['The desserts arcade !', 'Visit today 3/1/2017'], ['06/02/2017', '01/03/2017']]\",\n",
       " \"[['lunch 29/9/2016', 'Unplanned Great Dinner'], ['09/30/2016', '08/25/2016']]\"]"
      ]
     },
     "metadata": {},
     "output_type": "display_data"
    },
    {
     "name": "stdout",
     "output_type": "stream",
     "text": [
      "даты после обработки регулярными выражениями:\n"
     ]
    },
    {
     "data": {
      "text/plain": [
       "[['21/10/17', '12/22/2017', '10/19/2017'],\n",
       " ['30/5/2017', '04/13/2017', '05/30/2017'],\n",
       " ['3/1/2017', '06/02/2017', '01/03/2017'],\n",
       " ['29/9/2016', '09/30/2016', '08/25/2016']]"
      ]
     },
     "metadata": {},
     "output_type": "display_data"
    }
   ],
   "source": [
    "# есть значение 3 надо разобраться что там\n",
    "print(\"кол-во значений Reviews с тремя датами :=\" , len(df[df['len_date']==3]))\n",
    "print(\"значения Reviews с тремя датами :=\")\n",
    "temp_list = df[df['len_date']==3].Reviews.to_list()\n",
    "display(df[df['len_date']==3].Reviews.to_list())\n",
    "print(\"даты после обработки регулярными выражениями:\")\n",
    "display([re.findall('\\d+/\\d+/\\d+', x) for x in temp_list])"
   ]
  },
  {
   "cell_type": "code",
   "execution_count": 24,
   "metadata": {},
   "outputs": [],
   "source": [
    "# видим что люди указывали даты в отзывах и эти даты попали в обработку\n",
    "# из-за этого возникнут ошибки так как даты не верные и их формат отличается и формата выгрузки\n",
    "# при этом таких строк всего четыре (4), можно было бы их не исправлять а выбросить потому что 17 \n",
    "# год явно приведет к выбросу с которым надо будет разбираться. Выбрасывать жалко, тогда исправим,\n",
    "# тем более, что это достачно просто\n",
    "\n",
    "df['len_date'].date_of_Review = df[df['len_date']==3].date_of_Review.apply(lambda x: x.pop(0))"
   ]
  },
  {
   "cell_type": "code",
   "execution_count": 25,
   "metadata": {},
   "outputs": [
    {
     "name": "stdout",
     "output_type": "stream",
     "text": [
      "кол-во значений Reviews с одной датой := 5680\n"
     ]
    },
    {
     "data": {
      "text/plain": [
       "12    [['You always feel very Welcome at this cozy.....\n",
       "31                 [['Very good food'], ['09/24/2017']]\n",
       "48                         [['Thomas'], ['01/06/2016']]\n",
       "50    [['The best in Budapest so far'], ['03/05/2017']]\n",
       "Name: Reviews, dtype: object"
      ]
     },
     "metadata": {},
     "output_type": "display_data"
    }
   ],
   "source": [
    "# также есть значение 1 надо разобраться что там\n",
    "print(\"кол-во значений Reviews с одной датой :=\" , len(df[df['len_date']==1]))\n",
    "display(df[df['len_date']==1].Reviews[:4])"
   ]
  },
  {
   "cell_type": "code",
   "execution_count": 26,
   "metadata": {},
   "outputs": [],
   "source": [
    "# оказалось, что есть отзывы с одним (1) отзывом и их достаточно много 5680 из (40000-6471) это 17%\n",
    "# сохраним это на всякий случай, чтобы не потерять\n",
    "df['one_Review'] = (df['len_date']==1).astype('float64')\n",
    "\n",
    "# заполним перерыв между отзывами (по отзывам где len = 2) и насколько давно был сделан последний самый свежий отзыв\n",
    "# создадим для этого функции:\n",
    "def time_to_now(row):\n",
    "    if row['date_of_Review'] == []:\n",
    "        return None\n",
    "    return datetime.datetime.now() - pd.to_datetime(row['date_of_Review']).max()\n",
    "\n",
    "def time_between_Reviews(row):\n",
    "    if row['date_of_Review'] == []:\n",
    "        return None\n",
    "    return pd.to_datetime(row['date_of_Review']).max() - pd.to_datetime(row['date_of_Review']).min()\n",
    "\n",
    "df['day_to_now'] = df.apply(time_to_now, axis = 1).dt.days\n",
    "df['day_between_Reviews'] = df[df['len_date']==2].apply(time_between_Reviews, axis = 1).dt.days"
   ]
  },
  {
   "cell_type": "code",
   "execution_count": 27,
   "metadata": {},
   "outputs": [
    {
     "data": {
      "image/png": "[encoded data removed]",
      "text/plain": [
       "<Figure size 864x216 with 4 Axes>"
      ]
     },
     "metadata": {
      "needs_background": "light"
     },
     "output_type": "display_data"
    }
   ],
   "source": [
    "# посмотрим на критерий day_to_now - это насколько давно был сделан последний самый свежий отзыв в днях\n",
    "my.four_plot_with_log2('day_to_now', df[df['Sample'] == 1])"
   ]
  },
  {
   "cell_type": "code",
   "execution_count": 28,
   "metadata": {},
   "outputs": [
    {
     "data": {
      "text/html": [
       "<div>\n",
       "<style scoped>\n",
       "    .dataframe tbody tr th:only-of-type {\n",
       "        vertical-align: middle;\n",
       "    }\n",
       "\n",
       "    .dataframe tbody tr th {\n",
       "        vertical-align: top;\n",
       "    }\n",
       "\n",
       "    .dataframe thead th {\n",
       "        text-align: right;\n",
       "    }\n",
       "</style>\n",
       "<table border=\"1\" class=\"dataframe\">\n",
       "  <thead>\n",
       "    <tr style=\"text-align: right;\">\n",
       "      <th></th>\n",
       "      <th>левая</th>\n",
       "      <th>правая</th>\n",
       "    </tr>\n",
       "  </thead>\n",
       "  <tbody>\n",
       "    <tr>\n",
       "      <th>границы выбросов с логарифмом</th>\n",
       "      <td>6.454848</td>\n",
       "      <td>7.440250</td>\n",
       "    </tr>\n",
       "    <tr>\n",
       "      <th>границы выбросов без логарифма</th>\n",
       "      <td>635.777090</td>\n",
       "      <td>1703.175558</td>\n",
       "    </tr>\n",
       "    <tr>\n",
       "      <th>кол-во значений за границей</th>\n",
       "      <td>0.000000</td>\n",
       "      <td>2356.000000</td>\n",
       "    </tr>\n",
       "  </tbody>\n",
       "</table>\n",
       "</div>"
      ],
      "text/plain": [
       "                                     левая       правая\n",
       "границы выбросов с логарифмом     6.454848     7.440250\n",
       "границы выбросов без логарифма  635.777090  1703.175558\n",
       "кол-во значений за границей       0.000000  2356.000000"
      ]
     },
     "metadata": {},
     "output_type": "display_data"
    }
   ],
   "source": [
    "# выбросов достаточно много посмотрим на границы выбросов\n",
    "my.borders_of_outliers('day_to_now', df[df['Sample'] == 1], log=True)"
   ]
  },
  {
   "cell_type": "code",
   "execution_count": 29,
   "metadata": {},
   "outputs": [
    {
     "data": {
      "image/png": "[encoded data removed]",
      "text/plain": [
       "<Figure size 864x216 with 1 Axes>"
      ]
     },
     "metadata": {
      "needs_background": "light"
     },
     "output_type": "display_data"
    }
   ],
   "source": [
    "# жалко терять 2356 значений \n",
    "# посмотрим на гистограмму крупно\n",
    "my.big_hist_log('day_to_now', df[df['Sample'] == 1])"
   ]
  },
  {
   "cell_type": "code",
   "execution_count": 30,
   "metadata": {},
   "outputs": [
    {
     "data": {
      "text/html": [
       "<div>\n",
       "<style scoped>\n",
       "    .dataframe tbody tr th:only-of-type {\n",
       "        vertical-align: middle;\n",
       "    }\n",
       "\n",
       "    .dataframe tbody tr th {\n",
       "        vertical-align: top;\n",
       "    }\n",
       "\n",
       "    .dataframe thead th {\n",
       "        text-align: right;\n",
       "    }\n",
       "</style>\n",
       "<table border=\"1\" class=\"dataframe\">\n",
       "  <thead>\n",
       "    <tr style=\"text-align: right;\">\n",
       "      <th></th>\n",
       "      <th>day_to_now</th>\n",
       "    </tr>\n",
       "  </thead>\n",
       "  <tbody>\n",
       "    <tr>\n",
       "      <th>кол-во строк</th>\n",
       "      <td>40000</td>\n",
       "    </tr>\n",
       "    <tr>\n",
       "      <th>тип значений</th>\n",
       "      <td>float64</td>\n",
       "    </tr>\n",
       "    <tr>\n",
       "      <th>кол-во значений</th>\n",
       "      <td>33529</td>\n",
       "    </tr>\n",
       "    <tr>\n",
       "      <th>кол-во NaN</th>\n",
       "      <td>6471</td>\n",
       "    </tr>\n",
       "    <tr>\n",
       "      <th>среднее</th>\n",
       "      <td>1130.37</td>\n",
       "    </tr>\n",
       "    <tr>\n",
       "      <th>медиана</th>\n",
       "      <td>994</td>\n",
       "    </tr>\n",
       "    <tr>\n",
       "      <th>мин</th>\n",
       "      <td>841</td>\n",
       "    </tr>\n",
       "    <tr>\n",
       "      <th>макс</th>\n",
       "      <td>5900</td>\n",
       "    </tr>\n",
       "  </tbody>\n",
       "</table>\n",
       "</div>"
      ],
      "text/plain": [
       "                day_to_now\n",
       "кол-во строк         40000\n",
       "тип значений       float64\n",
       "кол-во значений      33529\n",
       "кол-во NaN            6471\n",
       "среднее            1130.37\n",
       "медиана                994\n",
       "мин                    841\n",
       "макс                  5900"
      ]
     },
     "metadata": {},
     "output_type": "display_data"
    }
   ],
   "source": [
    "# никаких очевидных аномалий не видно \n",
    "# посмотрим основные статистики\n",
    "my.describe_without_plots('day_to_now', df[df['Sample'] == 1].day_to_now)"
   ]
  },
  {
   "cell_type": "markdown",
   "metadata": {},
   "source": [
    "***Резюме - Reviews:*** Пропусков в тренировочном датасете нет, в тестовом - 2. Но есть 6471 незаполненных строк с отзывами в тренировочном датасете это 16% от датасета. В 5680 (14%) строках есть только один отзыв, хотя в подавляющем большинстве отзывов два.  \n",
    "Созданы новые критерии:   \n",
    "- empty_Reviews - незаполненные отзывы  \n",
    "- date_of_Review - даты из отзывов  \n",
    "- len_date - кол-во дат в отзыве  \n",
    "- day_to_now - насколько давно был сделан последний самый свежий отзыв в днях  \n",
    "- day_between_Reviews - перерыв между отзывами в днях\n",
    "\n",
    "***Резюме - day_to_now из Reviews:*** Удаление по порогу не напрашивается так как компания TripAdvisor работает с 2000 года. Максимум 5896/365 ~ 16,5 лет от 2020 года укладывается в дату начала старта сайта. В выбросы попало 2365 (почти 6%) значений, с учетом резюме по неполным данным в критерии Reviews, я пока принимаю решение не избавлятся от выросов, построить модель, обратить внимание на важность критерия, и при необходимости вернуться к нему для заполнения парсингом или удаления выбросов"
   ]
  },
  {
   "cell_type": "code",
   "execution_count": 31,
   "metadata": {},
   "outputs": [
    {
     "data": {
      "image/png": "[encoded data removed]",
      "text/plain": [
       "<Figure size 864x216 with 4 Axes>"
      ]
     },
     "metadata": {
      "needs_background": "light"
     },
     "output_type": "display_data"
    }
   ],
   "source": [
    "# теперь посмотрим на разницу в датах отзывов в днях \n",
    "my.four_plot_with_log2('day_between_Reviews', df[df['Sample'] == 1])"
   ]
  },
  {
   "cell_type": "code",
   "execution_count": 32,
   "metadata": {},
   "outputs": [
    {
     "data": {
      "image/png": "[encoded data removed]",
      "text/plain": [
       "<Figure size 864x216 with 1 Axes>"
      ]
     },
     "metadata": {
      "needs_background": "light"
     },
     "output_type": "display_data"
    }
   ],
   "source": [
    "my.big_hist_log('day_between_Reviews', df[df['Sample'] == 1])"
   ]
  },
  {
   "cell_type": "code",
   "execution_count": 33,
   "metadata": {},
   "outputs": [
    {
     "data": {
      "text/html": [
       "<div>\n",
       "<style scoped>\n",
       "    .dataframe tbody tr th:only-of-type {\n",
       "        vertical-align: middle;\n",
       "    }\n",
       "\n",
       "    .dataframe tbody tr th {\n",
       "        vertical-align: top;\n",
       "    }\n",
       "\n",
       "    .dataframe thead th {\n",
       "        text-align: right;\n",
       "    }\n",
       "</style>\n",
       "<table border=\"1\" class=\"dataframe\">\n",
       "  <thead>\n",
       "    <tr style=\"text-align: right;\">\n",
       "      <th></th>\n",
       "      <th>левая</th>\n",
       "      <th>правая</th>\n",
       "    </tr>\n",
       "  </thead>\n",
       "  <tbody>\n",
       "    <tr>\n",
       "      <th>границы выбросов с логарифмом</th>\n",
       "      <td>-0.240607</td>\n",
       "      <td>8.389631</td>\n",
       "    </tr>\n",
       "    <tr>\n",
       "      <th>границы выбросов без логарифма</th>\n",
       "      <td>0.786151</td>\n",
       "      <td>4401.191461</td>\n",
       "    </tr>\n",
       "    <tr>\n",
       "      <th>кол-во значений за границей</th>\n",
       "      <td>492.000000</td>\n",
       "      <td>0.000000</td>\n",
       "    </tr>\n",
       "  </tbody>\n",
       "</table>\n",
       "</div>"
      ],
      "text/plain": [
       "                                     левая       правая\n",
       "границы выбросов с логарифмом    -0.240607     8.389631\n",
       "границы выбросов без логарифма    0.786151  4401.191461\n",
       "кол-во значений за границей     492.000000     0.000000"
      ]
     },
     "metadata": {},
     "output_type": "display_data"
    }
   ],
   "source": [
    "my.borders_of_outliers('day_between_Reviews', df[df['Sample'] == 1], log=True)"
   ]
  },
  {
   "cell_type": "code",
   "execution_count": 34,
   "metadata": {},
   "outputs": [],
   "source": [
    "# кол-во выбросов 495 (1.2%) - это статистически не значимо, но мы пока сохраняем информацию о выбросе, а потом проверим его важность в модели\n",
    "df['out_day_between_Reviews'] = (df['day_between_Reviews']==0).astype('float64')\n",
    "\n",
    "# и удаляем выбросы\n",
    "df.loc[df['day_between_Reviews']==0, 'day_between_Reviews'] = None"
   ]
  },
  {
   "cell_type": "code",
   "execution_count": 35,
   "metadata": {},
   "outputs": [
    {
     "data": {
      "text/html": [
       "<div>\n",
       "<style scoped>\n",
       "    .dataframe tbody tr th:only-of-type {\n",
       "        vertical-align: middle;\n",
       "    }\n",
       "\n",
       "    .dataframe tbody tr th {\n",
       "        vertical-align: top;\n",
       "    }\n",
       "\n",
       "    .dataframe thead th {\n",
       "        text-align: right;\n",
       "    }\n",
       "</style>\n",
       "<table border=\"1\" class=\"dataframe\">\n",
       "  <thead>\n",
       "    <tr style=\"text-align: right;\">\n",
       "      <th></th>\n",
       "      <th>day_between_Reviews</th>\n",
       "    </tr>\n",
       "  </thead>\n",
       "  <tbody>\n",
       "    <tr>\n",
       "      <th>кол-во строк</th>\n",
       "      <td>40000</td>\n",
       "    </tr>\n",
       "    <tr>\n",
       "      <th>тип значений</th>\n",
       "      <td>float64</td>\n",
       "    </tr>\n",
       "    <tr>\n",
       "      <th>кол-во значений</th>\n",
       "      <td>28479</td>\n",
       "    </tr>\n",
       "    <tr>\n",
       "      <th>кол-во NaN</th>\n",
       "      <td>11521</td>\n",
       "    </tr>\n",
       "    <tr>\n",
       "      <th>среднее</th>\n",
       "      <td>144.164</td>\n",
       "    </tr>\n",
       "    <tr>\n",
       "      <th>медиана</th>\n",
       "      <td>69</td>\n",
       "    </tr>\n",
       "    <tr>\n",
       "      <th>мин</th>\n",
       "      <td>1</td>\n",
       "    </tr>\n",
       "    <tr>\n",
       "      <th>макс</th>\n",
       "      <td>3207</td>\n",
       "    </tr>\n",
       "  </tbody>\n",
       "</table>\n",
       "</div>"
      ],
      "text/plain": [
       "                day_between_Reviews\n",
       "кол-во строк                  40000\n",
       "тип значений                float64\n",
       "кол-во значений               28479\n",
       "кол-во NaN                    11521\n",
       "среднее                     144.164\n",
       "медиана                          69\n",
       "мин                               1\n",
       "макс                           3207"
      ]
     },
     "metadata": {},
     "output_type": "display_data"
    }
   ],
   "source": [
    "my.describe_without_plots('day_between_Reviews', df[df['Sample'] == 1].day_between_Reviews)"
   ]
  },
  {
   "cell_type": "markdown",
   "metadata": {},
   "source": [
    "***Резюме - day_between_Reviews из Reviews:*** Заполнен слабо 70%. Удалены выбросы в нуле (492 значения). Создан новый критерий - out_day_between_Reviews  \n",
    "\n",
    "<details>\n",
    "  <summary>***Позитивный или негативный оттенок в отзывах***</summary>\n",
    "    Этот пункт пока не проработан, по причине того, что мне кажется эффективнее потратить время на парсинг дополнительной информации, чем на обработку этого момента. Так как я решил пока не использовать парсинг и выжать максимум из модели, проработаю если хватит времени\n",
    "  </details> "
   ]
  },
  {
   "cell_type": "markdown",
   "metadata": {},
   "source": [
    "### 6. ID_TA"
   ]
  },
  {
   "cell_type": "code",
   "execution_count": 36,
   "metadata": {},
   "outputs": [],
   "source": [
    "df['code_ID_TA'] = df['ID_TA'].apply(lambda x: float(x[1:]))"
   ]
  },
  {
   "cell_type": "markdown",
   "metadata": {},
   "source": [
    "### 7. URL_TA"
   ]
  },
  {
   "cell_type": "code",
   "execution_count": 37,
   "metadata": {},
   "outputs": [],
   "source": [
    "df['code_after_g_URL_TA'] = df['URL_TA'].str.split('-').apply(lambda x: x[1][1:]).astype('float64')"
   ]
  },
  {
   "cell_type": "markdown",
   "metadata": {},
   "source": [
    "### 8. City"
   ]
  },
  {
   "cell_type": "code",
   "execution_count": 38,
   "metadata": {},
   "outputs": [],
   "source": [
    "df_City_dummies = pd.get_dummies(df['City'], dummy_na=False).astype('float64')\n",
    "df = pd.concat([df,df_City_dummies], axis=1)"
   ]
  },
  {
   "cell_type": "code",
   "execution_count": 39,
   "metadata": {},
   "outputs": [],
   "source": [
    "le = LabelEncoder()\n",
    "le.fit(df['City'])\n",
    "df['code_City'] = le.transform(df['City'])"
   ]
  },
  {
   "cell_type": "markdown",
   "metadata": {},
   "source": [
    "### 8.1. Capital_City"
   ]
  },
  {
   "cell_type": "code",
   "execution_count": 40,
   "metadata": {},
   "outputs": [],
   "source": [
    "list_Of_NotCapitalCity = ['Barcelona', 'Milan', 'Hamburg', 'Munich', \n",
    "                          'Lyon', 'Zurich', 'Oporto', 'Geneva', 'Krakow']\n",
    "df['Capital_City'] = df['City'].apply(lambda x: 0.0 if x in list_Of_NotCapitalCity else 1.0)"
   ]
  },
  {
   "cell_type": "markdown",
   "metadata": {},
   "source": [
    "### 8.2. Сountries"
   ]
  },
  {
   "cell_type": "code",
   "execution_count": 41,
   "metadata": {},
   "outputs": [],
   "source": [
    "dict_Сountries = {'London' : 'England', 'Paris' : 'France', 'Madrid' : 'Spain', \n",
    "                  'Barcelona' : 'Spain', 'Berlin' : 'Germany', 'Milan' : 'Italy', \n",
    "                  'Rome' : 'Italy', 'Prague' : 'Czech_c', 'Lisbon' : 'Portugal', \n",
    "                  'Vienna' : 'Austria', 'Amsterdam' : 'Holland', \n",
    "                  'Brussels' : 'Belgium', 'Hamburg' : 'Germany', 'Munich' : 'Germany', \n",
    "                  'Lyon' : 'France', 'Stockholm' : 'Sweden', 'Budapest' : 'Romania', \n",
    "                  'Warsaw' : 'Poland', 'Dublin' : 'Ireland', 'Copenhagen' : 'Denmark', \n",
    "                  'Athens' : 'Greece', 'Edinburgh' : 'Scotland', 'Zurich' : 'Switzerland', \n",
    "                  'Oporto' : 'Portugal', 'Geneva' : 'Switzerland', 'Krakow' : 'Poland', \n",
    "                  'Oslo' : 'Norway', 'Helsinki' : 'Finland', 'Bratislava' : 'Slovakia', \n",
    "                  'Luxembourg' : 'Luxembourg_c', 'Ljubljana' : 'Slovenia'}\n",
    "df['Сountry'] = df.apply(lambda row: dict_Сountries[row['City']], axis = 1)\n",
    "\n",
    "le = LabelEncoder()\n",
    "le.fit(df['Сountry'])\n",
    "df['code_Сountry'] = le.transform(df['Сountry'])"
   ]
  },
  {
   "cell_type": "markdown",
   "metadata": {},
   "source": [
    "### 8.4. Сity_population"
   ]
  },
  {
   "cell_type": "code",
   "execution_count": 42,
   "metadata": {},
   "outputs": [],
   "source": [
    "dict_Сity_population= {'London' : 8908, 'Paris' : 2206, 'Madrid' : 3223, 'Barcelona' : 1620, \n",
    "                        'Berlin' : 6010, 'Milan' : 1366, 'Rome' : 2872, 'Prague' : 1308, \n",
    "                        'Lisbon' : 506, 'Vienna' : 1888, 'Amsterdam' : 860, 'Brussels' : 179, \n",
    "                        'Hamburg' : 1841, 'Munich' : 1457, 'Lyon' : 506, 'Stockholm' : 961, \n",
    "                        'Budapest' : 1752, 'Warsaw' : 1764, 'Dublin' : 553, \n",
    "                        'Copenhagen' : 616, 'Athens' : 665, 'Edinburgh' : 513, \n",
    "                        'Zurich' : 415, 'Oporto' : 240, 'Geneva' : 201, 'Krakow' : 769, \n",
    "                        'Oslo' : 681, 'Helsinki' : 643, 'Bratislava' : 426, \n",
    "                        'Luxembourg' : 119, 'Ljubljana' : 284}\n",
    "df['Сity_population'] = df.apply(lambda row: dict_Сity_population[row['City']], axis = 1)"
   ]
  },
  {
   "cell_type": "markdown",
   "metadata": {},
   "source": [
    "***Резюме - City:*** Без пропусков, категориальный признак. Сгенерированы новые признаки города по типу dummies, также создан новый критерий code_City с интелектуальной кодировкой LabelEncoder из библиотеки sklearn  \n",
    "Добавлены новые критерии:  \n",
    "- Capital_City - столица  \n",
    "- code_Сountry - код страны с помощью LabelEncoder\n",
    "- Сity_population - население города (тыс. чел.)  \n",
    "\n",
    "### 9. Ranking"
   ]
  },
  {
   "cell_type": "code",
   "execution_count": 43,
   "metadata": {},
   "outputs": [
    {
     "data": {
      "image/png": "[encoded data removed]",
      "text/plain": [
       "<Figure size 864x216 with 4 Axes>"
      ]
     },
     "metadata": {
      "needs_background": "light"
     },
     "output_type": "display_data"
    }
   ],
   "source": [
    "my.four_plot_with_log2('Ranking', df[df['Sample'] == 1])"
   ]
  },
  {
   "cell_type": "code",
   "execution_count": 44,
   "metadata": {},
   "outputs": [
    {
     "data": {
      "image/png": "[encoded data removed]",
      "text/plain": [
       "<Figure size 864x216 with 1 Axes>"
      ]
     },
     "metadata": {
      "needs_background": "light"
     },
     "output_type": "display_data"
    }
   ],
   "source": [
    "my.big_hist('Ranking', df[df['Sample'] == 1])"
   ]
  },
  {
   "cell_type": "code",
   "execution_count": 45,
   "metadata": {},
   "outputs": [
    {
     "data": {
      "text/plain": [
       "<matplotlib.axes._subplots.AxesSubplot at 0x7f37498a5f90>"
      ]
     },
     "execution_count": 45,
     "metadata": {},
     "output_type": "execute_result"
    },
    {
     "data": {
      "image/png": "[encoded data removed]",
      "text/plain": [
       "<Figure size 864x432 with 1 Axes>"
      ]
     },
     "metadata": {
      "needs_background": "light"
     },
     "output_type": "display_data"
    }
   ],
   "source": [
    "# У нас много ресторанов, которые не дотягивают и до 2500 места в своем городе, а что там по городам?\n",
    "plt.rcParams['figure.figsize'] = (12,6)\n",
    "df_train['City'].value_counts(ascending=True).plot(kind='barh')"
   ]
  },
  {
   "cell_type": "code",
   "execution_count": 46,
   "metadata": {},
   "outputs": [
    {
     "data": {
      "image/png": "[encoded data removed]",
      "text/plain": [
       "<Figure size 864x432 with 1 Axes>"
      ]
     },
     "metadata": {
      "needs_background": "light"
     },
     "output_type": "display_data"
    }
   ],
   "source": [
    "# посмотрим на топ 10 городов\n",
    "for x in (df_train['City'].value_counts())[0:10].index:\n",
    "    df_train['Ranking'][df_train['City'] == x].hist(bins=100)\n",
    "plt.show()"
   ]
  },
  {
   "cell_type": "code",
   "execution_count": 47,
   "metadata": {},
   "outputs": [],
   "source": [
    "# Получается, что Ranking имеет нормальное распределение, \n",
    "# просто в больших городах больше ресторанов, из-за мы этого имеем смещение\n",
    "# необходимо отнормировать критерий Ranking по городам City\n",
    "mean_Ranking_on_City = df.groupby(['City'])['Ranking'].mean()\n",
    "count_Restorant_in_City = df['City'].value_counts(ascending=False)\n",
    "df['mean_Ranking_on_City'] = df['City'].apply(lambda x: mean_Ranking_on_City[x])\n",
    "df['count_Restorant_in_City'] = df['City'].apply(lambda x: count_Restorant_in_City[x])\n",
    "df['norm_Ranking_on_Rest_in_City'] = (df['Ranking'] - df['mean_Ranking_on_City']) / df['count_Restorant_in_City']"
   ]
  },
  {
   "cell_type": "code",
   "execution_count": 48,
   "metadata": {},
   "outputs": [
    {
     "data": {
      "image/png": "[encoded data removed]",
      "text/plain": [
       "<Figure size 864x432 with 1 Axes>"
      ]
     },
     "metadata": {
      "needs_background": "light"
     },
     "output_type": "display_data"
    }
   ],
   "source": [
    "# посмотрим что получилось на топ 10 городов\n",
    "for x in (df['City'].value_counts())[0:10].index:\n",
    "    df['norm_Ranking_on_Rest_in_City'][df['City'] == x].hist(bins=100)\n",
    "plt.show()"
   ]
  },
  {
   "cell_type": "code",
   "execution_count": 49,
   "metadata": {},
   "outputs": [],
   "source": [
    "max_Ranking_on_City = df.groupby(['City'])['Ranking'].max()\n",
    "df['max_Ranking_on_City'] = df['City'].apply(lambda x: max_Ranking_on_City[x])\n",
    "df['norm_Ranking_on_maxRank_in_City'] = (df['Ranking'] - df['mean_Ranking_on_City']) / df['max_Ranking_on_City']"
   ]
  },
  {
   "cell_type": "code",
   "execution_count": 50,
   "metadata": {},
   "outputs": [
    {
     "data": {
      "image/png": "[encoded data removed]",
      "text/plain": [
       "<Figure size 864x432 with 1 Axes>"
      ]
     },
     "metadata": {
      "needs_background": "light"
     },
     "output_type": "display_data"
    }
   ],
   "source": [
    "for x in (df['City'].value_counts())[0:10].index:\n",
    "    df['norm_Ranking_on_maxRank_in_City'][df['City'] == x].hist(bins=100)\n",
    "plt.show()"
   ]
  },
  {
   "cell_type": "code",
   "execution_count": 51,
   "metadata": {},
   "outputs": [
    {
     "data": {
      "image/png": "[encoded data removed]",
      "text/plain": [
       "<Figure size 864x432 with 1 Axes>"
      ]
     },
     "metadata": {
      "needs_background": "light"
     },
     "output_type": "display_data"
    }
   ],
   "source": [
    "# критерий Ranking по населению в городах Population_Сity\n",
    "mean_Ranking_on_City = df.groupby(['City'])['Ranking'].mean()\n",
    "df['mean_Ranking_on_City'] = df['City'].apply(lambda x: mean_Ranking_on_City[x])\n",
    "df['norm_Ranking_on_Popul_in_City'] = (df['Ranking'] - df['mean_Ranking_on_City']) / df['Сity_population']\n",
    "\n",
    "for x in (df['City'].value_counts())[0:10].index:\n",
    "    df['norm_Ranking_on_Popul_in_City'][df['City'] == x].hist(bins=100)\n",
    "plt.show()"
   ]
  },
  {
   "cell_type": "code",
   "execution_count": 52,
   "metadata": {},
   "outputs": [],
   "source": [
    "df['norm_Population_on_Rest'] = df['Сity_population']/df['count_Restorant_in_City']"
   ]
  },
  {
   "cell_type": "markdown",
   "metadata": {},
   "source": [
    "### Построчная верификация первых двух строк"
   ]
  },
  {
   "cell_type": "code",
   "execution_count": 53,
   "metadata": {},
   "outputs": [
    {
     "data": {
      "text/html": [
       "<div>\n",
       "<style scoped>\n",
       "    .dataframe tbody tr th:only-of-type {\n",
       "        vertical-align: middle;\n",
       "    }\n",
       "\n",
       "    .dataframe tbody tr th {\n",
       "        vertical-align: top;\n",
       "    }\n",
       "\n",
       "    .dataframe thead th {\n",
       "        text-align: right;\n",
       "    }\n",
       "</style>\n",
       "<table border=\"1\" class=\"dataframe\">\n",
       "  <thead>\n",
       "    <tr style=\"text-align: right;\">\n",
       "      <th></th>\n",
       "      <th>Restaurant_id</th>\n",
       "      <th>City</th>\n",
       "      <th>Cuisine Style</th>\n",
       "      <th>Ranking</th>\n",
       "      <th>Price Range</th>\n",
       "      <th>Number_of_Reviews</th>\n",
       "      <th>Reviews</th>\n",
       "      <th>URL_TA</th>\n",
       "      <th>ID_TA</th>\n",
       "      <th>Sample</th>\n",
       "      <th>Rating</th>\n",
       "      <th>code_Restaurant_id</th>\n",
       "      <th>NAN_Cuisine Style</th>\n",
       "      <th>code_Cuisine Style</th>\n",
       "      <th>unique_Cuisine_Style</th>\n",
       "      <th>Bar</th>\n",
       "      <th>Pub</th>\n",
       "      <th>European</th>\n",
       "      <th>Scandinavian</th>\n",
       "      <th>Gluten Free Options</th>\n",
       "      <th>Vegetarian Friendly</th>\n",
       "      <th>Vegan Options</th>\n",
       "      <th>Italian</th>\n",
       "      <th>Mediterranean</th>\n",
       "      <th>Seafood</th>\n",
       "      <th>French</th>\n",
       "      <th>Cafe</th>\n",
       "      <th>Fast Food</th>\n",
       "      <th>Portuguese</th>\n",
       "      <th>Other</th>\n",
       "      <th>Greek</th>\n",
       "      <th>Czech</th>\n",
       "      <th>Eastern European</th>\n",
       "      <th>Central European</th>\n",
       "      <th>Pizza</th>\n",
       "      <th>British</th>\n",
       "      <th>Spanish</th>\n",
       "      <th>Norwegian</th>\n",
       "      <th>African</th>\n",
       "      <th>Moroccan</th>\n",
       "      <th>Middle Eastern</th>\n",
       "      <th>Halal</th>\n",
       "      <th>Indian</th>\n",
       "      <th>Thai</th>\n",
       "      <th>Dutch</th>\n",
       "      <th>Welsh</th>\n",
       "      <th>American</th>\n",
       "      <th>Steakhouse</th>\n",
       "      <th>Soups</th>\n",
       "      <th>Scottish</th>\n",
       "      <th>Fusion</th>\n",
       "      <th>Street Food</th>\n",
       "      <th>Hungarian</th>\n",
       "      <th>Asian</th>\n",
       "      <th>Wine Bar</th>\n",
       "      <th>Barbecue</th>\n",
       "      <th>Central American</th>\n",
       "      <th>Peruvian</th>\n",
       "      <th>South American</th>\n",
       "      <th>Irish</th>\n",
       "      <th>Polish</th>\n",
       "      <th>Vietnamese</th>\n",
       "      <th>Lebanese</th>\n",
       "      <th>Turkish</th>\n",
       "      <th>Healthy</th>\n",
       "      <th>Japanese</th>\n",
       "      <th>Sushi</th>\n",
       "      <th>Austrian</th>\n",
       "      <th>Chinese</th>\n",
       "      <th>Danish</th>\n",
       "      <th>International</th>\n",
       "      <th>Gastropub</th>\n",
       "      <th>Korean</th>\n",
       "      <th>German</th>\n",
       "      <th>Contemporary</th>\n",
       "      <th>Arabic</th>\n",
       "      <th>Diner</th>\n",
       "      <th>Swiss</th>\n",
       "      <th>Swedish</th>\n",
       "      <th>Persian</th>\n",
       "      <th>Australian</th>\n",
       "      <th>Grill</th>\n",
       "      <th>Mexican</th>\n",
       "      <th>Latin</th>\n",
       "      <th>Belgian</th>\n",
       "      <th>Argentinean</th>\n",
       "      <th>Tunisian</th>\n",
       "      <th>Russian</th>\n",
       "      <th>Nepali</th>\n",
       "      <th>Bangladeshi</th>\n",
       "      <th>Colombian</th>\n",
       "      <th>Sri Lankan</th>\n",
       "      <th>Pakistani</th>\n",
       "      <th>Brew Pub</th>\n",
       "      <th>Israeli</th>\n",
       "      <th>Brazilian</th>\n",
       "      <th>Delicatessen</th>\n",
       "      <th>Kosher</th>\n",
       "      <th>Ethiopian</th>\n",
       "      <th>Taiwanese</th>\n",
       "      <th>Indonesian</th>\n",
       "      <th>Malaysian</th>\n",
       "      <th>Venezuelan</th>\n",
       "      <th>Balti</th>\n",
       "      <th>Armenian</th>\n",
       "      <th>Slovenian</th>\n",
       "      <th>Caribbean</th>\n",
       "      <th>Jamaican</th>\n",
       "      <th>Ecuadorean</th>\n",
       "      <th>Chilean</th>\n",
       "      <th>Hawaiian</th>\n",
       "      <th>Minority Chinese</th>\n",
       "      <th>Croatian</th>\n",
       "      <th>Cambodian</th>\n",
       "      <th>Afghani</th>\n",
       "      <th>Tibetan</th>\n",
       "      <th>Romanian</th>\n",
       "      <th>Southwestern</th>\n",
       "      <th>Mongolian</th>\n",
       "      <th>Cajun &amp; Creole</th>\n",
       "      <th>Singaporean</th>\n",
       "      <th>Filipino</th>\n",
       "      <th>Cuban</th>\n",
       "      <th>Native American</th>\n",
       "      <th>Canadian</th>\n",
       "      <th>Egyptian</th>\n",
       "      <th>Azerbaijani</th>\n",
       "      <th>Georgian</th>\n",
       "      <th>Yunnan</th>\n",
       "      <th>New Zealand</th>\n",
       "      <th>Ukrainian</th>\n",
       "      <th>Albanian</th>\n",
       "      <th>Central Asian</th>\n",
       "      <th>Polynesian</th>\n",
       "      <th>Caucasian</th>\n",
       "      <th>Uzbek</th>\n",
       "      <th>Salvadoran</th>\n",
       "      <th>Xinjiang</th>\n",
       "      <th>Burmese</th>\n",
       "      <th>Fujian</th>\n",
       "      <th>Latvian</th>\n",
       "      <th>count_Cuisine_Style</th>\n",
       "      <th>NaN_Price Range</th>\n",
       "      <th>Price_Range</th>\n",
       "      <th>NAN_Number of Reviews</th>\n",
       "      <th>outliers_Number_of_Reviews</th>\n",
       "      <th>empty_Reviews</th>\n",
       "      <th>date_of_Review</th>\n",
       "      <th>len_date</th>\n",
       "      <th>one_Review</th>\n",
       "      <th>day_to_now</th>\n",
       "      <th>day_between_Reviews</th>\n",
       "      <th>out_day_between_Reviews</th>\n",
       "      <th>code_ID_TA</th>\n",
       "      <th>code_after_g_URL_TA</th>\n",
       "      <th>Amsterdam</th>\n",
       "      <th>Athens</th>\n",
       "      <th>Barcelona</th>\n",
       "      <th>Berlin</th>\n",
       "      <th>Bratislava</th>\n",
       "      <th>Brussels</th>\n",
       "      <th>Budapest</th>\n",
       "      <th>Copenhagen</th>\n",
       "      <th>Dublin</th>\n",
       "      <th>Edinburgh</th>\n",
       "      <th>Geneva</th>\n",
       "      <th>Hamburg</th>\n",
       "      <th>Helsinki</th>\n",
       "      <th>Krakow</th>\n",
       "      <th>Lisbon</th>\n",
       "      <th>Ljubljana</th>\n",
       "      <th>London</th>\n",
       "      <th>Luxembourg</th>\n",
       "      <th>Lyon</th>\n",
       "      <th>Madrid</th>\n",
       "      <th>Milan</th>\n",
       "      <th>Munich</th>\n",
       "      <th>Oporto</th>\n",
       "      <th>Oslo</th>\n",
       "      <th>Paris</th>\n",
       "      <th>Prague</th>\n",
       "      <th>Rome</th>\n",
       "      <th>Stockholm</th>\n",
       "      <th>Vienna</th>\n",
       "      <th>Warsaw</th>\n",
       "      <th>Zurich</th>\n",
       "      <th>code_City</th>\n",
       "      <th>Capital_City</th>\n",
       "      <th>Сountry</th>\n",
       "      <th>code_Сountry</th>\n",
       "      <th>Сity_population</th>\n",
       "      <th>mean_Ranking_on_City</th>\n",
       "      <th>count_Restorant_in_City</th>\n",
       "      <th>norm_Ranking_on_Rest_in_City</th>\n",
       "      <th>max_Ranking_on_City</th>\n",
       "      <th>norm_Ranking_on_maxRank_in_City</th>\n",
       "      <th>norm_Ranking_on_Popul_in_City</th>\n",
       "      <th>norm_Population_on_Rest</th>\n",
       "    </tr>\n",
       "  </thead>\n",
       "  <tbody>\n",
       "    <tr>\n",
       "      <th>0</th>\n",
       "      <td>id_0</td>\n",
       "      <td>Paris</td>\n",
       "      <td>[Bar, Pub]</td>\n",
       "      <td>12963.0</td>\n",
       "      <td>$$ - $$$</td>\n",
       "      <td>4.0</td>\n",
       "      <td>[[], []]</td>\n",
       "      <td>/Restaurant_Review-g187147-d10746918-Reviews-L...</td>\n",
       "      <td>d10746918</td>\n",
       "      <td>0</td>\n",
       "      <td>0.0</td>\n",
       "      <td>0.0</td>\n",
       "      <td>0.0</td>\n",
       "      <td>1778</td>\n",
       "      <td>0.0</td>\n",
       "      <td>1.0</td>\n",
       "      <td>1.0</td>\n",
       "      <td>0.0</td>\n",
       "      <td>0.0</td>\n",
       "      <td>0.0</td>\n",
       "      <td>0.0</td>\n",
       "      <td>0.0</td>\n",
       "      <td>0.0</td>\n",
       "      <td>0.0</td>\n",
       "      <td>0.0</td>\n",
       "      <td>0.0</td>\n",
       "      <td>0.0</td>\n",
       "      <td>0.0</td>\n",
       "      <td>0.0</td>\n",
       "      <td>0.0</td>\n",
       "      <td>0.0</td>\n",
       "      <td>0.0</td>\n",
       "      <td>0.0</td>\n",
       "      <td>0.0</td>\n",
       "      <td>0.0</td>\n",
       "      <td>0.0</td>\n",
       "      <td>0.0</td>\n",
       "      <td>0.0</td>\n",
       "      <td>0.0</td>\n",
       "      <td>0.0</td>\n",
       "      <td>0.0</td>\n",
       "      <td>0.0</td>\n",
       "      <td>0.0</td>\n",
       "      <td>0.0</td>\n",
       "      <td>0.0</td>\n",
       "      <td>0.0</td>\n",
       "      <td>0.0</td>\n",
       "      <td>0.0</td>\n",
       "      <td>0.0</td>\n",
       "      <td>0.0</td>\n",
       "      <td>0.0</td>\n",
       "      <td>0.0</td>\n",
       "      <td>0.0</td>\n",
       "      <td>0.0</td>\n",
       "      <td>0.0</td>\n",
       "      <td>0.0</td>\n",
       "      <td>0.0</td>\n",
       "      <td>0.0</td>\n",
       "      <td>0.0</td>\n",
       "      <td>0.0</td>\n",
       "      <td>0.0</td>\n",
       "      <td>0.0</td>\n",
       "      <td>0.0</td>\n",
       "      <td>0.0</td>\n",
       "      <td>0.0</td>\n",
       "      <td>0.0</td>\n",
       "      <td>0.0</td>\n",
       "      <td>0.0</td>\n",
       "      <td>0.0</td>\n",
       "      <td>0.0</td>\n",
       "      <td>0.0</td>\n",
       "      <td>0.0</td>\n",
       "      <td>0.0</td>\n",
       "      <td>0.0</td>\n",
       "      <td>0.0</td>\n",
       "      <td>0.0</td>\n",
       "      <td>0.0</td>\n",
       "      <td>0.0</td>\n",
       "      <td>0.0</td>\n",
       "      <td>0.0</td>\n",
       "      <td>0.0</td>\n",
       "      <td>0.0</td>\n",
       "      <td>0.0</td>\n",
       "      <td>0.0</td>\n",
       "      <td>0.0</td>\n",
       "      <td>0.0</td>\n",
       "      <td>0.0</td>\n",
       "      <td>0.0</td>\n",
       "      <td>0.0</td>\n",
       "      <td>0.0</td>\n",
       "      <td>0.0</td>\n",
       "      <td>0.0</td>\n",
       "      <td>0.0</td>\n",
       "      <td>0.0</td>\n",
       "      <td>0.0</td>\n",
       "      <td>0.0</td>\n",
       "      <td>0.0</td>\n",
       "      <td>0.0</td>\n",
       "      <td>0.0</td>\n",
       "      <td>0.0</td>\n",
       "      <td>0.0</td>\n",
       "      <td>0.0</td>\n",
       "      <td>0.0</td>\n",
       "      <td>0.0</td>\n",
       "      <td>0.0</td>\n",
       "      <td>0.0</td>\n",
       "      <td>0.0</td>\n",
       "      <td>0.0</td>\n",
       "      <td>0.0</td>\n",
       "      <td>0.0</td>\n",
       "      <td>0.0</td>\n",
       "      <td>0.0</td>\n",
       "      <td>0.0</td>\n",
       "      <td>0.0</td>\n",
       "      <td>0.0</td>\n",
       "      <td>0.0</td>\n",
       "      <td>0.0</td>\n",
       "      <td>0.0</td>\n",
       "      <td>0.0</td>\n",
       "      <td>0.0</td>\n",
       "      <td>0.0</td>\n",
       "      <td>0.0</td>\n",
       "      <td>0.0</td>\n",
       "      <td>0.0</td>\n",
       "      <td>0.0</td>\n",
       "      <td>0.0</td>\n",
       "      <td>0.0</td>\n",
       "      <td>0.0</td>\n",
       "      <td>0.0</td>\n",
       "      <td>0.0</td>\n",
       "      <td>0.0</td>\n",
       "      <td>0.0</td>\n",
       "      <td>0.0</td>\n",
       "      <td>0.0</td>\n",
       "      <td>0.0</td>\n",
       "      <td>0.0</td>\n",
       "      <td>0.0</td>\n",
       "      <td>0.0</td>\n",
       "      <td>0.0</td>\n",
       "      <td>0.0</td>\n",
       "      <td>0.0</td>\n",
       "      <td>2.0</td>\n",
       "      <td>0.0</td>\n",
       "      <td>2.0</td>\n",
       "      <td>0.0</td>\n",
       "      <td>0.0</td>\n",
       "      <td>1.0</td>\n",
       "      <td>[]</td>\n",
       "      <td>0</td>\n",
       "      <td>0.0</td>\n",
       "      <td>NaN</td>\n",
       "      <td>NaN</td>\n",
       "      <td>0.0</td>\n",
       "      <td>10746918.0</td>\n",
       "      <td>187147.0</td>\n",
       "      <td>0.0</td>\n",
       "      <td>0.0</td>\n",
       "      <td>0.0</td>\n",
       "      <td>0.0</td>\n",
       "      <td>0.0</td>\n",
       "      <td>0.0</td>\n",
       "      <td>0.0</td>\n",
       "      <td>0.0</td>\n",
       "      <td>0.0</td>\n",
       "      <td>0.0</td>\n",
       "      <td>0.0</td>\n",
       "      <td>0.0</td>\n",
       "      <td>0.0</td>\n",
       "      <td>0.0</td>\n",
       "      <td>0.0</td>\n",
       "      <td>0.0</td>\n",
       "      <td>0.0</td>\n",
       "      <td>0.0</td>\n",
       "      <td>0.0</td>\n",
       "      <td>0.0</td>\n",
       "      <td>0.0</td>\n",
       "      <td>0.0</td>\n",
       "      <td>0.0</td>\n",
       "      <td>0.0</td>\n",
       "      <td>1.0</td>\n",
       "      <td>0.0</td>\n",
       "      <td>0.0</td>\n",
       "      <td>0.0</td>\n",
       "      <td>0.0</td>\n",
       "      <td>0.0</td>\n",
       "      <td>0.0</td>\n",
       "      <td>24</td>\n",
       "      <td>1.0</td>\n",
       "      <td>France</td>\n",
       "      <td>6</td>\n",
       "      <td>2206</td>\n",
       "      <td>6938.557138</td>\n",
       "      <td>6108</td>\n",
       "      <td>0.986320</td>\n",
       "      <td>13986.0</td>\n",
       "      <td>0.430748</td>\n",
       "      <td>2.730935</td>\n",
       "      <td>0.361166</td>\n",
       "    </tr>\n",
       "    <tr>\n",
       "      <th>1</th>\n",
       "      <td>id_1</td>\n",
       "      <td>Helsinki</td>\n",
       "      <td>[European, Scandinavian, Gluten Free Options, ...</td>\n",
       "      <td>106.0</td>\n",
       "      <td>$$ - $$$</td>\n",
       "      <td>97.0</td>\n",
       "      <td>[['Very good reviews!', 'Fine dining in Hakani...</td>\n",
       "      <td>/Restaurant_Review-g189934-d6674944-Reviews-Ra...</td>\n",
       "      <td>d6674944</td>\n",
       "      <td>0</td>\n",
       "      <td>0.0</td>\n",
       "      <td>1.0</td>\n",
       "      <td>0.0</td>\n",
       "      <td>4076</td>\n",
       "      <td>0.0</td>\n",
       "      <td>0.0</td>\n",
       "      <td>0.0</td>\n",
       "      <td>1.0</td>\n",
       "      <td>1.0</td>\n",
       "      <td>1.0</td>\n",
       "      <td>1.0</td>\n",
       "      <td>1.0</td>\n",
       "      <td>0.0</td>\n",
       "      <td>0.0</td>\n",
       "      <td>0.0</td>\n",
       "      <td>0.0</td>\n",
       "      <td>0.0</td>\n",
       "      <td>0.0</td>\n",
       "      <td>0.0</td>\n",
       "      <td>0.0</td>\n",
       "      <td>0.0</td>\n",
       "      <td>0.0</td>\n",
       "      <td>0.0</td>\n",
       "      <td>0.0</td>\n",
       "      <td>0.0</td>\n",
       "      <td>0.0</td>\n",
       "      <td>0.0</td>\n",
       "      <td>0.0</td>\n",
       "      <td>0.0</td>\n",
       "      <td>0.0</td>\n",
       "      <td>0.0</td>\n",
       "      <td>0.0</td>\n",
       "      <td>0.0</td>\n",
       "      <td>0.0</td>\n",
       "      <td>0.0</td>\n",
       "      <td>0.0</td>\n",
       "      <td>0.0</td>\n",
       "      <td>0.0</td>\n",
       "      <td>0.0</td>\n",
       "      <td>0.0</td>\n",
       "      <td>0.0</td>\n",
       "      <td>0.0</td>\n",
       "      <td>0.0</td>\n",
       "      <td>0.0</td>\n",
       "      <td>0.0</td>\n",
       "      <td>0.0</td>\n",
       "      <td>0.0</td>\n",
       "      <td>0.0</td>\n",
       "      <td>0.0</td>\n",
       "      <td>0.0</td>\n",
       "      <td>0.0</td>\n",
       "      <td>0.0</td>\n",
       "      <td>0.0</td>\n",
       "      <td>0.0</td>\n",
       "      <td>0.0</td>\n",
       "      <td>0.0</td>\n",
       "      <td>0.0</td>\n",
       "      <td>0.0</td>\n",
       "      <td>0.0</td>\n",
       "      <td>0.0</td>\n",
       "      <td>0.0</td>\n",
       "      <td>0.0</td>\n",
       "      <td>0.0</td>\n",
       "      <td>0.0</td>\n",
       "      <td>0.0</td>\n",
       "      <td>0.0</td>\n",
       "      <td>0.0</td>\n",
       "      <td>0.0</td>\n",
       "      <td>0.0</td>\n",
       "      <td>0.0</td>\n",
       "      <td>0.0</td>\n",
       "      <td>0.0</td>\n",
       "      <td>0.0</td>\n",
       "      <td>0.0</td>\n",
       "      <td>0.0</td>\n",
       "      <td>0.0</td>\n",
       "      <td>0.0</td>\n",
       "      <td>0.0</td>\n",
       "      <td>0.0</td>\n",
       "      <td>0.0</td>\n",
       "      <td>0.0</td>\n",
       "      <td>0.0</td>\n",
       "      <td>0.0</td>\n",
       "      <td>0.0</td>\n",
       "      <td>0.0</td>\n",
       "      <td>0.0</td>\n",
       "      <td>0.0</td>\n",
       "      <td>0.0</td>\n",
       "      <td>0.0</td>\n",
       "      <td>0.0</td>\n",
       "      <td>0.0</td>\n",
       "      <td>0.0</td>\n",
       "      <td>0.0</td>\n",
       "      <td>0.0</td>\n",
       "      <td>0.0</td>\n",
       "      <td>0.0</td>\n",
       "      <td>0.0</td>\n",
       "      <td>0.0</td>\n",
       "      <td>0.0</td>\n",
       "      <td>0.0</td>\n",
       "      <td>0.0</td>\n",
       "      <td>0.0</td>\n",
       "      <td>0.0</td>\n",
       "      <td>0.0</td>\n",
       "      <td>0.0</td>\n",
       "      <td>0.0</td>\n",
       "      <td>0.0</td>\n",
       "      <td>0.0</td>\n",
       "      <td>0.0</td>\n",
       "      <td>0.0</td>\n",
       "      <td>0.0</td>\n",
       "      <td>0.0</td>\n",
       "      <td>0.0</td>\n",
       "      <td>0.0</td>\n",
       "      <td>0.0</td>\n",
       "      <td>0.0</td>\n",
       "      <td>0.0</td>\n",
       "      <td>0.0</td>\n",
       "      <td>0.0</td>\n",
       "      <td>0.0</td>\n",
       "      <td>0.0</td>\n",
       "      <td>0.0</td>\n",
       "      <td>0.0</td>\n",
       "      <td>0.0</td>\n",
       "      <td>0.0</td>\n",
       "      <td>0.0</td>\n",
       "      <td>0.0</td>\n",
       "      <td>0.0</td>\n",
       "      <td>0.0</td>\n",
       "      <td>0.0</td>\n",
       "      <td>0.0</td>\n",
       "      <td>5.0</td>\n",
       "      <td>0.0</td>\n",
       "      <td>2.0</td>\n",
       "      <td>0.0</td>\n",
       "      <td>0.0</td>\n",
       "      <td>0.0</td>\n",
       "      <td>[12/05/2017, 10/29/2017]</td>\n",
       "      <td>2</td>\n",
       "      <td>0.0</td>\n",
       "      <td>924.0</td>\n",
       "      <td>37.0</td>\n",
       "      <td>0.0</td>\n",
       "      <td>6674944.0</td>\n",
       "      <td>189934.0</td>\n",
       "      <td>0.0</td>\n",
       "      <td>0.0</td>\n",
       "      <td>0.0</td>\n",
       "      <td>0.0</td>\n",
       "      <td>0.0</td>\n",
       "      <td>0.0</td>\n",
       "      <td>0.0</td>\n",
       "      <td>0.0</td>\n",
       "      <td>0.0</td>\n",
       "      <td>0.0</td>\n",
       "      <td>0.0</td>\n",
       "      <td>0.0</td>\n",
       "      <td>1.0</td>\n",
       "      <td>0.0</td>\n",
       "      <td>0.0</td>\n",
       "      <td>0.0</td>\n",
       "      <td>0.0</td>\n",
       "      <td>0.0</td>\n",
       "      <td>0.0</td>\n",
       "      <td>0.0</td>\n",
       "      <td>0.0</td>\n",
       "      <td>0.0</td>\n",
       "      <td>0.0</td>\n",
       "      <td>0.0</td>\n",
       "      <td>0.0</td>\n",
       "      <td>0.0</td>\n",
       "      <td>0.0</td>\n",
       "      <td>0.0</td>\n",
       "      <td>0.0</td>\n",
       "      <td>0.0</td>\n",
       "      <td>0.0</td>\n",
       "      <td>12</td>\n",
       "      <td>1.0</td>\n",
       "      <td>Finland</td>\n",
       "      <td>5</td>\n",
       "      <td>643</td>\n",
       "      <td>564.231579</td>\n",
       "      <td>475</td>\n",
       "      <td>-0.964698</td>\n",
       "      <td>1141.0</td>\n",
       "      <td>-0.401605</td>\n",
       "      <td>-0.712646</td>\n",
       "      <td>1.353684</td>\n",
       "    </tr>\n",
       "  </tbody>\n",
       "</table>\n",
       "</div>"
      ],
      "text/plain": [
       "  Restaurant_id      City                                      Cuisine Style  \\\n",
       "0          id_0     Paris                                         [Bar, Pub]   \n",
       "1          id_1  Helsinki  [European, Scandinavian, Gluten Free Options, ...   \n",
       "\n",
       "   Ranking Price Range  Number_of_Reviews  \\\n",
       "0  12963.0    $$ - $$$                4.0   \n",
       "1    106.0    $$ - $$$               97.0   \n",
       "\n",
       "                                             Reviews  \\\n",
       "0                                           [[], []]   \n",
       "1  [['Very good reviews!', 'Fine dining in Hakani...   \n",
       "\n",
       "                                              URL_TA      ID_TA  Sample  \\\n",
       "0  /Restaurant_Review-g187147-d10746918-Reviews-L...  d10746918       0   \n",
       "1  /Restaurant_Review-g189934-d6674944-Reviews-Ra...   d6674944       0   \n",
       "\n",
       "   Rating  code_Restaurant_id  NAN_Cuisine Style  code_Cuisine Style  \\\n",
       "0     0.0                 0.0                0.0                1778   \n",
       "1     0.0                 1.0                0.0                4076   \n",
       "\n",
       "   unique_Cuisine_Style  Bar  Pub  European  Scandinavian  \\\n",
       "0                   0.0  1.0  1.0       0.0           0.0   \n",
       "1                   0.0  0.0  0.0       1.0           1.0   \n",
       "\n",
       "   Gluten Free Options  Vegetarian Friendly  Vegan Options  Italian  \\\n",
       "0                  0.0                  0.0            0.0      0.0   \n",
       "1                  1.0                  1.0            1.0      0.0   \n",
       "\n",
       "   Mediterranean  Seafood  French  Cafe  Fast Food  Portuguese  Other  Greek  \\\n",
       "0            0.0      0.0     0.0   0.0        0.0         0.0    0.0    0.0   \n",
       "1            0.0      0.0     0.0   0.0        0.0         0.0    0.0    0.0   \n",
       "\n",
       "   Czech  Eastern European  Central European  Pizza  British  Spanish  \\\n",
       "0    0.0               0.0               0.0    0.0      0.0      0.0   \n",
       "1    0.0               0.0               0.0    0.0      0.0      0.0   \n",
       "\n",
       "   Norwegian  African  Moroccan  Middle Eastern  Halal  Indian  Thai  Dutch  \\\n",
       "0        0.0      0.0       0.0             0.0    0.0     0.0   0.0    0.0   \n",
       "1        0.0      0.0       0.0             0.0    0.0     0.0   0.0    0.0   \n",
       "\n",
       "   Welsh  American  Steakhouse  Soups  Scottish  Fusion  Street Food  \\\n",
       "0    0.0       0.0         0.0    0.0       0.0     0.0          0.0   \n",
       "1    0.0       0.0         0.0    0.0       0.0     0.0          0.0   \n",
       "\n",
       "   Hungarian  Asian  Wine Bar  Barbecue  Central American  Peruvian  \\\n",
       "0        0.0    0.0       0.0       0.0               0.0       0.0   \n",
       "1        0.0    0.0       0.0       0.0               0.0       0.0   \n",
       "\n",
       "   South American  Irish  Polish  Vietnamese  Lebanese  Turkish  Healthy  \\\n",
       "0             0.0    0.0     0.0         0.0       0.0      0.0      0.0   \n",
       "1             0.0    0.0     0.0         0.0       0.0      0.0      0.0   \n",
       "\n",
       "   Japanese  Sushi  Austrian  Chinese  Danish  International  Gastropub  \\\n",
       "0       0.0    0.0       0.0      0.0     0.0            0.0        0.0   \n",
       "1       0.0    0.0       0.0      0.0     0.0            0.0        0.0   \n",
       "\n",
       "   Korean  German  Contemporary  Arabic  Diner  Swiss  Swedish  Persian  \\\n",
       "0     0.0     0.0           0.0     0.0    0.0    0.0      0.0      0.0   \n",
       "1     0.0     0.0           0.0     0.0    0.0    0.0      0.0      0.0   \n",
       "\n",
       "   Australian  Grill  Mexican  Latin  Belgian  Argentinean  Tunisian  Russian  \\\n",
       "0         0.0    0.0      0.0    0.0      0.0          0.0       0.0      0.0   \n",
       "1         0.0    0.0      0.0    0.0      0.0          0.0       0.0      0.0   \n",
       "\n",
       "   Nepali  Bangladeshi  Colombian  Sri Lankan  Pakistani  Brew Pub  Israeli  \\\n",
       "0     0.0          0.0        0.0         0.0        0.0       0.0      0.0   \n",
       "1     0.0          0.0        0.0         0.0        0.0       0.0      0.0   \n",
       "\n",
       "   Brazilian  Delicatessen  Kosher  Ethiopian  Taiwanese  Indonesian  \\\n",
       "0        0.0           0.0     0.0        0.0        0.0         0.0   \n",
       "1        0.0           0.0     0.0        0.0        0.0         0.0   \n",
       "\n",
       "   Malaysian  Venezuelan  Balti  Armenian  Slovenian  Caribbean  Jamaican  \\\n",
       "0        0.0         0.0    0.0       0.0        0.0        0.0       0.0   \n",
       "1        0.0         0.0    0.0       0.0        0.0        0.0       0.0   \n",
       "\n",
       "   Ecuadorean  Chilean  Hawaiian  Minority Chinese  Croatian  Cambodian  \\\n",
       "0         0.0      0.0       0.0               0.0       0.0        0.0   \n",
       "1         0.0      0.0       0.0               0.0       0.0        0.0   \n",
       "\n",
       "   Afghani  Tibetan  Romanian  Southwestern  Mongolian  Cajun & Creole  \\\n",
       "0      0.0      0.0       0.0           0.0        0.0             0.0   \n",
       "1      0.0      0.0       0.0           0.0        0.0             0.0   \n",
       "\n",
       "   Singaporean  Filipino  Cuban  Native American  Canadian  Egyptian  \\\n",
       "0          0.0       0.0    0.0              0.0       0.0       0.0   \n",
       "1          0.0       0.0    0.0              0.0       0.0       0.0   \n",
       "\n",
       "   Azerbaijani  Georgian  Yunnan  New Zealand  Ukrainian  Albanian  \\\n",
       "0          0.0       0.0     0.0          0.0        0.0       0.0   \n",
       "1          0.0       0.0     0.0          0.0        0.0       0.0   \n",
       "\n",
       "   Central Asian  Polynesian  Caucasian  Uzbek  Salvadoran  Xinjiang  Burmese  \\\n",
       "0            0.0         0.0        0.0    0.0         0.0       0.0      0.0   \n",
       "1            0.0         0.0        0.0    0.0         0.0       0.0      0.0   \n",
       "\n",
       "   Fujian  Latvian  count_Cuisine_Style  NaN_Price Range  Price_Range  \\\n",
       "0     0.0      0.0                  2.0              0.0          2.0   \n",
       "1     0.0      0.0                  5.0              0.0          2.0   \n",
       "\n",
       "   NAN_Number of Reviews  outliers_Number_of_Reviews  empty_Reviews  \\\n",
       "0                    0.0                         0.0            1.0   \n",
       "1                    0.0                         0.0            0.0   \n",
       "\n",
       "             date_of_Review  len_date  one_Review  day_to_now  \\\n",
       "0                        []         0         0.0         NaN   \n",
       "1  [12/05/2017, 10/29/2017]         2         0.0       924.0   \n",
       "\n",
       "   day_between_Reviews  out_day_between_Reviews  code_ID_TA  \\\n",
       "0                  NaN                      0.0  10746918.0   \n",
       "1                 37.0                      0.0   6674944.0   \n",
       "\n",
       "   code_after_g_URL_TA  Amsterdam  Athens  Barcelona  Berlin  Bratislava  \\\n",
       "0             187147.0        0.0     0.0        0.0     0.0         0.0   \n",
       "1             189934.0        0.0     0.0        0.0     0.0         0.0   \n",
       "\n",
       "   Brussels  Budapest  Copenhagen  Dublin  Edinburgh  Geneva  Hamburg  \\\n",
       "0       0.0       0.0         0.0     0.0        0.0     0.0      0.0   \n",
       "1       0.0       0.0         0.0     0.0        0.0     0.0      0.0   \n",
       "\n",
       "   Helsinki  Krakow  Lisbon  Ljubljana  London  Luxembourg  Lyon  Madrid  \\\n",
       "0       0.0     0.0     0.0        0.0     0.0         0.0   0.0     0.0   \n",
       "1       1.0     0.0     0.0        0.0     0.0         0.0   0.0     0.0   \n",
       "\n",
       "   Milan  Munich  Oporto  Oslo  Paris  Prague  Rome  Stockholm  Vienna  \\\n",
       "0    0.0     0.0     0.0   0.0    1.0     0.0   0.0        0.0     0.0   \n",
       "1    0.0     0.0     0.0   0.0    0.0     0.0   0.0        0.0     0.0   \n",
       "\n",
       "   Warsaw  Zurich  code_City  Capital_City  Сountry  code_Сountry  \\\n",
       "0     0.0     0.0         24           1.0   France             6   \n",
       "1     0.0     0.0         12           1.0  Finland             5   \n",
       "\n",
       "   Сity_population  mean_Ranking_on_City  count_Restorant_in_City  \\\n",
       "0             2206           6938.557138                     6108   \n",
       "1              643            564.231579                      475   \n",
       "\n",
       "   norm_Ranking_on_Rest_in_City  max_Ranking_on_City  \\\n",
       "0                      0.986320              13986.0   \n",
       "1                     -0.964698               1141.0   \n",
       "\n",
       "   norm_Ranking_on_maxRank_in_City  norm_Ranking_on_Popul_in_City  \\\n",
       "0                         0.430748                       2.730935   \n",
       "1                        -0.401605                      -0.712646   \n",
       "\n",
       "   norm_Population_on_Rest  \n",
       "0                 0.361166  \n",
       "1                 1.353684  "
      ]
     },
     "metadata": {},
     "output_type": "display_data"
    }
   ],
   "source": [
    "display(df.head(2))"
   ]
  },
  {
   "cell_type": "markdown",
   "metadata": {},
   "source": [
    "### Удаление не числовых столбцов"
   ]
  },
  {
   "cell_type": "code",
   "execution_count": 54,
   "metadata": {},
   "outputs": [],
   "source": [
    "df.drop(['Restaurant_id', 'City', 'Cuisine Style', 'Price Range', 'Reviews', 'URL_TA', 'ID_TA', 'date_of_Review', 'len_date', 'Сountry', 'Сity_population', 'mean_Ranking_on_City', 'count_Restorant_in_City', 'max_Ranking_on_City', ], axis=1, inplace=True, errors='ignore')"
   ]
  },
  {
   "cell_type": "markdown",
   "metadata": {},
   "source": [
    "### Стандартизируем и заполняем нулями пропуски по всем переменным"
   ]
  },
  {
   "cell_type": "code",
   "execution_count": 55,
   "metadata": {},
   "outputs": [],
   "source": [
    "# функция для стандартизации\n",
    "def StandardScaler_column(d_col):\n",
    "    scaler = StandardScaler()\n",
    "    scaler.fit(df[[d_col]])\n",
    "    return scaler.transform(df[[d_col]])\n",
    "# стандартизируем все столбцы кроме целевой и Sample\n",
    "for i  in list(df.columns):\n",
    "    if i not in ['Rating','Sample']:\n",
    "        df[i] = StandardScaler_column(i)\n",
    "        if len(df[df[i].isna()]) < len(df):\n",
    "            df[i] = df[i].fillna(0)"
   ]
  },
  {
   "cell_type": "code",
   "execution_count": 56,
   "metadata": {},
   "outputs": [
    {
     "data": {
      "text/html": [
       "<div>\n",
       "<style scoped>\n",
       "    .dataframe tbody tr th:only-of-type {\n",
       "        vertical-align: middle;\n",
       "    }\n",
       "\n",
       "    .dataframe tbody tr th {\n",
       "        vertical-align: top;\n",
       "    }\n",
       "\n",
       "    .dataframe thead th {\n",
       "        text-align: right;\n",
       "    }\n",
       "</style>\n",
       "<table border=\"1\" class=\"dataframe\">\n",
       "  <thead>\n",
       "    <tr style=\"text-align: right;\">\n",
       "      <th></th>\n",
       "      <th>Ranking</th>\n",
       "      <th>Number_of_Reviews</th>\n",
       "      <th>Sample</th>\n",
       "      <th>Rating</th>\n",
       "      <th>code_Restaurant_id</th>\n",
       "      <th>NAN_Cuisine Style</th>\n",
       "      <th>code_Cuisine Style</th>\n",
       "      <th>unique_Cuisine_Style</th>\n",
       "      <th>Bar</th>\n",
       "      <th>Pub</th>\n",
       "      <th>European</th>\n",
       "      <th>Scandinavian</th>\n",
       "      <th>Gluten Free Options</th>\n",
       "      <th>Vegetarian Friendly</th>\n",
       "      <th>Vegan Options</th>\n",
       "      <th>Italian</th>\n",
       "      <th>Mediterranean</th>\n",
       "      <th>Seafood</th>\n",
       "      <th>French</th>\n",
       "      <th>Cafe</th>\n",
       "      <th>Fast Food</th>\n",
       "      <th>Portuguese</th>\n",
       "      <th>Other</th>\n",
       "      <th>Greek</th>\n",
       "      <th>Czech</th>\n",
       "      <th>Eastern European</th>\n",
       "      <th>Central European</th>\n",
       "      <th>Pizza</th>\n",
       "      <th>British</th>\n",
       "      <th>Spanish</th>\n",
       "      <th>Norwegian</th>\n",
       "      <th>African</th>\n",
       "      <th>Moroccan</th>\n",
       "      <th>Middle Eastern</th>\n",
       "      <th>Halal</th>\n",
       "      <th>Indian</th>\n",
       "      <th>Thai</th>\n",
       "      <th>Dutch</th>\n",
       "      <th>Welsh</th>\n",
       "      <th>American</th>\n",
       "      <th>Steakhouse</th>\n",
       "      <th>Soups</th>\n",
       "      <th>Scottish</th>\n",
       "      <th>Fusion</th>\n",
       "      <th>Street Food</th>\n",
       "      <th>Hungarian</th>\n",
       "      <th>Asian</th>\n",
       "      <th>Wine Bar</th>\n",
       "      <th>Barbecue</th>\n",
       "      <th>Central American</th>\n",
       "      <th>Peruvian</th>\n",
       "      <th>South American</th>\n",
       "      <th>Irish</th>\n",
       "      <th>Polish</th>\n",
       "      <th>Vietnamese</th>\n",
       "      <th>Lebanese</th>\n",
       "      <th>Turkish</th>\n",
       "      <th>Healthy</th>\n",
       "      <th>Japanese</th>\n",
       "      <th>Sushi</th>\n",
       "      <th>Austrian</th>\n",
       "      <th>Chinese</th>\n",
       "      <th>Danish</th>\n",
       "      <th>International</th>\n",
       "      <th>Gastropub</th>\n",
       "      <th>Korean</th>\n",
       "      <th>German</th>\n",
       "      <th>Contemporary</th>\n",
       "      <th>Arabic</th>\n",
       "      <th>Diner</th>\n",
       "      <th>Swiss</th>\n",
       "      <th>Swedish</th>\n",
       "      <th>Persian</th>\n",
       "      <th>Australian</th>\n",
       "      <th>Grill</th>\n",
       "      <th>Mexican</th>\n",
       "      <th>Latin</th>\n",
       "      <th>Belgian</th>\n",
       "      <th>Argentinean</th>\n",
       "      <th>Tunisian</th>\n",
       "      <th>Russian</th>\n",
       "      <th>Nepali</th>\n",
       "      <th>Bangladeshi</th>\n",
       "      <th>Colombian</th>\n",
       "      <th>Sri Lankan</th>\n",
       "      <th>Pakistani</th>\n",
       "      <th>Brew Pub</th>\n",
       "      <th>Israeli</th>\n",
       "      <th>Brazilian</th>\n",
       "      <th>Delicatessen</th>\n",
       "      <th>Kosher</th>\n",
       "      <th>Ethiopian</th>\n",
       "      <th>Taiwanese</th>\n",
       "      <th>Indonesian</th>\n",
       "      <th>Malaysian</th>\n",
       "      <th>Venezuelan</th>\n",
       "      <th>Balti</th>\n",
       "      <th>Armenian</th>\n",
       "      <th>Slovenian</th>\n",
       "      <th>Caribbean</th>\n",
       "      <th>Jamaican</th>\n",
       "      <th>Ecuadorean</th>\n",
       "      <th>Chilean</th>\n",
       "      <th>Hawaiian</th>\n",
       "      <th>Minority Chinese</th>\n",
       "      <th>Croatian</th>\n",
       "      <th>Cambodian</th>\n",
       "      <th>Afghani</th>\n",
       "      <th>Tibetan</th>\n",
       "      <th>Romanian</th>\n",
       "      <th>Southwestern</th>\n",
       "      <th>Mongolian</th>\n",
       "      <th>Cajun &amp; Creole</th>\n",
       "      <th>Singaporean</th>\n",
       "      <th>Filipino</th>\n",
       "      <th>Cuban</th>\n",
       "      <th>Native American</th>\n",
       "      <th>Canadian</th>\n",
       "      <th>Egyptian</th>\n",
       "      <th>Azerbaijani</th>\n",
       "      <th>Georgian</th>\n",
       "      <th>Yunnan</th>\n",
       "      <th>New Zealand</th>\n",
       "      <th>Ukrainian</th>\n",
       "      <th>Albanian</th>\n",
       "      <th>Central Asian</th>\n",
       "      <th>Polynesian</th>\n",
       "      <th>Caucasian</th>\n",
       "      <th>Uzbek</th>\n",
       "      <th>Salvadoran</th>\n",
       "      <th>Xinjiang</th>\n",
       "      <th>Burmese</th>\n",
       "      <th>Fujian</th>\n",
       "      <th>Latvian</th>\n",
       "      <th>count_Cuisine_Style</th>\n",
       "      <th>NaN_Price Range</th>\n",
       "      <th>Price_Range</th>\n",
       "      <th>NAN_Number of Reviews</th>\n",
       "      <th>outliers_Number_of_Reviews</th>\n",
       "      <th>empty_Reviews</th>\n",
       "      <th>one_Review</th>\n",
       "      <th>day_to_now</th>\n",
       "      <th>day_between_Reviews</th>\n",
       "      <th>out_day_between_Reviews</th>\n",
       "      <th>code_ID_TA</th>\n",
       "      <th>code_after_g_URL_TA</th>\n",
       "      <th>Amsterdam</th>\n",
       "      <th>Athens</th>\n",
       "      <th>Barcelona</th>\n",
       "      <th>Berlin</th>\n",
       "      <th>Bratislava</th>\n",
       "      <th>Brussels</th>\n",
       "      <th>Budapest</th>\n",
       "      <th>Copenhagen</th>\n",
       "      <th>Dublin</th>\n",
       "      <th>Edinburgh</th>\n",
       "      <th>Geneva</th>\n",
       "      <th>Hamburg</th>\n",
       "      <th>Helsinki</th>\n",
       "      <th>Krakow</th>\n",
       "      <th>Lisbon</th>\n",
       "      <th>Ljubljana</th>\n",
       "      <th>London</th>\n",
       "      <th>Luxembourg</th>\n",
       "      <th>Lyon</th>\n",
       "      <th>Madrid</th>\n",
       "      <th>Milan</th>\n",
       "      <th>Munich</th>\n",
       "      <th>Oporto</th>\n",
       "      <th>Oslo</th>\n",
       "      <th>Paris</th>\n",
       "      <th>Prague</th>\n",
       "      <th>Rome</th>\n",
       "      <th>Stockholm</th>\n",
       "      <th>Vienna</th>\n",
       "      <th>Warsaw</th>\n",
       "      <th>Zurich</th>\n",
       "      <th>code_City</th>\n",
       "      <th>Capital_City</th>\n",
       "      <th>code_Сountry</th>\n",
       "      <th>norm_Ranking_on_Rest_in_City</th>\n",
       "      <th>norm_Ranking_on_maxRank_in_City</th>\n",
       "      <th>norm_Ranking_on_Popul_in_City</th>\n",
       "      <th>norm_Population_on_Rest</th>\n",
       "    </tr>\n",
       "  </thead>\n",
       "  <tbody>\n",
       "    <tr>\n",
       "      <th>count</th>\n",
       "      <td>50000.0</td>\n",
       "      <td>50000.0</td>\n",
       "      <td>50000.0</td>\n",
       "      <td>50000.0</td>\n",
       "      <td>50000.0</td>\n",
       "      <td>50000.0</td>\n",
       "      <td>50000.0</td>\n",
       "      <td>50000.0</td>\n",
       "      <td>50000.0</td>\n",
       "      <td>50000.0</td>\n",
       "      <td>50000.0</td>\n",
       "      <td>50000.0</td>\n",
       "      <td>50000.0</td>\n",
       "      <td>50000.0</td>\n",
       "      <td>50000.0</td>\n",
       "      <td>50000.0</td>\n",
       "      <td>50000.0</td>\n",
       "      <td>50000.0</td>\n",
       "      <td>50000.0</td>\n",
       "      <td>50000.0</td>\n",
       "      <td>50000.0</td>\n",
       "      <td>50000.0</td>\n",
       "      <td>50000.0</td>\n",
       "      <td>50000.0</td>\n",
       "      <td>50000.0</td>\n",
       "      <td>50000.0</td>\n",
       "      <td>50000.0</td>\n",
       "      <td>50000.0</td>\n",
       "      <td>50000.0</td>\n",
       "      <td>50000.0</td>\n",
       "      <td>50000.0</td>\n",
       "      <td>50000.0</td>\n",
       "      <td>50000.0</td>\n",
       "      <td>50000.0</td>\n",
       "      <td>50000.0</td>\n",
       "      <td>50000.0</td>\n",
       "      <td>50000.0</td>\n",
       "      <td>50000.0</td>\n",
       "      <td>50000.0</td>\n",
       "      <td>50000.0</td>\n",
       "      <td>50000.0</td>\n",
       "      <td>50000.0</td>\n",
       "      <td>50000.0</td>\n",
       "      <td>50000.0</td>\n",
       "      <td>50000.0</td>\n",
       "      <td>50000.0</td>\n",
       "      <td>50000.0</td>\n",
       "      <td>50000.0</td>\n",
       "      <td>50000.0</td>\n",
       "      <td>50000.0</td>\n",
       "      <td>50000.0</td>\n",
       "      <td>50000.0</td>\n",
       "      <td>50000.0</td>\n",
       "      <td>50000.0</td>\n",
       "      <td>50000.0</td>\n",
       "      <td>50000.0</td>\n",
       "      <td>50000.0</td>\n",
       "      <td>50000.0</td>\n",
       "      <td>50000.0</td>\n",
       "      <td>50000.0</td>\n",
       "      <td>50000.0</td>\n",
       "      <td>50000.0</td>\n",
       "      <td>50000.0</td>\n",
       "      <td>50000.0</td>\n",
       "      <td>50000.0</td>\n",
       "      <td>50000.0</td>\n",
       "      <td>50000.0</td>\n",
       "      <td>50000.0</td>\n",
       "      <td>50000.0</td>\n",
       "      <td>50000.0</td>\n",
       "      <td>50000.0</td>\n",
       "      <td>50000.0</td>\n",
       "      <td>50000.0</td>\n",
       "      <td>50000.0</td>\n",
       "      <td>50000.0</td>\n",
       "      <td>50000.0</td>\n",
       "      <td>50000.0</td>\n",
       "      <td>50000.0</td>\n",
       "      <td>50000.0</td>\n",
       "      <td>50000.0</td>\n",
       "      <td>50000.0</td>\n",
       "      <td>50000.0</td>\n",
       "      <td>50000.0</td>\n",
       "      <td>50000.0</td>\n",
       "      <td>50000.0</td>\n",
       "      <td>50000.0</td>\n",
       "      <td>50000.0</td>\n",
       "      <td>50000.0</td>\n",
       "      <td>50000.0</td>\n",
       "      <td>50000.0</td>\n",
       "      <td>50000.0</td>\n",
       "      <td>50000.0</td>\n",
       "      <td>50000.0</td>\n",
       "      <td>50000.0</td>\n",
       "      <td>50000.0</td>\n",
       "      <td>50000.0</td>\n",
       "      <td>50000.0</td>\n",
       "      <td>50000.0</td>\n",
       "      <td>50000.0</td>\n",
       "      <td>50000.0</td>\n",
       "      <td>50000.0</td>\n",
       "      <td>50000.0</td>\n",
       "      <td>50000.0</td>\n",
       "      <td>50000.0</td>\n",
       "      <td>50000.0</td>\n",
       "      <td>50000.0</td>\n",
       "      <td>50000.0</td>\n",
       "      <td>50000.0</td>\n",
       "      <td>50000.0</td>\n",
       "      <td>50000.0</td>\n",
       "      <td>50000.0</td>\n",
       "      <td>50000.0</td>\n",
       "      <td>50000.0</td>\n",
       "      <td>50000.0</td>\n",
       "      <td>50000.0</td>\n",
       "      <td>50000.0</td>\n",
       "      <td>50000.0</td>\n",
       "      <td>50000.0</td>\n",
       "      <td>50000.0</td>\n",
       "      <td>50000.0</td>\n",
       "      <td>50000.0</td>\n",
       "      <td>50000.0</td>\n",
       "      <td>50000.0</td>\n",
       "      <td>50000.0</td>\n",
       "      <td>50000.0</td>\n",
       "      <td>50000.0</td>\n",
       "      <td>50000.0</td>\n",
       "      <td>50000.0</td>\n",
       "      <td>50000.0</td>\n",
       "      <td>50000.0</td>\n",
       "      <td>50000.0</td>\n",
       "      <td>50000.0</td>\n",
       "      <td>50000.0</td>\n",
       "      <td>50000.0</td>\n",
       "      <td>50000.0</td>\n",
       "      <td>50000.0</td>\n",
       "      <td>50000.0</td>\n",
       "      <td>50000.0</td>\n",
       "      <td>50000.0</td>\n",
       "      <td>50000.0</td>\n",
       "      <td>50000.0</td>\n",
       "      <td>50000.0</td>\n",
       "      <td>50000.0</td>\n",
       "      <td>50000.0</td>\n",
       "      <td>50000.0</td>\n",
       "      <td>50000.0</td>\n",
       "      <td>50000.0</td>\n",
       "      <td>50000.0</td>\n",
       "      <td>50000.0</td>\n",
       "      <td>50000.0</td>\n",
       "      <td>50000.0</td>\n",
       "      <td>50000.0</td>\n",
       "      <td>50000.0</td>\n",
       "      <td>50000.0</td>\n",
       "      <td>50000.0</td>\n",
       "      <td>50000.0</td>\n",
       "      <td>50000.0</td>\n",
       "      <td>50000.0</td>\n",
       "      <td>50000.0</td>\n",
       "      <td>50000.0</td>\n",
       "      <td>50000.0</td>\n",
       "      <td>50000.0</td>\n",
       "      <td>50000.0</td>\n",
       "      <td>50000.0</td>\n",
       "      <td>50000.0</td>\n",
       "      <td>50000.0</td>\n",
       "      <td>50000.0</td>\n",
       "      <td>50000.0</td>\n",
       "      <td>50000.0</td>\n",
       "      <td>50000.0</td>\n",
       "      <td>50000.0</td>\n",
       "      <td>50000.0</td>\n",
       "      <td>50000.0</td>\n",
       "      <td>50000.0</td>\n",
       "      <td>50000.0</td>\n",
       "      <td>50000.0</td>\n",
       "      <td>50000.0</td>\n",
       "      <td>50000.0</td>\n",
       "      <td>50000.0</td>\n",
       "      <td>50000.0</td>\n",
       "      <td>50000.0</td>\n",
       "      <td>50000.0</td>\n",
       "      <td>50000.0</td>\n",
       "      <td>50000.0</td>\n",
       "    </tr>\n",
       "  </tbody>\n",
       "</table>\n",
       "</div>"
      ],
      "text/plain": [
       "       Ranking  Number_of_Reviews   Sample   Rating  code_Restaurant_id  \\\n",
       "count  50000.0            50000.0  50000.0  50000.0             50000.0   \n",
       "\n",
       "       NAN_Cuisine Style  code_Cuisine Style  unique_Cuisine_Style      Bar  \\\n",
       "count            50000.0             50000.0               50000.0  50000.0   \n",
       "\n",
       "           Pub  European  Scandinavian  Gluten Free Options  \\\n",
       "count  50000.0   50000.0       50000.0              50000.0   \n",
       "\n",
       "       Vegetarian Friendly  Vegan Options  Italian  Mediterranean  Seafood  \\\n",
       "count              50000.0        50000.0  50000.0        50000.0  50000.0   \n",
       "\n",
       "        French     Cafe  Fast Food  Portuguese    Other    Greek    Czech  \\\n",
       "count  50000.0  50000.0    50000.0     50000.0  50000.0  50000.0  50000.0   \n",
       "\n",
       "       Eastern European  Central European    Pizza  British  Spanish  \\\n",
       "count           50000.0           50000.0  50000.0  50000.0  50000.0   \n",
       "\n",
       "       Norwegian  African  Moroccan  Middle Eastern    Halal   Indian  \\\n",
       "count    50000.0  50000.0   50000.0         50000.0  50000.0  50000.0   \n",
       "\n",
       "          Thai    Dutch    Welsh  American  Steakhouse    Soups  Scottish  \\\n",
       "count  50000.0  50000.0  50000.0   50000.0     50000.0  50000.0   50000.0   \n",
       "\n",
       "        Fusion  Street Food  Hungarian    Asian  Wine Bar  Barbecue  \\\n",
       "count  50000.0      50000.0    50000.0  50000.0   50000.0   50000.0   \n",
       "\n",
       "       Central American  Peruvian  South American    Irish   Polish  \\\n",
       "count           50000.0   50000.0         50000.0  50000.0  50000.0   \n",
       "\n",
       "       Vietnamese  Lebanese  Turkish  Healthy  Japanese    Sushi  Austrian  \\\n",
       "count     50000.0   50000.0  50000.0  50000.0   50000.0  50000.0   50000.0   \n",
       "\n",
       "       Chinese   Danish  International  Gastropub   Korean   German  \\\n",
       "count  50000.0  50000.0        50000.0    50000.0  50000.0  50000.0   \n",
       "\n",
       "       Contemporary   Arabic    Diner    Swiss  Swedish  Persian  Australian  \\\n",
       "count       50000.0  50000.0  50000.0  50000.0  50000.0  50000.0     50000.0   \n",
       "\n",
       "         Grill  Mexican    Latin  Belgian  Argentinean  Tunisian  Russian  \\\n",
       "count  50000.0  50000.0  50000.0  50000.0      50000.0   50000.0  50000.0   \n",
       "\n",
       "        Nepali  Bangladeshi  Colombian  Sri Lankan  Pakistani  Brew Pub  \\\n",
       "count  50000.0      50000.0    50000.0     50000.0    50000.0   50000.0   \n",
       "\n",
       "       Israeli  Brazilian  Delicatessen   Kosher  Ethiopian  Taiwanese  \\\n",
       "count  50000.0    50000.0       50000.0  50000.0    50000.0    50000.0   \n",
       "\n",
       "       Indonesian  Malaysian  Venezuelan    Balti  Armenian  Slovenian  \\\n",
       "count     50000.0    50000.0     50000.0  50000.0   50000.0    50000.0   \n",
       "\n",
       "       Caribbean  Jamaican  Ecuadorean  Chilean  Hawaiian  Minority Chinese  \\\n",
       "count    50000.0   50000.0     50000.0  50000.0   50000.0           50000.0   \n",
       "\n",
       "       Croatian  Cambodian  Afghani  Tibetan  Romanian  Southwestern  \\\n",
       "count   50000.0    50000.0  50000.0  50000.0   50000.0       50000.0   \n",
       "\n",
       "       Mongolian  Cajun & Creole  Singaporean  Filipino    Cuban  \\\n",
       "count    50000.0         50000.0      50000.0   50000.0  50000.0   \n",
       "\n",
       "       Native American  Canadian  Egyptian  Azerbaijani  Georgian   Yunnan  \\\n",
       "count          50000.0   50000.0   50000.0      50000.0   50000.0  50000.0   \n",
       "\n",
       "       New Zealand  Ukrainian  Albanian  Central Asian  Polynesian  Caucasian  \\\n",
       "count      50000.0    50000.0   50000.0        50000.0     50000.0    50000.0   \n",
       "\n",
       "         Uzbek  Salvadoran  Xinjiang  Burmese   Fujian  Latvian  \\\n",
       "count  50000.0     50000.0   50000.0  50000.0  50000.0  50000.0   \n",
       "\n",
       "       count_Cuisine_Style  NaN_Price Range  Price_Range  \\\n",
       "count              50000.0          50000.0      50000.0   \n",
       "\n",
       "       NAN_Number of Reviews  outliers_Number_of_Reviews  empty_Reviews  \\\n",
       "count                50000.0                     50000.0        50000.0   \n",
       "\n",
       "       one_Review  day_to_now  day_between_Reviews  out_day_between_Reviews  \\\n",
       "count     50000.0     50000.0              50000.0                  50000.0   \n",
       "\n",
       "       code_ID_TA  code_after_g_URL_TA  Amsterdam   Athens  Barcelona  \\\n",
       "count     50000.0              50000.0    50000.0  50000.0    50000.0   \n",
       "\n",
       "        Berlin  Bratislava  Brussels  Budapest  Copenhagen   Dublin  \\\n",
       "count  50000.0     50000.0   50000.0   50000.0     50000.0  50000.0   \n",
       "\n",
       "       Edinburgh   Geneva  Hamburg  Helsinki   Krakow   Lisbon  Ljubljana  \\\n",
       "count    50000.0  50000.0  50000.0   50000.0  50000.0  50000.0    50000.0   \n",
       "\n",
       "        London  Luxembourg     Lyon   Madrid    Milan   Munich   Oporto  \\\n",
       "count  50000.0     50000.0  50000.0  50000.0  50000.0  50000.0  50000.0   \n",
       "\n",
       "          Oslo    Paris   Prague     Rome  Stockholm   Vienna   Warsaw  \\\n",
       "count  50000.0  50000.0  50000.0  50000.0    50000.0  50000.0  50000.0   \n",
       "\n",
       "        Zurich  code_City  Capital_City  code_Сountry  \\\n",
       "count  50000.0    50000.0       50000.0       50000.0   \n",
       "\n",
       "       norm_Ranking_on_Rest_in_City  norm_Ranking_on_maxRank_in_City  \\\n",
       "count                       50000.0                          50000.0   \n",
       "\n",
       "       norm_Ranking_on_Popul_in_City  norm_Population_on_Rest  \n",
       "count                        50000.0                  50000.0  "
      ]
     },
     "metadata": {},
     "output_type": "display_data"
    }
   ],
   "source": [
    "# проверяем заполнение\n",
    "display(df.describe().head(1))"
   ]
  },
  {
   "cell_type": "markdown",
   "metadata": {},
   "source": [
    "### Разбиваем датасет на тренировочный и тестовый"
   ]
  },
  {
   "cell_type": "code",
   "execution_count": 57,
   "metadata": {},
   "outputs": [],
   "source": [
    "train_data = df.query('Sample == 1').drop(['Sample'], axis=1)\n",
    "test_data = df.query('Sample == 0').drop(['Sample'], axis=1)\n",
    "\n",
    "y = train_data.Rating.values            # наш таргет\n",
    "X = train_data.drop(['Rating'], axis=1)"
   ]
  },
  {
   "cell_type": "code",
   "execution_count": 58,
   "metadata": {},
   "outputs": [],
   "source": [
    "# Воспользуемся специальной функцие train_test_split для разбивки тестовых данных\n",
    "# выделим 20% данных на валидацию (параметр test_size)\n",
    "X_train, X_test, y_train, y_test = train_test_split(X, y, test_size=0.2, random_state=RANDOM_SEED)"
   ]
  },
  {
   "cell_type": "code",
   "execution_count": 59,
   "metadata": {},
   "outputs": [
    {
     "data": {
      "text/plain": [
       "((10000, 183), (40000, 183), (40000, 182), (32000, 182), (8000, 182))"
      ]
     },
     "execution_count": 59,
     "metadata": {},
     "output_type": "execute_result"
    }
   ],
   "source": [
    "# проверяем\n",
    "test_data.shape, train_data.shape, X.shape, X_train.shape, X_test.shape"
   ]
  },
  {
   "cell_type": "markdown",
   "metadata": {},
   "source": [
    "### Обучаем модель, генерируем результат и сравниваем с тестом"
   ]
  },
  {
   "cell_type": "code",
   "execution_count": 60,
   "metadata": {},
   "outputs": [],
   "source": [
    "# Создаём модель (НАСТРОЙКИ НЕ ТРОГАЕМ)\n",
    "model = RandomForestRegressor(n_estimators=100, verbose=1, n_jobs=-1, random_state=RANDOM_SEED)"
   ]
  },
  {
   "cell_type": "code",
   "execution_count": 61,
   "metadata": {},
   "outputs": [
    {
     "name": "stderr",
     "output_type": "stream",
     "text": [
      "[Parallel(n_jobs=-1)]: Using backend ThreadingBackend with 4 concurrent workers.\n",
      "[Parallel(n_jobs=-1)]: Done  42 tasks      | elapsed:   12.0s\n",
      "[Parallel(n_jobs=-1)]: Done 100 out of 100 | elapsed:   28.1s finished\n",
      "[Parallel(n_jobs=4)]: Using backend ThreadingBackend with 4 concurrent workers.\n",
      "[Parallel(n_jobs=4)]: Done  42 tasks      | elapsed:    0.0s\n",
      "[Parallel(n_jobs=4)]: Done 100 out of 100 | elapsed:    0.1s finished\n"
     ]
    }
   ],
   "source": [
    "# Обучаем модель на тестовом наборе данных\n",
    "model.fit(X_train, y_train)\n",
    "\n",
    "# Используем обученную модель для предсказания рейтинга ресторанов в тестовой выборке.\n",
    "# Предсказанные значения записываем в переменную y_pred\n",
    "y_pred = model.predict(X_test)"
   ]
  },
  {
   "cell_type": "code",
   "execution_count": 62,
   "metadata": {},
   "outputs": [],
   "source": [
    "# функция стандартного математического округления\n",
    "def classic_round(d_num):\n",
    "    return int(d_num + (0.5 if d_num > 0 else -0.5))\n",
    "\n",
    "# функция округления кратно 0.5\n",
    "def my_round(d_pred):\n",
    "    result = classic_round(d_pred*2)/2\n",
    "    if result <=5:\n",
    "        return result\n",
    "    else:\n",
    "        return 5\n",
    "    \n",
    "# создание функции для векторов np\n",
    "my_vec_round = np.vectorize(my_round)"
   ]
  },
  {
   "cell_type": "code",
   "execution_count": 63,
   "metadata": {},
   "outputs": [],
   "source": [
    "y_pred = my_vec_round(y_pred)"
   ]
  },
  {
   "cell_type": "code",
   "execution_count": 64,
   "metadata": {},
   "outputs": [
    {
     "name": "stdout",
     "output_type": "stream",
     "text": [
      "MAE: 0.1645625\n"
     ]
    }
   ],
   "source": [
    "# Сравниваем предсказанные значения (y_pred) с реальными (y_test), и смотрим насколько они в среднем отличаются\n",
    "# Метрика называется Mean Absolute Error (MAE) и показывает среднее отклонение предсказанных значений от фактических.\n",
    "MAE = metrics.mean_absolute_error(y_test, y_pred)\n",
    "print('MAE:', MAE)"
   ]
  },
  {
   "cell_type": "code",
   "execution_count": 65,
   "metadata": {},
   "outputs": [
    {
     "data": {
      "text/plain": [
       "<matplotlib.axes._subplots.AxesSubplot at 0x7f3762f4e6d0>"
      ]
     },
     "execution_count": 65,
     "metadata": {},
     "output_type": "execute_result"
    },
    {
     "data": {
      "image/png": "[encoded data removed]",
      "text/plain": [
       "<Figure size 864x720 with 1 Axes>"
      ]
     },
     "metadata": {
      "needs_background": "light"
     },
     "output_type": "display_data"
    }
   ],
   "source": [
    "# в RandomForestRegressor есть возможность вывести самые важные признаки для модели\n",
    "plt.rcParams['figure.figsize'] = (12,10)\n",
    "feat_importances = pd.Series(model.feature_importances_, index=X.columns)\n",
    "feat_importances.nlargest(15).plot(kind='barh')"
   ]
  },
  {
   "cell_type": "markdown",
   "metadata": {},
   "source": [
    "### Проверяем корреляцию важных переменных и применяем метод главных компонент (PCA)"
   ]
  },
  {
   "cell_type": "code",
   "execution_count": 66,
   "metadata": {},
   "outputs": [
    {
     "data": {
      "text/plain": [
       "(15.5, -0.5)"
      ]
     },
     "execution_count": 66,
     "metadata": {},
     "output_type": "execute_result"
    },
    {
     "data": {
      "image/png": "[encoded data removed]",
      "text/plain": [
       "<Figure size 864x432 with 2 Axes>"
      ]
     },
     "metadata": {
      "needs_background": "light"
     },
     "output_type": "display_data"
    }
   ],
   "source": [
    "df_temp = df.loc[df['Sample'] == 1, list(feat_importances.nlargest(15).index[0:15])]\n",
    "plt.rcParams['figure.figsize'] = (12,6)\n",
    "ax = sns.heatmap(df_temp.corr(), annot=True, fmt='.2g')\n",
    "i, k = ax.get_ylim()\n",
    "ax.set_ylim(i+0.5, k-0.5)"
   ]
  },
  {
   "cell_type": "code",
   "execution_count": 67,
   "metadata": {},
   "outputs": [
    {
     "data": {
      "text/html": [
       "<div>\n",
       "<style scoped>\n",
       "    .dataframe tbody tr th:only-of-type {\n",
       "        vertical-align: middle;\n",
       "    }\n",
       "\n",
       "    .dataframe tbody tr th {\n",
       "        vertical-align: top;\n",
       "    }\n",
       "\n",
       "    .dataframe thead th {\n",
       "        text-align: right;\n",
       "    }\n",
       "</style>\n",
       "<table border=\"1\" class=\"dataframe\">\n",
       "  <thead>\n",
       "    <tr style=\"text-align: right;\">\n",
       "      <th></th>\n",
       "      <th>Ranking</th>\n",
       "      <th>code_Restaurant_id</th>\n",
       "    </tr>\n",
       "  </thead>\n",
       "  <tbody>\n",
       "    <tr>\n",
       "      <th>Ranking</th>\n",
       "      <td>1.0</td>\n",
       "      <td>1.0</td>\n",
       "    </tr>\n",
       "    <tr>\n",
       "      <th>code_Restaurant_id</th>\n",
       "      <td>1.0</td>\n",
       "      <td>1.0</td>\n",
       "    </tr>\n",
       "  </tbody>\n",
       "</table>\n",
       "</div>"
      ],
      "text/plain": [
       "                    Ranking  code_Restaurant_id\n",
       "Ranking                 1.0                 1.0\n",
       "code_Restaurant_id      1.0                 1.0"
      ]
     },
     "metadata": {},
     "output_type": "display_data"
    }
   ],
   "source": [
    "list_temp = list(feat_importances.nlargest(15).index[[9,10]])\n",
    "display(df_temp[list_temp].corr())"
   ]
  },
  {
   "cell_type": "code",
   "execution_count": 68,
   "metadata": {},
   "outputs": [],
   "source": [
    "# вспоминаем Резюме по критерию code_Restaurant_id. Удаляем так как была гипотеза о корреляции с Ranking\n",
    "df.drop(['code_Restaurant_id'], axis=1, inplace=True, errors='ignore')"
   ]
  },
  {
   "cell_type": "code",
   "execution_count": 69,
   "metadata": {},
   "outputs": [
    {
     "data": {
      "text/html": [
       "<div>\n",
       "<style scoped>\n",
       "    .dataframe tbody tr th:only-of-type {\n",
       "        vertical-align: middle;\n",
       "    }\n",
       "\n",
       "    .dataframe tbody tr th {\n",
       "        vertical-align: top;\n",
       "    }\n",
       "\n",
       "    .dataframe thead th {\n",
       "        text-align: right;\n",
       "    }\n",
       "</style>\n",
       "<table border=\"1\" class=\"dataframe\">\n",
       "  <thead>\n",
       "    <tr style=\"text-align: right;\">\n",
       "      <th></th>\n",
       "      <th>norm_Ranking_on_maxRank_in_City</th>\n",
       "      <th>norm_Ranking_on_Rest_in_City</th>\n",
       "      <th>norm_Ranking_on_Popul_in_City</th>\n",
       "      <th>code_Restaurant_id</th>\n",
       "    </tr>\n",
       "  </thead>\n",
       "  <tbody>\n",
       "    <tr>\n",
       "      <th>norm_Ranking_on_maxRank_in_City</th>\n",
       "      <td>1.000000</td>\n",
       "      <td>0.999832</td>\n",
       "      <td>0.800703</td>\n",
       "      <td>0.574781</td>\n",
       "    </tr>\n",
       "    <tr>\n",
       "      <th>norm_Ranking_on_Rest_in_City</th>\n",
       "      <td>0.999832</td>\n",
       "      <td>1.000000</td>\n",
       "      <td>0.797947</td>\n",
       "      <td>0.570877</td>\n",
       "    </tr>\n",
       "    <tr>\n",
       "      <th>norm_Ranking_on_Popul_in_City</th>\n",
       "      <td>0.800703</td>\n",
       "      <td>0.797947</td>\n",
       "      <td>1.000000</td>\n",
       "      <td>0.448070</td>\n",
       "    </tr>\n",
       "    <tr>\n",
       "      <th>code_Restaurant_id</th>\n",
       "      <td>0.574781</td>\n",
       "      <td>0.570877</td>\n",
       "      <td>0.448070</td>\n",
       "      <td>1.000000</td>\n",
       "    </tr>\n",
       "  </tbody>\n",
       "</table>\n",
       "</div>"
      ],
      "text/plain": [
       "                                 norm_Ranking_on_maxRank_in_City  \\\n",
       "norm_Ranking_on_maxRank_in_City                         1.000000   \n",
       "norm_Ranking_on_Rest_in_City                            0.999832   \n",
       "norm_Ranking_on_Popul_in_City                           0.800703   \n",
       "code_Restaurant_id                                      0.574781   \n",
       "\n",
       "                                 norm_Ranking_on_Rest_in_City  \\\n",
       "norm_Ranking_on_maxRank_in_City                      0.999832   \n",
       "norm_Ranking_on_Rest_in_City                         1.000000   \n",
       "norm_Ranking_on_Popul_in_City                        0.797947   \n",
       "code_Restaurant_id                                   0.570877   \n",
       "\n",
       "                                 norm_Ranking_on_Popul_in_City  \\\n",
       "norm_Ranking_on_maxRank_in_City                       0.800703   \n",
       "norm_Ranking_on_Rest_in_City                          0.797947   \n",
       "norm_Ranking_on_Popul_in_City                         1.000000   \n",
       "code_Restaurant_id                                    0.448070   \n",
       "\n",
       "                                 code_Restaurant_id  \n",
       "norm_Ranking_on_maxRank_in_City            0.574781  \n",
       "norm_Ranking_on_Rest_in_City               0.570877  \n",
       "norm_Ranking_on_Popul_in_City              0.448070  \n",
       "code_Restaurant_id                         1.000000  "
      ]
     },
     "execution_count": 69,
     "metadata": {},
     "output_type": "execute_result"
    }
   ],
   "source": [
    "list_temp = list(feat_importances.nlargest(15).index[[0,1,6,10]])\n",
    "df_temp[list_temp].corr()"
   ]
  },
  {
   "cell_type": "code",
   "execution_count": 70,
   "metadata": {},
   "outputs": [
    {
     "name": "stdout",
     "output_type": "stream",
     "text": [
      "вектор главных компонент := [0.54791659 0.54681616 0.49296257 0.39719945]\n"
     ]
    }
   ],
   "source": [
    "# Метод главных компонент, PCA\n",
    "C = np.array([\n",
    "    [       1, 0.999832, 0.800703, 0.574781],\n",
    "    [0.999832,        1, 0.796851, 0.570877],\n",
    "    [0.800703, 0.796851,        1, 0.448070],\n",
    "    [0.574781, 0.570877, 0.448070,        1]]) \n",
    "eig_num, eig_v = np.linalg.eig(C)\n",
    "print(f\"вектор главных компонент := {eig_v[:,0]}\")"
   ]
  },
  {
   "cell_type": "code",
   "execution_count": 71,
   "metadata": {},
   "outputs": [],
   "source": [
    "df['norm_Ranking_PCA'] = eig_v[:,0][0]*df['norm_Ranking_on_maxRank_in_City'] + eig_v[:,0][1]*df['norm_Ranking_on_Rest_in_City'] + eig_v[:,0][2]*df['norm_Ranking_on_Popul_in_City']+eig_v[:,0][3]*df['Ranking']"
   ]
  },
  {
   "cell_type": "markdown",
   "metadata": {},
   "source": [
    "### Добавим критерии используя полиномиальный принцип"
   ]
  },
  {
   "cell_type": "code",
   "execution_count": 72,
   "metadata": {},
   "outputs": [],
   "source": [
    "df['Ranking_on_square'] = df['Ranking']* df['Ranking']\n",
    "df['doble_Ranking'] = df['Ranking']"
   ]
  },
  {
   "cell_type": "markdown",
   "metadata": {},
   "source": [
    "### Тестирование оптимального набора критериев"
   ]
  },
  {
   "cell_type": "markdown",
   "metadata": {},
   "source": [
    "описание работы блока тестирования оптимального набора:  \n",
    "1. сохраняем список всех критериев по важности \n",
    "2. перебираем по очереди все критерии и удаляем их по одному из датасета\n",
    "3. после удаления критерия строим модель, считаем МАЕ и записываем результат в лог\n",
    "4. после перебора всех критериев печатаем весь лог и сортируем по возрастанию МАЕ\n",
    "5. выбираем самый минимальный МАЕ удаляем из датасета и повторяем перебор пока МАЕ уменьшается\n",
    "6. формируем список критериев на удаление"
   ]
  },
  {
   "cell_type": "code",
   "execution_count": 73,
   "metadata": {},
   "outputs": [],
   "source": [
    "# блок тестирования закомментирован так как список критериев для удаления с помощью него уже был сгенерирован\n",
    "# # блок тестирования оптимального набора\n",
    "# list_ofAllColumnsSortImportant = list(feat_importances.nlargest(len(train_data.columns)-1).index)\n",
    "# min_MAE = round(MAE,3)\n",
    "# print(f\"min_MAE = {min_MAE}\")\n",
    "# remove_list = []\n",
    "# log = []\n",
    "# delta =0.002\n",
    "# for i in range(0,len(list_ofAllColumnsSortImportant),1):\n",
    "#     col = list_ofAllColumnsSortImportant[i]\n",
    "#     print(f\"{i}.{col}\")\n",
    "#     ###\n",
    "#     train_data = df.query('Sample == 1').drop(['Sample']+drop_list2, axis=1)\n",
    "#     test_data = df.query('Sample == 0').drop(['Sample']+drop_list2, axis=1)\n",
    "\n",
    "#     y = train_data.Rating.values            # наш таргет\n",
    "#     X = train_data.drop(['Rating']+[col], axis=1)\n",
    "\n",
    "#     # Воспользуемся специальной функцие train_test_split для разбивки тестовых данных\n",
    "#     # выделим 20% данных на валидацию (параметр test_size)\n",
    "#     X_train, X_test, y_train, y_test = train_test_split(X, y, test_size=0.2, random_state=RANDOM_SEED)\n",
    "#     print(test_data.shape, train_data.shape, X.shape, X_train.shape, X_test.shape)\n",
    "\n",
    "#     model.fit(X_train, y_train)\n",
    "\n",
    "#     y_pred = model.predict(X_test)\n",
    "\n",
    "#     y_pred = my_vec_round(y_pred)\n",
    "#     temp_MAE = metrics.mean_absolute_error(y_test, y_pred)\n",
    "#     ###\n",
    "#     print(temp_MAE)\n",
    "#     log.append([col, temp_MAE])\n",
    "#     if round(temp_MAE,3) <= min_MAE-delta:\n",
    "#         remove_list.append(col)\n",
    "#         print(f\"удаляем:= {col}\")\n",
    "#     else:\n",
    "#         print(f\"не удаляем:= {col}\")\n",
    "# print(f\"i={i}\")\n",
    "# print(f\"remove_list: {remove_list}\")\n",
    "# print(f\"log_list: {log}\")"
   ]
  },
  {
   "cell_type": "code",
   "execution_count": 74,
   "metadata": {},
   "outputs": [],
   "source": [
    "log_list = ['out_day_between_Reviews', 0.163], ['Ranking', 0.1631875], ['Burmese', 0.163375], ['Georgian', 0.1635], ['Fusion', 0.1635625], ['Balti', 0.1635625], ['Tibetan', 0.1636875], ['norm_Ranking_PCA', 0.16375], ['Scottish', 0.16375], ['Eastern European', 0.16375], ['norm_Ranking_on_Rest_in_City', 0.1638125], ['count_Cuisine_Style', 0.1638125], ['Ethiopian', 0.1638125], ['Minority Chinese', 0.1638125], ['Madrid', 0.163875], ['Portuguese', 0.163875], ['Delicatessen', 0.163875], ['Halal', 0.163875], ['Azerbaijani', 0.163875], ['Caucasian', 0.163875], ['Geneva', 0.1639375], ['Scandinavian', 0.1639375], ['Uzbek', 0.1639375], ['Polynesian', 0.164], ['Price_Range', 0.1640625], ['Healthy', 0.1640625], ['Cuban', 0.1640625], ['Dublin', 0.164125], ['Peruvian', 0.164125], ['Salvadoran', 0.164125], ['Sushi', 0.1641875], ['Central European', 0.1641875], ['Venezuelan', 0.1641875], ['Capital_City', 0.16425], ['Gluten Free Options', 0.16425], ['Athens', 0.16425], ['Lebanese', 0.16425], ['Brew Pub', 0.16425], ['Taiwanese', 0.16425], ['Spanish', 0.1643125], ['African', 0.1643125], ['Lisbon', 0.1643125], ['Russian', 0.1643125], ['Central Asian', 0.1643125], ['Singaporean', 0.1643125], ['code_Сountry', 0.164375], ['Italian', 0.164375], ['Wine Bar', 0.164375], ['Barcelona', 0.164375], ['Diner', 0.164375], ['Arabic', 0.164375], ['Filipino', 0.164375], ['Xinjiang', 0.164375], ['Krakow', 0.1644375], ['Lyon', 0.1644375], ['London', 0.1644375], ['unique_Cuisine_Style', 0.1644375], ['European', 0.1645], ['Oporto', 0.1645], ['Contemporary', 0.1645], ['Vienna', 0.1645], ['Croatian', 0.1645], ['Romanian', 0.1645], ['Southwestern', 0.1645], ['Cambodian', 0.1645], ['Vegetarian Friendly', 0.1645625], ['Milan', 0.1645625], ['Egyptian', 0.1645625], ['Fujian', 0.1645625], ['Ranking_on_square', 0.164625], ['German', 0.164625], ['Thai', 0.164625], ['Brussels', 0.164625], ['Cajun & Creole', 0.164625], ['Colombian', 0.164625], ['Kosher', 0.164625], ['Indian', 0.1646875], ['Oslo', 0.1646875], ['Ecuadorean', 0.1646875], ['Latvian', 0.1646875], ['Fast Food', 0.16475], ['Grill', 0.16475], ['Prague', 0.16475], ['Czech', 0.16475], ['New Zealand', 0.16475], ['French', 0.1648125], ['Ljubljana', 0.1648125], ['Argentinean', 0.1648125], ['Stockholm', 0.164875], ['South American', 0.164875], ['Moroccan', 0.164875], ['Jamaican', 0.164875], ['Native American', 0.164875], ['Bar', 0.1649375], ['Asian', 0.1649375], ['Belgian', 0.1649375], ['Luxembourg', 0.1649375], ['Irish', 0.1649375], ['Rome', 0.165], ['Mediterranean', 0.165], ['Vietnamese', 0.165], ['Sri Lankan', 0.165], ['Afghani', 0.165], ['Seafood', 0.1650625], ['Budapest', 0.1650625], ['Hungarian', 0.1650625], ['Vegan Options', 0.165125], ['Chilean', 0.165125], ['Pub', 0.1651875], ['NAN_Cuisine Style', 0.1651875], ['Polish', 0.1651875], ['code_after_g_URL_TA', 0.16525], ['Street Food', 0.16525], ['Copenhagen', 0.16525], ['Ukrainian', 0.16525], ['Israeli', 0.16525], ['Slovenian', 0.16525], ['Albanian', 0.16525], ['NAN_Number of Reviews', 0.1653125], ['Brazilian', 0.1653125], ['Swedish', 0.1653125], ['Paris', 0.165375], ['Middle Eastern', 0.1654375], ['Munich', 0.1654375], ['Cafe', 0.1655], ['Other', 0.1655], ['Chinese', 0.1655], ['Berlin', 0.1655], ['Pizza', 0.1655625], ['International', 0.1655625], ['Pakistani', 0.1655625], ['Swiss', 0.1655625], ['Norwegian', 0.1655625], ['Bratislava', 0.165625], ['Steakhouse', 0.165625], ['Zurich', 0.165625], ['Mongolian', 0.165625], ['Canadian', 0.165625], ['Dutch', 0.1656875], ['British', 0.1656875], ['Danish', 0.1656875], ['Barbecue', 0.1656875], ['Austrian', 0.1656875], ['Gastropub', 0.16575], ['Nepali', 0.16575], ['Latin', 0.16575], ['Caribbean', 0.16575], ['Helsinki', 0.1658125], ['Armenian', 0.1658125], ['Central American', 0.165875], ['Welsh', 0.165875], ['Edinburgh', 0.1660625], ['norm_Ranking_on_maxRank_in_City', 0.166125], ['Tunisian', 0.166125], ['day_between_Reviews', 0.1661875], ['code_City', 0.166375], ['NaN_Price Range', 0.1666875], ['Greek', 0.1668125], ['day_to_now', 0.1669375], ['code_ID_TA', 0.1691875], ['Number_of_Reviews', 0.2305625]"
   ]
  },
  {
   "cell_type": "code",
   "execution_count": 75,
   "metadata": {},
   "outputs": [],
   "source": [
    "drop_list = ['Australian', 'one_Review', 'outliers_Number_of_Reviews', 'norm_Ranking_on_Popul_in_City', 'Korean', 'Japanese', 'Turkish', 'Malaysian', 'Indonesian', 'Hawaiian', 'code_Cuisine Style', 'norm_Population_on_Rest', 'Amsterdam', 'Hamburg', 'doble_Ranking', 'Warsaw', 'Persian', 'Soups', 'Mexican', 'Bangladeshi', 'Yunnan', 'American', 'empty_Reviews']"
   ]
  },
  {
   "cell_type": "markdown",
   "metadata": {},
   "source": [
    "### Submission"
   ]
  },
  {
   "cell_type": "code",
   "execution_count": 76,
   "metadata": {},
   "outputs": [],
   "source": [
    "train_data = df.query('Sample == 1').drop(['Sample']+drop_list, axis=1)\n",
    "test_data = df.query('Sample == 0').drop(['Sample','Rating']+drop_list, axis=1)\n",
    "y = train_data.Rating.values            # наш таргет\n",
    "X = train_data.drop(['Rating'], axis=1)"
   ]
  },
  {
   "cell_type": "code",
   "execution_count": 77,
   "metadata": {},
   "outputs": [
    {
     "data": {
      "text/html": [
       "<div>\n",
       "<style scoped>\n",
       "    .dataframe tbody tr th:only-of-type {\n",
       "        vertical-align: middle;\n",
       "    }\n",
       "\n",
       "    .dataframe tbody tr th {\n",
       "        vertical-align: top;\n",
       "    }\n",
       "\n",
       "    .dataframe thead th {\n",
       "        text-align: right;\n",
       "    }\n",
       "</style>\n",
       "<table border=\"1\" class=\"dataframe\">\n",
       "  <thead>\n",
       "    <tr style=\"text-align: right;\">\n",
       "      <th></th>\n",
       "      <th>Restaurant_id</th>\n",
       "      <th>Rating</th>\n",
       "    </tr>\n",
       "  </thead>\n",
       "  <tbody>\n",
       "    <tr>\n",
       "      <th>0</th>\n",
       "      <td>id_0</td>\n",
       "      <td>2.0</td>\n",
       "    </tr>\n",
       "    <tr>\n",
       "      <th>1</th>\n",
       "      <td>id_1</td>\n",
       "      <td>2.5</td>\n",
       "    </tr>\n",
       "    <tr>\n",
       "      <th>2</th>\n",
       "      <td>id_2</td>\n",
       "      <td>4.0</td>\n",
       "    </tr>\n",
       "    <tr>\n",
       "      <th>3</th>\n",
       "      <td>id_3</td>\n",
       "      <td>1.0</td>\n",
       "    </tr>\n",
       "    <tr>\n",
       "      <th>4</th>\n",
       "      <td>id_4</td>\n",
       "      <td>4.0</td>\n",
       "    </tr>\n",
       "  </tbody>\n",
       "</table>\n",
       "</div>"
      ],
      "text/plain": [
       "  Restaurant_id  Rating\n",
       "0          id_0     2.0\n",
       "1          id_1     2.5\n",
       "2          id_2     4.0\n",
       "3          id_3     1.0\n",
       "4          id_4     4.0"
      ]
     },
     "execution_count": 77,
     "metadata": {},
     "output_type": "execute_result"
    }
   ],
   "source": [
    "sample_submission = pd.read_csv(path_to_file+'sample_submission.csv')\n",
    "sample_submission.head()"
   ]
  },
  {
   "cell_type": "code",
   "execution_count": 78,
   "metadata": {},
   "outputs": [
    {
     "data": {
      "text/plain": [
       "((10000, 2), (10000, 161), (40000, 161), (40000,))"
      ]
     },
     "execution_count": 78,
     "metadata": {},
     "output_type": "execute_result"
    }
   ],
   "source": [
    "sample_submission.shape, test_data.shape, X.shape, y.shape"
   ]
  },
  {
   "cell_type": "code",
   "execution_count": 79,
   "metadata": {},
   "outputs": [
    {
     "name": "stderr",
     "output_type": "stream",
     "text": [
      "[Parallel(n_jobs=-1)]: Using backend ThreadingBackend with 4 concurrent workers.\n",
      "[Parallel(n_jobs=-1)]: Done  42 tasks      | elapsed:   14.6s\n",
      "[Parallel(n_jobs=-1)]: Done 100 out of 100 | elapsed:   33.1s finished\n"
     ]
    },
    {
     "data": {
      "text/plain": [
       "RandomForestRegressor(n_jobs=-1, random_state=42, verbose=1)"
      ]
     },
     "execution_count": 79,
     "metadata": {},
     "output_type": "execute_result"
    }
   ],
   "source": [
    "model.fit(X, y)"
   ]
  },
  {
   "cell_type": "code",
   "execution_count": 80,
   "metadata": {},
   "outputs": [
    {
     "name": "stderr",
     "output_type": "stream",
     "text": [
      "[Parallel(n_jobs=4)]: Using backend ThreadingBackend with 4 concurrent workers.\n",
      "[Parallel(n_jobs=4)]: Done  42 tasks      | elapsed:    0.0s\n",
      "[Parallel(n_jobs=4)]: Done 100 out of 100 | elapsed:    0.1s finished\n"
     ]
    }
   ],
   "source": [
    "predict_submission = model.predict(test_data)"
   ]
  },
  {
   "cell_type": "code",
   "execution_count": 81,
   "metadata": {},
   "outputs": [
    {
     "data": {
      "text/plain": [
       "array([3., 4., 4., ..., 3., 4., 4.])"
      ]
     },
     "execution_count": 81,
     "metadata": {},
     "output_type": "execute_result"
    }
   ],
   "source": [
    "predict_submission=my_vec_round(predict_submission)\n",
    "predict_submission"
   ]
  },
  {
   "cell_type": "code",
   "execution_count": 82,
   "metadata": {},
   "outputs": [
    {
     "data": {
      "text/html": [
       "<div>\n",
       "<style scoped>\n",
       "    .dataframe tbody tr th:only-of-type {\n",
       "        vertical-align: middle;\n",
       "    }\n",
       "\n",
       "    .dataframe tbody tr th {\n",
       "        vertical-align: top;\n",
       "    }\n",
       "\n",
       "    .dataframe thead th {\n",
       "        text-align: right;\n",
       "    }\n",
       "</style>\n",
       "<table border=\"1\" class=\"dataframe\">\n",
       "  <thead>\n",
       "    <tr style=\"text-align: right;\">\n",
       "      <th></th>\n",
       "      <th>Restaurant_id</th>\n",
       "      <th>Rating</th>\n",
       "    </tr>\n",
       "  </thead>\n",
       "  <tbody>\n",
       "    <tr>\n",
       "      <th>0</th>\n",
       "      <td>id_0</td>\n",
       "      <td>3.0</td>\n",
       "    </tr>\n",
       "    <tr>\n",
       "      <th>1</th>\n",
       "      <td>id_1</td>\n",
       "      <td>4.0</td>\n",
       "    </tr>\n",
       "    <tr>\n",
       "      <th>2</th>\n",
       "      <td>id_2</td>\n",
       "      <td>4.0</td>\n",
       "    </tr>\n",
       "    <tr>\n",
       "      <th>3</th>\n",
       "      <td>id_3</td>\n",
       "      <td>4.5</td>\n",
       "    </tr>\n",
       "    <tr>\n",
       "      <th>4</th>\n",
       "      <td>id_4</td>\n",
       "      <td>4.5</td>\n",
       "    </tr>\n",
       "  </tbody>\n",
       "</table>\n",
       "</div>"
      ],
      "text/plain": [
       "  Restaurant_id  Rating\n",
       "0          id_0     3.0\n",
       "1          id_1     4.0\n",
       "2          id_2     4.0\n",
       "3          id_3     4.5\n",
       "4          id_4     4.5"
      ]
     },
     "execution_count": 82,
     "metadata": {},
     "output_type": "execute_result"
    }
   ],
   "source": [
    "sample_submission['Rating'] = predict_submission\n",
    "sample_submission.to_csv('submission.csv', index=False)\n",
    "sample_submission.head()"
   ]
  },
  {
   "cell_type": "markdown",
   "metadata": {},
   "source": [
    "Спасибо за внимание!  \n",
    "Описание к ноутбуку и его полную версию вы можете увидеть на GitHub\n",
    "https://github.com/alex-sokolov2011/skillfactory_rds/tree/master/module_3"
   ]
  },
  {
   "cell_type": "code",
   "execution_count": null,
   "metadata": {},
   "outputs": [],
   "source": []
  }
 ],
 "metadata": {
  "kernelspec": {
   "display_name": "Python 3",
   "language": "python",
   "name": "python3"
  },
  "language_info": {
   "codemirror_mode": {
    "name": "ipython",
    "version": 3
   },
   "file_extension": ".py",
   "mimetype": "text/x-python",
   "name": "python",
   "nbconvert_exporter": "python",
   "pygments_lexer": "ipython3",
   "version": "3.7.6"
  }
 },
 "nbformat": 4,
 "nbformat_minor": 4
}
