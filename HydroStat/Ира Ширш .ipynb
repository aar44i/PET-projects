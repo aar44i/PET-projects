{
 "cells": [
  {
   "cell_type": "code",
   "execution_count": 1,
   "id": "ef740c48",
   "metadata": {},
   "outputs": [],
   "source": [
    "import pandas as pd"
   ]
  },
  {
   "cell_type": "code",
   "execution_count": 14,
   "id": "e769cc98",
   "metadata": {},
   "outputs": [],
   "source": [
    "df = pd.read_excel('Ира_ширш.xlsx')\n",
    "df_before_1977 = df[df['год'] <= 1977]\n",
    "df_after_1977 = df[df['год'] > 1977]"
   ]
  },
  {
   "cell_type": "code",
   "execution_count": 36,
   "id": "ef2b0786",
   "metadata": {},
   "outputs": [
    {
     "name": "stdout",
     "output_type": "stream",
     "text": [
      "[0.00470716 0.75710181 0.78072568 0.69144495 0.75451039 0.62152209\n",
      " 0.56297843 0.96334985]\n",
      "[0.00470716 0.75710181 0.78072568 0.69144495 0.75451039 0.62152209\n",
      " 0.56297843 0.96334985]\n"
     ]
    }
   ],
   "source": [
    "import pandas as pd\n",
    "from scipy.stats import variation\n",
    "sheet_name = ['19', '22'] # сама пото все добавишь \n",
    "for i in sheet_name:\n",
    "    df = pd.read_excel(open('Ира_2.xlsx', 'rb'),\n",
    "                  sheet_name=i)\n",
    "    df_before_1977 = df[df['год'] <= 1977]\n",
    "    df_after_1977 = df[df['год'] > 1977]\n",
    "    print(variation(df_before_1977))"
   ]
  },
  {
   "cell_type": "code",
   "execution_count": null,
   "id": "d555a8fa",
   "metadata": {},
   "outputs": [],
   "source": []
  }
 ],
 "metadata": {
  "kernelspec": {
   "display_name": "Python 3",
   "language": "python",
   "name": "python3"
  },
  "language_info": {
   "codemirror_mode": {
    "name": "ipython",
    "version": 3
   },
   "file_extension": ".py",
   "mimetype": "text/x-python",
   "name": "python",
   "nbconvert_exporter": "python",
   "pygments_lexer": "ipython3",
   "version": "3.8.8"
  }
 },
 "nbformat": 4,
 "nbformat_minor": 5
}
