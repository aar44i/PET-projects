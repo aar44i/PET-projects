{
 "cells": [
  {
   "cell_type": "code",
   "execution_count": 6,
   "id": "a7f2e058",
   "metadata": {},
   "outputs": [],
   "source": [
    "from os import path "
   ]
  },
  {
   "cell_type": "code",
   "execution_count": 7,
   "id": "f5cda388",
   "metadata": {},
   "outputs": [],
   "source": [
    "dr = r'C:\\Users\\gorba\\DataSciense\\PET-projects\\HydroStat\\first\\first'"
   ]
  },
  {
   "cell_type": "code",
   "execution_count": 8,
   "id": "51e68ea1",
   "metadata": {},
   "outputs": [],
   "source": [
    "fn= path.join(dr, r'34880.txt')"
   ]
  },
  {
   "cell_type": "code",
   "execution_count": null,
   "id": "bada44af",
   "metadata": {},
   "outputs": [],
   "source": []
  },
  {
   "cell_type": "code",
   "execution_count": 9,
   "id": "d4d2073d",
   "metadata": {},
   "outputs": [
    {
     "data": {
      "text/plain": [
       "'C:\\\\Users\\\\gorba\\\\DataSciense\\\\PET-projects\\\\HydroStat\\\\first\\\\first\\\\34880.txt'"
      ]
     },
     "execution_count": 9,
     "metadata": {},
     "output_type": "execute_result"
    }
   ],
   "source": [
    "columns = ['y', 'm', 'd', 'h']\n",
    "df = pd.read_csv(fn, sep = ';', names = columns, in)"
   ]
  },
  {
   "cell_type": "code",
   "execution_count": null,
   "id": "42b24e5f",
   "metadata": {},
   "outputs": [],
   "source": []
  }
 ],
 "metadata": {
  "kernelspec": {
   "display_name": "Python 3",
   "language": "python",
   "name": "python3"
  },
  "language_info": {
   "codemirror_mode": {
    "name": "ipython",
    "version": 3
   },
   "file_extension": ".py",
   "mimetype": "text/x-python",
   "name": "python",
   "nbconvert_exporter": "python",
   "pygments_lexer": "ipython3",
   "version": "3.8.8"
  }
 },
 "nbformat": 4,
 "nbformat_minor": 5
}
