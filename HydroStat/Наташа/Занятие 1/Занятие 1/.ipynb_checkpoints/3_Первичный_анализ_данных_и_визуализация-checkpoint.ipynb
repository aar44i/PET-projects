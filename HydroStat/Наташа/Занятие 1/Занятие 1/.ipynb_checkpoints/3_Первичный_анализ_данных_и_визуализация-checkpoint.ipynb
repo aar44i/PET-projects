{
 "cells": [
  {
   "cell_type": "markdown",
   "metadata": {},
   "source": [
    "# Первичный анализ данных"
   ]
  },
  {
   "cell_type": "markdown",
   "metadata": {},
   "source": [
    "**Pandas** — это библиотека Python, предоставляющая широкие возможности для анализа данных. Данные часто хранятся в форме табличек — например, в форматах .csv, .tsv или .xlsx.\n",
    "\n",
    "+ Основными структурами данных - классы Series и DataFrame. \n",
    "\n",
    "+ Первый из них представляет собой одномерный индексированный массив данных некоторого фиксированного типа.\n",
    "\n",
    "+ Второй – это двухмерная структура данных, представляющая собой таблицу, каждый столбец которой содержит данные одного типа. \n",
    "\n",
    "+ Структура DataFrame отлично подходит для представления реальных данных: строки соответствуют признаковым описаниям отдельных объектов, а столбцы соответствуют признакам."
   ]
  },
  {
   "cell_type": "markdown",
   "metadata": {},
   "source": [
    "### **0. Импорт необходимых пакетов**"
   ]
  },
  {
   "cell_type": "code",
   "execution_count": null,
   "metadata": {},
   "outputs": [],
   "source": [
    "import pandas as pd\n",
    "import numpy as np"
   ]
  },
  {
   "cell_type": "markdown",
   "metadata": {},
   "source": [
    "### **1. Загрузка данных**\n",
    "\n",
    "С помощью метода **read_csv** в Pandas загрузим необходимый файл.\n",
    "\n",
    "**head(n)** - выводит первые n строк таблицы"
   ]
  },
  {
   "cell_type": "code",
   "execution_count": null,
   "metadata": {},
   "outputs": [],
   "source": [
    "data = pd.read_csv('kama_kosa.csv')"
   ]
  },
  {
   "cell_type": "code",
   "execution_count": null,
   "metadata": {},
   "outputs": [],
   "source": [
    "?pd.read_csv"
   ]
  },
  {
   "cell_type": "code",
   "execution_count": null,
   "metadata": {},
   "outputs": [],
   "source": [
    "data.to_csv('example.csv')"
   ]
  },
  {
   "cell_type": "code",
   "execution_count": null,
   "metadata": {},
   "outputs": [],
   "source": [
    "data.head()"
   ]
  },
  {
   "cell_type": "markdown",
   "metadata": {},
   "source": [
    "Видим, что все плохо, потому что установили не те разделители (параметр sep)."
   ]
  },
  {
   "cell_type": "code",
   "execution_count": null,
   "metadata": {},
   "outputs": [],
   "source": [
    "df = pd.read_csv('kama_kosa.csv', sep=\";\")\n",
    "df.date = pd.to_datetime(df.date, format=\"%d.%m.%Y\")\n",
    "df.head()"
   ]
  },
  {
   "cell_type": "markdown",
   "metadata": {},
   "source": [
    "### **2. Посмотрим, что у нас за данные и какого типа**"
   ]
  },
  {
   "cell_type": "markdown",
   "metadata": {},
   "source": [
    "Функция **shape** позволяет узнать размер данных"
   ]
  },
  {
   "cell_type": "code",
   "execution_count": null,
   "metadata": {},
   "outputs": [],
   "source": [
    "a = df.shape"
   ]
  },
  {
   "cell_type": "code",
   "execution_count": null,
   "metadata": {},
   "outputs": [],
   "source": [
    "type(a)"
   ]
  },
  {
   "cell_type": "code",
   "execution_count": null,
   "metadata": {},
   "outputs": [],
   "source": [
    "a[0]"
   ]
  },
  {
   "cell_type": "markdown",
   "metadata": {},
   "source": [
    "Функция **info** дает описание по всем признакам таблицы"
   ]
  },
  {
   "cell_type": "code",
   "execution_count": null,
   "metadata": {},
   "outputs": [],
   "source": [
    "df.info()"
   ]
  },
  {
   "cell_type": "markdown",
   "metadata": {},
   "source": [
    "Изменить тип колонки можно с помощью метода astype "
   ]
  },
  {
   "cell_type": "markdown",
   "metadata": {},
   "source": [
    "### **3. Извлечение основных статистических характеристик**\n",
    "\n",
    "Функция **describe**:\n",
    "\n",
    "число непропущенных значений, среднее, стандартное отклонение, диапазон, медиану, 0.25 и 0.75 квартили для признаков типа int и float"
   ]
  },
  {
   "cell_type": "code",
   "execution_count": null,
   "metadata": {},
   "outputs": [],
   "source": [
    "df.describe()"
   ]
  },
  {
   "cell_type": "code",
   "execution_count": null,
   "metadata": {},
   "outputs": [],
   "source": [
    "data = df[['T', 'P', 'Q_obs', 'Q_sim']].describe()"
   ]
  },
  {
   "cell_type": "code",
   "execution_count": null,
   "metadata": {},
   "outputs": [],
   "source": [
    "data['T'][0]"
   ]
  },
  {
   "cell_type": "markdown",
   "metadata": {},
   "source": [
    "Смотреть среднее за все время довольно таки странно (для месячных наблюдений норм). Что же делать?"
   ]
  },
  {
   "cell_type": "markdown",
   "metadata": {},
   "source": [
    "### **4. Извлечение информации**"
   ]
  },
  {
   "cell_type": "markdown",
   "metadata": {},
   "source": [
    "Для извлечения отдельного столбца и работы с ним используется достаточно простая конструкция **df['Название столбца']**"
   ]
  },
  {
   "cell_type": "code",
   "execution_count": null,
   "metadata": {},
   "outputs": [],
   "source": [
    "df['T'].mean()"
   ]
  },
  {
   "cell_type": "markdown",
   "metadata": {},
   "source": [
    "Для чего это может быть полезно? Например, для того, чтобы отфильтровать таблицу (вытащить только необходимые нам строки (за определенный год или месяц))"
   ]
  },
  {
   "cell_type": "markdown",
   "metadata": {},
   "source": [
    "**1 способ извлечения подтаблицы.**"
   ]
  },
  {
   "cell_type": "markdown",
   "metadata": {},
   "source": [
    "Извлечем данные за 2015 год"
   ]
  },
  {
   "cell_type": "code",
   "execution_count": null,
   "metadata": {},
   "outputs": [],
   "source": [
    "df[df['year'] == 2015].head()"
   ]
  },
  {
   "cell_type": "markdown",
   "metadata": {},
   "source": [
    "Если условие более сложное, то конструкция будет выглядеть довольно громоздкой.\n",
    "\n",
    "Например, извлечем данные за март 2014 года, когда температура была больше 0 "
   ]
  },
  {
   "cell_type": "code",
   "execution_count": null,
   "metadata": {},
   "outputs": [],
   "source": [
    "(df['year'] == 2014) & (df['month'] == 3) & (df['T']> 0)"
   ]
  },
  {
   "cell_type": "code",
   "execution_count": null,
   "metadata": {},
   "outputs": [],
   "source": [
    "df[(df['year'] > 2014) & (df['year'] < 2016) \n",
    "       & (df['month'] == 3) & (df['T']> 0)]"
   ]
  },
  {
   "cell_type": "markdown",
   "metadata": {},
   "source": [
    "**2 способ**, как можно это сделать - функция **query**. Мне такая конструкция, если честно, нравится больше, но тут дело вкусов"
   ]
  },
  {
   "cell_type": "code",
   "execution_count": null,
   "metadata": {},
   "outputs": [],
   "source": [
    "df.query('year >= 2014 & year<= 2016 & month == 3')"
   ]
  },
  {
   "cell_type": "markdown",
   "metadata": {},
   "source": [
    "### **!!! Задание 1.** \n",
    "Чему равна среднемесячная температура в августе 2014 года?"
   ]
  },
  {
   "cell_type": "code",
   "execution_count": null,
   "metadata": {},
   "outputs": [],
   "source": [
    "# Ваш код\n",
    "df1 = df.query('year == 2014 & month == 8')\n"
   ]
  },
  {
   "cell_type": "markdown",
   "metadata": {},
   "source": [
    "### 5. Группировка данных\n",
    "\n",
    "Посчитать среднее за отдельный месяц это конечно хорошо, но хотелось бы за все месяцы и сразу =)\n",
    "\n",
    "Можно это сделать с помощью цикла по номеру месяца. А можно воспользоваться уже готовыми функциями и пакетами\n",
    "\n",
    "Для этого нам понадобится функция groupby, в качестве аргумента которой указывается признак или группа признаков, по которым будет происходить группировка (grouping_columns)."
   ]
  },
  {
   "cell_type": "markdown",
   "metadata": {},
   "source": [
    "*Выведем максимальный расход воды за каждый год*"
   ]
  },
  {
   "cell_type": "code",
   "execution_count": null,
   "metadata": {},
   "outputs": [],
   "source": [
    "df.groupby(by = ['year'])['Q_obs'].max()"
   ]
  },
  {
   "cell_type": "markdown",
   "metadata": {},
   "source": [
    "Следующий код выведет средние значения по двум переменным за каждый год"
   ]
  },
  {
   "cell_type": "code",
   "execution_count": null,
   "metadata": {},
   "outputs": [],
   "source": [
    "df.groupby(by = ['year'])['Q_obs','Q_sim'].mean()"
   ]
  },
  {
   "cell_type": "markdown",
   "metadata": {},
   "source": [
    "Точно так же можно произвести вывод нескольких статистик для всех признаков "
   ]
  },
  {
   "cell_type": "code",
   "execution_count": null,
   "metadata": {},
   "outputs": [],
   "source": [
    "df_1 = df.groupby(by = ['year'])['Q_obs','Q_sim'].describe()"
   ]
  },
  {
   "cell_type": "code",
   "execution_count": null,
   "metadata": {},
   "outputs": [],
   "source": [
    "df_1.to_csv('stat.csv')"
   ]
  },
  {
   "cell_type": "markdown",
   "metadata": {},
   "source": [
    "Либо тоже самое можно было сделать с помощью функции **agg([набор применяемых функций])**"
   ]
  },
  {
   "cell_type": "code",
   "execution_count": null,
   "metadata": {},
   "outputs": [],
   "source": [
    "df.groupby(by = ['year'])['Q_obs','Q_sim'].agg([np.mean, np.std, np.min, np.max])"
   ]
  },
  {
   "cell_type": "markdown",
   "metadata": {},
   "source": [
    "### **!!! Задание 2.** \n",
    "\n",
    "Чему равны средние, максимальные и минимальные значения температур и осадков в каждом месяце за 2011 год?"
   ]
  },
  {
   "cell_type": "code",
   "execution_count": null,
   "metadata": {},
   "outputs": [],
   "source": []
  },
  {
   "cell_type": "markdown",
   "metadata": {},
   "source": [
    "# Визуализация данных"
   ]
  },
  {
   "cell_type": "markdown",
   "metadata": {},
   "source": [
    "### 0. Импортируем необходимые пакеты"
   ]
  },
  {
   "cell_type": "code",
   "execution_count": null,
   "metadata": {},
   "outputs": [],
   "source": [
    "# так как мы еще будем визуализировать, то нам нужны и такие пакеты)\n",
    "%matplotlib inline\n",
    "import matplotlib.pyplot as plt\n",
    "import seaborn as sns\n"
   ]
  },
  {
   "cell_type": "markdown",
   "metadata": {},
   "source": [
    "## 1. Простейшие графики"
   ]
  },
  {
   "cell_type": "markdown",
   "metadata": {},
   "source": [
    "Построим графики реальных и смоделированных расходов воды.\n",
    "\n",
    "В общем случае надо сначала **отфильтровать данные**, при необходимости **сгруппировать**, выбрать нужные столбцы, посчитать требуемые величины и построить график с помощью функции plot()"
   ]
  },
  {
   "cell_type": "code",
   "execution_count": null,
   "metadata": {},
   "outputs": [],
   "source": [
    "df[['Q_obs', 'Q_sim']].plot()"
   ]
  },
  {
   "cell_type": "markdown",
   "metadata": {},
   "source": [
    "Чтобы сделать график чуть симпатичнее можно накрутить всяких условий"
   ]
  },
  {
   "cell_type": "code",
   "execution_count": null,
   "metadata": {},
   "outputs": [],
   "source": [
    "with plt.style.context('bmh'):\n",
    "    fig = plt.figure(figsize=(12,7)) # отвечает за размер \n",
    "    plt.plot(df[['Q_obs', 'Q_sim']])\n",
    "    plt.legend(('Observed', 'Simulated'))\n",
    "    plt.title('Наблюдаемые и смоделированные расходы воды')\n"
   ]
  },
  {
   "cell_type": "code",
   "execution_count": null,
   "metadata": {},
   "outputs": [],
   "source": [
    "# По умолчанию в качестве переменной х идет индекс таблицы. Но если задать в качестве х дату, то получается совсем красиво\n",
    "with plt.style.context('bmh'):\n",
    "    fig = plt.figure(figsize=(10,7)) # отвечает за размер \n",
    "    plt.plot(df.date, df[['Q_obs', 'Q_sim']])\n",
    "    plt.legend(('Observed', 'Simulated'))\n",
    "    plt.title('Наблюдаемые и смоделированные расходы воды')"
   ]
  },
  {
   "cell_type": "markdown",
   "metadata": {},
   "source": [
    "С помощью функции GROUPBY можно найти найти интересующие нас характеристики и точно так же построить график"
   ]
  },
  {
   "cell_type": "markdown",
   "metadata": {},
   "source": [
    "### !!! Задание 3.\n",
    "а) Построить средний расход воды за каждый месяц за 2014 год\n",
    "\n",
    "б) Построить максимальные расходы в апреле месяце за каждый год"
   ]
  },
  {
   "cell_type": "code",
   "execution_count": null,
   "metadata": {},
   "outputs": [],
   "source": [
    "# a\n",
    "with plt.style.context('bmh'):\n",
    "    fig = plt.figure(figsize=(10,7))\n",
    "    # вставьте свой код\n",
    "    \n",
    "    #\n",
    "    \n",
    "    plt.legend('m')\n",
    "    plt.title('Средний расход воды')"
   ]
  },
  {
   "cell_type": "code",
   "execution_count": null,
   "metadata": {},
   "outputs": [],
   "source": [
    "# b\n",
    "# вставьте свой код"
   ]
  },
  {
   "cell_type": "markdown",
   "metadata": {},
   "source": [
    "# 2. Распределение признака\n",
    "\n",
    "**а.** С помощью seaborn можно построить распределение конкретных признаков с помощью функции distplot"
   ]
  },
  {
   "cell_type": "code",
   "execution_count": null,
   "metadata": {},
   "outputs": [],
   "source": [
    "sns.distplot(df['Q_sim'])"
   ]
  },
  {
   "cell_type": "markdown",
   "metadata": {},
   "source": [
    "### !!! Задание 4.\n",
    "Постройте график распределения температур (1 балл). Как можно объяснить его форму? Обоснуйте свою гипотезу (1 балл)."
   ]
  },
  {
   "cell_type": "code",
   "execution_count": null,
   "metadata": {},
   "outputs": [],
   "source": [
    "# Ваш код здесь"
   ]
  },
  {
   "cell_type": "code",
   "execution_count": null,
   "metadata": {},
   "outputs": [],
   "source": []
  },
  {
   "cell_type": "markdown",
   "metadata": {},
   "source": [
    "**b.** Ящики с усами.\n",
    "Если интересно посмотреть, как менялось рапределение в течении времени, то будет полезен box plot"
   ]
  },
  {
   "cell_type": "code",
   "execution_count": null,
   "metadata": {},
   "outputs": [],
   "source": [
    "f, ax = plt.subplots(figsize=(10, 5))\n",
    "sns.boxplot(x=\"month\", y=\"T\", data=df, ax = ax)"
   ]
  },
  {
   "cell_type": "markdown",
   "metadata": {},
   "source": [
    "## 2. Совместное распределение параметров"
   ]
  },
  {
   "cell_type": "markdown",
   "metadata": {},
   "source": [
    "Для того, чтобы посмотреть, как совместно ведут себя признаки полезно пользоваться функцией pair plot пакета seaborn.\n",
    "\n",
    "Как можно видеть, на диагонали матрицы графиков расположены гистограммы распределений признака. Остальные же графики — это обычные scatter plots для соответствующих пар признаков.\n",
    "\n",
    "При построении модели классификации бывает удобно добавить еще и сам таргет, но об этом на следующем семинаре.\n"
   ]
  },
  {
   "cell_type": "code",
   "execution_count": null,
   "metadata": {},
   "outputs": [],
   "source": [
    "sns.pairplot(df[['T',\n",
    "                 'P',\n",
    "                 'Q_obs',\n",
    "                 'Q_sim',\n",
    "                 #'target'\n",
    "                   ]]\n",
    "                    #, hue = 'target'\n",
    "            )\n",
    "\n"
   ]
  },
  {
   "cell_type": "markdown",
   "metadata": {},
   "source": [
    "На данном графике можно видеть, что смоделированные и фактические расходы имеют явную зависимость. Поэтому интересно посмотреть на сколько скоррелированы признаки. Для рассмотрения какой-то конкретной пары нам будет нужен **joint plot** - некий симбиоз между dist и pair plot"
   ]
  },
  {
   "cell_type": "code",
   "execution_count": null,
   "metadata": {},
   "outputs": [],
   "source": [
    "sns.jointplot(df['Q_sim'], df['Q_obs'])"
   ]
  },
  {
   "cell_type": "markdown",
   "metadata": {},
   "source": [
    "И напоследок о совместном распределении признаков))\n",
    "\n",
    "seaborn дает возможность очень красиво проиллюстрировать корреляционную матрицу"
   ]
  },
  {
   "cell_type": "code",
   "execution_count": null,
   "metadata": {},
   "outputs": [],
   "source": [
    "# характеристики графика и раскраски\n",
    "f, ax = plt.subplots(figsize=(9, 7))\n",
    "cmap = sns.diverging_palette(220, 10, as_cmap = True)\n",
    "\n",
    "\n",
    "corr = df[['T','P', 'Q_sim', 'Q_obs']].corr()\n",
    "sns.heatmap(corr, cmap = cmap, center  = 0, ax = ax, vmax = 1.0, vmin = -1.0, linewidths = 0.5, annot = True)\n",
    "plt.title('Covariance Matrix')\n",
    "plt.show()"
   ]
  },
  {
   "cell_type": "markdown",
   "metadata": {},
   "source": [
    "## ЧУТЬ-ЧУТЬ УСЛОЖНЯЕМ ЗАДАЧУ"
   ]
  },
  {
   "cell_type": "markdown",
   "metadata": {},
   "source": [
    "В этой части семинара будем работать с несколько иными данными. \n",
    "И сразу в качестве индекса зададим дату наблюдения с помощью функции **set_index**"
   ]
  },
  {
   "cell_type": "code",
   "execution_count": null,
   "metadata": {},
   "outputs": [],
   "source": [
    "df2 = pd.read_csv('kosa_Inva.csv', sep=\";\")\n",
    "df2.date = pd.to_datetime(df2.date, format=\"%d.%m.%Y\")\n",
    "df2 = df2.set_index('date')\n",
    "df2.head()\n"
   ]
  },
  {
   "cell_type": "code",
   "execution_count": null,
   "metadata": {},
   "outputs": [],
   "source": [
    "df2.info()"
   ]
  },
  {
   "cell_type": "markdown",
   "metadata": {},
   "source": [
    "**Появился еще один столбец с гидропостами. Давайте посмотрим, сколько там различных гидропостов**"
   ]
  },
  {
   "cell_type": "code",
   "execution_count": null,
   "metadata": {},
   "outputs": [],
   "source": [
    "df2['GP'].value_counts()"
   ]
  },
  {
   "cell_type": "markdown",
   "metadata": {},
   "source": [
    "## 1. Простейшие графики"
   ]
  },
  {
   "cell_type": "markdown",
   "metadata": {},
   "source": [
    "Построим график расходов для каждого из поста. \n",
    "В общем случае надо сначала отфильтровать данные, выбрать необходимые столбцы, посчитать необходимые величины и построить график с помощью функции plot()"
   ]
  },
  {
   "cell_type": "code",
   "execution_count": null,
   "metadata": {},
   "outputs": [],
   "source": [
    "\n",
    "with plt.style.context('bmh'):\n",
    "    fig = plt.figure(figsize=(15,7)) # отвечает за размер \n",
    "    df2[['GP', 'Q_obs']].groupby('GP')['Q_obs'].plot()\n",
    "    plt.legend()"
   ]
  },
  {
   "cell_type": "markdown",
   "metadata": {},
   "source": [
    "Какие выводы можно сделать по данному графику?"
   ]
  },
  {
   "cell_type": "code",
   "execution_count": null,
   "metadata": {},
   "outputs": [],
   "source": []
  },
  {
   "cell_type": "markdown",
   "metadata": {},
   "source": [
    "### !!! Задание 5. \n",
    "1. С помощью параметра hue функций pairplot постройте совместное распределение признаков для двух гидропостов.\n",
    "2. С помощью параметра hue функций boxplot постройте распределения температур по месяцам за 2011 год для двух гидропостов (либо за весь период)."
   ]
  },
  {
   "cell_type": "code",
   "execution_count": null,
   "metadata": {},
   "outputs": [],
   "source": [
    "sns.pairplot(df2[['T',\n",
    "\n",
    "                 'Q_obs',\n",
    "                 'Q_sim',\n",
    "                 #'target'\n",
    "                   ]]\n",
    "                    #, hue = 'target'\n",
    "            )"
   ]
  },
  {
   "cell_type": "code",
   "execution_count": null,
   "metadata": {},
   "outputs": [],
   "source": []
  },
  {
   "cell_type": "markdown",
   "metadata": {},
   "source": [
    "### Задание 6.\n",
    "\n",
    "Напишите функции, считающие среднеквадратичное отклонение и коэффициент Нэша-Сатклиффа. \n",
    "Чему они равны для смоделированных и наблюдаемых расходов для каждого из гидропостов."
   ]
  },
  {
   "cell_type": "code",
   "execution_count": null,
   "metadata": {},
   "outputs": [],
   "source": [
    "def RMSE(q_obs, q_sim):\n",
    "    # ваш код здесь\n",
    "    return \n",
    "\n",
    "def NS(q_obs, q_sim):\n",
    "    # ваш код здесь\n",
    "    return \n",
    "\n",
    "q_obs_kos = #  Ваш код здесь\n",
    "q_sim_kos = # Ваш код здесь\n",
    "\n",
    "print('Коса:')\n",
    "print('NS:', NS(q_obs_kos, q_sim_kos))\n",
    "print('RMSE:', RMSE(q_obs_kos, q_sim_kos))\n",
    "\n",
    "\n",
    "\n",
    "q_obs_sl = #  Ваш код здесь\n",
    "q_sim_sl = # Ваш код здесь\n",
    "\n",
    "print('Слудка:')\n",
    "print('NS:', NS(q_obs_sl, q_sim_sl))\n",
    "print('RMSE:', RMSE(q_obs_sl, q_sim_sl))"
   ]
  }
 ],
 "metadata": {
  "kernelspec": {
   "display_name": "Python 3",
   "language": "python",
   "name": "python3"
  },
  "language_info": {
   "codemirror_mode": {
    "name": "ipython",
    "version": 3
   },
   "file_extension": ".py",
   "mimetype": "text/x-python",
   "name": "python",
   "nbconvert_exporter": "python",
   "pygments_lexer": "ipython3",
   "version": "3.8.5"
  }
 },
 "nbformat": 4,
 "nbformat_minor": 2
}
