{
 "cells": [
  {
   "cell_type": "markdown",
   "metadata": {},
   "source": [
    "# Знакомсто с Jupyter notebook"
   ]
  },
  {
   "cell_type": "markdown",
   "metadata": {},
   "source": [
    "Jupyter notebook позволяет делить свою программу на логически понятные блоки, вставлять между блоками куски текста.\n",
    "Это дает возможность создавать красисивые аналитические отчеты, включающие в себя и формулы и графики. \n",
    "Плюс полученный результат можно сохранять в различных вариантах. "
   ]
  },
  {
   "cell_type": "markdown",
   "metadata": {},
   "source": [
    "## 1. Запуск программы\n",
    "\n",
    "   + кнопка \"play\" наверху\n",
    "   + ```Ctrl + Enter``` - запуск ячейки\n",
    "   + ```Shift + Enter``` - запуск ячейки и переход на следующую"
   ]
  },
  {
   "cell_type": "markdown",
   "metadata": {},
   "source": [
    "## Первое занятие"
   ]
  },
  {
   "cell_type": "markdown",
   "metadata": {},
   "source": [
    "## 2. Загрузка и использование пакетов"
   ]
  },
  {
   "cell_type": "code",
   "execution_count": null,
   "metadata": {},
   "outputs": [],
   "source": [
    "# загружаем пакет целиком\n",
    "import numpy as np\n",
    "import pandas as pd\n",
    "\n",
    "# загружаем конкретную функцию\n",
    "\n",
    "from sklearn.metrics import log_loss\n"
   ]
  },
  {
   "cell_type": "markdown",
   "metadata": {},
   "source": [
    "**Подсказки и документация**\n",
    "\n",
    "+ ```Tab``` - автодополнение / обзор методов\n",
    "+ ?list.append - информация про конкретный объект"
   ]
  },
  {
   "cell_type": "code",
   "execution_count": null,
   "metadata": {},
   "outputs": [],
   "source": [
    "pd.DataFrame"
   ]
  },
  {
   "cell_type": "code",
   "execution_count": null,
   "metadata": {},
   "outputs": [],
   "source": [
    "?log_loss"
   ]
  },
  {
   "cell_type": "markdown",
   "metadata": {},
   "source": [
    "## 3. Графика внутри среды"
   ]
  },
  {
   "cell_type": "code",
   "execution_count": null,
   "metadata": {},
   "outputs": [],
   "source": [
    "import matplotlib.pyplot as plt\n",
    "%matplotlib inline \n",
    "# с этой волшебной строчкой графики будут строиться прям в ноутбуке\n",
    "\n",
    "plt.scatter([i for i in range(10)], [i**2 for i in range(10)])\n",
    "plt.scatter([i for i in range(10)], [i+10 for i in range(10)])\n",
    "plt.show()"
   ]
  },
  {
   "cell_type": "markdown",
   "metadata": {},
   "source": [
    "## 4. Немного магии :-)\n",
    "Аналогично %matplotlib это существенно может облегчить нам жизнь"
   ]
  },
  {
   "cell_type": "code",
   "execution_count": null,
   "metadata": {},
   "outputs": [],
   "source": [
    "# list available python magics\n",
    "%lsmagic"
   ]
  },
  {
   "cell_type": "markdown",
   "metadata": {},
   "source": [
    "### Тайминг\n",
    "Помогает замерить время выполнения программы и найти узкое место в коде."
   ]
  },
  {
   "cell_type": "code",
   "execution_count": null,
   "metadata": {},
   "outputs": [],
   "source": [
    "from numpy.random import randint\n",
    "\n",
    "# Функция, генерирующая 10000 бросков кости\n",
    "def generate_dice_list():\n",
    "    return randint(low=1, high=10, size=10000)\n",
    "\n",
    "%time\n",
    "throws = generate_dice_list()\n",
    "mean = np.mean(throws)\n",
    "print('Среднее: ', mean)"
   ]
  },
  {
   "cell_type": "markdown",
   "metadata": {},
   "source": [
    "### Анализ пространства имен"
   ]
  },
  {
   "cell_type": "code",
   "execution_count": null,
   "metadata": {},
   "outputs": [],
   "source": [
    "%who_ls"
   ]
  },
  {
   "cell_type": "code",
   "execution_count": null,
   "metadata": {},
   "outputs": [],
   "source": [
    "mean"
   ]
  },
  {
   "cell_type": "markdown",
   "metadata": {},
   "source": [
    "## 5. Написание формул в среде"
   ]
  },
  {
   "cell_type": "markdown",
   "metadata": {},
   "source": [
    "### $\\LaTeX$\n",
    "\n",
    "$$ \\frac {1}{2} = \\sum_{n=0}^{10} \\frac{\\alpha}{5} + \\frac {3}{10} $$"
   ]
  },
  {
   "cell_type": "markdown",
   "metadata": {},
   "source": []
  }
 ],
 "metadata": {
  "kernelspec": {
   "display_name": "Python 3",
   "language": "python",
   "name": "python3"
  },
  "language_info": {
   "codemirror_mode": {
    "name": "ipython",
    "version": 3
   },
   "file_extension": ".py",
   "mimetype": "text/x-python",
   "name": "python",
   "nbconvert_exporter": "python",
   "pygments_lexer": "ipython3",
   "version": "3.8.5"
  }
 },
 "nbformat": 4,
 "nbformat_minor": 2
}
