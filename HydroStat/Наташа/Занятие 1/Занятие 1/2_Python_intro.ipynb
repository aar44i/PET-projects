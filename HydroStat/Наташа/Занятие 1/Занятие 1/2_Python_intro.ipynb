{
 "cells": [
  {
   "cell_type": "markdown",
   "metadata": {},
   "source": [
    "# Введение в язык Python"
   ]
  },
  {
   "cell_type": "markdown",
   "metadata": {},
   "source": [
    "Есть много различных самоучителей, курсов по питону.\n",
    "\n",
    "Вот несколько из них:\n",
    "+ https://pythonworld.ru/samouchitel-python\n",
    "+ Курс питона для начинающих https://github.com/Yorko/python_intro\n",
    "+ курс на степике: https://stepik.org/course/67/promo\n",
    "+ различные курсы на coursera (например, https://ru.coursera.org/learn/python-osnovy-programmirovaniya)\n",
    "+ документация https://docs.python.org/3/\n",
    "+ Курсы питона от компании Google: https://www.youtube.com/watch?v=tKTZoB2Vjuk\n"
   ]
  },
  {
   "cell_type": "markdown",
   "metadata": {},
   "source": [
    "## 1. Типы переменных"
   ]
  },
  {
   "cell_type": "markdown",
   "metadata": {},
   "source": [
    "**а. Числа**\n",
    "\n",
    "+ целые\n",
    "+ вещественные\n",
    "+ комплексные 0_0"
   ]
  },
  {
   "cell_type": "code",
   "execution_count": null,
   "metadata": {},
   "outputs": [],
   "source": [
    "print('Целое ',type(3))\n",
    "print('Вещественное ',type(3.))\n",
    "print('Вещественное ',type(3 + 0.1))\n",
    "print('Вещественное ',type(0.1))\n",
    "print('Комплексное ',type(1 + 0.1j))"
   ]
  },
  {
   "cell_type": "code",
   "execution_count": null,
   "metadata": {},
   "outputs": [],
   "source": [
    "a = 5674.3232 + 8368\n",
    "type(a)"
   ]
  },
  {
   "cell_type": "markdown",
   "metadata": {},
   "source": [
    "**b. Строки**"
   ]
  },
  {
   "cell_type": "code",
   "execution_count": null,
   "metadata": {},
   "outputs": [],
   "source": [
    "type('Hello!')"
   ]
  },
  {
   "cell_type": "code",
   "execution_count": null,
   "metadata": {},
   "outputs": [],
   "source": [
    "a = 'Python ' \n",
    "b = 'is '\n",
    "c = 'very '\n",
    "d = \"interesting language\"\n",
    "\n",
    "print(a + b + c + d)\n",
    "# строки можно умножать\n",
    "print(a + b + 3*c + d)\n",
    "\n",
    "# можно вытаскивать часть строки\n",
    "print('Hmmmm, ', d[0:11])\n",
    "# меняем регистр букв\n",
    "print('Hmmmm, ', d[0:11].upper())\n"
   ]
  },
  {
   "cell_type": "code",
   "execution_count": null,
   "metadata": {},
   "outputs": [],
   "source": [
    "a = 3\n",
    "b = 5 \n",
    "\n",
    "a + b"
   ]
  },
  {
   "cell_type": "code",
   "execution_count": null,
   "metadata": {},
   "outputs": [],
   "source": []
  },
  {
   "cell_type": "markdown",
   "metadata": {},
   "source": [
    "**c. Списки**"
   ]
  },
  {
   "cell_type": "markdown",
   "metadata": {},
   "source": [
    "Список это просто набор данных, хранящихся в одной переменной. Это может быть что угодно"
   ]
  },
  {
   "cell_type": "markdown",
   "metadata": {},
   "source": [
    "**Инициализация**"
   ]
  },
  {
   "cell_type": "code",
   "execution_count": null,
   "metadata": {},
   "outputs": [],
   "source": [
    "first_list = []\n",
    "second_list = ['Anna', 'Maria']\n",
    "third_list = [1, 2, 3, 4]\n",
    "\n",
    "print(type(first_list), type(second_list), type(third_list) )"
   ]
  },
  {
   "cell_type": "code",
   "execution_count": null,
   "metadata": {},
   "outputs": [],
   "source": [
    "first_list"
   ]
  },
  {
   "cell_type": "markdown",
   "metadata": {},
   "source": [
    "**Добавление элементов**"
   ]
  },
  {
   "cell_type": "code",
   "execution_count": null,
   "metadata": {},
   "outputs": [],
   "source": [
    "# 1 способ - в конец списка\n",
    "first_list.append(2)\n",
    "first_list.append(3)\n",
    "first_list.append(4)\n",
    "print(first_list)\n",
    "\n",
    "# 2 способ - на определенное место\n",
    "# обратите внимание, что нумерация ведется с 0!\n",
    "first_list.insert(0, 1) # первая цифра - место\n",
    "\n",
    "print(first_list)\n",
    "\n"
   ]
  },
  {
   "cell_type": "markdown",
   "metadata": {},
   "source": [
    "**Количество элементов в списке**"
   ]
  },
  {
   "cell_type": "code",
   "execution_count": null,
   "metadata": {},
   "outputs": [],
   "source": [
    "print(len(first_list))"
   ]
  },
  {
   "cell_type": "code",
   "execution_count": null,
   "metadata": {},
   "outputs": [],
   "source": [
    "third_list.append(5)\n",
    "third_list.append(6)\n",
    "third_list.append(7)\n",
    "third_list"
   ]
  },
  {
   "cell_type": "code",
   "execution_count": null,
   "metadata": {},
   "outputs": [],
   "source": [
    "third_list[0:5] # 5 элемент не включительно\n",
    "third_list[0:7:3]"
   ]
  },
  {
   "cell_type": "markdown",
   "metadata": {},
   "source": [
    "**Обращение к элементам и их изменение**"
   ]
  },
  {
   "cell_type": "code",
   "execution_count": null,
   "metadata": {},
   "outputs": [],
   "source": [
    "print(third_list)\n",
    "print(third_list[0])\n",
    "print(third_list[2])\n",
    "print(third_list[-1])\n",
    "print(third_list[0:3])\n",
    "print(third_list[0:3:2]) # :2 - обозначает с каким шагом будут браться элементы\n",
    "\n",
    "third_list[3]=-10\n",
    "print(third_list)"
   ]
  },
  {
   "cell_type": "code",
   "execution_count": null,
   "metadata": {},
   "outputs": [],
   "source": [
    "print(third_list[5:0:-2])"
   ]
  },
  {
   "cell_type": "code",
   "execution_count": null,
   "metadata": {},
   "outputs": [],
   "source": [
    "third_list[4]=-10"
   ]
  },
  {
   "cell_type": "markdown",
   "metadata": {},
   "source": [
    "**Функции от списка**"
   ]
  },
  {
   "cell_type": "code",
   "execution_count": null,
   "metadata": {},
   "outputs": [],
   "source": [
    "third_list"
   ]
  },
  {
   "cell_type": "code",
   "execution_count": null,
   "metadata": {},
   "outputs": [],
   "source": [
    "print(min(third_list))\n",
    "print(max(third_list))\n",
    "print(sum(third_list))"
   ]
  },
  {
   "cell_type": "markdown",
   "metadata": {},
   "source": [
    "**Удаление элементов списка**"
   ]
  },
  {
   "cell_type": "code",
   "execution_count": null,
   "metadata": {},
   "outputs": [],
   "source": [
    "second_list"
   ]
  },
  {
   "cell_type": "code",
   "execution_count": null,
   "metadata": {},
   "outputs": [],
   "source": [
    "second_list.append('Igor')\n",
    "second_list.append('Luisa')\n",
    "second_list.append('Igor')\n",
    "\n",
    "print(second_list)\n",
    "# удаление конкретного элемента списка\n",
    "del second_list[0]\n",
    "print(second_list)\n",
    "\n",
    "# удаление по значению\n",
    "second_list.remove('Igor')\n",
    "\n",
    "print(second_list)\n",
    "# Обратите внимание! Удаляется первый встретившийся элемент\n"
   ]
  },
  {
   "cell_type": "markdown",
   "metadata": {},
   "source": [
    "**Метод range**"
   ]
  },
  {
   "cell_type": "code",
   "execution_count": null,
   "metadata": {},
   "outputs": [],
   "source": [
    "zero_list = list(range(10)) # конец на 1 меньше\n",
    "print(zero_list)\n",
    "a = list(range(5, 20))\n",
    "print(a)\n",
    "b = list(range(1,15,3))\n",
    "b2 = list(range(5,20,3))\n",
    "print(b)\n",
    "print(b2)"
   ]
  },
  {
   "cell_type": "code",
   "execution_count": null,
   "metadata": {},
   "outputs": [],
   "source": [
    "b+b2"
   ]
  },
  {
   "cell_type": "markdown",
   "metadata": {},
   "source": [
    "**d. Словари**"
   ]
  },
  {
   "cell_type": "markdown",
   "metadata": {},
   "source": [
    "Информация хранится в виде ключ-значение."
   ]
  },
  {
   "cell_type": "code",
   "execution_count": null,
   "metadata": {},
   "outputs": [],
   "source": [
    "my_dict_1 = {}\n",
    "my_dict_2 = {'MSU':'Moscow', \n",
    "             'SPBU':'Sankt Petersburg'}\n"
   ]
  },
  {
   "cell_type": "code",
   "execution_count": null,
   "metadata": {},
   "outputs": [],
   "source": [
    "print(my_dict_2.items())\n",
    "print(my_dict_2.keys())\n",
    "print(my_dict_2.values())"
   ]
  },
  {
   "cell_type": "code",
   "execution_count": null,
   "metadata": {},
   "outputs": [],
   "source": [
    "# добавление новой пары\n",
    "my_dict_2['Cambridge'] = 'USA'\n",
    "print(my_dict_2)\n",
    "# если вдруг ошиблись - легко поменять\n",
    "my_dict_2['Cambridge'] = 'UK'\n",
    "print(my_dict_2)"
   ]
  },
  {
   "cell_type": "markdown",
   "metadata": {},
   "source": [
    "## 2. Логические высказывания и операторы сравнения"
   ]
  },
  {
   "cell_type": "markdown",
   "metadata": {},
   "source": [
    "**a. Логические высказывания** \n",
    "    \n",
    "   + &, и - принимает значение True, в случае истинности обоих высказываний\n",
    "   + |, или - принимает значение True, в случае если хотя бы одно высказывание истинно\n",
    "   + not - принимает противоположное значение высказыванию"
   ]
  },
  {
   "cell_type": "code",
   "execution_count": null,
   "metadata": {},
   "outputs": [],
   "source": [
    "A = True\n",
    "B = False\n",
    "C = True\n",
    "\n",
    "print(A & B, A & C)\n",
    "\n",
    "print(A | B)\n",
    "\n",
    "print(not A)\n"
   ]
  },
  {
   "cell_type": "markdown",
   "metadata": {},
   "source": [
    "**Операторы сравнения**\n",
    "\n",
    "+ <, >, >=, <=\n",
    "+ ==, !="
   ]
  },
  {
   "cell_type": "code",
   "execution_count": null,
   "metadata": {},
   "outputs": [],
   "source": [
    "print(3 > 5)\n",
    "print(3 >=3)\n",
    "\n",
    "print(4 == 4)\n",
    "print('Hi' != 'Bye')\n",
    "print(len('hi') == 2)"
   ]
  },
  {
   "cell_type": "code",
   "execution_count": null,
   "metadata": {},
   "outputs": [],
   "source": [
    "print ( (3 > 5) | (4 < 6))"
   ]
  },
  {
   "cell_type": "markdown",
   "metadata": {},
   "source": [
    "## 3. Работа с числами"
   ]
  },
  {
   "cell_type": "markdown",
   "metadata": {},
   "source": [
    "Питон - клевый калькулятор!)"
   ]
  },
  {
   "cell_type": "code",
   "execution_count": null,
   "metadata": {},
   "outputs": [],
   "source": [
    "2+2"
   ]
  },
  {
   "cell_type": "code",
   "execution_count": null,
   "metadata": {},
   "outputs": [],
   "source": [
    "456*12345"
   ]
  },
  {
   "cell_type": "code",
   "execution_count": null,
   "metadata": {},
   "outputs": [],
   "source": [
    "34**5"
   ]
  },
  {
   "cell_type": "code",
   "execution_count": null,
   "metadata": {},
   "outputs": [],
   "source": [
    "56**10 + 10"
   ]
  },
  {
   "cell_type": "markdown",
   "metadata": {},
   "source": [
    "**Операции и их приоритет (если что, лучше всегда ставить скобки):**\n",
    "\n",
    "+ ```**``` - возведение в степень\n",
    "+ ```*, /, %, //``` - умножение, деление, деление по модулю, деление без остатка\n",
    "+ ```+,-``` - сложение, вычитание \n",
    "+ ```<, >, <=, >=``` - операторы сравнения\n",
    "+ ```==, !=```  - операторы равенства\n",
    "+ ```*=, +=, -=, /=, **=``` - операторы присваивания\n",
    "+ ```&, |, not``` - логические операторы \n"
   ]
  },
  {
   "cell_type": "code",
   "execution_count": null,
   "metadata": {},
   "outputs": [],
   "source": [
    "print(3**2)\n",
    "print(9/10)\n",
    "print(9//10)\n",
    "print(9%10)"
   ]
  },
  {
   "cell_type": "markdown",
   "metadata": {},
   "source": [
    "## 4. Условные операторы"
   ]
  },
  {
   "cell_type": "markdown",
   "metadata": {},
   "source": [
    "В простейшем случае условная конструкция программы имеет следующий вид:\n",
    "\n",
    "**if Условие:**\n",
    "\n",
    "        выполняем одни команды\n",
    "        \n",
    "**else:**\n",
    "\n",
    "        выполняем другие команды "
   ]
  },
  {
   "cell_type": "code",
   "execution_count": null,
   "metadata": {},
   "outputs": [],
   "source": [
    "a = int(input(\"Введите число: \"))\n",
    "\n",
    "if a < 0:\n",
    "    print('отрицательное')\n",
    "else:\n",
    "    print('положительное')\n"
   ]
  },
  {
   "cell_type": "markdown",
   "metadata": {},
   "source": [
    "Её можно усложнить:\n",
    "\n",
    "**if Условие:**\n",
    "\n",
    "        выполняем одни команды\n",
    "        \n",
    "**elif:**     \n",
    "(!!! обратите внимание на сокращение: else if превратилось в elif !!!)\n",
    "\n",
    "        выполняем другие команды \n",
    "\n",
    "**elif:**\n",
    "\n",
    "        выполняем другие команды \n",
    "       \n",
    "**else:**\n",
    "\n",
    "        выполняем другие команды \n",
    "    "
   ]
  },
  {
   "cell_type": "code",
   "execution_count": null,
   "metadata": {},
   "outputs": [],
   "source": [
    "temp = int(input(\"Введите температуру: \"))\n",
    "\n",
    "if temp == 0:\n",
    "    print('неопределено')\n",
    "elif temp > 0 and temp < 100:\n",
    "    print('таяние')\n",
    "elif temp >= 100:\n",
    "    print('испарение')\n",
    "else:\n",
    "    print('замерзание')"
   ]
  },
  {
   "cell_type": "markdown",
   "metadata": {},
   "source": [
    "## 5. Циклы\n",
    "\n",
    "Используются для повторений каких-то частей кода"
   ]
  },
  {
   "cell_type": "markdown",
   "metadata": {},
   "source": [
    "**a. Цикл for**\n",
    "\n",
    "**for** Объект **in** Множество объектов:\n",
    "\n",
    "    Блок инструкций, применяемых с использованием текущего объекта\n",
    "\n",
    "Используется для применения одних и тех же команд для заданного множества объектов."
   ]
  },
  {
   "cell_type": "markdown",
   "metadata": {},
   "source": [
    "**Пример 1:**\n",
    "Посчитать сумму чисел от 1 до 1000."
   ]
  },
  {
   "cell_type": "code",
   "execution_count": null,
   "metadata": {},
   "outputs": [],
   "source": [
    "s = 0\n",
    "for i in range(1, 1001):\n",
    "    s += i # s = s + i\n",
    "    \n",
    "print(s)"
   ]
  },
  {
   "cell_type": "markdown",
   "metadata": {},
   "source": [
    "Заметим, что если нам много раз надо будет находить сумму, но для разных чисел, то для этого лучше использовать функцию"
   ]
  },
  {
   "cell_type": "markdown",
   "metadata": {},
   "source": [
    "**Пример 2:**\n",
    "Посчитать суммарное количество осадков."
   ]
  },
  {
   "cell_type": "code",
   "execution_count": null,
   "metadata": {},
   "outputs": [],
   "source": [
    "p = [10.75, 4.03, 2.89, 0, 0, 0, 6.11]\n",
    "\n",
    "# Способ 1\n",
    "# Идем по номерам\n",
    "sum_p_1 = 0\n",
    "for i in range(len(p)):\n",
    "    sum_p_1 += p[i]\n",
    "\n",
    "# Способ 2\n",
    "# Идем по самому массиву сразу\n",
    "sum_p_2 = 0\n",
    "\n",
    "for i in p:\n",
    "    sum_p_2 += i\n",
    "\n",
    "print (sum_p_1, sum_p_2)\n"
   ]
  },
  {
   "cell_type": "code",
   "execution_count": null,
   "metadata": {},
   "outputs": [],
   "source": [
    "sum(p) / len(p)"
   ]
  },
  {
   "cell_type": "code",
   "execution_count": null,
   "metadata": {},
   "outputs": [],
   "source": [
    "for i in 'Hello, world!':\n",
    "    print(i)"
   ]
  },
  {
   "cell_type": "markdown",
   "metadata": {},
   "source": [
    "**b. Цикл While**\n",
    "\n",
    "**while** условие:\n",
    "\n",
    "    блок инструкций\n",
    "    \n",
    "Программа будет выполняться до тех пор, пока условие в while верно. \n"
   ]
  },
  {
   "cell_type": "markdown",
   "metadata": {},
   "source": [
    "**Пример:** определите, сколько дней подряд стояла положительная температура"
   ]
  },
  {
   "cell_type": "code",
   "execution_count": null,
   "metadata": {},
   "outputs": [],
   "source": [
    "temp = [12, 7, 5, -6, 4, 0, -2]\n",
    "\n",
    "i = 0\n",
    "while temp[i] > 0:\n",
    "    i = i + 1\n",
    "    \n",
    "print(i)"
   ]
  },
  {
   "cell_type": "markdown",
   "metadata": {},
   "source": [
    "Чаще всего используется цикл for"
   ]
  },
  {
   "cell_type": "markdown",
   "metadata": {},
   "source": [
    "## 6. Функции"
   ]
  },
  {
   "cell_type": "markdown",
   "metadata": {},
   "source": [
    "Задание функции происходит следующим образом:\n",
    "\n",
    "**def** Название функции **(параметр1, параметр2, параметр 3....)**:\n",
    "\n",
    "    Блок инструкций\n",
    "    \n",
    "    return (какая-то подсчитанная величина, что угодно)\n"
   ]
  },
  {
   "cell_type": "markdown",
   "metadata": {},
   "source": [
    "Функции не обязательно принимают что-то на вход в качестве параметров"
   ]
  },
  {
   "cell_type": "code",
   "execution_count": null,
   "metadata": {},
   "outputs": [],
   "source": [
    "def print_something():\n",
    "    print('1 Hello world!')\n",
    "    return # ничего не возвращает\n",
    "\n",
    "def print_something2():\n",
    "    \n",
    "    return print('2 Hello world!')\n",
    "\n",
    "def print_something3():\n",
    "    print('3 Hello world!')\n",
    "    return 0\n",
    "\n",
    "print_something()\n",
    "print_something2()\n",
    "# при присваивании переменная принимает результат от return\n",
    "var = print_something3()\n",
    "print(var)"
   ]
  },
  {
   "cell_type": "markdown",
   "metadata": {},
   "source": [
    "**Функция, находящая сумму чисел от 1 до заданного числа n**\n"
   ]
  },
  {
   "cell_type": "code",
   "execution_count": null,
   "metadata": {},
   "outputs": [],
   "source": [
    "def find_sum(n):\n",
    "    sum_n = 0\n",
    "    for i in range(n): # range(n) создает массив от 0 до n-1 \n",
    "        sum_n += i + 1\n",
    "        \n",
    "    return sum_n\n",
    "\n",
    "\n",
    "a = find_sum(5)\n",
    "b = find_sum(10)\n",
    "\n",
    "print(a, b)"
   ]
  },
  {
   "cell_type": "markdown",
   "metadata": {},
   "source": [
    "**Функция, определяющая количество дней с положительной температурой**"
   ]
  },
  {
   "cell_type": "code",
   "execution_count": null,
   "metadata": {},
   "outputs": [],
   "source": [
    "def cnt_positive_days(list_temp):\n",
    "    cnt = 0\n",
    "    for temp in list_temp:\n",
    "        if temp > 0:\n",
    "            cnt += 1\n",
    "    \n",
    "    return cnt\n",
    "\n",
    "temp = [-10, -3, -0.2, 3, -1, 1, -2, 0.7]\n",
    "\n",
    "res = cnt_positive_days(temp)\n",
    "print('Количество дней с положительной температурой:', res)"
   ]
  },
  {
   "cell_type": "markdown",
   "metadata": {},
   "source": [
    "## 7. Работа с различными библиотеками"
   ]
  },
  {
   "cell_type": "markdown",
   "metadata": {},
   "source": [
    "Основной плюс питона - огромное количество пакетов, существенно расширяющих функционал и облегчающих жизнь"
   ]
  },
  {
   "cell_type": "code",
   "execution_count": null,
   "metadata": {},
   "outputs": [],
   "source": [
    "# импорт модуля\n",
    "\n",
    "import math\n",
    "\n",
    "print(math.factorial(5))\n",
    "\n",
    "import numpy as np\n",
    "\n",
    "a = [1,-22,3,4,5]\n",
    "print(np.mean(a))\n",
    "print(np.abs(a))"
   ]
  },
  {
   "cell_type": "code",
   "execution_count": null,
   "metadata": {},
   "outputs": [],
   "source": []
  }
 ],
 "metadata": {
  "kernelspec": {
   "display_name": "Python 3",
   "language": "python",
   "name": "python3"
  },
  "language_info": {
   "codemirror_mode": {
    "name": "ipython",
    "version": 3
   },
   "file_extension": ".py",
   "mimetype": "text/x-python",
   "name": "python",
   "nbconvert_exporter": "python",
   "pygments_lexer": "ipython3",
   "version": "3.8.8"
  }
 },
 "nbformat": 4,
 "nbformat_minor": 2
}
