{
 "cells": [
  {
   "cell_type": "markdown",
   "metadata": {},
   "source": [
    "# Прогнозирование содержания водорослей"
   ]
  },
  {
   "cell_type": "markdown",
   "metadata": {},
   "source": [
    "Используем в качестве примера для дальнейших упражнений таблицу, содержащую данные гидробиологических исследований обилия водорослей в различных реках. Каждое из наблюденийсодержит информацию  о 18 переменных, в том числе:\n",
    "\n",
    "+ три номинальных переменных, описывающих размеры size = c(\"large\", \"medium\", \"small\") и скорость течения реки speed = c(\"high\", \"low\", \"medium\"), а также время года season = c(\"autumn\", \"spring\", \"summer\", \"winter\"), сопряженное с моментом взятия проб;\n",
    "+ 8 переменных, составляющих комплекс наблюдаемых гидрохимических показателей: максимальное значение рН mxPH , минимальное содержание кислорода mnO2 , хлориды Cl , нитраты NO3 , ионы аммония NH4, орто-фосфаты oPO4 , общий минеральный фосфор PO4 и количество хлорофилла а Chla;\n",
    "+ средняя численность каждой из 7 групп водорослей a1 - a7 (видовой состав не идентифицировался).\n",
    "\n",
    "\n",
    "Нашей задачей будет научиться предсказывать численность хотя бы одной из групп водорослей\n"
   ]
  },
  {
   "cell_type": "markdown",
   "metadata": {},
   "source": [
    "### **0. Импорт необходимых пакетов**"
   ]
  },
  {
   "cell_type": "code",
   "execution_count": 1,
   "metadata": {},
   "outputs": [],
   "source": [
    "import pandas as pd\n",
    "import numpy as np\n",
    "\n",
    "# нам понадобится отрисовка графиков\n",
    "\n",
    "%matplotlib inline\n",
    "import matplotlib.pyplot as plt\n",
    "import seaborn as sns\n",
    "\n",
    "import warnings\n",
    "warnings.filterwarnings('ignore')"
   ]
  },
  {
   "cell_type": "markdown",
   "metadata": {},
   "source": [
    "### **1. Загрузка данных**\n",
    "\n"
   ]
  },
  {
   "cell_type": "code",
   "execution_count": 2,
   "metadata": {},
   "outputs": [],
   "source": [
    "df = pd.read_csv('analysisdata.csv', sep = ',', header = None, \n",
    "                   names = ['season','size','speed','mxPH','mnO2','Cl',\n",
    "                            'NO3','NH4','oPO4','PO4','Chla','a1','a2','a3','a4',\n",
    "                            'a5','a6','a7'])\n"
   ]
  },
  {
   "cell_type": "markdown",
   "metadata": {},
   "source": [
    "### 2. Небольшая предобработка данных"
   ]
  },
  {
   "cell_type": "markdown",
   "metadata": {},
   "source": [
    "Посмотрим, все ли мы правильно скачали"
   ]
  },
  {
   "cell_type": "code",
   "execution_count": 3,
   "metadata": {},
   "outputs": [
    {
     "data": {
      "text/html": [
       "<div>\n",
       "<style scoped>\n",
       "    .dataframe tbody tr th:only-of-type {\n",
       "        vertical-align: middle;\n",
       "    }\n",
       "\n",
       "    .dataframe tbody tr th {\n",
       "        vertical-align: top;\n",
       "    }\n",
       "\n",
       "    .dataframe thead th {\n",
       "        text-align: right;\n",
       "    }\n",
       "</style>\n",
       "<table border=\"1\" class=\"dataframe\">\n",
       "  <thead>\n",
       "    <tr style=\"text-align: right;\">\n",
       "      <th></th>\n",
       "      <th>season</th>\n",
       "      <th>size</th>\n",
       "      <th>speed</th>\n",
       "      <th>mxPH</th>\n",
       "      <th>mnO2</th>\n",
       "      <th>Cl</th>\n",
       "      <th>NO3</th>\n",
       "      <th>NH4</th>\n",
       "      <th>oPO4</th>\n",
       "      <th>PO4</th>\n",
       "      <th>Chla</th>\n",
       "      <th>a1</th>\n",
       "      <th>a2</th>\n",
       "      <th>a3</th>\n",
       "      <th>a4</th>\n",
       "      <th>a5</th>\n",
       "      <th>a6</th>\n",
       "      <th>a7</th>\n",
       "    </tr>\n",
       "  </thead>\n",
       "  <tbody>\n",
       "    <tr>\n",
       "      <th>0</th>\n",
       "      <td>winter</td>\n",
       "      <td>small_</td>\n",
       "      <td>medium</td>\n",
       "      <td>8.00000</td>\n",
       "      <td>9.80000</td>\n",
       "      <td>60.80000</td>\n",
       "      <td>6.23800</td>\n",
       "      <td>578.00000</td>\n",
       "      <td>105.00000</td>\n",
       "      <td>170.00000</td>\n",
       "      <td>50.00000</td>\n",
       "      <td>0.0</td>\n",
       "      <td>0.0</td>\n",
       "      <td>0.0</td>\n",
       "      <td>0.0</td>\n",
       "      <td>34.2</td>\n",
       "      <td>8.3</td>\n",
       "      <td>0.0</td>\n",
       "    </tr>\n",
       "    <tr>\n",
       "      <th>1</th>\n",
       "      <td>spring</td>\n",
       "      <td>small_</td>\n",
       "      <td>medium</td>\n",
       "      <td>8.35000</td>\n",
       "      <td>8.00000</td>\n",
       "      <td>57.75000</td>\n",
       "      <td>1.28800</td>\n",
       "      <td>370.00000</td>\n",
       "      <td>428.75000</td>\n",
       "      <td>558.75000</td>\n",
       "      <td>1.30000</td>\n",
       "      <td>1.4</td>\n",
       "      <td>7.6</td>\n",
       "      <td>4.8</td>\n",
       "      <td>1.9</td>\n",
       "      <td>6.7</td>\n",
       "      <td>0.0</td>\n",
       "      <td>2.1</td>\n",
       "    </tr>\n",
       "    <tr>\n",
       "      <th>2</th>\n",
       "      <td>autumn</td>\n",
       "      <td>small_</td>\n",
       "      <td>medium</td>\n",
       "      <td>8.10000</td>\n",
       "      <td>11.40000</td>\n",
       "      <td>40.02000</td>\n",
       "      <td>5.33000</td>\n",
       "      <td>346.66699</td>\n",
       "      <td>125.66700</td>\n",
       "      <td>187.05701</td>\n",
       "      <td>15.60000</td>\n",
       "      <td>3.3</td>\n",
       "      <td>53.6</td>\n",
       "      <td>1.9</td>\n",
       "      <td>0.0</td>\n",
       "      <td>0.0</td>\n",
       "      <td>0.0</td>\n",
       "      <td>9.7</td>\n",
       "    </tr>\n",
       "    <tr>\n",
       "      <th>3</th>\n",
       "      <td>spring</td>\n",
       "      <td>small_</td>\n",
       "      <td>medium</td>\n",
       "      <td>8.07000</td>\n",
       "      <td>4.80000</td>\n",
       "      <td>77.36400</td>\n",
       "      <td>2.30200</td>\n",
       "      <td>98.18200</td>\n",
       "      <td>61.18200</td>\n",
       "      <td>138.70000</td>\n",
       "      <td>1.40000</td>\n",
       "      <td>3.1</td>\n",
       "      <td>41.0</td>\n",
       "      <td>18.9</td>\n",
       "      <td>0.0</td>\n",
       "      <td>1.4</td>\n",
       "      <td>0.0</td>\n",
       "      <td>1.4</td>\n",
       "    </tr>\n",
       "    <tr>\n",
       "      <th>4</th>\n",
       "      <td>autumn</td>\n",
       "      <td>small_</td>\n",
       "      <td>medium</td>\n",
       "      <td>8.06000</td>\n",
       "      <td>9.00000</td>\n",
       "      <td>55.35000</td>\n",
       "      <td>10.41600</td>\n",
       "      <td>233.70000</td>\n",
       "      <td>58.22200</td>\n",
       "      <td>97.58000</td>\n",
       "      <td>10.50000</td>\n",
       "      <td>9.2</td>\n",
       "      <td>2.9</td>\n",
       "      <td>7.5</td>\n",
       "      <td>0.0</td>\n",
       "      <td>7.5</td>\n",
       "      <td>4.1</td>\n",
       "      <td>1.0</td>\n",
       "    </tr>\n",
       "  </tbody>\n",
       "</table>\n",
       "</div>"
      ],
      "text/plain": [
       "   season    size   speed     mxPH      mnO2        Cl       NO3        NH4  \\\n",
       "0  winter  small_  medium  8.00000   9.80000  60.80000   6.23800  578.00000   \n",
       "1  spring  small_  medium  8.35000   8.00000  57.75000   1.28800  370.00000   \n",
       "2  autumn  small_  medium  8.10000  11.40000  40.02000   5.33000  346.66699   \n",
       "3  spring  small_  medium  8.07000   4.80000  77.36400   2.30200   98.18200   \n",
       "4  autumn  small_  medium  8.06000   9.00000  55.35000  10.41600  233.70000   \n",
       "\n",
       "        oPO4        PO4      Chla   a1    a2    a3   a4    a5   a6   a7  \n",
       "0  105.00000  170.00000  50.00000  0.0   0.0   0.0  0.0  34.2  8.3  0.0  \n",
       "1  428.75000  558.75000   1.30000  1.4   7.6   4.8  1.9   6.7  0.0  2.1  \n",
       "2  125.66700  187.05701  15.60000  3.3  53.6   1.9  0.0   0.0  0.0  9.7  \n",
       "3   61.18200  138.70000   1.40000  3.1  41.0  18.9  0.0   1.4  0.0  1.4  \n",
       "4   58.22200   97.58000  10.50000  9.2   2.9   7.5  0.0   7.5  4.1  1.0  "
      ]
     },
     "execution_count": 3,
     "metadata": {},
     "output_type": "execute_result"
    }
   ],
   "source": [
    "df.head()"
   ]
  },
  {
   "cell_type": "code",
   "execution_count": 4,
   "metadata": {},
   "outputs": [
    {
     "data": {
      "text/html": [
       "<div>\n",
       "<style scoped>\n",
       "    .dataframe tbody tr th:only-of-type {\n",
       "        vertical-align: middle;\n",
       "    }\n",
       "\n",
       "    .dataframe tbody tr th {\n",
       "        vertical-align: top;\n",
       "    }\n",
       "\n",
       "    .dataframe thead th {\n",
       "        text-align: right;\n",
       "    }\n",
       "</style>\n",
       "<table border=\"1\" class=\"dataframe\">\n",
       "  <thead>\n",
       "    <tr style=\"text-align: right;\">\n",
       "      <th></th>\n",
       "      <th>a1</th>\n",
       "      <th>a2</th>\n",
       "      <th>a3</th>\n",
       "      <th>a4</th>\n",
       "      <th>a5</th>\n",
       "      <th>a6</th>\n",
       "      <th>a7</th>\n",
       "    </tr>\n",
       "  </thead>\n",
       "  <tbody>\n",
       "    <tr>\n",
       "      <th>count</th>\n",
       "      <td>333.000000</td>\n",
       "      <td>333.000000</td>\n",
       "      <td>333.000000</td>\n",
       "      <td>333.000000</td>\n",
       "      <td>333.000000</td>\n",
       "      <td>333.000000</td>\n",
       "      <td>316.000000</td>\n",
       "    </tr>\n",
       "    <tr>\n",
       "      <th>mean</th>\n",
       "      <td>16.861862</td>\n",
       "      <td>6.933634</td>\n",
       "      <td>4.216216</td>\n",
       "      <td>1.631532</td>\n",
       "      <td>5.919520</td>\n",
       "      <td>6.033634</td>\n",
       "      <td>2.177532</td>\n",
       "    </tr>\n",
       "    <tr>\n",
       "      <th>std</th>\n",
       "      <td>21.123350</td>\n",
       "      <td>10.669414</td>\n",
       "      <td>6.837550</td>\n",
       "      <td>3.399698</td>\n",
       "      <td>9.813241</td>\n",
       "      <td>11.385491</td>\n",
       "      <td>5.037671</td>\n",
       "    </tr>\n",
       "    <tr>\n",
       "      <th>min</th>\n",
       "      <td>0.000000</td>\n",
       "      <td>0.000000</td>\n",
       "      <td>0.000000</td>\n",
       "      <td>0.000000</td>\n",
       "      <td>0.000000</td>\n",
       "      <td>0.000000</td>\n",
       "      <td>0.000000</td>\n",
       "    </tr>\n",
       "    <tr>\n",
       "      <th>25%</th>\n",
       "      <td>1.500000</td>\n",
       "      <td>0.000000</td>\n",
       "      <td>0.000000</td>\n",
       "      <td>0.000000</td>\n",
       "      <td>0.000000</td>\n",
       "      <td>0.000000</td>\n",
       "      <td>0.000000</td>\n",
       "    </tr>\n",
       "    <tr>\n",
       "      <th>50%</th>\n",
       "      <td>7.600000</td>\n",
       "      <td>2.100000</td>\n",
       "      <td>1.500000</td>\n",
       "      <td>0.000000</td>\n",
       "      <td>2.200000</td>\n",
       "      <td>0.000000</td>\n",
       "      <td>0.000000</td>\n",
       "    </tr>\n",
       "    <tr>\n",
       "      <th>75%</th>\n",
       "      <td>25.100000</td>\n",
       "      <td>8.900000</td>\n",
       "      <td>5.400000</td>\n",
       "      <td>2.200000</td>\n",
       "      <td>8.100000</td>\n",
       "      <td>6.800000</td>\n",
       "      <td>2.200000</td>\n",
       "    </tr>\n",
       "    <tr>\n",
       "      <th>max</th>\n",
       "      <td>89.800000</td>\n",
       "      <td>72.600000</td>\n",
       "      <td>44.600000</td>\n",
       "      <td>35.600000</td>\n",
       "      <td>77.600000</td>\n",
       "      <td>70.700000</td>\n",
       "      <td>31.600000</td>\n",
       "    </tr>\n",
       "  </tbody>\n",
       "</table>\n",
       "</div>"
      ],
      "text/plain": [
       "               a1          a2          a3          a4          a5          a6  \\\n",
       "count  333.000000  333.000000  333.000000  333.000000  333.000000  333.000000   \n",
       "mean    16.861862    6.933634    4.216216    1.631532    5.919520    6.033634   \n",
       "std     21.123350   10.669414    6.837550    3.399698    9.813241   11.385491   \n",
       "min      0.000000    0.000000    0.000000    0.000000    0.000000    0.000000   \n",
       "25%      1.500000    0.000000    0.000000    0.000000    0.000000    0.000000   \n",
       "50%      7.600000    2.100000    1.500000    0.000000    2.200000    0.000000   \n",
       "75%     25.100000    8.900000    5.400000    2.200000    8.100000    6.800000   \n",
       "max     89.800000   72.600000   44.600000   35.600000   77.600000   70.700000   \n",
       "\n",
       "               a7  \n",
       "count  316.000000  \n",
       "mean     2.177532  \n",
       "std      5.037671  \n",
       "min      0.000000  \n",
       "25%      0.000000  \n",
       "50%      0.000000  \n",
       "75%      2.200000  \n",
       "max     31.600000  "
      ]
     },
     "execution_count": 4,
     "metadata": {},
     "output_type": "execute_result"
    }
   ],
   "source": [
    "df.describe()"
   ]
  },
  {
   "cell_type": "code",
   "execution_count": 5,
   "metadata": {},
   "outputs": [
    {
     "name": "stdout",
     "output_type": "stream",
     "text": [
      "<class 'pandas.core.frame.DataFrame'>\n",
      "RangeIndex: 333 entries, 0 to 332\n",
      "Data columns (total 18 columns):\n",
      " #   Column  Non-Null Count  Dtype  \n",
      "---  ------  --------------  -----  \n",
      " 0   season  333 non-null    object \n",
      " 1   size    333 non-null    object \n",
      " 2   speed   333 non-null    object \n",
      " 3   mxPH    333 non-null    object \n",
      " 4   mnO2    333 non-null    object \n",
      " 5   Cl      333 non-null    object \n",
      " 6   NO3     333 non-null    object \n",
      " 7   NH4     333 non-null    object \n",
      " 8   oPO4    333 non-null    object \n",
      " 9   PO4     333 non-null    object \n",
      " 10  Chla    333 non-null    object \n",
      " 11  a1      333 non-null    float64\n",
      " 12  a2      333 non-null    float64\n",
      " 13  a3      333 non-null    float64\n",
      " 14  a4      333 non-null    float64\n",
      " 15  a5      333 non-null    float64\n",
      " 16  a6      333 non-null    float64\n",
      " 17  a7      316 non-null    float64\n",
      "dtypes: float64(7), object(11)\n",
      "memory usage: 47.0+ KB\n"
     ]
    }
   ],
   "source": [
    "df.info()"
   ]
  },
  {
   "cell_type": "markdown",
   "metadata": {},
   "source": [
    "Практически все признаки у нас типа object. Надо привести их к числовому формату"
   ]
  },
  {
   "cell_type": "markdown",
   "metadata": {},
   "source": [
    "**Перекодируем пропуски**"
   ]
  },
  {
   "cell_type": "code",
   "execution_count": 6,
   "metadata": {},
   "outputs": [],
   "source": [
    "df.loc[df['mxPH']=='XXXXXXX', 'mxPH'] = np.nan\n",
    "df.loc[df['mnO2']=='XXXXXXX', 'mnO2'] = np.nan\n",
    "df.loc[df['Cl']=='XXXXXXX', 'Cl'] = np.nan\n",
    "df.loc[df['NO3']=='XXXXXXX', 'NO3'] = np.nan\n",
    "df.loc[df['NO3']=='XXXXXXX', 'NO3'] = np.nan\n",
    "df.loc[df['NH4']=='XXXXXXX', 'NH4'] = np.nan\n",
    "df.loc[df['oPO4']=='XXXXXXX', 'oPO4'] = np.nan\n",
    "df.loc[df['PO4']=='XXXXXXX', 'PO4'] = np.nan\n",
    "df.loc[df['Chla']=='XXXXXXX', 'Chla'] = np.nan"
   ]
  },
  {
   "cell_type": "code",
   "execution_count": 7,
   "metadata": {
    "scrolled": true
   },
   "outputs": [],
   "source": [
    "# приведение к числовому формату\n",
    "df['mxPH']= df['mxPH'].astype('float')\n",
    "df['mnO2']= df['mnO2'].astype('float')\n",
    "df['Cl']= df['Cl'].astype('float')\n",
    "df['NO3']= df['NO3'].astype('float')\n",
    "df['NH4']= df['NH4'].astype('float')\n",
    "df['oPO4']= df['oPO4'].astype('float')\n",
    "df['PO4']= df['PO4'].astype('float')\n",
    "df['Chla']= df['Chla'].astype('float')\n"
   ]
  },
  {
   "cell_type": "code",
   "execution_count": 8,
   "metadata": {},
   "outputs": [
    {
     "name": "stdout",
     "output_type": "stream",
     "text": [
      "<class 'pandas.core.frame.DataFrame'>\n",
      "RangeIndex: 333 entries, 0 to 332\n",
      "Data columns (total 18 columns):\n",
      " #   Column  Non-Null Count  Dtype  \n",
      "---  ------  --------------  -----  \n",
      " 0   season  333 non-null    object \n",
      " 1   size    333 non-null    object \n",
      " 2   speed   333 non-null    object \n",
      " 3   mxPH    331 non-null    float64\n",
      " 4   mnO2    331 non-null    float64\n",
      " 5   Cl      317 non-null    float64\n",
      " 6   NO3     331 non-null    float64\n",
      " 7   NH4     331 non-null    float64\n",
      " 8   oPO4    331 non-null    float64\n",
      " 9   PO4     326 non-null    float64\n",
      " 10  Chla    310 non-null    float64\n",
      " 11  a1      333 non-null    float64\n",
      " 12  a2      333 non-null    float64\n",
      " 13  a3      333 non-null    float64\n",
      " 14  a4      333 non-null    float64\n",
      " 15  a5      333 non-null    float64\n",
      " 16  a6      333 non-null    float64\n",
      " 17  a7      316 non-null    float64\n",
      "dtypes: float64(15), object(3)\n",
      "memory usage: 47.0+ KB\n"
     ]
    }
   ],
   "source": [
    "df.info()"
   ]
  },
  {
   "cell_type": "code",
   "execution_count": 9,
   "metadata": {},
   "outputs": [
    {
     "data": {
      "text/html": [
       "<div>\n",
       "<style scoped>\n",
       "    .dataframe tbody tr th:only-of-type {\n",
       "        vertical-align: middle;\n",
       "    }\n",
       "\n",
       "    .dataframe tbody tr th {\n",
       "        vertical-align: top;\n",
       "    }\n",
       "\n",
       "    .dataframe thead th {\n",
       "        text-align: right;\n",
       "    }\n",
       "</style>\n",
       "<table border=\"1\" class=\"dataframe\">\n",
       "  <thead>\n",
       "    <tr style=\"text-align: right;\">\n",
       "      <th></th>\n",
       "      <th>mxPH</th>\n",
       "      <th>mnO2</th>\n",
       "      <th>Cl</th>\n",
       "      <th>NO3</th>\n",
       "      <th>NH4</th>\n",
       "      <th>oPO4</th>\n",
       "      <th>PO4</th>\n",
       "      <th>Chla</th>\n",
       "      <th>a1</th>\n",
       "      <th>a2</th>\n",
       "      <th>a3</th>\n",
       "      <th>a4</th>\n",
       "      <th>a5</th>\n",
       "      <th>a6</th>\n",
       "      <th>a7</th>\n",
       "    </tr>\n",
       "  </thead>\n",
       "  <tbody>\n",
       "    <tr>\n",
       "      <th>count</th>\n",
       "      <td>331.000000</td>\n",
       "      <td>331.000000</td>\n",
       "      <td>317.000000</td>\n",
       "      <td>331.000000</td>\n",
       "      <td>331.000000</td>\n",
       "      <td>331.000000</td>\n",
       "      <td>326.000000</td>\n",
       "      <td>310.000000</td>\n",
       "      <td>333.000000</td>\n",
       "      <td>333.000000</td>\n",
       "      <td>333.000000</td>\n",
       "      <td>333.000000</td>\n",
       "      <td>333.000000</td>\n",
       "      <td>333.000000</td>\n",
       "      <td>316.000000</td>\n",
       "    </tr>\n",
       "    <tr>\n",
       "      <th>mean</th>\n",
       "      <td>7.998384</td>\n",
       "      <td>9.192961</td>\n",
       "      <td>42.356261</td>\n",
       "      <td>3.128946</td>\n",
       "      <td>162.791517</td>\n",
       "      <td>72.561674</td>\n",
       "      <td>112.597638</td>\n",
       "      <td>12.586829</td>\n",
       "      <td>16.861862</td>\n",
       "      <td>6.933634</td>\n",
       "      <td>4.216216</td>\n",
       "      <td>1.631532</td>\n",
       "      <td>5.919520</td>\n",
       "      <td>6.033634</td>\n",
       "      <td>2.177532</td>\n",
       "    </tr>\n",
       "    <tr>\n",
       "      <th>std</th>\n",
       "      <td>0.584159</td>\n",
       "      <td>2.296167</td>\n",
       "      <td>44.848868</td>\n",
       "      <td>3.303178</td>\n",
       "      <td>186.208544</td>\n",
       "      <td>101.666933</td>\n",
       "      <td>101.092140</td>\n",
       "      <td>18.121411</td>\n",
       "      <td>21.123350</td>\n",
       "      <td>10.669414</td>\n",
       "      <td>6.837550</td>\n",
       "      <td>3.399698</td>\n",
       "      <td>9.813241</td>\n",
       "      <td>11.385491</td>\n",
       "      <td>5.037671</td>\n",
       "    </tr>\n",
       "    <tr>\n",
       "      <th>min</th>\n",
       "      <td>5.600000</td>\n",
       "      <td>1.500000</td>\n",
       "      <td>0.222000</td>\n",
       "      <td>0.000000</td>\n",
       "      <td>5.000000</td>\n",
       "      <td>1.000000</td>\n",
       "      <td>0.900000</td>\n",
       "      <td>0.000000</td>\n",
       "      <td>0.000000</td>\n",
       "      <td>0.000000</td>\n",
       "      <td>0.000000</td>\n",
       "      <td>0.000000</td>\n",
       "      <td>0.000000</td>\n",
       "      <td>0.000000</td>\n",
       "      <td>0.000000</td>\n",
       "    </tr>\n",
       "    <tr>\n",
       "      <th>25%</th>\n",
       "      <td>7.730000</td>\n",
       "      <td>8.000000</td>\n",
       "      <td>10.936000</td>\n",
       "      <td>1.176000</td>\n",
       "      <td>34.666500</td>\n",
       "      <td>13.000000</td>\n",
       "      <td>22.600000</td>\n",
       "      <td>2.000000</td>\n",
       "      <td>1.500000</td>\n",
       "      <td>0.000000</td>\n",
       "      <td>0.000000</td>\n",
       "      <td>0.000000</td>\n",
       "      <td>0.000000</td>\n",
       "      <td>0.000000</td>\n",
       "      <td>0.000000</td>\n",
       "    </tr>\n",
       "    <tr>\n",
       "      <th>50%</th>\n",
       "      <td>8.060000</td>\n",
       "      <td>9.800000</td>\n",
       "      <td>32.400000</td>\n",
       "      <td>2.363000</td>\n",
       "      <td>101.250000</td>\n",
       "      <td>37.000000</td>\n",
       "      <td>84.500000</td>\n",
       "      <td>4.850000</td>\n",
       "      <td>7.600000</td>\n",
       "      <td>2.100000</td>\n",
       "      <td>1.500000</td>\n",
       "      <td>0.000000</td>\n",
       "      <td>2.200000</td>\n",
       "      <td>0.000000</td>\n",
       "      <td>0.000000</td>\n",
       "    </tr>\n",
       "    <tr>\n",
       "      <th>75%</th>\n",
       "      <td>8.400000</td>\n",
       "      <td>10.800000</td>\n",
       "      <td>57.500000</td>\n",
       "      <td>4.179000</td>\n",
       "      <td>212.706495</td>\n",
       "      <td>86.050000</td>\n",
       "      <td>174.479007</td>\n",
       "      <td>17.312500</td>\n",
       "      <td>25.100000</td>\n",
       "      <td>8.900000</td>\n",
       "      <td>5.400000</td>\n",
       "      <td>2.200000</td>\n",
       "      <td>8.100000</td>\n",
       "      <td>6.800000</td>\n",
       "      <td>2.200000</td>\n",
       "    </tr>\n",
       "    <tr>\n",
       "      <th>max</th>\n",
       "      <td>9.700000</td>\n",
       "      <td>13.400000</td>\n",
       "      <td>391.500000</td>\n",
       "      <td>45.650002</td>\n",
       "      <td>931.833010</td>\n",
       "      <td>771.599980</td>\n",
       "      <td>558.750000</td>\n",
       "      <td>110.456000</td>\n",
       "      <td>89.800000</td>\n",
       "      <td>72.600000</td>\n",
       "      <td>44.600000</td>\n",
       "      <td>35.600000</td>\n",
       "      <td>77.600000</td>\n",
       "      <td>70.700000</td>\n",
       "      <td>31.600000</td>\n",
       "    </tr>\n",
       "  </tbody>\n",
       "</table>\n",
       "</div>"
      ],
      "text/plain": [
       "             mxPH        mnO2          Cl         NO3         NH4        oPO4  \\\n",
       "count  331.000000  331.000000  317.000000  331.000000  331.000000  331.000000   \n",
       "mean     7.998384    9.192961   42.356261    3.128946  162.791517   72.561674   \n",
       "std      0.584159    2.296167   44.848868    3.303178  186.208544  101.666933   \n",
       "min      5.600000    1.500000    0.222000    0.000000    5.000000    1.000000   \n",
       "25%      7.730000    8.000000   10.936000    1.176000   34.666500   13.000000   \n",
       "50%      8.060000    9.800000   32.400000    2.363000  101.250000   37.000000   \n",
       "75%      8.400000   10.800000   57.500000    4.179000  212.706495   86.050000   \n",
       "max      9.700000   13.400000  391.500000   45.650002  931.833010  771.599980   \n",
       "\n",
       "              PO4        Chla          a1          a2          a3          a4  \\\n",
       "count  326.000000  310.000000  333.000000  333.000000  333.000000  333.000000   \n",
       "mean   112.597638   12.586829   16.861862    6.933634    4.216216    1.631532   \n",
       "std    101.092140   18.121411   21.123350   10.669414    6.837550    3.399698   \n",
       "min      0.900000    0.000000    0.000000    0.000000    0.000000    0.000000   \n",
       "25%     22.600000    2.000000    1.500000    0.000000    0.000000    0.000000   \n",
       "50%     84.500000    4.850000    7.600000    2.100000    1.500000    0.000000   \n",
       "75%    174.479007   17.312500   25.100000    8.900000    5.400000    2.200000   \n",
       "max    558.750000  110.456000   89.800000   72.600000   44.600000   35.600000   \n",
       "\n",
       "               a5          a6          a7  \n",
       "count  333.000000  333.000000  316.000000  \n",
       "mean     5.919520    6.033634    2.177532  \n",
       "std      9.813241   11.385491    5.037671  \n",
       "min      0.000000    0.000000    0.000000  \n",
       "25%      0.000000    0.000000    0.000000  \n",
       "50%      2.200000    0.000000    0.000000  \n",
       "75%      8.100000    6.800000    2.200000  \n",
       "max     77.600000   70.700000   31.600000  "
      ]
     },
     "execution_count": 9,
     "metadata": {},
     "output_type": "execute_result"
    }
   ],
   "source": [
    "df.describe()"
   ]
  },
  {
   "cell_type": "markdown",
   "metadata": {},
   "source": [
    "Пока что выкинем a7 из рассмотрения"
   ]
  },
  {
   "cell_type": "code",
   "execution_count": 10,
   "metadata": {},
   "outputs": [],
   "source": [
    "df.drop(['a7'], axis=1, inplace=True)"
   ]
  },
  {
   "cell_type": "markdown",
   "metadata": {},
   "source": [
    "### **3. Простейшие модели без настройки параметров**\n"
   ]
  },
  {
   "cell_type": "markdown",
   "metadata": {},
   "source": [
    "Посмотрим, что будет, если мы особо не напрягаясь, просто удалим все пропуски, забудем про категориальные переменные и попробуем построить линейную регрессию прогнозирования признака 'a4' просто на всех оставшихся данных"
   ]
  },
  {
   "cell_type": "code",
   "execution_count": 11,
   "metadata": {},
   "outputs": [
    {
     "name": "stdout",
     "output_type": "stream",
     "text": [
      "<class 'pandas.core.frame.DataFrame'>\n",
      "Int64Index: 299 entries, 0 to 332\n",
      "Data columns (total 17 columns):\n",
      " #   Column  Non-Null Count  Dtype  \n",
      "---  ------  --------------  -----  \n",
      " 0   season  299 non-null    object \n",
      " 1   size    299 non-null    object \n",
      " 2   speed   299 non-null    object \n",
      " 3   mxPH    299 non-null    float64\n",
      " 4   mnO2    299 non-null    float64\n",
      " 5   Cl      299 non-null    float64\n",
      " 6   NO3     299 non-null    float64\n",
      " 7   NH4     299 non-null    float64\n",
      " 8   oPO4    299 non-null    float64\n",
      " 9   PO4     299 non-null    float64\n",
      " 10  Chla    299 non-null    float64\n",
      " 11  a1      299 non-null    float64\n",
      " 12  a2      299 non-null    float64\n",
      " 13  a3      299 non-null    float64\n",
      " 14  a4      299 non-null    float64\n",
      " 15  a5      299 non-null    float64\n",
      " 16  a6      299 non-null    float64\n",
      "dtypes: float64(14), object(3)\n",
      "memory usage: 42.0+ KB\n"
     ]
    }
   ],
   "source": [
    "df_first = df.dropna()\n",
    "df_first.info()"
   ]
  },
  {
   "cell_type": "code",
   "execution_count": 12,
   "metadata": {},
   "outputs": [],
   "source": [
    "y = df_first['a1']\n",
    "X = df_first.drop(['a1','season','size', 'speed'], axis=1)"
   ]
  },
  {
   "cell_type": "markdown",
   "metadata": {},
   "source": [
    "**Разделение данных**\n",
    "\n",
    "Разделим данные на тестовую и обучающую выборку (70% к 30%)"
   ]
  },
  {
   "cell_type": "code",
   "execution_count": null,
   "metadata": {},
   "outputs": [],
   "source": []
  },
  {
   "cell_type": "code",
   "execution_count": 13,
   "metadata": {},
   "outputs": [],
   "source": [
    "# подгрузим необходимые пакеты.\n",
    "from sklearn.linear_model import LinearRegression\n",
    "from sklearn.model_selection import train_test_split\n",
    "\n",
    "X_train, X_test, y_train, y_test = train_test_split(X, y, test_size = 0.3, random_state = 42)"
   ]
  },
  {
   "cell_type": "markdown",
   "metadata": {},
   "source": [
    "**Что будет если мы просто предскажем средним значением?**"
   ]
  },
  {
   "cell_type": "code",
   "execution_count": 14,
   "metadata": {},
   "outputs": [
    {
     "name": "stdout",
     "output_type": "stream",
     "text": [
      "Правильность на константном наборе R^2: -0.00\n",
      "СКО на тестовом наборе: 20.53\n"
     ]
    }
   ],
   "source": [
    "from sklearn.metrics import r2_score, mean_squared_error\n",
    "pred =  [y_train.mean() for i in range(len(y_test))]\n",
    "\n",
    "print(\"Правильность на константном наборе R^2: {:.2f}\".format(r2_score(y_test, pred )))\n",
    "print(\"СКО на тестовом наборе: {:.2f}\".format(np.sqrt(mean_squared_error(y_test, pred))))\n",
    "\n",
    "# ничего хорошего"
   ]
  },
  {
   "cell_type": "markdown",
   "metadata": {},
   "source": [
    "**Линейная регрессия**"
   ]
  },
  {
   "cell_type": "code",
   "execution_count": 15,
   "metadata": {},
   "outputs": [
    {
     "name": "stdout",
     "output_type": "stream",
     "text": [
      "Веса регрессии: [ 1.32131778e+00  7.88598441e-01 -3.96408849e-02 -4.96777119e-01\n",
      " -4.22967930e-04 -2.91395153e-02 -2.56920542e-02 -1.85090364e-01\n",
      " -3.60262386e-01 -3.67929427e-01 -6.00002242e-01 -1.87145833e-01\n",
      " -3.67662633e-01]\n",
      "Свободное слагаемое: 16.63\n"
     ]
    }
   ],
   "source": [
    "# Задаем модель lr, с помощью функции fit обучаем ее на тренировочных данных\n",
    "lr = LinearRegression()\n",
    "lr.fit(X_train, y_train)\n",
    "\n",
    "print(\"Веса регрессии:\",  lr.coef_ )\n",
    "print(\"Свободное слагаемое: {:.2f}\".format(lr.intercept_))"
   ]
  },
  {
   "cell_type": "markdown",
   "metadata": {},
   "source": [
    "**Посмотрим, на сколько хорошая самая первая примитивная модель**"
   ]
  },
  {
   "cell_type": "code",
   "execution_count": 16,
   "metadata": {},
   "outputs": [
    {
     "name": "stdout",
     "output_type": "stream",
     "text": [
      "Правильность на обучающем наборе R^2: 0.43\n",
      "СКО на обучающем наборе: 14.23\n",
      "Правильность на тестовом наборе R^2: 0.35\n",
      "СКО на тестовом наборе: 16.58\n"
     ]
    }
   ],
   "source": [
    "# Загрузим соответствующие метрики\n",
    "from sklearn.metrics import r2_score, mean_squared_error\n",
    "\n",
    "# Спрогнозируем для тестовых и тренировочных данных\n",
    "\n",
    "y_train_pred = lr.predict(X_train)\n",
    "y_test_pred = lr.predict(X_test)\n",
    "\n",
    "# Вывод результата\n",
    "print(\"Правильность на обучающем наборе R^2: {:.2f}\".format(r2_score(y_train, y_train_pred)))\n",
    "print(\"СКО на обучающем наборе: {:.2f}\".format(np.sqrt(mean_squared_error(y_train, y_train_pred))))\n",
    "print(\"Правильность на тестовом наборе R^2: {:.2f}\".format(r2_score(y_test, y_test_pred)))\n",
    "print(\"СКО на тестовом наборе: {:.2f}\".format(np.sqrt(mean_squared_error(y_test, y_test_pred))))"
   ]
  },
  {
   "cell_type": "code",
   "execution_count": 17,
   "metadata": {},
   "outputs": [],
   "source": [
    "data = pd.concat([X_train, X_test], ignore_index = True)"
   ]
  },
  {
   "cell_type": "code",
   "execution_count": 18,
   "metadata": {},
   "outputs": [],
   "source": [
    "data['a7'] = data['a2']+data['a4']"
   ]
  },
  {
   "cell_type": "code",
   "execution_count": 19,
   "metadata": {},
   "outputs": [
    {
     "data": {
      "text/html": [
       "<div>\n",
       "<style scoped>\n",
       "    .dataframe tbody tr th:only-of-type {\n",
       "        vertical-align: middle;\n",
       "    }\n",
       "\n",
       "    .dataframe tbody tr th {\n",
       "        vertical-align: top;\n",
       "    }\n",
       "\n",
       "    .dataframe thead th {\n",
       "        text-align: right;\n",
       "    }\n",
       "</style>\n",
       "<table border=\"1\" class=\"dataframe\">\n",
       "  <thead>\n",
       "    <tr style=\"text-align: right;\">\n",
       "      <th></th>\n",
       "      <th>mxPH</th>\n",
       "      <th>mnO2</th>\n",
       "      <th>Cl</th>\n",
       "      <th>NO3</th>\n",
       "      <th>NH4</th>\n",
       "      <th>oPO4</th>\n",
       "      <th>PO4</th>\n",
       "      <th>Chla</th>\n",
       "      <th>a2</th>\n",
       "      <th>a3</th>\n",
       "      <th>a4</th>\n",
       "      <th>a5</th>\n",
       "      <th>a6</th>\n",
       "      <th>a7</th>\n",
       "    </tr>\n",
       "  </thead>\n",
       "  <tbody>\n",
       "    <tr>\n",
       "      <th>0</th>\n",
       "      <td>8.30</td>\n",
       "      <td>8.6</td>\n",
       "      <td>75.00000</td>\n",
       "      <td>5.180000</td>\n",
       "      <td>560.00000</td>\n",
       "      <td>30.50000</td>\n",
       "      <td>170.00000</td>\n",
       "      <td>16.700</td>\n",
       "      <td>1.5</td>\n",
       "      <td>0.0</td>\n",
       "      <td>0.0</td>\n",
       "      <td>14.1</td>\n",
       "      <td>70.7</td>\n",
       "      <td>1.5</td>\n",
       "    </tr>\n",
       "    <tr>\n",
       "      <th>1</th>\n",
       "      <td>7.40</td>\n",
       "      <td>9.8</td>\n",
       "      <td>11.00000</td>\n",
       "      <td>3.235000</td>\n",
       "      <td>255.00000</td>\n",
       "      <td>38.75000</td>\n",
       "      <td>56.66700</td>\n",
       "      <td>2.000</td>\n",
       "      <td>0.0</td>\n",
       "      <td>0.0</td>\n",
       "      <td>4.6</td>\n",
       "      <td>6.5</td>\n",
       "      <td>2.2</td>\n",
       "      <td>4.6</td>\n",
       "    </tr>\n",
       "    <tr>\n",
       "      <th>2</th>\n",
       "      <td>8.90</td>\n",
       "      <td>8.0</td>\n",
       "      <td>60.20000</td>\n",
       "      <td>4.033000</td>\n",
       "      <td>306.47101</td>\n",
       "      <td>136.00000</td>\n",
       "      <td>242.94099</td>\n",
       "      <td>18.400</td>\n",
       "      <td>7.7</td>\n",
       "      <td>0.0</td>\n",
       "      <td>0.0</td>\n",
       "      <td>11.6</td>\n",
       "      <td>54.3</td>\n",
       "      <td>7.7</td>\n",
       "    </tr>\n",
       "    <tr>\n",
       "      <th>3</th>\n",
       "      <td>8.10</td>\n",
       "      <td>10.5</td>\n",
       "      <td>22.28600</td>\n",
       "      <td>4.071000</td>\n",
       "      <td>178.57001</td>\n",
       "      <td>182.42000</td>\n",
       "      <td>255.28000</td>\n",
       "      <td>8.957</td>\n",
       "      <td>2.7</td>\n",
       "      <td>1.0</td>\n",
       "      <td>3.7</td>\n",
       "      <td>2.7</td>\n",
       "      <td>0.0</td>\n",
       "      <td>6.4</td>\n",
       "    </tr>\n",
       "    <tr>\n",
       "      <th>4</th>\n",
       "      <td>7.78</td>\n",
       "      <td>12.0</td>\n",
       "      <td>7.00000</td>\n",
       "      <td>1.420000</td>\n",
       "      <td>34.33300</td>\n",
       "      <td>18.66700</td>\n",
       "      <td>50.00000</td>\n",
       "      <td>1.100</td>\n",
       "      <td>0.0</td>\n",
       "      <td>0.0</td>\n",
       "      <td>1.2</td>\n",
       "      <td>0.0</td>\n",
       "      <td>0.0</td>\n",
       "      <td>1.2</td>\n",
       "    </tr>\n",
       "    <tr>\n",
       "      <th>...</th>\n",
       "      <td>...</td>\n",
       "      <td>...</td>\n",
       "      <td>...</td>\n",
       "      <td>...</td>\n",
       "      <td>...</td>\n",
       "      <td>...</td>\n",
       "      <td>...</td>\n",
       "      <td>...</td>\n",
       "      <td>...</td>\n",
       "      <td>...</td>\n",
       "      <td>...</td>\n",
       "      <td>...</td>\n",
       "      <td>...</td>\n",
       "      <td>...</td>\n",
       "    </tr>\n",
       "    <tr>\n",
       "      <th>294</th>\n",
       "      <td>7.80</td>\n",
       "      <td>6.5</td>\n",
       "      <td>64.09300</td>\n",
       "      <td>7.740002</td>\n",
       "      <td>47.50000</td>\n",
       "      <td>276.00000</td>\n",
       "      <td>8.10000</td>\n",
       "      <td>6.500</td>\n",
       "      <td>0.0</td>\n",
       "      <td>7.7</td>\n",
       "      <td>9.9</td>\n",
       "      <td>18.2</td>\n",
       "      <td>7.0</td>\n",
       "      <td>9.9</td>\n",
       "    </tr>\n",
       "    <tr>\n",
       "      <th>295</th>\n",
       "      <td>7.50</td>\n",
       "      <td>10.8</td>\n",
       "      <td>31.00000</td>\n",
       "      <td>4.408000</td>\n",
       "      <td>737.50000</td>\n",
       "      <td>111.25000</td>\n",
       "      <td>214.00000</td>\n",
       "      <td>2.900</td>\n",
       "      <td>0.0</td>\n",
       "      <td>0.0</td>\n",
       "      <td>5.0</td>\n",
       "      <td>1.9</td>\n",
       "      <td>6.2</td>\n",
       "      <td>5.0</td>\n",
       "    </tr>\n",
       "    <tr>\n",
       "      <th>296</th>\n",
       "      <td>7.55</td>\n",
       "      <td>11.5</td>\n",
       "      <td>4.70000</td>\n",
       "      <td>1.320000</td>\n",
       "      <td>14.75000</td>\n",
       "      <td>4.25000</td>\n",
       "      <td>98.25000</td>\n",
       "      <td>1.100</td>\n",
       "      <td>0.0</td>\n",
       "      <td>1.7</td>\n",
       "      <td>0.0</td>\n",
       "      <td>0.0</td>\n",
       "      <td>0.0</td>\n",
       "      <td>0.0</td>\n",
       "    </tr>\n",
       "    <tr>\n",
       "      <th>297</th>\n",
       "      <td>7.70</td>\n",
       "      <td>10.2</td>\n",
       "      <td>8.00000</td>\n",
       "      <td>1.527000</td>\n",
       "      <td>21.57100</td>\n",
       "      <td>12.75000</td>\n",
       "      <td>20.75000</td>\n",
       "      <td>0.800</td>\n",
       "      <td>0.0</td>\n",
       "      <td>0.0</td>\n",
       "      <td>0.0</td>\n",
       "      <td>1.2</td>\n",
       "      <td>0.0</td>\n",
       "      <td>0.0</td>\n",
       "    </tr>\n",
       "    <tr>\n",
       "      <th>298</th>\n",
       "      <td>7.91</td>\n",
       "      <td>6.2</td>\n",
       "      <td>151.83299</td>\n",
       "      <td>3.923001</td>\n",
       "      <td>346.16699</td>\n",
       "      <td>388.16699</td>\n",
       "      <td>5.08300</td>\n",
       "      <td>1.700</td>\n",
       "      <td>4.9</td>\n",
       "      <td>2.7</td>\n",
       "      <td>0.0</td>\n",
       "      <td>5.9</td>\n",
       "      <td>1.7</td>\n",
       "      <td>4.9</td>\n",
       "    </tr>\n",
       "  </tbody>\n",
       "</table>\n",
       "<p>299 rows × 14 columns</p>\n",
       "</div>"
      ],
      "text/plain": [
       "     mxPH  mnO2         Cl       NO3        NH4       oPO4        PO4    Chla  \\\n",
       "0    8.30   8.6   75.00000  5.180000  560.00000   30.50000  170.00000  16.700   \n",
       "1    7.40   9.8   11.00000  3.235000  255.00000   38.75000   56.66700   2.000   \n",
       "2    8.90   8.0   60.20000  4.033000  306.47101  136.00000  242.94099  18.400   \n",
       "3    8.10  10.5   22.28600  4.071000  178.57001  182.42000  255.28000   8.957   \n",
       "4    7.78  12.0    7.00000  1.420000   34.33300   18.66700   50.00000   1.100   \n",
       "..    ...   ...        ...       ...        ...        ...        ...     ...   \n",
       "294  7.80   6.5   64.09300  7.740002   47.50000  276.00000    8.10000   6.500   \n",
       "295  7.50  10.8   31.00000  4.408000  737.50000  111.25000  214.00000   2.900   \n",
       "296  7.55  11.5    4.70000  1.320000   14.75000    4.25000   98.25000   1.100   \n",
       "297  7.70  10.2    8.00000  1.527000   21.57100   12.75000   20.75000   0.800   \n",
       "298  7.91   6.2  151.83299  3.923001  346.16699  388.16699    5.08300   1.700   \n",
       "\n",
       "      a2   a3   a4    a5    a6   a7  \n",
       "0    1.5  0.0  0.0  14.1  70.7  1.5  \n",
       "1    0.0  0.0  4.6   6.5   2.2  4.6  \n",
       "2    7.7  0.0  0.0  11.6  54.3  7.7  \n",
       "3    2.7  1.0  3.7   2.7   0.0  6.4  \n",
       "4    0.0  0.0  1.2   0.0   0.0  1.2  \n",
       "..   ...  ...  ...   ...   ...  ...  \n",
       "294  0.0  7.7  9.9  18.2   7.0  9.9  \n",
       "295  0.0  0.0  5.0   1.9   6.2  5.0  \n",
       "296  0.0  1.7  0.0   0.0   0.0  0.0  \n",
       "297  0.0  0.0  0.0   1.2   0.0  0.0  \n",
       "298  4.9  2.7  0.0   5.9   1.7  4.9  \n",
       "\n",
       "[299 rows x 14 columns]"
      ]
     },
     "execution_count": 19,
     "metadata": {},
     "output_type": "execute_result"
    }
   ],
   "source": [
    "data"
   ]
  },
  {
   "cell_type": "code",
   "execution_count": null,
   "metadata": {},
   "outputs": [],
   "source": []
  },
  {
   "cell_type": "markdown",
   "metadata": {},
   "source": [
    "**Как мы видим, качество не очень хорошее. Но лезть и что-то менять в данных нам все еще лень и мы пытаемся исхитриться дальше** "
   ]
  },
  {
   "cell_type": "markdown",
   "metadata": {},
   "source": [
    "### 0. Полиномиальная регрессия\n",
    "Можем попробовать применить полиномиальную регрессию соответствующей степени"
   ]
  },
  {
   "cell_type": "code",
   "execution_count": 22,
   "metadata": {},
   "outputs": [],
   "source": [
    "# Загрузка соответствующего пакета\n",
    "from sklearn.preprocessing import PolynomialFeatures\n",
    "\n",
    "\n",
    "# превратили каждый признак в два - он, квадрат и куб, и их возможные комбинации\n",
    "polynomial_features= PolynomialFeatures(degree=3)\n",
    "X_train_poly = polynomial_features.fit_transform(X_train)\n",
    "X_test_poly = polynomial_features.transform(X_test)\n"
   ]
  },
  {
   "cell_type": "code",
   "execution_count": 23,
   "metadata": {},
   "outputs": [
    {
     "name": "stdout",
     "output_type": "stream",
     "text": [
      "Правильность на обучающем наборе R^2: 1.00\n",
      "СКО на обучающем наборе: 0.00\n",
      "Правильность на тестовом наборе R^2: -11150326.05\n",
      "СКО на тестовом наборе: 68397.94\n"
     ]
    }
   ],
   "source": [
    "# Обучим модель на новых данных\n",
    "\n",
    "model = LinearRegression()\n",
    "model.fit(X_train_poly, y_train)\n",
    "\n",
    "y_train_pred = model.predict(X_train_poly)\n",
    "y_test_pred = model.predict(X_test_poly)\n",
    "print(\"Правильность на обучающем наборе R^2: {:.2f}\".format(r2_score(y_train, y_train_pred)))\n",
    "print(\"СКО на обучающем наборе: {:.2f}\".format(np.sqrt(mean_squared_error(y_train, y_train_pred))))\n",
    "print(\"Правильность на тестовом наборе R^2: {:.2f}\".format(r2_score(y_test, y_test_pred)))\n",
    "print(\"СКО на тестовом наборе: {:.2f}\".format(np.sqrt(mean_squared_error(y_test, y_test_pred))))"
   ]
  },
  {
   "cell_type": "markdown",
   "metadata": {},
   "source": [
    "**Мы очень сильно переобучились( Количество переменных стало слишком большим для такого маленького набора данных.\n",
    "Но можно будет попробовать сделать это с каким-то конкретным признаком. Либо воспользоваться гребневой или лассо регрессией**"
   ]
  },
  {
   "cell_type": "markdown",
   "metadata": {},
   "source": [
    "### 1. Гребневая регрессия\n",
    "\n"
   ]
  },
  {
   "cell_type": "code",
   "execution_count": 24,
   "metadata": {},
   "outputs": [
    {
     "name": "stdout",
     "output_type": "stream",
     "text": [
      "Правильность на обучающем наборе R^2: 1.00\n",
      "СКО на обучающем наборе: 0.07\n",
      "Правильность на тестовом наборе R^2: -11147848.48\n",
      "СКО на тестовом наборе: 68390.34\n"
     ]
    }
   ],
   "source": [
    "# загружаем функцию гребневой регрессии\n",
    "from sklearn.linear_model import Ridge\n",
    "\n",
    "# Обучаем модель\n",
    "ridge = Ridge() # по умолчанию альфа = 1\n",
    "ridge.fit(X_train_poly, y_train)\n",
    "\n",
    "# Результаты работы модели\n",
    "y_train_pred = ridge.predict(X_train_poly)\n",
    "y_test_pred = ridge.predict(X_test_poly)\n",
    "print(\"Правильность на обучающем наборе R^2: {:.2f}\".format(r2_score(y_train, y_train_pred)))\n",
    "print(\"СКО на обучающем наборе: {:.2f}\".format(np.sqrt(mean_squared_error(y_train, y_train_pred))))\n",
    "print(\"Правильность на тестовом наборе R^2: {:.2f}\".format(r2_score(y_test, y_test_pred)))\n",
    "print(\"СКО на тестовом наборе: {:.2f}\".format(np.sqrt(mean_squared_error(y_test, y_test_pred))))\n"
   ]
  },
  {
   "cell_type": "markdown",
   "metadata": {},
   "source": [
    "Все еще плохо. Увеличим альфа"
   ]
  },
  {
   "cell_type": "code",
   "execution_count": 25,
   "metadata": {},
   "outputs": [
    {
     "name": "stdout",
     "output_type": "stream",
     "text": [
      "Правильность на обучающем наборе R^2: 1.00\n",
      "СКО на обучающем наборе: 0.09\n",
      "Правильность на тестовом наборе R^2: -10890051.64\n",
      "СКО на тестовом наборе: 67594.95\n"
     ]
    }
   ],
   "source": [
    "ridge10 = Ridge(alpha=100).fit(X_train_poly, y_train)\n",
    "ridge10.fit(X_train_poly, y_train)\n",
    "y_train_pred = ridge10.predict(X_train_poly)\n",
    "y_test_pred = ridge10.predict(X_test_poly)\n",
    "print(\"Правильность на обучающем наборе R^2: {:.2f}\".format(r2_score(y_train, y_train_pred)))\n",
    "print(\"СКО на обучающем наборе: {:.2f}\".format(np.sqrt(mean_squared_error(y_train, y_train_pred))))\n",
    "print(\"Правильность на тестовом наборе R^2: {:.2f}\".format(r2_score(y_test, y_test_pred)))\n",
    "print(\"СКО на тестовом наборе: {:.2f}\".format(np.sqrt(mean_squared_error(y_test, y_test_pred))))\n"
   ]
  },
  {
   "cell_type": "code",
   "execution_count": 27,
   "metadata": {},
   "outputs": [
    {
     "name": "stdout",
     "output_type": "stream",
     "text": [
      "Правильность на обучающем наборе R^2: 1.00\n",
      "СКО на обучающем наборе: 0.06\n",
      "Правильность на тестовом наборе R^2: -11145209.93\n",
      "СКО на тестовом наборе: 68382.25\n"
     ]
    }
   ],
   "source": [
    "ridge10 = Ridge(alpha=100).fit(X_train_poly, y_train)\n",
    "ridge10.fit(X_train_poly, y_train)\n",
    "y_train_pred = ridge10.predict(X_train_poly)\n",
    "y_test_pred = ridge10.predict(X_test_poly)\n",
    "print(\"Правильность на обучающем наборе R^2: {:.2f}\".format(r2_score(y_train, y_train_pred)))\n",
    "print(\"СКО на обучающем наборе: {:.2f}\".format(np.sqrt(mean_squared_error(y_train, y_train_pred))))\n",
    "print(\"Правильность на тестовом наборе R^2: {:.2f}\".format(r2_score(y_test, y_test_pred)))\n",
    "print(\"СКО на тестовом наборе: {:.2f}\".format(np.sqrt(mean_squared_error(y_test, y_test_pred))))\n"
   ]
  },
  {
   "cell_type": "markdown",
   "metadata": {},
   "source": [
    "Все равно плохо. Признаков слишком много. Поэтому есть предложение воспользоваться Lasso регрессией. Одной из ее особенностей как раз является зануление параметров"
   ]
  },
  {
   "cell_type": "markdown",
   "metadata": {},
   "source": [
    "### 2. Lasso"
   ]
  },
  {
   "cell_type": "code",
   "execution_count": 28,
   "metadata": {},
   "outputs": [
    {
     "name": "stdout",
     "output_type": "stream",
     "text": [
      "Количество использованных признаков: 404\n",
      "Правильность на обучающем наборе R^2: 0.87\n",
      "СКО на обучающем наборе: 6.90\n",
      "Правильность на тестовом наборе R^2: -200.64\n",
      "СКО на тестовом наборе: 290.86\n"
     ]
    }
   ],
   "source": [
    "from sklearn.linear_model import Lasso\n",
    "\n",
    "lasso = Lasso(alpha = 10) # по умолчанию альфа = 1\n",
    "lasso.fit(X_train_poly, y_train)\n",
    "print(\"Количество использованных признаков: {}\".format(np.sum(lasso.coef_ != 0)))\n",
    "\n",
    "y_train_pred = lasso.predict(X_train_poly)\n",
    "y_test_pred = lasso.predict(X_test_poly)\n",
    "print(\"Правильность на обучающем наборе R^2: {:.2f}\".format(r2_score(y_train, y_train_pred)))\n",
    "print(\"СКО на обучающем наборе: {:.2f}\".format(np.sqrt(mean_squared_error(y_train, y_train_pred))))\n",
    "print(\"Правильность на тестовом наборе R^2: {:.2f}\".format(r2_score(y_test, y_test_pred)))\n",
    "print(\"СКО на тестовом наборе: {:.2f}\".format(np.sqrt(mean_squared_error(y_test, y_test_pred))))\n"
   ]
  },
  {
   "cell_type": "markdown",
   "metadata": {},
   "source": [
    "#### Попробуем подобрать параметр альфа с помощью метода кросс-валидации"
   ]
  },
  {
   "cell_type": "code",
   "execution_count": 29,
   "metadata": {},
   "outputs": [],
   "source": [
    "from sklearn.model_selection import cross_val_score, GridSearchCV, KFold"
   ]
  },
  {
   "cell_type": "code",
   "execution_count": 30,
   "metadata": {},
   "outputs": [
    {
     "name": "stdout",
     "output_type": "stream",
     "text": [
      "{'alpha': 1991} -12.324846623442403\n"
     ]
    }
   ],
   "source": [
    "from sklearn.linear_model import Lasso\n",
    "\n",
    "lasso_params = {\n",
    "    'alpha': np.arange(1,2000, 10)\n",
    "}\n",
    "kf = KFold(random_state = 42, shuffle = True, n_splits = 3)\n",
    "\n",
    "ls = Lasso()\n",
    "lasso_grid = GridSearchCV(ls, lasso_params, cv=kf, n_jobs=-1, scoring='r2')\n",
    "# смотрим, что у нас будет на нашей решетке на тренировочных данных\n",
    "lasso_grid.fit(X_train_poly, y_train)\n",
    "\n",
    "print(lasso_grid.best_params_, lasso_grid.best_score_)"
   ]
  },
  {
   "cell_type": "markdown",
   "metadata": {},
   "source": [
    "**Видим, что ничего хорошего у нас не получается даже при кросс валидации. Поэтому попробуем покопаться в самих данных. Может там особо ничего и нельзя сделать(**"
   ]
  },
  {
   "cell_type": "markdown",
   "metadata": {},
   "source": [
    "## Задание 1.\n",
    "### Полное исследование данных."
   ]
  },
  {
   "cell_type": "markdown",
   "metadata": {},
   "source": [
    "**0. Выведите основные описательные статистики для наших признаков**"
   ]
  },
  {
   "cell_type": "code",
   "execution_count": 34,
   "metadata": {},
   "outputs": [],
   "source": [
    "df = pd.read_csv('analysisdata.csv', sep = ',', header = None, \n",
    "                   names = ['season','size','speed','mxPH','mnO2','Cl',\n",
    "                            'NO3','NH4','oPO4','PO4','Chla','a1','a2','a3','a4',\n",
    "                            'a5','a6','a7'])"
   ]
  },
  {
   "cell_type": "code",
   "execution_count": 35,
   "metadata": {},
   "outputs": [
    {
     "name": "stdout",
     "output_type": "stream",
     "text": [
      "<class 'pandas.core.frame.DataFrame'>\n",
      "RangeIndex: 333 entries, 0 to 332\n",
      "Data columns (total 18 columns):\n",
      " #   Column  Non-Null Count  Dtype  \n",
      "---  ------  --------------  -----  \n",
      " 0   season  333 non-null    object \n",
      " 1   size    333 non-null    object \n",
      " 2   speed   333 non-null    object \n",
      " 3   mxPH    333 non-null    object \n",
      " 4   mnO2    333 non-null    object \n",
      " 5   Cl      333 non-null    object \n",
      " 6   NO3     333 non-null    object \n",
      " 7   NH4     333 non-null    object \n",
      " 8   oPO4    333 non-null    object \n",
      " 9   PO4     333 non-null    object \n",
      " 10  Chla    333 non-null    object \n",
      " 11  a1      333 non-null    float64\n",
      " 12  a2      333 non-null    float64\n",
      " 13  a3      333 non-null    float64\n",
      " 14  a4      333 non-null    float64\n",
      " 15  a5      333 non-null    float64\n",
      " 16  a6      333 non-null    float64\n",
      " 17  a7      316 non-null    float64\n",
      "dtypes: float64(7), object(11)\n",
      "memory usage: 47.0+ KB\n"
     ]
    }
   ],
   "source": [
    "df.info()"
   ]
  },
  {
   "cell_type": "code",
   "execution_count": 36,
   "metadata": {},
   "outputs": [],
   "source": [
    "df.loc[df['mxPH']=='XXXXXXX', 'mxPH'] = np.nan\n",
    "df.loc[df['mnO2']=='XXXXXXX', 'mnO2'] = np.nan\n",
    "df.loc[df['Cl']=='XXXXXXX', 'Cl'] = np.nan\n",
    "df.loc[df['NO3']=='XXXXXXX', 'NO3'] = np.nan\n",
    "df.loc[df['NO3']=='XXXXXXX', 'NO3'] = np.nan\n",
    "df.loc[df['NH4']=='XXXXXXX', 'NH4'] = np.nan\n",
    "df.loc[df['oPO4']=='XXXXXXX', 'oPO4'] = np.nan\n",
    "df.loc[df['PO4']=='XXXXXXX', 'PO4'] = np.nan\n",
    "df.loc[df['Chla']=='XXXXXXX', 'Chla'] = np.nan"
   ]
  },
  {
   "cell_type": "code",
   "execution_count": 40,
   "metadata": {},
   "outputs": [],
   "source": [
    "df.drop(['a7'], axis=1, inplace=True)"
   ]
  },
  {
   "cell_type": "markdown",
   "metadata": {},
   "source": [
    "**1. На сколько группы водорослей скоррелированы друг с другом??**\n",
    "\n",
    "Какие группы водорослей можно было бы использовать при построении модели регресси для группы а1?"
   ]
  },
  {
   "cell_type": "code",
   "execution_count": 41,
   "metadata": {},
   "outputs": [
    {
     "data": {
      "text/plain": [
       "<AxesSubplot:>"
      ]
     },
     "execution_count": 41,
     "metadata": {},
     "output_type": "execute_result"
    },
    {
     "data": {
      "image/png": "[encoded data removed]",
      "text/plain": [
       "<Figure size 576x432 with 2 Axes>"
      ]
     },
     "metadata": {
      "needs_background": "light"
     },
     "output_type": "display_data"
    }
   ],
   "source": [
    "corr = df.corr()\n",
    "f, ax = plt.subplots(figsize=(8, 6))\n",
    "cmap = sns.diverging_palette(220, 10, as_cmap=True)\n",
    "sns.heatmap(corr, cmap=cmap, center=0., square=True, linewidths=.5, cbar_kws={\"shrink\": .5})"
   ]
  },
  {
   "cell_type": "code",
   "execution_count": 37,
   "metadata": {},
   "outputs": [],
   "source": [
    "df['mxPH']= df['mxPH'].astype('float')\n",
    "df['mnO2']= df['mnO2'].astype('float')\n",
    "df['Cl']= df['Cl'].astype('float')\n",
    "df['NO3']= df['NO3'].astype('float')\n",
    "df['NH4']= df['NH4'].astype('float')\n",
    "df['oPO4']= df['oPO4'].astype('float')\n",
    "df['PO4']= df['PO4'].astype('float')\n",
    "df['Chla']= df['Chla'].astype('float')"
   ]
  },
  {
   "cell_type": "code",
   "execution_count": null,
   "metadata": {},
   "outputs": [],
   "source": [
    "# ваш код здесь"
   ]
  },
  {
   "cell_type": "code",
   "execution_count": null,
   "metadata": {},
   "outputs": [],
   "source": [
    "# ответ"
   ]
  },
  {
   "cell_type": "markdown",
   "metadata": {},
   "source": [
    "**2. Постройте матрицу корреляций гидрохимических показателей + переменной a1**"
   ]
  },
  {
   "cell_type": "code",
   "execution_count": null,
   "metadata": {},
   "outputs": [],
   "source": [
    "# ваш код здесь"
   ]
  },
  {
   "cell_type": "code",
   "execution_count": 47,
   "metadata": {},
   "outputs": [
    {
     "data": {
      "text/plain": [
       "<AxesSubplot:>"
      ]
     },
     "execution_count": 47,
     "metadata": {},
     "output_type": "execute_result"
    },
    {
     "data": {
      "image/png": "[encoded data removed]",
      "text/plain": [
       "<Figure size 432x288 with 1 Axes>"
      ]
     },
     "metadata": {
      "needs_background": "light"
     },
     "output_type": "display_data"
    }
   ],
   "source": [
    "sns.boxplot(data=df.a1)"
   ]
  },
  {
   "cell_type": "markdown",
   "metadata": {},
   "source": [
    "<span style=\"color:red\">Какие из признаков сильнее всего скоррелированы? Возможно, стоит исключать некоторые из них при построении линейной регрессии. Но это не точно</span>"
   ]
  },
  {
   "cell_type": "markdown",
   "metadata": {},
   "source": [
    "**3. Постройте ящик с усами. Есть ли различия в распределении переменных по сезону, размеру реки, скорости?** \n",
    "\n",
    "Так как при применении линейной регрессии данные должны быть однородными, посмотрим, есть ли влияние категориальных признаков на распределения основных признаков."
   ]
  },
  {
   "cell_type": "markdown",
   "metadata": {},
   "source": [
    "**a. концентрация фосфатов в зависимости от скорости, размера реки и сезона**\n",
    "\n",
    "**b. количество хлорофилла в зависимости от скорости, размера реки и сезона**\n",
    "\n",
    "Для наглядности иллюстрации зависимости от скорости задайте порядок на графике ( order=[\"low___\", \"medium\", \"high__\"])"
   ]
  },
  {
   "cell_type": "code",
   "execution_count": null,
   "metadata": {},
   "outputs": [],
   "source": [
    "# Ваш код здесь"
   ]
  },
  {
   "cell_type": "code",
   "execution_count": null,
   "metadata": {},
   "outputs": [],
   "source": []
  },
  {
   "cell_type": "code",
   "execution_count": null,
   "metadata": {},
   "outputs": [],
   "source": []
  },
  {
   "cell_type": "code",
   "execution_count": null,
   "metadata": {},
   "outputs": [],
   "source": []
  },
  {
   "cell_type": "code",
   "execution_count": null,
   "metadata": {},
   "outputs": [],
   "source": []
  },
  {
   "cell_type": "code",
   "execution_count": null,
   "metadata": {},
   "outputs": [],
   "source": []
  },
  {
   "cell_type": "markdown",
   "metadata": {},
   "source": [
    "<span style=\"color:red\">Какие выводы вы можете сделать?</span>"
   ]
  },
  {
   "cell_type": "code",
   "execution_count": null,
   "metadata": {},
   "outputs": [],
   "source": []
  },
  {
   "cell_type": "markdown",
   "metadata": {},
   "source": [
    "### 4. Связь с целевой переменной. \n",
    "\n",
    "1. **Посмотрим, как зависит наша переменная a1 от максимального значения PH.**\n",
    "2. **Посмотрим, как зависит наша переменная a1 от количества хлорофилла.**\n",
    "3. **Посмотрим, как зависит наша переменная a1 от концентрации фосфатов.**\n",
    "\n",
    "Постройте сначала графики для всех наблюдений. (с помощью функции jointplot)\n",
    "\n",
    "<span style=\"color:red\">Какие выводы вы можете сделать?</span>\n",
    "    \n",
    "<span style=\"color:red\">C каким из признаков зависимость выражена сильнее? Каким еще образом это можно проверить?</span>\n",
    "\n",
    "<span style=\"color:red\">Сохраняется ли эта зависимость по сезонам?</span>\n",
    "    \n",
    "<span style=\"color:red\">Посмотрите, если ли интересные особенности в распределении с другими признаками </span>"
   ]
  },
  {
   "cell_type": "code",
   "execution_count": null,
   "metadata": {},
   "outputs": [],
   "source": [
    "# Ваш код здесь"
   ]
  },
  {
   "cell_type": "code",
   "execution_count": null,
   "metadata": {},
   "outputs": [],
   "source": []
  },
  {
   "cell_type": "code",
   "execution_count": null,
   "metadata": {},
   "outputs": [],
   "source": []
  },
  {
   "cell_type": "markdown",
   "metadata": {},
   "source": []
  },
  {
   "cell_type": "markdown",
   "metadata": {},
   "source": [
    "## Задание 2.\n",
    "**Попробуйте улучшить модель.**"
   ]
  },
  {
   "cell_type": "markdown",
   "metadata": {},
   "source": [
    "**a. Выберите среди наиболее коррелируемых с целевой переменной 3-4 гидрохимических показателя (желательно, чтобы они были независимы, коэффициент корреляции не превосходит 0.5) + можно взять парочку переменных из групп водорослей.**\n",
    "\n",
    "\n",
    "**Обучите на них модель линейной регресии** "
   ]
  },
  {
   "cell_type": "code",
   "execution_count": null,
   "metadata": {},
   "outputs": [],
   "source": [
    "y = df_first# ваш код здесь\n",
    "X = df_first# ваш код здесь"
   ]
  },
  {
   "cell_type": "code",
   "execution_count": null,
   "metadata": {},
   "outputs": [],
   "source": [
    "X_train, X_test, y_train, y_test = train_test_split(X, y, test_size = 0.3, random_state = 42)\n",
    "\n",
    "lr = # ваш код здесь\n",
    "lr.fit# ваш код здесь\n",
    "\n",
    "y_train_pred # ваш код здесь\n",
    "y_test_pred # ваш код здесь\n",
    "\n",
    "# Вывод результата\n",
    "print(\"Правильность на обучающем наборе R^2: {:.2f}\".format(r2_score(y_train, y_train_pred)))\n",
    "print(\"СКО на обучающем наборе: {:.2f}\".format(np.sqrt(mean_squared_error(y_train, y_train_pred))))\n",
    "print(\"Правильность на тестовом наборе R^2: {:.2f}\".format(r2_score(y_test, y_test_pred)))\n",
    "print(\"СКО на тестовом наборе: {:.2f}\".format(np.sqrt(mean_squared_error(y_test, y_test_pred))))"
   ]
  },
  {
   "cell_type": "markdown",
   "metadata": {},
   "source": [
    "**b. теперь попробуем добавить влияние скорости в модель. Для этого перекодируем переменную speed с помощью функции map. Значения сделаем возрастающими по скорости (от 1 до 3)**\n",
    "\n",
    "\n",
    "Обучите модель с дополнительным признаком. Улучшилось ли качество модели?"
   ]
  },
  {
   "cell_type": "code",
   "execution_count": null,
   "metadata": {},
   "outputs": [],
   "source": [
    "df_first['speed_n'] = df_first['speed'].# ваш код здесь\n",
    "df_first.head()"
   ]
  },
  {
   "cell_type": "code",
   "execution_count": null,
   "metadata": {},
   "outputs": [],
   "source": [
    "y = df_first# ваш код здесь\n",
    "X = df_first# ваш код здесь\n",
    "\n",
    "\n",
    "X_train, X_test, y_train, y_test = # ваш код здесь\n",
    "\n",
    "lr = # ваш код здесь\n",
    "lr.fit# ваш код здесь\n",
    "\n",
    "y_train_pred = # ваш код здесь\n",
    "y_test_pred = # ваш код здесь\n",
    "\n",
    "# Вывод результата\n",
    "print(\"Правильность на обучающем наборе R^2: {:.2f}\".format(r2_score(y_train, y_train_pred)))\n",
    "print(\"СКО на обучающем наборе: {:.2f}\".format(np.sqrt(mean_squared_error(y_train, y_train_pred))))\n",
    "print(\"Правильность на тестовом наборе R^2: {:.2f}\".format(r2_score(y_test, y_test_pred)))\n",
    "print(\"СКО на тестовом наборе: {:.2f}\".format(np.sqrt(mean_squared_error(y_test, y_test_pred))))"
   ]
  },
  {
   "cell_type": "markdown",
   "metadata": {},
   "source": [
    "**с. Избавление от выбросов и линеаризация переменных.**\n",
    "\n",
    "Еще один способ улучшить качество модели - линеаризация переменных.\n",
    "Посмотрим на примере"
   ]
  },
  {
   "cell_type": "code",
   "execution_count": null,
   "metadata": {},
   "outputs": [],
   "source": [
    "# Попробуем предсказать а1 только по двум переменным - самой скоррелированной и по скорости\n",
    "\n",
    "y = df_first['a1']\n",
    "X = df_first[['speed_n', 'PO4']]\n",
    "\n",
    "X_train, X_test, y_train, y_test = train_test_split(X, y, test_size = 0.3, random_state = 42)\n",
    "\n",
    "lr = LinearRegression()\n",
    "lr.fit(X_train, y_train)\n",
    "\n",
    "\n",
    "y_train_pred = lr.predict(X_train)\n",
    "y_test_pred = lr.predict(X_test)\n",
    "\n",
    "# Вывод результата\n",
    "print(\"Правильность на обучающем наборе R^2: {:.2f}\".format(r2_score(y_train, y_train_pred)))\n",
    "print(\"СКО на обучающем наборе: {:.2f}\".format(np.sqrt(mean_squared_error(y_train, y_train_pred))))\n",
    "print(\"Правильность на тестовом наборе R^2: {:.2f}\".format(r2_score(y_test, y_test_pred)))\n",
    "print(\"СКО на тестовом наборе: {:.2f}\".format(np.sqrt(mean_squared_error(y_test, y_test_pred))))"
   ]
  },
  {
   "cell_type": "markdown",
   "metadata": {},
   "source": [
    "Как выглядит зависимость a1 от PO4?"
   ]
  },
  {
   "cell_type": "code",
   "execution_count": null,
   "metadata": {},
   "outputs": [],
   "source": [
    "sns.jointplot(df_first['PO4'], df_first['a1'])"
   ]
  },
  {
   "cell_type": "code",
   "execution_count": null,
   "metadata": {},
   "outputs": [],
   "source": [
    "# Теперь попробуем линеаризовать нашу переменную PO4 + избавимся от выбросов и от слишком мааленьких значений PO4\n",
    "df_first = df_first.query('PO4 <= 400 and PO4 > 1 and a1 < 70 and a1 > 1')\n",
    "df_first = df_first.query('PO4 < 200 or a1 < 16')\n",
    "df_first = df_first.query('PO4 < 90 or a1 < 35')\n",
    "df_first = df_first.query('PO4 < 50 or a1 < 45')\n",
    "sns.jointplot(df_first['PO4'], df_first['a1'])"
   ]
  },
  {
   "cell_type": "markdown",
   "metadata": {},
   "source": [
    "**Проверьте, улучшится ли качество модели после удаления выбросов**"
   ]
  },
  {
   "cell_type": "code",
   "execution_count": null,
   "metadata": {},
   "outputs": [],
   "source": [
    "# Ваш код здесь"
   ]
  },
  {
   "cell_type": "markdown",
   "metadata": {},
   "source": [
    "<span style=\"color:red\">Улучшилось ли качество модели? Чем вы это можете объяснить?</span>"
   ]
  },
  {
   "cell_type": "code",
   "execution_count": null,
   "metadata": {},
   "outputs": [],
   "source": [
    "# ответ"
   ]
  },
  {
   "cell_type": "markdown",
   "metadata": {},
   "source": [
    "**А теперь попробуем линеаризовать переменную**\n",
    "\n",
    "Попробуйте несколько вариантов линеаризации и посмотрите, на каком из них модель будет лучше работать\n",
    "\n",
    "1. Взятие обратной\n",
    "2. Логарифмирование\n",
    "3. отрицательная степень?"
   ]
  },
  {
   "cell_type": "code",
   "execution_count": null,
   "metadata": {},
   "outputs": [],
   "source": [
    "df_first['PO4_inv'] = #Ваш код здесь\n",
    "df_first['PO4_log'] = #Ваш код здесь\n",
    "df_first['PO4_pow'] = #Ваш код здесь"
   ]
  },
  {
   "cell_type": "code",
   "execution_count": null,
   "metadata": {},
   "outputs": [],
   "source": [
    "sns.jointplot(df_first['PO4_inv'], df_first['a1'])"
   ]
  },
  {
   "cell_type": "code",
   "execution_count": null,
   "metadata": {},
   "outputs": [],
   "source": [
    "sns.jointplot(df_first['PO4_log'], df_first['a1'])"
   ]
  },
  {
   "cell_type": "code",
   "execution_count": null,
   "metadata": {},
   "outputs": [],
   "source": [
    "sns.jointplot(df_first['PO4_pow'], df_first['a1'])"
   ]
  },
  {
   "cell_type": "markdown",
   "metadata": {},
   "source": [
    "**Выберите наиболее линейный признак и обучите с ним модель**"
   ]
  },
  {
   "cell_type": "code",
   "execution_count": null,
   "metadata": {},
   "outputs": [],
   "source": [
    "# ваш код здесь"
   ]
  },
  {
   "cell_type": "markdown",
   "metadata": {},
   "source": [
    "<span style=\"color:red\">Получилось ли улучшить модель?</span>"
   ]
  },
  {
   "cell_type": "code",
   "execution_count": null,
   "metadata": {},
   "outputs": [],
   "source": [
    "#ответ"
   ]
  },
  {
   "cell_type": "markdown",
   "metadata": {},
   "source": [
    "## Выводы.\n",
    "\n",
    "Данный набор данных - как раз один из примеров, который показывает, что машинное обучение не панацея для всех задач. И бездумно применять методы нельзя.\n",
    "Но какие-то выводы о данных всегда можно сделать. \n",
    "\n",
    "Что интересного вам удалось заметить?)"
   ]
  },
  {
   "cell_type": "code",
   "execution_count": null,
   "metadata": {},
   "outputs": [],
   "source": []
  }
 ],
 "metadata": {
  "kernelspec": {
   "display_name": "Python 3",
   "language": "python",
   "name": "python3"
  },
  "language_info": {
   "codemirror_mode": {
    "name": "ipython",
    "version": 3
   },
   "file_extension": ".py",
   "mimetype": "text/x-python",
   "name": "python",
   "nbconvert_exporter": "python",
   "pygments_lexer": "ipython3",
   "version": "3.8.8"
  }
 },
 "nbformat": 4,
 "nbformat_minor": 2
}
