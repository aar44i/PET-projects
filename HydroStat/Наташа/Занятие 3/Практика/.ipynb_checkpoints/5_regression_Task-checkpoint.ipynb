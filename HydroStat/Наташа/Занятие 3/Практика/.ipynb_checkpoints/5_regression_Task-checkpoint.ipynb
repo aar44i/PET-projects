{
 "cells": [
  {
   "cell_type": "markdown",
   "metadata": {},
   "source": [
    "# Прогнозирование содержания водорослей"
   ]
  },
  {
   "cell_type": "markdown",
   "metadata": {},
   "source": [
    "Используем в качестве примера для дальнейших упражнений таблицу, содержащую данные гидробиологических исследований обилия водорослей в различных реках. Каждое из наблюденийсодержит информацию  о 18 переменных, в том числе:\n",
    "\n",
    "+ три номинальных переменных, описывающих размеры size = c(\"large\", \"medium\", \"small\") и скорость течения реки speed = c(\"high\", \"low\", \"medium\"), а также время года season = c(\"autumn\", \"spring\", \"summer\", \"winter\"), сопряженное с моментом взятия проб;\n",
    "+ 8 переменных, составляющих комплекс наблюдаемых гидрохимических показателей: максимальное значение рН mxPH , минимальное содержание кислорода mnO2 , хлориды Cl , нитраты NO3 , ионы аммония NH4, орто-фосфаты oPO4 , общий минеральный фосфор PO4 и количество хлорофилла а Chla;\n",
    "+ средняя численность каждой из 7 групп водорослей a1 - a7 (видовой состав не идентифицировался).\n",
    "\n",
    "\n",
    "Нашей задачей будет научиться предсказывать численность хотя бы одной из групп водорослей\n"
   ]
  },
  {
   "cell_type": "markdown",
   "metadata": {},
   "source": [
    "### **0. Импорт необходимых пакетов**"
   ]
  },
  {
   "cell_type": "code",
   "execution_count": null,
   "metadata": {},
   "outputs": [],
   "source": [
    "import pandas as pd\n",
    "import numpy as np\n",
    "\n",
    "# нам понадобится отрисовка графиков\n",
    "\n",
    "%matplotlib inline\n",
    "import matplotlib.pyplot as plt\n",
    "import seaborn as sns\n",
    "\n",
    "import warnings\n",
    "warnings.filterwarnings('ignore')"
   ]
  },
  {
   "cell_type": "markdown",
   "metadata": {},
   "source": [
    "### **1. Загрузка данных**\n",
    "\n"
   ]
  },
  {
   "cell_type": "code",
   "execution_count": null,
   "metadata": {},
   "outputs": [],
   "source": [
    "df = pd.read_csv('analysisdata.csv', sep = ',', header = None, \n",
    "                   names = ['season','size','speed','mxPH','mnO2','Cl',\n",
    "                            'NO3','NH4','oPO4','PO4','Chla','a1','a2','a3','a4',\n",
    "                            'a5','a6','a7'])\n"
   ]
  },
  {
   "cell_type": "markdown",
   "metadata": {},
   "source": [
    "### 2. Небольшая предобработка данных"
   ]
  },
  {
   "cell_type": "markdown",
   "metadata": {},
   "source": [
    "Посмотрим, все ли мы правильно скачали"
   ]
  },
  {
   "cell_type": "code",
   "execution_count": null,
   "metadata": {},
   "outputs": [],
   "source": [
    "df.head()"
   ]
  },
  {
   "cell_type": "code",
   "execution_count": null,
   "metadata": {},
   "outputs": [],
   "source": [
    "df.describe()"
   ]
  },
  {
   "cell_type": "code",
   "execution_count": null,
   "metadata": {},
   "outputs": [],
   "source": [
    "df.info()"
   ]
  },
  {
   "cell_type": "markdown",
   "metadata": {},
   "source": [
    "Практически все признаки у нас типа object. Надо привести их к числовому формату"
   ]
  },
  {
   "cell_type": "markdown",
   "metadata": {},
   "source": [
    "**Перекодируем пропуски**"
   ]
  },
  {
   "cell_type": "code",
   "execution_count": null,
   "metadata": {},
   "outputs": [],
   "source": [
    "df.loc[df['mxPH']=='XXXXXXX', 'mxPH'] = np.nan\n",
    "df.loc[df['mnO2']=='XXXXXXX', 'mnO2'] = np.nan\n",
    "df.loc[df['Cl']=='XXXXXXX', 'Cl'] = np.nan\n",
    "df.loc[df['NO3']=='XXXXXXX', 'NO3'] = np.nan\n",
    "df.loc[df['NO3']=='XXXXXXX', 'NO3'] = np.nan\n",
    "df.loc[df['NH4']=='XXXXXXX', 'NH4'] = np.nan\n",
    "df.loc[df['oPO4']=='XXXXXXX', 'oPO4'] = np.nan\n",
    "df.loc[df['PO4']=='XXXXXXX', 'PO4'] = np.nan\n",
    "df.loc[df['Chla']=='XXXXXXX', 'Chla'] = np.nan"
   ]
  },
  {
   "cell_type": "code",
   "execution_count": null,
   "metadata": {
    "scrolled": true
   },
   "outputs": [],
   "source": [
    "# приведение к числовому формату\n",
    "df['mxPH']= df['mxPH'].astype('float')\n",
    "df['mnO2']= df['mnO2'].astype('float')\n",
    "df['Cl']= df['Cl'].astype('float')\n",
    "df['NO3']= df['NO3'].astype('float')\n",
    "df['NH4']= df['NH4'].astype('float')\n",
    "df['oPO4']= df['oPO4'].astype('float')\n",
    "df['PO4']= df['PO4'].astype('float')\n",
    "df['Chla']= df['Chla'].astype('float')\n"
   ]
  },
  {
   "cell_type": "code",
   "execution_count": null,
   "metadata": {},
   "outputs": [],
   "source": [
    "df.info()"
   ]
  },
  {
   "cell_type": "code",
   "execution_count": null,
   "metadata": {},
   "outputs": [],
   "source": [
    "df.describe()"
   ]
  },
  {
   "cell_type": "markdown",
   "metadata": {},
   "source": [
    "Пока что выкинем a7 из рассмотрения"
   ]
  },
  {
   "cell_type": "code",
   "execution_count": null,
   "metadata": {},
   "outputs": [],
   "source": [
    "df.drop(['a7'], axis=1, inplace=True)"
   ]
  },
  {
   "cell_type": "markdown",
   "metadata": {},
   "source": [
    "### **3. Простейшие модели без настройки параметров**\n"
   ]
  },
  {
   "cell_type": "markdown",
   "metadata": {},
   "source": [
    "Посмотрим, что будет, если мы особо не напрягаясь, просто удалим все пропуски, забудем про категориальные переменные и попробуем построить линейную регрессию прогнозирования признака 'a4' просто на всех оставшихся данных"
   ]
  },
  {
   "cell_type": "code",
   "execution_count": null,
   "metadata": {},
   "outputs": [],
   "source": [
    "df_first = df.dropna()\n",
    "df_first.info()"
   ]
  },
  {
   "cell_type": "code",
   "execution_count": null,
   "metadata": {},
   "outputs": [],
   "source": [
    "y = df_first['a1']\n",
    "X = df_first.drop(['a1','season','size', 'speed'], axis=1)"
   ]
  },
  {
   "cell_type": "markdown",
   "metadata": {},
   "source": [
    "**Разделение данных**\n",
    "\n",
    "Разделим данные на тестовую и обучающую выборку (70% к 30%)"
   ]
  },
  {
   "cell_type": "code",
   "execution_count": null,
   "metadata": {},
   "outputs": [],
   "source": []
  },
  {
   "cell_type": "code",
   "execution_count": null,
   "metadata": {},
   "outputs": [],
   "source": [
    "# подгрузим необходимые пакеты.\n",
    "from sklearn.linear_model import LinearRegression\n",
    "from sklearn.model_selection import train_test_split\n",
    "\n",
    "X_train, X_test, y_train, y_test = train_test_split(X, y, test_size = 0.3, random_state = 42)"
   ]
  },
  {
   "cell_type": "markdown",
   "metadata": {},
   "source": [
    "**Что будет если мы просто предскажем средним значением?**"
   ]
  },
  {
   "cell_type": "code",
   "execution_count": null,
   "metadata": {},
   "outputs": [],
   "source": [
    "from sklearn.metrics import r2_score, mean_squared_error\n",
    "pred =  [y_train.mean() for i in range(len(y_test))]\n",
    "\n",
    "print(\"Правильность на константном наборе R^2: {:.2f}\".format(r2_score(y_test, pred )))\n",
    "print(\"СКО на тестовом наборе: {:.2f}\".format(np.sqrt(mean_squared_error(y_test, pred))))\n",
    "\n",
    "# ничего хорошего"
   ]
  },
  {
   "cell_type": "markdown",
   "metadata": {},
   "source": [
    "**Линейная регрессия**"
   ]
  },
  {
   "cell_type": "code",
   "execution_count": null,
   "metadata": {},
   "outputs": [],
   "source": [
    "# Задаем модель lr, с помощью функции fit обучаем ее на тренировочных данных\n",
    "lr = LinearRegression()\n",
    "lr.fit(X_train, y_train)\n",
    "\n",
    "print(\"Веса регрессии:\",  lr.coef_ )\n",
    "print(\"Свободное слагаемое: {:.2f}\".format(lr.intercept_))"
   ]
  },
  {
   "cell_type": "markdown",
   "metadata": {},
   "source": [
    "**Посмотрим, на сколько хорошая самая первая примитивная модель**"
   ]
  },
  {
   "cell_type": "code",
   "execution_count": null,
   "metadata": {},
   "outputs": [],
   "source": [
    "# Загрузим соответствующие метрики\n",
    "from sklearn.metrics import r2_score, mean_squared_error\n",
    "\n",
    "# Спрогнозируем для тестовых и тренировочных данных\n",
    "\n",
    "y_train_pred = lr.predict(X_train)\n",
    "y_test_pred = lr.predict(X_test)\n",
    "\n",
    "# Вывод результата\n",
    "print(\"Правильность на обучающем наборе R^2: {:.2f}\".format(r2_score(y_train, y_train_pred)))\n",
    "print(\"СКО на обучающем наборе: {:.2f}\".format(np.sqrt(mean_squared_error(y_train, y_train_pred))))\n",
    "print(\"Правильность на тестовом наборе R^2: {:.2f}\".format(r2_score(y_test, y_test_pred)))\n",
    "print(\"СКО на тестовом наборе: {:.2f}\".format(np.sqrt(mean_squared_error(y_test, y_test_pred))))"
   ]
  },
  {
   "cell_type": "code",
   "execution_count": null,
   "metadata": {},
   "outputs": [],
   "source": [
    "data = pd.concat([X_train, X_test], ignore_index = True)"
   ]
  },
  {
   "cell_type": "code",
   "execution_count": null,
   "metadata": {},
   "outputs": [],
   "source": [
    "data['a7'] = data['a2']+data['a4']"
   ]
  },
  {
   "cell_type": "code",
   "execution_count": null,
   "metadata": {},
   "outputs": [],
   "source": [
    "data"
   ]
  },
  {
   "cell_type": "code",
   "execution_count": null,
   "metadata": {},
   "outputs": [],
   "source": []
  },
  {
   "cell_type": "markdown",
   "metadata": {},
   "source": [
    "**Как мы видим, качество не очень хорошее. Но лезть и что-то менять в данных нам все еще лень и мы пытаемся исхитриться дальше** "
   ]
  },
  {
   "cell_type": "markdown",
   "metadata": {},
   "source": [
    "### 0. Полиномиальная регрессия\n",
    "Можем попробовать применить полиномиальную регрессию соответствующей степени"
   ]
  },
  {
   "cell_type": "code",
   "execution_count": null,
   "metadata": {},
   "outputs": [],
   "source": [
    "# Загрузка соответствующего пакета\n",
    "from sklearn.preprocessing import PolynomialFeatures\n",
    "\n",
    "\n",
    "# превратили каждый признак в два - он, квадрат и куб, и их возможные комбинации\n",
    "polynomial_features= PolynomialFeatures(degree=3)\n",
    "X_train_poly = polynomial_features.fit_transform(X_train)\n",
    "X_test_poly = polynomial_features.transform(X_test)\n"
   ]
  },
  {
   "cell_type": "code",
   "execution_count": null,
   "metadata": {},
   "outputs": [],
   "source": [
    "# Обучим модель на новых данных\n",
    "\n",
    "model = LinearRegression()\n",
    "model.fit(X_train_poly, y_train)\n",
    "\n",
    "y_train_pred = model.predict(X_train_poly)\n",
    "y_test_pred = model.predict(X_test_poly)\n",
    "print(\"Правильность на обучающем наборе R^2: {:.2f}\".format(r2_score(y_train, y_train_pred)))\n",
    "print(\"СКО на обучающем наборе: {:.2f}\".format(np.sqrt(mean_squared_error(y_train, y_train_pred))))\n",
    "print(\"Правильность на тестовом наборе R^2: {:.2f}\".format(r2_score(y_test, y_test_pred)))\n",
    "print(\"СКО на тестовом наборе: {:.2f}\".format(np.sqrt(mean_squared_error(y_test, y_test_pred))))"
   ]
  },
  {
   "cell_type": "markdown",
   "metadata": {},
   "source": [
    "**Мы очень сильно переобучились( Количество переменных стало слишком большим для такого маленького набора данных.\n",
    "Но можно будет попробовать сделать это с каким-то конкретным признаком. Либо воспользоваться гребневой или лассо регрессией**"
   ]
  },
  {
   "cell_type": "markdown",
   "metadata": {},
   "source": [
    "### 1. Гребневая регрессия\n",
    "\n"
   ]
  },
  {
   "cell_type": "code",
   "execution_count": null,
   "metadata": {},
   "outputs": [],
   "source": [
    "# загружаем функцию гребневой регрессии\n",
    "from sklearn.linear_model import Ridge\n",
    "\n",
    "# Обучаем модель\n",
    "ridge = Ridge() # по умолчанию альфа = 1\n",
    "ridge.fit(X_train_poly, y_train)\n",
    "\n",
    "# Результаты работы модели\n",
    "y_train_pred = ridge.predict(X_train_poly)\n",
    "y_test_pred = ridge.predict(X_test_poly)\n",
    "print(\"Правильность на обучающем наборе R^2: {:.2f}\".format(r2_score(y_train, y_train_pred)))\n",
    "print(\"СКО на обучающем наборе: {:.2f}\".format(np.sqrt(mean_squared_error(y_train, y_train_pred))))\n",
    "print(\"Правильность на тестовом наборе R^2: {:.2f}\".format(r2_score(y_test, y_test_pred)))\n",
    "print(\"СКО на тестовом наборе: {:.2f}\".format(np.sqrt(mean_squared_error(y_test, y_test_pred))))\n"
   ]
  },
  {
   "cell_type": "markdown",
   "metadata": {},
   "source": [
    "Все еще плохо. Увеличим альфа"
   ]
  },
  {
   "cell_type": "code",
   "execution_count": null,
   "metadata": {},
   "outputs": [],
   "source": [
    "ridge10 = Ridge(alpha=100).fit(X_train_poly, y_train)\n",
    "ridge10.fit(X_train_poly, y_train)\n",
    "y_train_pred = ridge10.predict(X_train_poly)\n",
    "y_test_pred = ridge10.predict(X_test_poly)\n",
    "print(\"Правильность на обучающем наборе R^2: {:.2f}\".format(r2_score(y_train, y_train_pred)))\n",
    "print(\"СКО на обучающем наборе: {:.2f}\".format(np.sqrt(mean_squared_error(y_train, y_train_pred))))\n",
    "print(\"Правильность на тестовом наборе R^2: {:.2f}\".format(r2_score(y_test, y_test_pred)))\n",
    "print(\"СКО на тестовом наборе: {:.2f}\".format(np.sqrt(mean_squared_error(y_test, y_test_pred))))\n"
   ]
  },
  {
   "cell_type": "code",
   "execution_count": null,
   "metadata": {},
   "outputs": [],
   "source": [
    "ridge10 = Ridge(alpha=10).fit(X_train_poly, y_train)\n",
    "ridge10.fit(X_train_poly, y_train)\n",
    "y_train_pred = ridge10.predict(X_train_poly)\n",
    "y_test_pred = ridge10.predict(X_test_poly)\n",
    "print(\"Правильность на обучающем наборе R^2: {:.2f}\".format(r2_score(y_train, y_train_pred)))\n",
    "print(\"СКО на обучающем наборе: {:.2f}\".format(np.sqrt(mean_squared_error(y_train, y_train_pred))))\n",
    "print(\"Правильность на тестовом наборе R^2: {:.2f}\".format(r2_score(y_test, y_test_pred)))\n",
    "print(\"СКО на тестовом наборе: {:.2f}\".format(np.sqrt(mean_squared_error(y_test, y_test_pred))))\n"
   ]
  },
  {
   "cell_type": "markdown",
   "metadata": {},
   "source": [
    "Все равно плохо. Признаков слишком много. Поэтому есть предложение воспользоваться Lasso регрессией. Одной из ее особенностей как раз является зануление параметров"
   ]
  },
  {
   "cell_type": "markdown",
   "metadata": {},
   "source": [
    "### 2. Lasso"
   ]
  },
  {
   "cell_type": "code",
   "execution_count": null,
   "metadata": {},
   "outputs": [],
   "source": [
    "from sklearn.linear_model import Lasso\n",
    "\n",
    "lasso = Lasso(alpha = 10) # по умолчанию альфа = 1\n",
    "lasso.fit(X_train_poly, y_train)\n",
    "print(\"Количество использованных признаков: {}\".format(np.sum(lasso.coef_ != 0)))\n",
    "\n",
    "y_train_pred = lasso.predict(X_train_poly)\n",
    "y_test_pred = lasso.predict(X_test_poly)\n",
    "print(\"Правильность на обучающем наборе R^2: {:.2f}\".format(r2_score(y_train, y_train_pred)))\n",
    "print(\"СКО на обучающем наборе: {:.2f}\".format(np.sqrt(mean_squared_error(y_train, y_train_pred))))\n",
    "print(\"Правильность на тестовом наборе R^2: {:.2f}\".format(r2_score(y_test, y_test_pred)))\n",
    "print(\"СКО на тестовом наборе: {:.2f}\".format(np.sqrt(mean_squared_error(y_test, y_test_pred))))\n"
   ]
  },
  {
   "cell_type": "markdown",
   "metadata": {},
   "source": [
    "#### Попробуем подобрать параметр альфа с помощью метода кросс-валидации"
   ]
  },
  {
   "cell_type": "code",
   "execution_count": null,
   "metadata": {},
   "outputs": [],
   "source": [
    "from sklearn.model_selection import cross_val_score, GridSearchCV, KFold"
   ]
  },
  {
   "cell_type": "code",
   "execution_count": null,
   "metadata": {},
   "outputs": [],
   "source": [
    "from sklearn.linear_model import Lasso\n",
    "\n",
    "lasso_params = {\n",
    "    'alpha': np.arange(1,2000, 10)\n",
    "}\n",
    "kf = KFold(random_state = 42, shuffle = True, n_splits = 3)\n",
    "\n",
    "ls = Lasso()\n",
    "lasso_grid = GridSearchCV(ls, lasso_params, cv=kf, n_jobs=-1, scoring='r2')\n",
    "# смотрим, что у нас будет на нашей решетке на тренировочных данных\n",
    "lasso_grid.fit(X_train_poly, y_train)\n",
    "\n",
    "print(lasso_grid.best_params_, lasso_grid.best_score_)"
   ]
  },
  {
   "cell_type": "markdown",
   "metadata": {},
   "source": [
    "**Видим, что ничего хорошего у нас не получается даже при кросс валидации. Поэтому попробуем покопаться в самих данных. Может там особо ничего и нельзя сделать(**"
   ]
  },
  {
   "cell_type": "markdown",
   "metadata": {},
   "source": [
    "## Задание 1.\n",
    "### Полное исследование данных."
   ]
  },
  {
   "cell_type": "markdown",
   "metadata": {},
   "source": [
    "**0. Выведите основные описательные статистики для наших признаков**"
   ]
  },
  {
   "cell_type": "code",
   "execution_count": null,
   "metadata": {},
   "outputs": [],
   "source": []
  },
  {
   "cell_type": "markdown",
   "metadata": {},
   "source": [
    "**1. На сколько группы водорослей скоррелированы друг с другом??**\n",
    "\n",
    "Какие группы водорослей можно было бы использовать при построении модели регресси для группы а1?"
   ]
  },
  {
   "cell_type": "code",
   "execution_count": null,
   "metadata": {},
   "outputs": [],
   "source": [
    "# ваш код здесь"
   ]
  },
  {
   "cell_type": "code",
   "execution_count": null,
   "metadata": {},
   "outputs": [],
   "source": [
    "# ответ"
   ]
  },
  {
   "cell_type": "markdown",
   "metadata": {},
   "source": [
    "**2. Постройте матрицу корреляций гидрохимических показателей + переменной a1**"
   ]
  },
  {
   "cell_type": "code",
   "execution_count": null,
   "metadata": {},
   "outputs": [],
   "source": [
    "# ваш код здесь"
   ]
  },
  {
   "cell_type": "markdown",
   "metadata": {},
   "source": [
    "<span style=\"color:red\">Какие из признаков сильнее всего скоррелированы? Возможно, стоит исключать некоторые из них при построении линейной регрессии. Но это не точно</span>"
   ]
  },
  {
   "cell_type": "markdown",
   "metadata": {},
   "source": [
    "**3. Постройте ящик с усами. Есть ли различия в распределении переменных по сезону, размеру реки, скорости?** \n",
    "\n",
    "Так как при применении линейной регрессии данные должны быть однородными, посмотрим, есть ли влияние категориальных признаков на распределения основных признаков."
   ]
  },
  {
   "cell_type": "markdown",
   "metadata": {},
   "source": [
    "**a. концентрация фосфатов в зависимости от скорости, размера реки и сезона**\n",
    "\n",
    "**b. количество хлорофилла в зависимости от скорости, размера реки и сезона**\n",
    "\n",
    "Для наглядности иллюстрации зависимости от скорости задайте порядок на графике ( order=[\"low___\", \"medium\", \"high__\"])"
   ]
  },
  {
   "cell_type": "code",
   "execution_count": null,
   "metadata": {},
   "outputs": [],
   "source": [
    "# Ваш код здесь"
   ]
  },
  {
   "cell_type": "code",
   "execution_count": null,
   "metadata": {},
   "outputs": [],
   "source": []
  },
  {
   "cell_type": "code",
   "execution_count": null,
   "metadata": {},
   "outputs": [],
   "source": []
  },
  {
   "cell_type": "code",
   "execution_count": null,
   "metadata": {},
   "outputs": [],
   "source": []
  },
  {
   "cell_type": "code",
   "execution_count": null,
   "metadata": {},
   "outputs": [],
   "source": []
  },
  {
   "cell_type": "code",
   "execution_count": null,
   "metadata": {},
   "outputs": [],
   "source": []
  },
  {
   "cell_type": "markdown",
   "metadata": {},
   "source": [
    "<span style=\"color:red\">Какие выводы вы можете сделать?</span>"
   ]
  },
  {
   "cell_type": "code",
   "execution_count": null,
   "metadata": {},
   "outputs": [],
   "source": []
  },
  {
   "cell_type": "markdown",
   "metadata": {},
   "source": [
    "### 4. Связь с целевой переменной. \n",
    "\n",
    "1. **Посмотрим, как зависит наша переменная a1 от максимального значения PH.**\n",
    "2. **Посмотрим, как зависит наша переменная a1 от количества хлорофилла.**\n",
    "3. **Посмотрим, как зависит наша переменная a1 от концентрации фосфатов.**\n",
    "\n",
    "Постройте сначала графики для всех наблюдений. (с помощью функции jointplot)\n",
    "\n",
    "<span style=\"color:red\">Какие выводы вы можете сделать?</span>\n",
    "    \n",
    "<span style=\"color:red\">C каким из признаков зависимость выражена сильнее? Каким еще образом это можно проверить?</span>\n",
    "\n",
    "<span style=\"color:red\">Сохраняется ли эта зависимость по сезонам?</span>\n",
    "    \n",
    "<span style=\"color:red\">Посмотрите, если ли интересные особенности в распределении с другими признаками </span>"
   ]
  },
  {
   "cell_type": "code",
   "execution_count": null,
   "metadata": {},
   "outputs": [],
   "source": [
    "# Ваш код здесь"
   ]
  },
  {
   "cell_type": "code",
   "execution_count": null,
   "metadata": {},
   "outputs": [],
   "source": []
  },
  {
   "cell_type": "code",
   "execution_count": null,
   "metadata": {},
   "outputs": [],
   "source": []
  },
  {
   "cell_type": "markdown",
   "metadata": {},
   "source": []
  },
  {
   "cell_type": "markdown",
   "metadata": {},
   "source": [
    "## Задание 2.\n",
    "**Попробуйте улучшить модель.**"
   ]
  },
  {
   "cell_type": "markdown",
   "metadata": {},
   "source": [
    "**a. Выберите среди наиболее коррелируемых с целевой переменной 3-4 гидрохимических показателя (желательно, чтобы они были независимы, коэффициент корреляции не превосходит 0.5) + можно взять парочку переменных из групп водорослей.**\n",
    "\n",
    "\n",
    "**Обучите на них модель линейной регресии** "
   ]
  },
  {
   "cell_type": "code",
   "execution_count": null,
   "metadata": {},
   "outputs": [],
   "source": [
    "y = df_first# ваш код здесь\n",
    "X = df_first# ваш код здесь"
   ]
  },
  {
   "cell_type": "code",
   "execution_count": null,
   "metadata": {},
   "outputs": [],
   "source": [
    "X_train, X_test, y_train, y_test = train_test_split(X, y, test_size = 0.3, random_state = 42)\n",
    "\n",
    "lr = # ваш код здесь\n",
    "lr.fit# ваш код здесь\n",
    "\n",
    "y_train_pred # ваш код здесь\n",
    "y_test_pred # ваш код здесь\n",
    "\n",
    "# Вывод результата\n",
    "print(\"Правильность на обучающем наборе R^2: {:.2f}\".format(r2_score(y_train, y_train_pred)))\n",
    "print(\"СКО на обучающем наборе: {:.2f}\".format(np.sqrt(mean_squared_error(y_train, y_train_pred))))\n",
    "print(\"Правильность на тестовом наборе R^2: {:.2f}\".format(r2_score(y_test, y_test_pred)))\n",
    "print(\"СКО на тестовом наборе: {:.2f}\".format(np.sqrt(mean_squared_error(y_test, y_test_pred))))"
   ]
  },
  {
   "cell_type": "markdown",
   "metadata": {},
   "source": [
    "**b. теперь попробуем добавить влияние скорости в модель. Для этого перекодируем переменную speed с помощью функции map. Значения сделаем возрастающими по скорости (от 1 до 3)**\n",
    "\n",
    "\n",
    "Обучите модель с дополнительным признаком. Улучшилось ли качество модели?"
   ]
  },
  {
   "cell_type": "code",
   "execution_count": null,
   "metadata": {},
   "outputs": [],
   "source": [
    "df_first['speed_n'] = df_first['speed'].# ваш код здесь\n",
    "df_first.head()"
   ]
  },
  {
   "cell_type": "code",
   "execution_count": null,
   "metadata": {},
   "outputs": [],
   "source": [
    "y = df_first# ваш код здесь\n",
    "X = df_first# ваш код здесь\n",
    "\n",
    "\n",
    "X_train, X_test, y_train, y_test = # ваш код здесь\n",
    "\n",
    "lr = # ваш код здесь\n",
    "lr.fit# ваш код здесь\n",
    "\n",
    "y_train_pred = # ваш код здесь\n",
    "y_test_pred = # ваш код здесь\n",
    "\n",
    "# Вывод результата\n",
    "print(\"Правильность на обучающем наборе R^2: {:.2f}\".format(r2_score(y_train, y_train_pred)))\n",
    "print(\"СКО на обучающем наборе: {:.2f}\".format(np.sqrt(mean_squared_error(y_train, y_train_pred))))\n",
    "print(\"Правильность на тестовом наборе R^2: {:.2f}\".format(r2_score(y_test, y_test_pred)))\n",
    "print(\"СКО на тестовом наборе: {:.2f}\".format(np.sqrt(mean_squared_error(y_test, y_test_pred))))"
   ]
  },
  {
   "cell_type": "markdown",
   "metadata": {},
   "source": [
    "**с. Избавление от выбросов и линеаризация переменных.**\n",
    "\n",
    "Еще один способ улучшить качество модели - линеаризация переменных.\n",
    "Посмотрим на примере"
   ]
  },
  {
   "cell_type": "code",
   "execution_count": null,
   "metadata": {},
   "outputs": [],
   "source": [
    "# Попробуем предсказать а1 только по двум переменным - самой скоррелированной и по скорости\n",
    "\n",
    "y = df_first['a1']\n",
    "X = df_first[['speed_n', 'PO4']]\n",
    "\n",
    "X_train, X_test, y_train, y_test = train_test_split(X, y, test_size = 0.3, random_state = 42)\n",
    "\n",
    "lr = LinearRegression()\n",
    "lr.fit(X_train, y_train)\n",
    "\n",
    "\n",
    "y_train_pred = lr.predict(X_train)\n",
    "y_test_pred = lr.predict(X_test)\n",
    "\n",
    "# Вывод результата\n",
    "print(\"Правильность на обучающем наборе R^2: {:.2f}\".format(r2_score(y_train, y_train_pred)))\n",
    "print(\"СКО на обучающем наборе: {:.2f}\".format(np.sqrt(mean_squared_error(y_train, y_train_pred))))\n",
    "print(\"Правильность на тестовом наборе R^2: {:.2f}\".format(r2_score(y_test, y_test_pred)))\n",
    "print(\"СКО на тестовом наборе: {:.2f}\".format(np.sqrt(mean_squared_error(y_test, y_test_pred))))"
   ]
  },
  {
   "cell_type": "markdown",
   "metadata": {},
   "source": [
    "Как выглядит зависимость a1 от PO4?"
   ]
  },
  {
   "cell_type": "code",
   "execution_count": null,
   "metadata": {},
   "outputs": [],
   "source": [
    "sns.jointplot(df_first['PO4'], df_first['a1'])"
   ]
  },
  {
   "cell_type": "code",
   "execution_count": null,
   "metadata": {},
   "outputs": [],
   "source": [
    "# Теперь попробуем линеаризовать нашу переменную PO4 + избавимся от выбросов и от слишком мааленьких значений PO4\n",
    "df_first = df_first.query('PO4 <= 400 and PO4 > 1 and a1 < 70 and a1 > 1')\n",
    "df_first = df_first.query('PO4 < 200 or a1 < 16')\n",
    "df_first = df_first.query('PO4 < 90 or a1 < 35')\n",
    "df_first = df_first.query('PO4 < 50 or a1 < 45')\n",
    "sns.jointplot(df_first['PO4'], df_first['a1'])"
   ]
  },
  {
   "cell_type": "markdown",
   "metadata": {},
   "source": [
    "**Проверьте, улучшится ли качество модели после удаления выбросов**"
   ]
  },
  {
   "cell_type": "code",
   "execution_count": null,
   "metadata": {},
   "outputs": [],
   "source": [
    "# Ваш код здесь"
   ]
  },
  {
   "cell_type": "markdown",
   "metadata": {},
   "source": [
    "<span style=\"color:red\">Улучшилось ли качество модели? Чем вы это можете объяснить?</span>"
   ]
  },
  {
   "cell_type": "code",
   "execution_count": null,
   "metadata": {},
   "outputs": [],
   "source": [
    "# ответ"
   ]
  },
  {
   "cell_type": "markdown",
   "metadata": {},
   "source": [
    "**А теперь попробуем линеаризовать переменную**\n",
    "\n",
    "Попробуйте несколько вариантов линеаризации и посмотрите, на каком из них модель будет лучше работать\n",
    "\n",
    "1. Взятие обратной\n",
    "2. Логарифмирование\n",
    "3. отрицательная степень?"
   ]
  },
  {
   "cell_type": "code",
   "execution_count": null,
   "metadata": {},
   "outputs": [],
   "source": [
    "df_first['PO4_inv'] = #Ваш код здесь\n",
    "df_first['PO4_log'] = #Ваш код здесь\n",
    "df_first['PO4_pow'] = #Ваш код здесь"
   ]
  },
  {
   "cell_type": "code",
   "execution_count": null,
   "metadata": {},
   "outputs": [],
   "source": [
    "sns.jointplot(df_first['PO4_inv'], df_first['a1'])"
   ]
  },
  {
   "cell_type": "code",
   "execution_count": null,
   "metadata": {},
   "outputs": [],
   "source": [
    "sns.jointplot(df_first['PO4_log'], df_first['a1'])"
   ]
  },
  {
   "cell_type": "code",
   "execution_count": null,
   "metadata": {},
   "outputs": [],
   "source": [
    "sns.jointplot(df_first['PO4_pow'], df_first['a1'])"
   ]
  },
  {
   "cell_type": "markdown",
   "metadata": {},
   "source": [
    "**Выберите наиболее линейный признак и обучите с ним модель**"
   ]
  },
  {
   "cell_type": "code",
   "execution_count": null,
   "metadata": {},
   "outputs": [],
   "source": [
    "# ваш код здесь"
   ]
  },
  {
   "cell_type": "markdown",
   "metadata": {},
   "source": [
    "<span style=\"color:red\">Получилось ли улучшить модель?</span>"
   ]
  },
  {
   "cell_type": "code",
   "execution_count": null,
   "metadata": {},
   "outputs": [],
   "source": [
    "#ответ"
   ]
  },
  {
   "cell_type": "markdown",
   "metadata": {},
   "source": [
    "## Выводы.\n",
    "\n",
    "Данный набор данных - как раз один из примеров, который показывает, что машинное обучение не панацея для всех задач. И бездумно применять методы нельзя.\n",
    "Но какие-то выводы о данных всегда можно сделать. \n",
    "\n",
    "Что интересного вам удалось заметить?)"
   ]
  },
  {
   "cell_type": "code",
   "execution_count": null,
   "metadata": {},
   "outputs": [],
   "source": []
  }
 ],
 "metadata": {
  "kernelspec": {
   "display_name": "Python 3",
   "language": "python",
   "name": "python3"
  },
  "language_info": {
   "codemirror_mode": {
    "name": "ipython",
    "version": 3
   },
   "file_extension": ".py",
   "mimetype": "text/x-python",
   "name": "python",
   "nbconvert_exporter": "python",
   "pygments_lexer": "ipython3",
   "version": "3.8.5"
  }
 },
 "nbformat": 4,
 "nbformat_minor": 2
}
