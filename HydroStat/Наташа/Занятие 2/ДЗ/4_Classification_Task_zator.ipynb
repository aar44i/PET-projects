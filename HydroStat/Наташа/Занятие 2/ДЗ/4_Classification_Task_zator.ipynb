{
 "cells": [
  {
   "cell_type": "markdown",
   "metadata": {},
   "source": [
    "# Прогнозирование ледового затора"
   ]
  },
  {
   "cell_type": "markdown",
   "metadata": {},
   "source": [
    "В качестве данных были собраны данные по 3 метеостанциям и 6 гидропостам в районе рек Сухона и Юг. Стоит задача прогнозирования возникновения ледового затора в узле их слияния, где как раз находится Великий Устюг. Данные собраны с 1960 по 2015 год. И уже поделены на обучающую (test.xlsx, 1960-1999гг) и тестовую выборку (train.xlsx, 2000-2015гг)\n",
    "\n",
    "\n",
    "Целевая переменная **target** - категориальный (бинарный признак) - 1 - затор был, 0 - не было.\n",
    "\n",
    "Признаки:\n",
    "+ **days_before_negative_temp_(ustug, nuks, nikol)** - особенности температурного режима в период замерзания (г. Великий Устюг, с. Нюксеница, г. Никольск)\n",
    "+ **max_ice_hight_(kotlas, ustug)** - максимальная толщина льда (г. Котлас, г. Великий Устюг)\n",
    "+ **freezing_time_bslob** - продолжительность замерзания (д. Березовая Слободка)\n",
    "+ **duration_ice_drift_(ustug, totma)** - продолжительность осеннего ледохода (г. Великий Устюг, г. Тотьма)\n",
    "+ **prepositional_level_(bslob, kalik)** - предледоставный уровень (д. Березовая Слободка, д. Каликино)\n",
    "\n"
   ]
  },
  {
   "cell_type": "markdown",
   "metadata": {},
   "source": [
    "### **0. Импорт необходимых пакетов**"
   ]
  },
  {
   "cell_type": "code",
   "execution_count": null,
   "metadata": {},
   "outputs": [],
   "source": [
    "import pandas as pd\n",
    "import numpy as np\n",
    "\n",
    "# нам понадобится отрисовка графиков\n",
    "\n",
    "%matplotlib inline\n",
    "import matplotlib.pyplot as plt\n",
    "import seaborn as sns\n",
    "\n",
    "import warnings\n",
    "warnings.filterwarnings('ignore')"
   ]
  },
  {
   "cell_type": "markdown",
   "metadata": {},
   "source": [
    "### **1. Загрузка данных**\n",
    "\n",
    "Данные заранее разделены на тренировочную и тестовую выборку, поэтому их надо скачать отдельно с помощью функции  Pandas read_excel "
   ]
  },
  {
   "cell_type": "code",
   "execution_count": null,
   "metadata": {},
   "outputs": [],
   "source": [
    "data_train = pd.read_excel('train.xlsx')\n",
    "data_test = pd.read_excel('test.xlsx')"
   ]
  },
  {
   "cell_type": "code",
   "execution_count": null,
   "metadata": {},
   "outputs": [],
   "source": [
    "data_test"
   ]
  },
  {
   "cell_type": "markdown",
   "metadata": {},
   "source": [
    "### Задание 1. \n",
    "Проверить, есть ли у нас в данных пропуски. "
   ]
  },
  {
   "cell_type": "code",
   "execution_count": null,
   "metadata": {},
   "outputs": [],
   "source": [
    "data_train.# ваш код здесь"
   ]
  },
  {
   "cell_type": "code",
   "execution_count": null,
   "metadata": {},
   "outputs": [],
   "source": [
    "data_test.# ваш код здесь"
   ]
  },
  {
   "cell_type": "markdown",
   "metadata": {},
   "source": [
    " <span style=\"color:red\">Введите ответ ниже. Если пропуски есть, то напишите признак, у которого больше всего пропусков.</span> \n",
    " \n",
    " В дальнейшем, посмотрим, что делать с такими пропусками"
   ]
  },
  {
   "cell_type": "markdown",
   "metadata": {},
   "source": [
    "Ваш ответ:"
   ]
  },
  {
   "cell_type": "markdown",
   "metadata": {},
   "source": [
    "**Проверим тренировочную выборку на сбалансированность**"
   ]
  },
  {
   "cell_type": "code",
   "execution_count": null,
   "metadata": {},
   "outputs": [],
   "source": [
    "data_train.target.value_counts()"
   ]
  },
  {
   "cell_type": "markdown",
   "metadata": {},
   "source": [
    "### Посмотрим, на совместное распределеление признаков и на сколько сильно они скоррелированы друг с другом. \n",
    "\n",
    "Это будет очень важно в случае задач регрессии, но и просто посмотреть и по возможности попытаться отыскать такие признаки бывает полезно"
   ]
  },
  {
   "cell_type": "markdown",
   "metadata": {},
   "source": [
    "### Задание 2.\n",
    "\n",
    "1. Построить график совместных распределений для особенностей температурного режима в период замерзаний для всех трех метеостанций и максимальной толщины льда в Котласе в разбивке по целевой переменной\n",
    "2. Построить матрицу корреляций этих признаков"
   ]
  },
  {
   "cell_type": "code",
   "execution_count": null,
   "metadata": {},
   "outputs": [],
   "source": [
    "# ваш код здесь"
   ]
  },
  {
   "cell_type": "code",
   "execution_count": null,
   "metadata": {},
   "outputs": [],
   "source": []
  },
  {
   "cell_type": "markdown",
   "metadata": {},
   "source": [
    "<span style=\"color:red\">Какие интересные особенности вы заметили?</span> \n",
    " \n",
    "<span style=\"color:red\">Какие признаки наиболее скоррелированы?</span> "
   ]
  },
  {
   "cell_type": "markdown",
   "metadata": {},
   "source": [
    "Ваш ответ:"
   ]
  },
  {
   "cell_type": "markdown",
   "metadata": {},
   "source": [
    "### **3. Простейшие модели без настройки параметров**\n"
   ]
  },
  {
   "cell_type": "code",
   "execution_count": null,
   "metadata": {},
   "outputs": [],
   "source": [
    "# подгрузим необходимые пакеты.\n",
    "from sklearn.tree import DecisionTreeClassifier\n",
    "from sklearn.neighbors import KNeighborsClassifier\n",
    "from sklearn.metrics import accuracy_score\n",
    "from sklearn.metrics import recall_score, precision_score, balanced_accuracy_score"
   ]
  },
  {
   "cell_type": "code",
   "execution_count": null,
   "metadata": {},
   "outputs": [],
   "source": [
    "trainY = data_train.target\n",
    "testY = data_test.target\n",
    "\n",
    "\n",
    "trainX = data_train.drop(['year', 'target'], axis=1)\n",
    "testX = data_test.drop(['year', 'target'], axis=1)"
   ]
  },
  {
   "cell_type": "code",
   "execution_count": null,
   "metadata": {},
   "outputs": [],
   "source": [
    "# заполним пропуски -1\n",
    "trainX = trainX.fillna(-1)\n",
    "testX = testX.fillna(-1)"
   ]
  },
  {
   "cell_type": "markdown",
   "metadata": {},
   "source": [
    "### Задание 3. \n",
    "**a) Обучите на имеющейся выборке  алгоритм ближайших соседей (KNeighborsClassifier) с 1 соседом и получите качество на тесте.**\n"
   ]
  },
  {
   "cell_type": "code",
   "execution_count": null,
   "metadata": {},
   "outputs": [],
   "source": [
    "knn = # Ваш код здесь\n",
    "knn.fit # Ваш код здесь"
   ]
  },
  {
   "cell_type": "code",
   "execution_count": null,
   "metadata": {},
   "outputs": [],
   "source": [
    "knn_predictions = knn.predict # Ваш код здесь\n",
    "accuracy_score # Ваш код здесь"
   ]
  },
  {
   "cell_type": "markdown",
   "metadata": {},
   "source": [
    "<span style=\"color:red\">Какая точность у вас получилась?</span> "
   ]
  },
  {
   "cell_type": "markdown",
   "metadata": {},
   "source": [
    "Ваш ответ:"
   ]
  },
  {
   "cell_type": "markdown",
   "metadata": {},
   "source": [
    "**b) Обучите на имеющейся выборке дерево решений (DecisionTreeClassifier) максимальной глубины 2 и получите качество на тесте. Используйте параметр random_state = 42 для воспроизводимости результатов.**"
   ]
  },
  {
   "cell_type": "code",
   "execution_count": null,
   "metadata": {},
   "outputs": [],
   "source": [
    "tree = # Ваш код здесь\n",
    "tree.fit # Ваш код здесь\n"
   ]
  },
  {
   "cell_type": "code",
   "execution_count": null,
   "metadata": {},
   "outputs": [],
   "source": [
    "tree_predictions = # Ваш код здесь\n",
    "accuracy_score # Ваш код здесь"
   ]
  },
  {
   "cell_type": "markdown",
   "metadata": {},
   "source": [
    "**Давайте посмотрим, что будет если мы просто в качестве прогноза будем выдавать случайное число или же наиболее часто встречающийся в тренировочной выборке ответ**"
   ]
  },
  {
   "cell_type": "code",
   "execution_count": null,
   "metadata": {},
   "outputs": [],
   "source": [
    "from collections import Counter\n",
    "import random\n",
    "constant = Counter(trainY).most_common()[0]\n",
    "pred =  [constant[0] for i in range(len(testY))]\n",
    "print('Constant model. Accuracy = %.2f' % accuracy_score(testY, pred))\n",
    "\n",
    "\n",
    "pred = [random.randint(0,1) for i in range(len(testY))]\n",
    "print('Random model. Accuracy = %.2f' % accuracy_score(testY, pred))\n"
   ]
  },
  {
   "cell_type": "markdown",
   "metadata": {},
   "source": [
    "<span style=\"color:red\">Какая точность у вас получилась у решающего дерева? Сравните результаты с константным и случайным пронозом.</span> "
   ]
  },
  {
   "cell_type": "markdown",
   "metadata": {},
   "source": [
    "Ваши выводы:"
   ]
  },
  {
   "cell_type": "markdown",
   "metadata": {},
   "source": [
    "### **4. Модели с настройкой параметров**"
   ]
  },
  {
   "cell_type": "markdown",
   "metadata": {},
   "source": [
    "### Задание 4.\n",
    "\n",
    "**Обучите на имеющейся выборке метод ближайших соседей (KNeighborsClassifier). Количество соседей, метрику, веса настройте на кросс-валидации с помощью GridSearchCV. Проведите 4-кратную кросс-валидацию. В качестве метрики качества используйте accuracy. Плюс подберите оптимальный вариант масштабировния данных**"
   ]
  },
  {
   "cell_type": "code",
   "execution_count": null,
   "metadata": {},
   "outputs": [],
   "source": [
    "from sklearn.preprocessing import StandardScaler, MaxAbsScaler, MinMaxScaler"
   ]
  },
  {
   "cell_type": "code",
   "execution_count": null,
   "metadata": {},
   "outputs": [],
   "source": [
    "# Задаем вектор параметров\n",
    "grid_params = {\n",
    "        'n_neighbors': # ваш код здесь\n",
    "        'weights': # ваш код здесь \n",
    "        'metric': # Ваш код здесь\n",
    "    }\n",
    "\n",
    "# зададим вектор различных масштабов\n",
    "scalers = # ваш код здесь\n",
    "\n",
    "\n",
    "for scaler in scalers:\n",
    "    sc_X_train = # ваш код здесь\n",
    "    \n",
    "    knn = KNeighborsClassifier()\n",
    "    kf = KFold# ваш код здесь\n",
    "    grid = GridSearchCV# ваш код здесь\n",
    "    grid.fit # ваш код здесь\n",
    "    \n",
    "    print(scaler, grid.best_params_, grid.best_score_)"
   ]
  },
  {
   "cell_type": "markdown",
   "metadata": {},
   "source": [
    "<span style=\"color:red\">Какой набор параметров дает наилучший результат на тренировочной выборке?</span> "
   ]
  },
  {
   "cell_type": "markdown",
   "metadata": {},
   "source": [
    "**Обучите модель с подобранными параметрами и получите качество на тесте.**"
   ]
  },
  {
   "cell_type": "code",
   "execution_count": null,
   "metadata": {},
   "outputs": [],
   "source": [
    "best_knn = KNeighborsClassifier# ваш код здесь\n",
    "best_knn.fit# ваш код здесь\n",
    "\n",
    "best_knn_predictions = # ваш код здесь \n",
    "accuracy_score# ваш код здесь"
   ]
  },
  {
   "cell_type": "code",
   "execution_count": null,
   "metadata": {},
   "outputs": [],
   "source": []
  },
  {
   "cell_type": "markdown",
   "metadata": {},
   "source": [
    "### Задание 5. \n",
    "\n",
    "**Обучите на имеющейся выборке метод решающих деревьев (DecisionTreeClassifier). Максимальную глубину дерева настройте на кросс-валидации с помощью GridSearchCV. Проведите 4-кратную кросс-валидацию.** \n",
    "\n",
    "**Проверьте результат работы модели на тестовых данных.**\n",
    "\n",
    "В качестве метрики используйте accuracy"
   ]
  },
  {
   "cell_type": "code",
   "execution_count": null,
   "metadata": {},
   "outputs": [],
   "source": [
    "# Ваш код здесь"
   ]
  },
  {
   "cell_type": "code",
   "execution_count": null,
   "metadata": {},
   "outputs": [],
   "source": [
    "# Код проверки модели здесь"
   ]
  },
  {
   "cell_type": "markdown",
   "metadata": {},
   "source": [
    "#### Итоги\n",
    "**Для самой наилучшей модели посмотрите на все остальные метрики. Какие выводы вы можете сделать?**"
   ]
  },
  {
   "cell_type": "code",
   "execution_count": null,
   "metadata": {},
   "outputs": [],
   "source": [
    "from sklearn.metrics import recall_score, precision_score\n",
    "\n",
    "print('Accuracy: %.2f', #ваш код здесь)\n",
    "print('Recall: %.2f', #ваш код здесь)\n",
    "print('Precision: %.2f', #ваш код здесь)"
   ]
  },
  {
   "cell_type": "code",
   "execution_count": null,
   "metadata": {},
   "outputs": [],
   "source": []
  }
 ],
 "metadata": {
  "kernelspec": {
   "display_name": "Python 3",
   "language": "python",
   "name": "python3"
  },
  "language_info": {
   "codemirror_mode": {
    "name": "ipython",
    "version": 3
   },
   "file_extension": ".py",
   "mimetype": "text/x-python",
   "name": "python",
   "nbconvert_exporter": "python",
   "pygments_lexer": "ipython3",
   "version": "3.8.8"
  }
 },
 "nbformat": 4,
 "nbformat_minor": 2
}
