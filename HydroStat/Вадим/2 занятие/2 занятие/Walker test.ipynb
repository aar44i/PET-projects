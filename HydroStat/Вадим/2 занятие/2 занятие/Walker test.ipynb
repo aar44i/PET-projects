{
 "cells": [
  {
   "cell_type": "code",
   "execution_count": 1,
   "metadata": {},
   "outputs": [],
   "source": [
    "import pandas as pd\n",
    "import numpy as np"
   ]
  },
  {
   "cell_type": "code",
   "execution_count": 2,
   "metadata": {},
   "outputs": [],
   "source": [
    "s=\"\\\\\"\n",
    "dr=r\"D:\\google\\2019fall\\байкал 2020\\данные\\statistics\"\n",
    "fn1=r\"p_value.xlsx\"\n",
    "fn2=r\"посты по категориям все.xlsx\""
   ]
  },
  {
   "cell_type": "code",
   "execution_count": 7,
   "metadata": {},
   "outputs": [],
   "source": [
    "fr=pd.read_excel(s.join((dr,fn2)),sheet_name=None, index_col=0, usecols=\"A\")\n",
    "fr1=pd.read_excel(s.join((dr,fn1)),sheet_name=0, index_col=0)"
   ]
  },
  {
   "cell_type": "code",
   "execution_count": 33,
   "metadata": {},
   "outputs": [],
   "source": [
    "def Pfdr(x,y=5):\n",
    "    if len(x)==1:\n",
    "        return 1 if x.iloc[0]<=y else 0\n",
    "    else:\n",
    "        a=np.sort(x.dropna().values)\n",
    "        N=len(a)\n",
    "        Pwalk=y*np.arange(1,N+1)/N\n",
    "        Pwalk-=a\n",
    "        return 1 if np.any(Pwalk>=0) else 0"
   ]
  },
  {
   "cell_type": "code",
   "execution_count": 34,
   "metadata": {},
   "outputs": [
    {
     "name": "stdout",
     "output_type": "stream",
     "text": [
      "юг Селенга\n",
      "Север Селенги\n",
      "юг Байкала\n",
      "север Байкала\n"
     ]
    }
   ],
   "source": [
    "res=[]\n",
    "for key in fr:\n",
    "    print(key)\n",
    "    ind1=fr[key].index\n",
    "    ind=ind1.intersection(fr1.index)#нашли перечение\n",
    "    fr3=fr1.loc[ind]\n",
    "    res.append(fr3.apply(Pfdr, axis=0))"
   ]
  },
  {
   "cell_type": "code",
   "execution_count": 39,
   "metadata": {},
   "outputs": [],
   "source": [
    "res1=pd.DataFrame(res, index=list(fr.keys()))"
   ]
  },
  {
   "cell_type": "code",
   "execution_count": 41,
   "metadata": {},
   "outputs": [],
   "source": [
    "res1.to_excel(s.join((dr, \"walker_test.xlsx\")))"
   ]
  },
  {
   "cell_type": "code",
   "execution_count": null,
   "metadata": {},
   "outputs": [],
   "source": []
  }
 ],
 "metadata": {
  "kernelspec": {
   "display_name": "Python 3",
   "language": "python",
   "name": "python3"
  },
  "language_info": {
   "codemirror_mode": {
    "name": "ipython",
    "version": 3
   },
   "file_extension": ".py",
   "mimetype": "text/x-python",
   "name": "python",
   "nbconvert_exporter": "python",
   "pygments_lexer": "ipython3",
   "version": "3.8.3"
  }
 },
 "nbformat": 4,
 "nbformat_minor": 4
}
