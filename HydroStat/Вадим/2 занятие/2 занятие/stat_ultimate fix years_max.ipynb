{
 "cells": [
  {
   "cell_type": "code",
   "execution_count": 1,
   "metadata": {},
   "outputs": [],
   "source": [
    "import pandas as pd\n",
    "import numpy as np\n",
    "from os import path, listdir"
   ]
  },
  {
   "cell_type": "code",
   "execution_count": 16,
   "metadata": {},
   "outputs": [],
   "source": [
    "from scipy.stats import mannwhitneyu, ttest_ind, bartlett, levene \n",
    "from scipy.stats import kendalltau,ansari\n",
    "from scipy.stats import f as fisher\n",
    "from sklearn.linear_model import LinearRegression"
   ]
  },
  {
   "cell_type": "code",
   "execution_count": 24,
   "metadata": {},
   "outputs": [],
   "source": [
    "dr=r\"C:\\google\\2021fall\\обзор в вр\\данные\\от НЛ\"\n",
    "dr1=r\"C:\\google\\2021fall\\обзор в вр\\данные\\от НЛ\\max_index\"\n",
    "fn=r\"сборная.xlsx\"\n",
    "#fn1=r\"районы.xlsx\"\n",
    "fns=list(listdir(dr1))"
   ]
  },
  {
   "cell_type": "code",
   "execution_count": 25,
   "metadata": {},
   "outputs": [],
   "source": [
    "fr=pd.read_excel(path.join(dr,fn),sheet_name=1,header=0, index_col=0)\n",
    "ind=fr.iloc[:,:2]\n",
    "fr=fr.iloc[:,2:]\n",
    "#fr1=pd.read_excel(path.join(dr,fn1),sheet_name=0,header=0, index_col=0)\n",
    "sn=list(zip(fns, [1988,1988,1980,1985,1996,1985,1996]))"
   ]
  },
  {
   "cell_type": "code",
   "execution_count": 26,
   "metadata": {},
   "outputs": [],
   "source": [
    "def mw(x,yr):\n",
    "    u, p=mannwhitneyu(x[:yr].dropna(),x[yr:].dropna(),alternative=\"two-sided\")\n",
    "    return p"
   ]
  },
  {
   "cell_type": "code",
   "execution_count": 27,
   "metadata": {},
   "outputs": [],
   "source": [
    "def tt(x,yr):\n",
    "    u, p=ttest_ind(x[:yr].dropna(),x[yr:].dropna())\n",
    "    return [p,x[:yr].mean(),x[yr:].mean(),(x[yr:].mean()-x[:yr].mean())*100/x[:yr].mean()]"
   ]
  },
  {
   "cell_type": "code",
   "execution_count": 28,
   "metadata": {},
   "outputs": [],
   "source": [
    "def br(x,yr):\n",
    "    stat, p=bartlett(x[:yr].dropna(),x[yr:].dropna())\n",
    "    return [p,x[:yr].std(),x[yr:].std(),(x[yr:].std()-x[:yr].std())*100/x[:yr].std()]"
   ]
  },
  {
   "cell_type": "code",
   "execution_count": 29,
   "metadata": {},
   "outputs": [],
   "source": [
    "def lv(x,yr):\n",
    "    stat, p=levene(x[:yr].dropna(),x[yr:].dropna())\n",
    "    return p"
   ]
  },
  {
   "cell_type": "code",
   "execution_count": 30,
   "metadata": {},
   "outputs": [],
   "source": [
    "def f_test(x, yr):\n",
    "    a = x[:yr].dropna()\n",
    "    b = x[yr:].dropna()\n",
    "    f = b.var(ddof=1)/a.var(ddof=1) #calculate F test statistic\n",
    "    dfd = a.size-1 #define degrees of freedom numerator \n",
    "    dfn = b.size-1 #define degrees of freedom denominator \n",
    "    p = 1-fisher.cdf(f, dfn, dfd) #find p-value of F test statistic \n",
    "    return p"
   ]
  },
  {
   "cell_type": "code",
   "execution_count": 31,
   "metadata": {},
   "outputs": [],
   "source": [
    "def an(x,yr):\n",
    "    stat, p=ansari(x[:yr].dropna(),x[yr:].dropna())\n",
    "    return p"
   ]
  },
  {
   "cell_type": "code",
   "execution_count": 32,
   "metadata": {},
   "outputs": [],
   "source": [
    "def mk(x):\n",
    "    y=x.dropna()\n",
    "    c, p=kendalltau(y.index,y)\n",
    "    return p"
   ]
  },
  {
   "cell_type": "code",
   "execution_count": 33,
   "metadata": {},
   "outputs": [],
   "source": [
    "def lr(x):\n",
    "    y=x.dropna()\n",
    "    my_reg=LinearRegression().fit(y.index.to_frame(), y)\n",
    "    cf1=my_reg.coef_[0]\n",
    "    return cf1*1000/y.mean()"
   ]
  },
  {
   "cell_type": "code",
   "execution_count": 34,
   "metadata": {},
   "outputs": [],
   "source": [
    "cl=[\"p_val tt\",\"Q1\",\"Q2\",\"\\u0394Q, %\",\"p_val mw\",\"p_val br\",\"stdQ1\",\"stdQ2\",\"\\u0394stdQ, %\",\n",
    "    \"p_val lv\",\"f_test p_val\",\"ansari p_val\",\"p_val mk\", \"trend %/10 yy\"]"
   ]
  },
  {
   "cell_type": "code",
   "execution_count": 35,
   "metadata": {},
   "outputs": [
    {
     "name": "stderr",
     "output_type": "stream",
     "text": [
      "C:\\Users\\vadim\\anaconda3\\lib\\site-packages\\scipy\\stats\\morestats.py:2136: UserWarning: Ties preclude use of exact statistic.\n",
      "  warnings.warn(\"Ties preclude use of exact statistic.\")\n",
      "C:\\Users\\vadim\\anaconda3\\lib\\site-packages\\scipy\\stats\\morestats.py:2136: UserWarning: Ties preclude use of exact statistic.\n",
      "  warnings.warn(\"Ties preclude use of exact statistic.\")\n",
      "C:\\Users\\vadim\\anaconda3\\lib\\site-packages\\scipy\\stats\\morestats.py:2136: UserWarning: Ties preclude use of exact statistic.\n",
      "  warnings.warn(\"Ties preclude use of exact statistic.\")\n",
      "C:\\Users\\vadim\\anaconda3\\lib\\site-packages\\scipy\\stats\\morestats.py:2136: UserWarning: Ties preclude use of exact statistic.\n",
      "  warnings.warn(\"Ties preclude use of exact statistic.\")\n",
      "C:\\Users\\vadim\\anaconda3\\lib\\site-packages\\scipy\\stats\\morestats.py:2136: UserWarning: Ties preclude use of exact statistic.\n",
      "  warnings.warn(\"Ties preclude use of exact statistic.\")\n",
      "C:\\Users\\vadim\\anaconda3\\lib\\site-packages\\scipy\\stats\\morestats.py:2136: UserWarning: Ties preclude use of exact statistic.\n",
      "  warnings.warn(\"Ties preclude use of exact statistic.\")\n",
      "C:\\Users\\vadim\\anaconda3\\lib\\site-packages\\scipy\\stats\\morestats.py:2136: UserWarning: Ties preclude use of exact statistic.\n",
      "  warnings.warn(\"Ties preclude use of exact statistic.\")\n"
     ]
    }
   ],
   "source": [
    "fn=path.join(dr, r\"stat flow max new.xlsx\")\n",
    "writer = pd.ExcelWriter(fn, engine='xlsxwriter')\n",
    "for i in sn:\n",
    "    ind1=pd.read_excel(path.join(dr1,i[0]),header=0,index_col=0)[\"F1\"]\n",
    "    y=i[1]-1950\n",
    "    fr2=fr.loc[ind1].dropna(thresh=60)#выбираем район\n",
    "    res=[pd.DataFrame(fr2.apply(tt,axis=1, yr=y).to_list(), index=fr2.index),\n",
    "         fr2.apply(mw,axis=1, yr=y),\n",
    "         pd.DataFrame(fr2.apply(br,axis=1, yr=y).to_list(), index=fr2.index),\n",
    "         fr2.apply(lv,axis=1, yr=y),\n",
    "         fr2.apply(f_test,axis=1, yr=y),\n",
    "         fr2.apply(an,axis=1, yr=y),\n",
    "         fr2.apply(mk,axis=1),fr2.apply(lr,axis=1)]\n",
    "    res=pd.concat(res, axis=1)\n",
    "    res.columns=cl\n",
    "    pd.concat((ind.loc[res.index], res), axis=1).to_excel(writer,\n",
    "                                                          i[0][5]+\"_\"+str(i[1]))\n",
    "writer.save()"
   ]
  },
  {
   "cell_type": "code",
   "execution_count": null,
   "metadata": {},
   "outputs": [],
   "source": []
  },
  {
   "cell_type": "code",
   "execution_count": null,
   "metadata": {},
   "outputs": [],
   "source": []
  },
  {
   "cell_type": "code",
   "execution_count": null,
   "metadata": {},
   "outputs": [],
   "source": []
  }
 ],
 "metadata": {
  "kernelspec": {
   "display_name": "Python 3",
   "language": "python",
   "name": "python3"
  },
  "language_info": {
   "codemirror_mode": {
    "name": "ipython",
    "version": 3
   },
   "file_extension": ".py",
   "mimetype": "text/x-python",
   "name": "python",
   "nbconvert_exporter": "python",
   "pygments_lexer": "ipython3",
   "version": "3.8.8"
  }
 },
 "nbformat": 4,
 "nbformat_minor": 4
}
