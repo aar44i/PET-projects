{
 "cells": [
  {
   "cell_type": "code",
   "execution_count": 3,
   "metadata": {},
   "outputs": [
    {
     "name": "stdout",
     "output_type": "stream",
     "text": [
      "Note: you may need to restart the kernel to use updated packages.\n"
     ]
    },
    {
     "name": "stderr",
     "output_type": "stream",
     "text": [
      "ERROR: Could not find a version that satisfies the requirement pettitt_test (from versions: none)\n",
      "ERROR: No matching distribution found for pettitt_test\n"
     ]
    }
   ],
   "source": [
    "pip install pettitt_test"
   ]
  },
  {
   "cell_type": "code",
   "execution_count": 4,
   "metadata": {},
   "outputs": [
    {
     "ename": "ModuleNotFoundError",
     "evalue": "No module named 'pyhomogeneity'",
     "output_type": "error",
     "traceback": [
      "\u001b[1;31m---------------------------------------------------------------------------\u001b[0m",
      "\u001b[1;31mModuleNotFoundError\u001b[0m                       Traceback (most recent call last)",
      "\u001b[1;32m<ipython-input-4-523ab9fcaacf>\u001b[0m in \u001b[0;36m<module>\u001b[1;34m\u001b[0m\n\u001b[0;32m      3\u001b[0m \u001b[1;32mfrom\u001b[0m \u001b[0mos\u001b[0m \u001b[1;32mimport\u001b[0m \u001b[0mpath\u001b[0m\u001b[1;33m,\u001b[0m \u001b[0mlistdir\u001b[0m\u001b[1;33m\u001b[0m\u001b[1;33m\u001b[0m\u001b[0m\n\u001b[0;32m      4\u001b[0m \u001b[1;32mfrom\u001b[0m \u001b[0mpathlib\u001b[0m \u001b[1;32mimport\u001b[0m \u001b[0mPath\u001b[0m \u001b[1;32mas\u001b[0m \u001b[0mPath1\u001b[0m\u001b[1;33m\u001b[0m\u001b[1;33m\u001b[0m\u001b[0m\n\u001b[1;32m----> 5\u001b[1;33m \u001b[1;32mfrom\u001b[0m \u001b[0mpyhomogeneity\u001b[0m \u001b[1;32mimport\u001b[0m \u001b[0mpettitt_test\u001b[0m \u001b[1;32mas\u001b[0m \u001b[0mpt\u001b[0m\u001b[1;33m\u001b[0m\u001b[1;33m\u001b[0m\u001b[0m\n\u001b[0m\u001b[0;32m      6\u001b[0m \u001b[1;32mimport\u001b[0m \u001b[0mmatplotlib\u001b[0m\u001b[1;33m.\u001b[0m\u001b[0mpyplot\u001b[0m \u001b[1;32mas\u001b[0m \u001b[0mplt\u001b[0m\u001b[1;33m\u001b[0m\u001b[1;33m\u001b[0m\u001b[0m\n",
      "\u001b[1;31mModuleNotFoundError\u001b[0m: No module named 'pyhomogeneity'"
     ]
    }
   ],
   "source": [
    "import pandas as pd\n",
    "import numpy as np\n",
    "from os import path, listdir\n",
    "from pathlib import Path as Path1\n",
    "from pyhomogeneity import pettitt_test as pt\n",
    "import matplotlib.pyplot as plt"
   ]
  },
  {
   "cell_type": "code",
   "execution_count": 2,
   "metadata": {},
   "outputs": [],
   "source": [
    "dr=r\"C:\\google\\2021fall\\обзор в вр\\данные\\от НЛ\""
   ]
  },
  {
   "cell_type": "code",
   "execution_count": 3,
   "metadata": {},
   "outputs": [],
   "source": [
    "dr1=r\"C:\\google\\2021fall\\обзор в вр\\данные\\от НЛ\\max_index\"\n",
    "fns=list(listdir(dr1))"
   ]
  },
  {
   "cell_type": "raw",
   "metadata": {},
   "source": [
    "dr1=path.join(dr,r\"графики\",r\"интегральная кривая\")\n",
    "dr2=path.join(dr,r\"графики\",r\"разностно интегральная кривая\")\n",
    "try:\n",
    "    Path1(dr1).mkdir(parents=False, exist_ok=False)\n",
    "    Path1(dr2).mkdir(parents=False, exist_ok=False)\n",
    "except:\n",
    "    pass"
   ]
  },
  {
   "cell_type": "code",
   "execution_count": 1,
   "metadata": {},
   "outputs": [
    {
     "ename": "NameError",
     "evalue": "name 'pd' is not defined",
     "output_type": "error",
     "traceback": [
      "\u001b[1;31m---------------------------------------------------------------------------\u001b[0m",
      "\u001b[1;31mNameError\u001b[0m                                 Traceback (most recent call last)",
      "\u001b[1;32m<ipython-input-1-cc87b51a1f75>\u001b[0m in \u001b[0;36m<module>\u001b[1;34m\u001b[0m\n\u001b[0;32m      1\u001b[0m \u001b[1;31m# fn=path.join(dr,\"сборная.xlsx\")\u001b[0m\u001b[1;33m\u001b[0m\u001b[1;33m\u001b[0m\u001b[1;33m\u001b[0m\u001b[0m\n\u001b[1;32m----> 2\u001b[1;33m \u001b[0mfr\u001b[0m\u001b[1;33m=\u001b[0m\u001b[0mpd\u001b[0m\u001b[1;33m.\u001b[0m\u001b[0mread_excel\u001b[0m\u001b[1;33m(\u001b[0m\u001b[1;34m\"сборная.xlsx\"\u001b[0m\u001b[1;33m,\u001b[0m\u001b[0msheet_name\u001b[0m\u001b[1;33m=\u001b[0m\u001b[1;36m1\u001b[0m\u001b[1;33m,\u001b[0m\u001b[0mindex_col\u001b[0m\u001b[1;33m=\u001b[0m\u001b[1;36m0\u001b[0m\u001b[1;33m)\u001b[0m\u001b[1;33m.\u001b[0m\u001b[0mdropna\u001b[0m\u001b[1;33m(\u001b[0m\u001b[0maxis\u001b[0m\u001b[1;33m=\u001b[0m\u001b[1;36m0\u001b[0m\u001b[1;33m,\u001b[0m\u001b[0mthresh\u001b[0m\u001b[1;33m=\u001b[0m\u001b[1;36m55\u001b[0m\u001b[1;33m)\u001b[0m\u001b[1;33m\u001b[0m\u001b[1;33m\u001b[0m\u001b[0m\n\u001b[0m\u001b[0;32m      3\u001b[0m \u001b[0mind\u001b[0m\u001b[1;33m=\u001b[0m\u001b[0mfr\u001b[0m\u001b[1;33m.\u001b[0m\u001b[0miloc\u001b[0m\u001b[1;33m[\u001b[0m\u001b[1;33m:\u001b[0m\u001b[1;33m,\u001b[0m\u001b[1;33m:\u001b[0m\u001b[1;36m2\u001b[0m\u001b[1;33m]\u001b[0m\u001b[1;33m\u001b[0m\u001b[1;33m\u001b[0m\u001b[0m\n\u001b[0;32m      4\u001b[0m \u001b[0mfr\u001b[0m\u001b[1;33m=\u001b[0m\u001b[0mfr\u001b[0m\u001b[1;33m.\u001b[0m\u001b[0miloc\u001b[0m\u001b[1;33m[\u001b[0m\u001b[1;33m:\u001b[0m\u001b[1;33m,\u001b[0m\u001b[1;36m2\u001b[0m\u001b[1;33m:\u001b[0m\u001b[1;33m]\u001b[0m\u001b[1;33m\u001b[0m\u001b[1;33m\u001b[0m\u001b[0m\n",
      "\u001b[1;31mNameError\u001b[0m: name 'pd' is not defined"
     ]
    }
   ],
   "source": [
    "# fn=path.join(dr,\"сборная.xlsx\")\n",
    "fr=pd.read_excel(\"сборная.xlsx\",sheet_name=1,index_col=0).dropna(axis=0,thresh=55)\n",
    "ind=fr.iloc[:,:2]\n",
    "fr=fr.iloc[:,2:]"
   ]
  },
  {
   "cell_type": "code",
   "execution_count": null,
   "metadata": {},
   "outputs": [],
   "source": []
  },
  {
   "cell_type": "code",
   "execution_count": null,
   "metadata": {},
   "outputs": [],
   "source": []
  },
  {
   "cell_type": "raw",
   "metadata": {},
   "source": [
    "#удалить потом дубликаты\n",
    "fr1=fr.cumsum(axis=1)#ИК\n",
    "fr2=((fr.transpose()-fr.mean(axis=1))/fr.std(axis=1)).cumsum(axis=0).transpose()#РИК"
   ]
  },
  {
   "cell_type": "code",
   "execution_count": 5,
   "metadata": {},
   "outputs": [],
   "source": [
    "x = pd.DataFrame(fr.apply(pt,axis=1, alpha=0.1, sim=2500).to_list())\n",
    "x.columns=[\"true_false\", \"date\",\"p_val\",\"stat\",r\"avg\"]\n",
    "x.index=fr.index\n",
    "x['before'], x['after'] = zip(*x[\"avg\"])\n",
    "x.drop('avg',axis=1, inplace=True)\n",
    "x[\"p_val\"]*=100\n",
    "x[\"date\"]=fr.columns[x[\"date\"]]"
   ]
  },
  {
   "cell_type": "code",
   "execution_count": 6,
   "metadata": {},
   "outputs": [],
   "source": [
    "x=pd.concat([ind,x], axis=1)\n",
    "x.drop_duplicates(inplace=True)\n",
    "x.to_excel(path.join(dr,\"pettitt_55MAX.xlsx\"))"
   ]
  },
  {
   "cell_type": "code",
   "execution_count": 7,
   "metadata": {},
   "outputs": [],
   "source": [
    "fn=path.join(dr,\"сборная.xlsx\")\n",
    "fr=pd.read_excel(fn,sheet_name=0,index_col=0)[[\"X\",\"Y\"]]\n",
    "fn=path.join(dr,\"max_table.xlsx\")\n",
    "fr1=pd.read_excel(fn,sheet_name=0,index_col=0)[[\"Long\",\"Lat\"]]\n",
    "fr1.columns=[\"X\",\"Y\"]\n",
    "fr=pd.concat([fr,fr1])"
   ]
  },
  {
   "cell_type": "code",
   "execution_count": 8,
   "metadata": {},
   "outputs": [],
   "source": [
    "fr=fr.loc[~fr.index.duplicated()]"
   ]
  },
  {
   "cell_type": "code",
   "execution_count": 9,
   "metadata": {},
   "outputs": [],
   "source": [
    "ind=x.index.intersection(fr.index)\n",
    "fr=pd.concat([fr.loc[ind],x.loc[ind]], axis=1)\n",
    "#fr.to_excel(path.join(dr,\"max_coords.xlsx\"))"
   ]
  },
  {
   "cell_type": "code",
   "execution_count": 10,
   "metadata": {},
   "outputs": [],
   "source": [
    "fn=path.join(dr, r\"pettitt_by_regions55.xlsx\")\n",
    "writer = pd.ExcelWriter(fn, engine='xlsxwriter')\n",
    "for i in fns:\n",
    "    fr1=pd.read_excel(path.join(dr1,i),header=0)\n",
    "    ind=fr.index.intersection(pd.Index(fr1[\"F1\"]))\n",
    "    fr.loc[ind].to_excel(writer,i[5])\n",
    "writer.save()"
   ]
  },
  {
   "cell_type": "code",
   "execution_count": null,
   "metadata": {},
   "outputs": [],
   "source": [
    "a=(fr1,fr2)\n",
    "b=(dr1,dr2)\n",
    "с=(\"ИК, $м^с$\",\"РИК\")\n",
    "for i in range(2):#2\n",
    "    for j in x.index:\n",
    "        fig, ax = plt.subplots(figsize=(10, 7))\n",
    "        z=a[i].loc[j].drop_duplicates()#когда суммировали там где nan не было была вставлена сумма\n",
    "        ax.scatter(x=z.index, y=z, marker='o')\n",
    "        ax.set_title(label=ind.loc[j,r\"река-пост\"], fontsize=15)\n",
    "        ax.set_xlabel('Годы', size=13)\n",
    "        ax.set_ylabel(с[i], size=13)\n",
    "        ax.set_xlim(1949)\n",
    "        plt.text(x=0.01,y=0.93,s=r\"p-val={} %\".format(round(x.loc[j,\"p-val\"])),\n",
    "                 ha='left', va='bottom',size=16,\n",
    "                 transform=ax.transAxes)\n",
    "        plt.xticks(fontsize=13)\n",
    "        plt.yticks(fontsize=13, rotation=90)\n",
    "        fig.savefig(path.join(b[i],ind.loc[j,r\"река-пост\"]+\".jpg\"),dpi=300)\n",
    "        plt.close()"
   ]
  },
  {
   "cell_type": "code",
   "execution_count": null,
   "metadata": {},
   "outputs": [],
   "source": []
  }
 ],
 "metadata": {
  "kernelspec": {
   "display_name": "Python 3",
   "language": "python",
   "name": "python3"
  },
  "language_info": {
   "codemirror_mode": {
    "name": "ipython",
    "version": 3
   },
   "file_extension": ".py",
   "mimetype": "text/x-python",
   "name": "python",
   "nbconvert_exporter": "python",
   "pygments_lexer": "ipython3",
   "version": "3.8.8"
  }
 },
 "nbformat": 4,
 "nbformat_minor": 4
}
