{
 "cells": [
  {
   "cell_type": "code",
   "execution_count": 2,
   "metadata": {},
   "outputs": [],
   "source": [
    "import pandas as pd\n",
    "from os import path"
   ]
  },
  {
   "cell_type": "code",
   "execution_count": 3,
   "metadata": {},
   "outputs": [],
   "source": [
    "import seaborn as sns\n",
    "import matplotlib.pyplot as plt"
   ]
  },
  {
   "cell_type": "code",
   "execution_count": 4,
   "metadata": {},
   "outputs": [],
   "source": [
    "dr=r\"C:\\Users\\gorba\\DataSciense\\PET-projects\\HydroStat\\Вадим\\2 занятие\\2 занятие\"\n",
    "fn=r\"TWS merged.xlsx\"\n",
    "fr=pd.read_excel(path.join(dr,fn),sheet_name=None,index_col=[0,1])\n",
    "sn=list(fr.keys())"
   ]
  },
  {
   "cell_type": "code",
   "execution_count": 5,
   "metadata": {
    "scrolled": true
   },
   "outputs": [
    {
     "data": {
      "text/plain": [
       "{'ND':                 AIUB      CNESS     COST_G        CSR        GFZ      ITSG  \\\n",
       " year month                                                                   \n",
       " 2002 4           NaN   7.869403  10.045889   9.507306  11.213972   9.52375   \n",
       "      5           NaN   2.398403  -1.573111  -2.367694  -1.521028  -0.94225   \n",
       "      8           NaN -12.139597 -10.641111 -10.260694  -9.140028 -13.18225   \n",
       "      9           NaN -12.034597 -11.240111 -12.707694  -9.733028  -6.91925   \n",
       "      10          NaN  -9.148597  -7.965111  -9.162694 -10.484028  -5.68225   \n",
       " ...              ...        ...        ...        ...        ...       ...   \n",
       " 2021 5      6.355985   6.740403   6.045889   5.059306   8.488972   5.76675   \n",
       "      6     -1.441015  -1.359597  -1.193111  -1.854694   1.095972  -0.14025   \n",
       "      7     -1.900015  -7.520597  -3.099111  -5.422694  -4.925028  -3.54725   \n",
       "      8     -7.653015  -7.778597  -7.811111  -7.476694  -6.846028  -6.93925   \n",
       "      9           NaN  -3.481597  -3.000000  -2.375694  -2.665028  -4.17125   \n",
       " \n",
       "                   JPL Unnamed: 9  Unnamed: 10  \n",
       " year month                                     \n",
       " 2002 4       8.268529 2002-04-15     1.875222  \n",
       "      5      -2.366471 2002-05-15     0.884222  \n",
       "      8     -10.792471 2002-08-15   -11.184778  \n",
       "      9     -12.544471 2002-09-15   -14.622778  \n",
       "      10    -10.300471 2002-10-15    -9.803778  \n",
       " ...               ...        ...          ...  \n",
       " 2021 5       5.397529 2021-05-15    -3.920778  \n",
       "      6      -3.049471 2021-06-15    -5.470778  \n",
       "      7      -5.234471 2021-07-15    -9.749778  \n",
       "      8      -9.682471 2021-08-15   -12.149778  \n",
       "      9      -3.798471 2021-09-15   -14.000000  \n",
       " \n",
       " [205 rows x 9 columns],\n",
       " 'DON':                  AIUB      CNESS     COST_G        CSR        GFZ       ITSG  \\\n",
       " year month                                                                     \n",
       " 2002 4            NaN  -0.520722   1.875222  -2.354292   1.622958   5.390819   \n",
       "      5            NaN  -1.420722   0.884222   0.690708  -1.456042   3.764819   \n",
       "      8            NaN -15.136722 -11.184778  -9.982292 -15.371042 -11.982181   \n",
       "      9            NaN -16.399722 -14.622778 -12.543292 -19.133042 -15.828181   \n",
       "      10           NaN -13.419722  -9.803778 -10.649292  -6.301042  -9.043181   \n",
       " ...               ...        ...        ...        ...        ...        ...   \n",
       " 2021 5      -4.193881  -7.792722  -3.920778  -5.587292  -1.617042  -2.599181   \n",
       "      6      -6.345881  -9.874722  -5.470778  -3.190292  -2.520042  -5.811181   \n",
       "      7      -8.387881 -16.667722  -9.749778 -14.056292  -8.574042 -11.287181   \n",
       "      8     -12.641881 -19.356722 -12.149778 -10.248292 -10.105042 -12.790181   \n",
       "      9            NaN -21.832722 -14.000000 -13.609292 -17.187042 -13.677181   \n",
       " \n",
       "                   JPL Unnamed: 9  \n",
       " year month                        \n",
       " 2002 4      -1.899324 2002-04-15  \n",
       "      5      -1.501324 2002-05-15  \n",
       "      8     -12.367324 2002-08-15  \n",
       "      9     -17.050324 2002-09-15  \n",
       "      10     -8.107324 2002-10-15  \n",
       " ...               ...        ...  \n",
       " 2021 5      -5.540324 2021-05-15  \n",
       "      6      -7.409324 2021-06-15  \n",
       "      7      -9.106324 2021-07-15  \n",
       "      8     -12.515324 2021-08-15  \n",
       "      9     -13.804324 2021-09-15  \n",
       " \n",
       " [205 rows x 8 columns]}"
      ]
     },
     "execution_count": 5,
     "metadata": {},
     "output_type": "execute_result"
    }
   ],
   "source": [
    "fr"
   ]
  },
  {
   "cell_type": "code",
   "execution_count": 6,
   "metadata": {},
   "outputs": [],
   "source": [
    "res=[]\n",
    "for i in sn:\n",
    "    x=fr[i].dropna(axis=0, thresh=4)#.drop(index=2017, level=0)\n",
    "    #res.append(x.std(axis=1).unstack(level=0).mean())\n",
    "    Ystd=x.std(axis=1).unstack(level=0)\n",
    "    #для level=1 month\n",
    "    Ystd.columns=[x for x in Ystd.columns.astype(str).str.slice(start=2)]\n",
    "    #Ystd.columns=[\"I\",\"II\",\"III\",\"IV\",\"V\",\"VI\",\n",
    "    #              \"VII\",\"VIII\",\"IX\",\"X\",\"XI\",\"XII\"]\n",
    "    flierprops = dict(marker='o', markerfacecolor='black', markersize=4,\n",
    "                  linestyle='none')\n",
    "    ax =Ystd.plot(kind='box', showmeans=True,widths=0.8,\n",
    "                  color=dict(boxes='black', whiskers='black',\n",
    "                             medians='black', caps='black'),\n",
    "                  flierprops=flierprops)\n",
    "    plt.rcParams[\"figure.figsize\"] = (10,5)\n",
    "    plt.xticks(fontsize=11)\n",
    "    plt.yticks(fontsize=11)\n",
    "    ax.set_ylabel(\"\\u03C3\"+r\"TWS, см\", fontsize=12,rotation='vertical')\n",
    "    ax.set_xlabel(\"год\",fontsize=12)#или год\n",
    "    plt.savefig(path.join(dr,\"TWS_\"+\"год\"+\"_\"+i+\".png\"),\n",
    "                bbox_inches='tight', dpi=450)\n",
    "    plt.close()"
   ]
  },
  {
   "cell_type": "code",
   "execution_count": null,
   "metadata": {},
   "outputs": [],
   "source": []
  },
  {
   "cell_type": "code",
   "execution_count": null,
   "metadata": {},
   "outputs": [],
   "source": []
  },
  {
   "cell_type": "code",
   "execution_count": null,
   "metadata": {},
   "outputs": [],
   "source": []
  },
  {
   "cell_type": "raw",
   "metadata": {},
   "source": [
    "res=pd.concat(res, axis=1)"
   ]
  },
  {
   "cell_type": "raw",
   "metadata": {},
   "source": [
    "res.columns=sn\n",
    "res.to_excel(path.join(dr,r\"std of TWS.xlsx\"))"
   ]
  }
 ],
 "metadata": {
  "kernelspec": {
   "display_name": "Python 3",
   "language": "python",
   "name": "python3"
  },
  "language_info": {
   "codemirror_mode": {
    "name": "ipython",
    "version": 3
   },
   "file_extension": ".py",
   "mimetype": "text/x-python",
   "name": "python",
   "nbconvert_exporter": "python",
   "pygments_lexer": "ipython3",
   "version": "3.8.8"
  }
 },
 "nbformat": 4,
 "nbformat_minor": 4
}
