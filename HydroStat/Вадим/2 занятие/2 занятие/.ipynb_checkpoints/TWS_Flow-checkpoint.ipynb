{
 "cells": [
  {
   "cell_type": "code",
   "execution_count": 1,
   "metadata": {},
   "outputs": [],
   "source": [
    "import pandas as pd\n",
    "import numpy as np\n",
    "from os import path\n",
    "from scipy.optimize import curve_fit\n",
    "import matplotlib.pyplot as plt"
   ]
  },
  {
   "cell_type": "code",
   "execution_count": 2,
   "metadata": {},
   "outputs": [],
   "source": [
    "def crv(x,a,b):\n",
    "    return a*np.exp(b*x)"
   ]
  },
  {
   "cell_type": "code",
   "execution_count": 8,
   "metadata": {},
   "outputs": [],
   "source": [
    "dr=r\"C:\\google\\2021fall\\гидрогео\"\n",
    "fn=r\"grace_flow.xlsx\"\n",
    "fr=pd.read_excel(path.join(dr,fn),sheet_name=None,index_col=[0,1])\n",
    "sn=list(fr.keys())[:2]"
   ]
  },
  {
   "cell_type": "code",
   "execution_count": 23,
   "metadata": {},
   "outputs": [
    {
     "data": {
      "text/plain": [
       "ND   -6.062754\n",
       "Q     6.332946\n",
       "dtype: float64"
      ]
     },
     "execution_count": 23,
     "metadata": {},
     "output_type": "execute_result"
    }
   ],
   "source": [
    "fr1=fr[sn[0]].query('month > 7 and month < 11').dropna()\n",
    "fr1['Q']/=348#348\n",
    "fr1.mean()"
   ]
  },
  {
   "cell_type": "code",
   "execution_count": 24,
   "metadata": {},
   "outputs": [],
   "source": [
    "fr2=fr1.sort_values(by=['ND'],ascending=False)\n",
    "vl=fr2[\"Q\"].to_numpy()"
   ]
  },
  {
   "cell_type": "code",
   "execution_count": 25,
   "metadata": {},
   "outputs": [],
   "source": [
    "Qb=[vl[:x].min() for x in range(1, len(vl)+1)]"
   ]
  },
  {
   "cell_type": "code",
   "execution_count": 26,
   "metadata": {},
   "outputs": [
    {
     "name": "stdout",
     "output_type": "stream",
     "text": [
      "4.481925561029006\n"
     ]
    }
   ],
   "source": [
    "fr2[\"Qb\"]=Qb\n",
    "print(fr2[\"Qb\"].mean())"
   ]
  },
  {
   "cell_type": "code",
   "execution_count": 27,
   "metadata": {},
   "outputs": [],
   "source": [
    "#это только для северной Двины\n",
    "#fr2=fr2.sort_values(by=['Qb'],ascending=False).iloc[8:]"
   ]
  },
  {
   "cell_type": "code",
   "execution_count": 28,
   "metadata": {},
   "outputs": [],
   "source": [
    "[a, b], pcov = curve_fit(crv, fr1[\"ND\"], fr1[\"Q\"])\n",
    "[c, d], pcov = curve_fit(crv, fr2[\"ND\"]+0., fr2[\"Qb\"])"
   ]
  },
  {
   "cell_type": "code",
   "execution_count": 29,
   "metadata": {
    "scrolled": true
   },
   "outputs": [
    {
     "data": {
      "image/png": "[encoded data removed]",
      "text/plain": [
       "<Figure size 432x288 with 1 Axes>"
      ]
     },
     "metadata": {
      "needs_background": "light"
     },
     "output_type": "display_data"
    },
    {
     "name": "stdout",
     "output_type": "stream",
     "text": [
      "10.846641328412506 0.1074498116414434 9.837713918154067 0.16831788558940522\n"
     ]
    }
   ],
   "source": [
    "fig, ax = plt.subplots()\n",
    "ax.scatter(fr1[\"ND\"], fr1[\"Q\"],label=\"$Q_{изм}$\")\n",
    "ax.scatter(fr1[\"ND\"], crv(fr1[\"ND\"], a, b),label=r\"Q(TWS)\")\n",
    "#plt.text(0., 0., s=r\"Q={0}*$e^{{1}}$\".format(int(a),round(b,4)),\n",
    "#         size=15, weight='normal',ha='left', va='bottom')\n",
    "ax.scatter(fr1[\"ND\"], crv(fr1[\"ND\"], c, d),label=\"$Q_{b}$(TWS)\")#0.15 -рандом \n",
    "ax.set_xlabel(\"TWS, см\",fontsize=12)\n",
    "ax.set_ylabel(\"л/с*$км^2$, см\",fontsize=12)\n",
    "ax.legend()\n",
    "plt.show()\n",
    "fig.savefig(path.join(dr,\"TWS_flow_ND_KZ\"+\".png\"),\n",
    "                bbox_inches='tight', dpi=450)\n",
    "plt.close(fig)\n",
    "print(a,b,c,d)"
   ]
  }
 ],
 "metadata": {
  "kernelspec": {
   "display_name": "Python 3",
   "language": "python",
   "name": "python3"
  },
  "language_info": {
   "codemirror_mode": {
    "name": "ipython",
    "version": 3
   },
   "file_extension": ".py",
   "mimetype": "text/x-python",
   "name": "python",
   "nbconvert_exporter": "python",
   "pygments_lexer": "ipython3",
   "version": "3.8.8"
  }
 },
 "nbformat": 4,
 "nbformat_minor": 4
}
