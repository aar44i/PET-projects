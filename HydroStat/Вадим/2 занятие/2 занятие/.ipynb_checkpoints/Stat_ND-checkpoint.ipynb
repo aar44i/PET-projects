{
 "cells": [
  {
   "cell_type": "code",
   "execution_count": 1,
   "metadata": {},
   "outputs": [],
   "source": [
    "import pandas as pd\n",
    "import numpy as np\n",
    "from os import path"
   ]
  },
  {
   "cell_type": "code",
   "execution_count": 2,
   "metadata": {},
   "outputs": [
    {
     "ename": "ModuleNotFoundError",
     "evalue": "No module named 'pymannkendall'",
     "output_type": "error",
     "traceback": [
      "\u001b[1;31m---------------------------------------------------------------------------\u001b[0m",
      "\u001b[1;31mModuleNotFoundError\u001b[0m                       Traceback (most recent call last)",
      "\u001b[1;32m<ipython-input-2-c00c08212bd2>\u001b[0m in \u001b[0;36m<module>\u001b[1;34m\u001b[0m\n\u001b[0;32m      3\u001b[0m \u001b[1;32mfrom\u001b[0m \u001b[0mscipy\u001b[0m\u001b[1;33m.\u001b[0m\u001b[0mstats\u001b[0m \u001b[1;32mimport\u001b[0m \u001b[0mf\u001b[0m \u001b[1;32mas\u001b[0m \u001b[0mfisher\u001b[0m\u001b[1;33m\u001b[0m\u001b[1;33m\u001b[0m\u001b[0m\n\u001b[0;32m      4\u001b[0m \u001b[1;32mfrom\u001b[0m \u001b[0msklearn\u001b[0m\u001b[1;33m.\u001b[0m\u001b[0mlinear_model\u001b[0m \u001b[1;32mimport\u001b[0m \u001b[0mLinearRegression\u001b[0m\u001b[1;33m\u001b[0m\u001b[1;33m\u001b[0m\u001b[0m\n\u001b[1;32m----> 5\u001b[1;33m \u001b[1;32mimport\u001b[0m \u001b[0mpymannkendall\u001b[0m \u001b[1;32mas\u001b[0m \u001b[0mmkm\u001b[0m\u001b[1;33m\u001b[0m\u001b[1;33m\u001b[0m\u001b[0m\n\u001b[0m",
      "\u001b[1;31mModuleNotFoundError\u001b[0m: No module named 'pymannkendall'"
     ]
    }
   ],
   "source": [
    "from scipy.stats import mannwhitneyu, ttest_ind, bartlett, levene \n",
    "from scipy.stats import kendalltau,ansari\n",
    "from scipy.stats import f as fisher\n",
    "from sklearn.linear_model import LinearRegression\n",
    "import pymannkendall as mkm"
   ]
  },
  {
   "cell_type": "code",
   "execution_count": 3,
   "metadata": {},
   "outputs": [],
   "source": [
    "dr=r\"C:\\google\\2021fall\\гидрогео\"\n",
    "fn=r\"Severnaya_Dvina_vosstanov_vse_05_11_21.xlsx\"\n",
    "fr=pd.read_excel(path.join(dr,fn),sheet_name=None,index_col=0)\n",
    "sn=list(fr.keys())"
   ]
  },
  {
   "cell_type": "code",
   "execution_count": 4,
   "metadata": {},
   "outputs": [],
   "source": [
    "def mw(x,yr):\n",
    "    u, p=mannwhitneyu(x[:yr].dropna(),x[yr:].dropna(),alternative=\"two-sided\")\n",
    "    return p"
   ]
  },
  {
   "cell_type": "code",
   "execution_count": 5,
   "metadata": {},
   "outputs": [],
   "source": [
    "def tt(x,yr):\n",
    "    u, p=ttest_ind(x[:yr].dropna(),x[yr:].dropna())\n",
    "    return [p,x[:yr].mean(),x[yr:].mean(),(x[yr:].mean()-x[:yr].mean())*100/x[:yr].mean()]"
   ]
  },
  {
   "cell_type": "code",
   "execution_count": 6,
   "metadata": {},
   "outputs": [],
   "source": [
    "def br(x,yr):\n",
    "    stat, p=bartlett(x[:yr].dropna(),x[yr:].dropna())\n",
    "    return [p,x[:yr].std(),x[yr:].std(),(x[yr:].std()-x[:yr].std())*100/x[:yr].std()]"
   ]
  },
  {
   "cell_type": "code",
   "execution_count": 7,
   "metadata": {},
   "outputs": [],
   "source": [
    "def lv(x,yr):\n",
    "    stat, p=levene(x[:yr].dropna(),x[yr:].dropna())\n",
    "    return p"
   ]
  },
  {
   "cell_type": "code",
   "execution_count": 8,
   "metadata": {},
   "outputs": [],
   "source": [
    "def f_test(x, yr):\n",
    "    a = x[:yr].dropna()\n",
    "    b = x[yr:].dropna()\n",
    "    f = b.var(ddof=1)/a.var(ddof=1) #calculate F test statistic\n",
    "    dfd = a.size-1 #define degrees of freedom numerator \n",
    "    dfn = b.size-1 #define degrees of freedom denominator \n",
    "    p = 1-fisher.cdf(f, dfn, dfd) #find p-value of F test statistic \n",
    "    return p"
   ]
  },
  {
   "cell_type": "code",
   "execution_count": 9,
   "metadata": {},
   "outputs": [],
   "source": [
    "def an(x,yr):\n",
    "    stat, p=ansari(x[:yr].dropna(),x[yr:].dropna())\n",
    "    return p"
   ]
  },
  {
   "cell_type": "code",
   "execution_count": 10,
   "metadata": {},
   "outputs": [],
   "source": [
    "def mk(x):\n",
    "    y=x.dropna()\n",
    "    c, p=kendalltau(y.index,y)\n",
    "    return p"
   ]
  },
  {
   "cell_type": "code",
   "execution_count": 17,
   "metadata": {},
   "outputs": [],
   "source": [
    "def mk2(x):\n",
    "    #y=x.dropna()\n",
    "    res=mkm.yue_wang_modification_test(x,lag=1)\n",
    "    return res.p"
   ]
  },
  {
   "cell_type": "code",
   "execution_count": 12,
   "metadata": {},
   "outputs": [],
   "source": [
    "def lr(x):\n",
    "    y=x.dropna()\n",
    "    my_reg=LinearRegression().fit(y.index.to_frame(), y)\n",
    "    cf1=my_reg.coef_[0]\n",
    "    return cf1*1000/y.mean()"
   ]
  },
  {
   "cell_type": "code",
   "execution_count": 13,
   "metadata": {},
   "outputs": [],
   "source": [
    "cl=[\"p_val tt\",\"Q1\",\"Q2\",\"\\u0394Q, %\",\"p_val mw\",\"p_val br\",\"stdQ1\",\n",
    "    \"stdQ2\",\"\\u0394stdQ, %\",\"p_val lv\",\"f_test p_val\",\"ansari p_val\",\n",
    "    \"p_val mk\",\"p_val mk2\", \"trend %/10 yy\"]"
   ]
  },
  {
   "cell_type": "code",
   "execution_count": 20,
   "metadata": {},
   "outputs": [
    {
     "name": "stdout",
     "output_type": "stream",
     "text": [
      "год\n"
     ]
    },
    {
     "name": "stderr",
     "output_type": "stream",
     "text": [
      "C:\\Users\\vadim\\anaconda3\\lib\\site-packages\\scipy\\stats\\morestats.py:2136: UserWarning: Ties preclude use of exact statistic.\n",
      "  warnings.warn(\"Ties preclude use of exact statistic.\")\n"
     ]
    },
    {
     "name": "stdout",
     "output_type": "stream",
     "text": [
      "Меж\n"
     ]
    },
    {
     "name": "stderr",
     "output_type": "stream",
     "text": [
      "C:\\Users\\vadim\\anaconda3\\lib\\site-packages\\scipy\\stats\\morestats.py:2136: UserWarning: Ties preclude use of exact statistic.\n",
      "  warnings.warn(\"Ties preclude use of exact statistic.\")\n"
     ]
    },
    {
     "name": "stdout",
     "output_type": "stream",
     "text": [
      "МинЗим\n"
     ]
    },
    {
     "name": "stderr",
     "output_type": "stream",
     "text": [
      "C:\\Users\\vadim\\anaconda3\\lib\\site-packages\\scipy\\stats\\morestats.py:2136: UserWarning: Ties preclude use of exact statistic.\n",
      "  warnings.warn(\"Ties preclude use of exact statistic.\")\n"
     ]
    },
    {
     "name": "stdout",
     "output_type": "stream",
     "text": [
      "МинЛ-О\n"
     ]
    },
    {
     "name": "stderr",
     "output_type": "stream",
     "text": [
      "C:\\Users\\vadim\\anaconda3\\lib\\site-packages\\scipy\\stats\\morestats.py:2136: UserWarning: Ties preclude use of exact statistic.\n",
      "  warnings.warn(\"Ties preclude use of exact statistic.\")\n"
     ]
    }
   ],
   "source": [
    "fn=path.join(dr, r\"stat ND.xlsx\")\n",
    "writer = pd.ExcelWriter(fn, engine='xlsxwriter')\n",
    "for i in sn:\n",
    "    print(i)\n",
    "    y=1978-1946\n",
    "    fr2=fr[i].dropna(axis=1,thresh=60)#выбираем район\n",
    "    res=[pd.DataFrame(fr2.apply(tt,axis=0, yr=y).to_list(), index=fr2.columns),\n",
    "         fr2.apply(mw,axis=0, yr=y),\n",
    "         pd.DataFrame(fr2.apply(br,axis=0, yr=y).to_list(), index=fr2.columns),\n",
    "         fr2.apply(lv,axis=0, yr=y),\n",
    "         fr2.apply(f_test,axis=0, yr=y),\n",
    "         fr2.apply(an,axis=0, yr=y),\n",
    "         fr2.apply(mk,axis=0),fr2.apply(mk2,axis=0),fr2.apply(lr,axis=0)]\n",
    "    res=pd.concat(res, axis=1)\n",
    "    res.columns=cl\n",
    "    res.to_excel(writer,i)\n",
    "writer.save()"
   ]
  }
 ],
 "metadata": {
  "kernelspec": {
   "display_name": "Python 3",
   "language": "python",
   "name": "python3"
  },
  "language_info": {
   "codemirror_mode": {
    "name": "ipython",
    "version": 3
   },
   "file_extension": ".py",
   "mimetype": "text/x-python",
   "name": "python",
   "nbconvert_exporter": "python",
   "pygments_lexer": "ipython3",
   "version": "3.8.8"
  }
 },
 "nbformat": 4,
 "nbformat_minor": 4
}
