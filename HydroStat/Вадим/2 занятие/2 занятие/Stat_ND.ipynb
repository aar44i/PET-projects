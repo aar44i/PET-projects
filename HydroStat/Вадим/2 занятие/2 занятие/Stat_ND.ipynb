{
 "cells": [
  {
   "cell_type": "code",
   "execution_count": 1,
   "metadata": {},
   "outputs": [],
   "source": [
    "import pandas as pd\n",
    "import numpy as np\n",
    "from os import path"
   ]
  },
  {
   "cell_type": "code",
   "execution_count": 3,
   "metadata": {},
   "outputs": [
    {
     "name": "stdout",
     "output_type": "stream",
     "text": [
      "Collecting pymannkendall\n",
      "  Downloading pymannkendall-1.4.2-py3-none-any.whl (12 kB)\n",
      "Requirement already satisfied: scipy in c:\\users\\gorba\\anaconda3\\lib\\site-packages (from pymannkendall) (1.6.2)\n",
      "Requirement already satisfied: numpy in c:\\users\\gorba\\anaconda3\\lib\\site-packages (from pymannkendall) (1.19.5)\n",
      "Installing collected packages: pymannkendall\n",
      "Successfully installed pymannkendall-1.4.2\n",
      "Note: you may need to restart the kernel to use updated packages.\n"
     ]
    }
   ],
   "source": [
    "pip install pymannkendall"
   ]
  },
  {
   "cell_type": "code",
   "execution_count": 4,
   "metadata": {},
   "outputs": [],
   "source": [
    "from scipy.stats import mannwhitneyu, ttest_ind, bartlett, levene \n",
    "from scipy.stats import kendalltau,ansari\n",
    "from scipy.stats import f as fisher\n",
    "from sklearn.linear_model import LinearRegression\n",
    "import pymannkendall as mkm"
   ]
  },
  {
   "cell_type": "code",
   "execution_count": 6,
   "metadata": {},
   "outputs": [
    {
     "data": {
      "text/plain": [
       "['год', 'Меж', 'МинЗим', 'МинЛ-О']"
      ]
     },
     "execution_count": 6,
     "metadata": {},
     "output_type": "execute_result"
    }
   ],
   "source": [
    "dr=r\"C:\\google\\2021fall\\гидрогео\"\n",
    "fn=r\"Severnaya_Dvina_vosstanov_vse_05_11_21.xlsx\"\n",
    "fr=pd.read_excel(\"Severnaya_Dvina_vosstanov_vse_05_11_21.xlsx\",sheet_name=None,index_col=0)\n",
    "sn=list(fr.keys())\n",
    "sn"
   ]
  },
  {
   "cell_type": "code",
   "execution_count": 7,
   "metadata": {},
   "outputs": [],
   "source": [
    "def mw(x,yr):\n",
    "    u, p=mannwhitneyu(x[:yr].dropna(),x[yr:].dropna(),alternative=\"two-sided\")\n",
    "    return p"
   ]
  },
  {
   "cell_type": "code",
   "execution_count": 8,
   "metadata": {},
   "outputs": [],
   "source": [
    "def tt(x,yr):\n",
    "    u, p=ttest_ind(x[:yr].dropna(),x[yr:].dropna())\n",
    "    return [p,x[:yr].mean(),x[yr:].mean(),(x[yr:].mean()-x[:yr].mean())*100/x[:yr].mean()]"
   ]
  },
  {
   "cell_type": "code",
   "execution_count": 9,
   "metadata": {},
   "outputs": [],
   "source": [
    "def br(x,yr):\n",
    "    stat, p=bartlett(x[:yr].dropna(),x[yr:].dropna())\n",
    "    return [p,x[:yr].std(),x[yr:].std(),(x[yr:].std()-x[:yr].std())*100/x[:yr].std()]"
   ]
  },
  {
   "cell_type": "code",
   "execution_count": 10,
   "metadata": {},
   "outputs": [],
   "source": [
    "def lv(x,yr):\n",
    "    stat, p=levene(x[:yr].dropna(),x[yr:].dropna())\n",
    "    return p"
   ]
  },
  {
   "cell_type": "code",
   "execution_count": 11,
   "metadata": {},
   "outputs": [],
   "source": [
    "def f_test(x, yr):\n",
    "    a = x[:yr].dropna()\n",
    "    b = x[yr:].dropna()\n",
    "    f = b.var(ddof=1)/a.var(ddof=1) #calculate F test statistic\n",
    "    dfd = a.size-1 #define degrees of freedom numerator \n",
    "    dfn = b.size-1 #define degrees of freedom denominator \n",
    "    p = 1-fisher.cdf(f, dfn, dfd) #find p-value of F test statistic \n",
    "    return p"
   ]
  },
  {
   "cell_type": "code",
   "execution_count": 12,
   "metadata": {},
   "outputs": [],
   "source": [
    "def an(x,yr):\n",
    "    stat, p=ansari(x[:yr].dropna(),x[yr:].dropna())\n",
    "    return p"
   ]
  },
  {
   "cell_type": "code",
   "execution_count": 13,
   "metadata": {},
   "outputs": [],
   "source": [
    "def mk(x):\n",
    "    y=x.dropna()\n",
    "    c, p=kendalltau(y.index,y)\n",
    "    return p"
   ]
  },
  {
   "cell_type": "code",
   "execution_count": 14,
   "metadata": {},
   "outputs": [],
   "source": [
    "def mk2(x):\n",
    "    #y=x.dropna()\n",
    "    res=mkm.yue_wang_modification_test(x,lag=1)\n",
    "    return res.p"
   ]
  },
  {
   "cell_type": "code",
   "execution_count": 15,
   "metadata": {},
   "outputs": [],
   "source": [
    "def lr(x):\n",
    "    y=x.dropna()\n",
    "    my_reg=LinearRegression().fit(y.index.to_frame(), y)\n",
    "    cf1=my_reg.coef_[0]\n",
    "    return cf1*1000/y.mean()"
   ]
  },
  {
   "cell_type": "code",
   "execution_count": 16,
   "metadata": {},
   "outputs": [],
   "source": [
    "cl=[\"p_val tt\",\"Q1\",\"Q2\",\"\\u0394Q, %\",\"p_val mw\",\"p_val br\",\"stdQ1\",\n",
    "    \"stdQ2\",\"\\u0394stdQ, %\",\"p_val lv\",\"f_test p_val\",\"ansari p_val\",\n",
    "    \"p_val mk\",\"p_val mk2\", \"trend %/10 yy\"]"
   ]
  },
  {
   "cell_type": "code",
   "execution_count": 19,
   "metadata": {},
   "outputs": [
    {
     "name": "stdout",
     "output_type": "stream",
     "text": [
      "год\n"
     ]
    },
    {
     "ename": "AttributeError",
     "evalue": "'DataFrame' object has no attribute 'to_list'",
     "output_type": "error",
     "traceback": [
      "\u001b[1;31m---------------------------------------------------------------------------\u001b[0m",
      "\u001b[1;31mAttributeError\u001b[0m                            Traceback (most recent call last)",
      "\u001b[1;32m<ipython-input-19-f3596eadbf81>\u001b[0m in \u001b[0;36m<module>\u001b[1;34m\u001b[0m\n\u001b[0;32m      5\u001b[0m     \u001b[0my\u001b[0m\u001b[1;33m=\u001b[0m\u001b[1;36m1978\u001b[0m\u001b[1;33m-\u001b[0m\u001b[1;36m1946\u001b[0m\u001b[1;33m\u001b[0m\u001b[1;33m\u001b[0m\u001b[0m\n\u001b[0;32m      6\u001b[0m     \u001b[0mfr2\u001b[0m\u001b[1;33m=\u001b[0m\u001b[0mfr\u001b[0m\u001b[1;33m[\u001b[0m\u001b[0mi\u001b[0m\u001b[1;33m]\u001b[0m\u001b[1;33m.\u001b[0m\u001b[0mdropna\u001b[0m\u001b[1;33m(\u001b[0m\u001b[0maxis\u001b[0m\u001b[1;33m=\u001b[0m\u001b[1;36m1\u001b[0m\u001b[1;33m,\u001b[0m\u001b[0mthresh\u001b[0m\u001b[1;33m=\u001b[0m\u001b[1;36m60\u001b[0m\u001b[1;33m)\u001b[0m\u001b[1;31m#выбираем район\u001b[0m\u001b[1;33m\u001b[0m\u001b[1;33m\u001b[0m\u001b[0m\n\u001b[1;32m----> 7\u001b[1;33m     res=[pd.DataFrame(fr2.apply(tt,axis=0, yr=y).to_list(), index=fr2.columns),\n\u001b[0m\u001b[0;32m      8\u001b[0m          \u001b[0mfr2\u001b[0m\u001b[1;33m.\u001b[0m\u001b[0mapply\u001b[0m\u001b[1;33m(\u001b[0m\u001b[0mmw\u001b[0m\u001b[1;33m,\u001b[0m\u001b[0maxis\u001b[0m\u001b[1;33m=\u001b[0m\u001b[1;36m0\u001b[0m\u001b[1;33m,\u001b[0m \u001b[0myr\u001b[0m\u001b[1;33m=\u001b[0m\u001b[0my\u001b[0m\u001b[1;33m)\u001b[0m\u001b[1;33m,\u001b[0m\u001b[1;33m\u001b[0m\u001b[1;33m\u001b[0m\u001b[0m\n\u001b[0;32m      9\u001b[0m          \u001b[0mpd\u001b[0m\u001b[1;33m.\u001b[0m\u001b[0mDataFrame\u001b[0m\u001b[1;33m(\u001b[0m\u001b[0mfr2\u001b[0m\u001b[1;33m.\u001b[0m\u001b[0mapply\u001b[0m\u001b[1;33m(\u001b[0m\u001b[0mbr\u001b[0m\u001b[1;33m,\u001b[0m\u001b[0maxis\u001b[0m\u001b[1;33m=\u001b[0m\u001b[1;36m0\u001b[0m\u001b[1;33m,\u001b[0m \u001b[0myr\u001b[0m\u001b[1;33m=\u001b[0m\u001b[0my\u001b[0m\u001b[1;33m)\u001b[0m\u001b[1;33m.\u001b[0m\u001b[0mto_list\u001b[0m\u001b[1;33m(\u001b[0m\u001b[1;33m)\u001b[0m\u001b[1;33m,\u001b[0m \u001b[0mindex\u001b[0m\u001b[1;33m=\u001b[0m\u001b[0mfr2\u001b[0m\u001b[1;33m.\u001b[0m\u001b[0mcolumns\u001b[0m\u001b[1;33m)\u001b[0m\u001b[1;33m,\u001b[0m\u001b[1;33m\u001b[0m\u001b[1;33m\u001b[0m\u001b[0m\n",
      "\u001b[1;32m~\\anaconda3\\lib\\site-packages\\pandas\\core\\generic.py\u001b[0m in \u001b[0;36m__getattr__\u001b[1;34m(self, name)\u001b[0m\n\u001b[0;32m   5463\u001b[0m             \u001b[1;32mif\u001b[0m \u001b[0mself\u001b[0m\u001b[1;33m.\u001b[0m\u001b[0m_info_axis\u001b[0m\u001b[1;33m.\u001b[0m\u001b[0m_can_hold_identifiers_and_holds_name\u001b[0m\u001b[1;33m(\u001b[0m\u001b[0mname\u001b[0m\u001b[1;33m)\u001b[0m\u001b[1;33m:\u001b[0m\u001b[1;33m\u001b[0m\u001b[1;33m\u001b[0m\u001b[0m\n\u001b[0;32m   5464\u001b[0m                 \u001b[1;32mreturn\u001b[0m \u001b[0mself\u001b[0m\u001b[1;33m[\u001b[0m\u001b[0mname\u001b[0m\u001b[1;33m]\u001b[0m\u001b[1;33m\u001b[0m\u001b[1;33m\u001b[0m\u001b[0m\n\u001b[1;32m-> 5465\u001b[1;33m             \u001b[1;32mreturn\u001b[0m \u001b[0mobject\u001b[0m\u001b[1;33m.\u001b[0m\u001b[0m__getattribute__\u001b[0m\u001b[1;33m(\u001b[0m\u001b[0mself\u001b[0m\u001b[1;33m,\u001b[0m \u001b[0mname\u001b[0m\u001b[1;33m)\u001b[0m\u001b[1;33m\u001b[0m\u001b[1;33m\u001b[0m\u001b[0m\n\u001b[0m\u001b[0;32m   5466\u001b[0m \u001b[1;33m\u001b[0m\u001b[0m\n\u001b[0;32m   5467\u001b[0m     \u001b[1;32mdef\u001b[0m \u001b[0m__setattr__\u001b[0m\u001b[1;33m(\u001b[0m\u001b[0mself\u001b[0m\u001b[1;33m,\u001b[0m \u001b[0mname\u001b[0m\u001b[1;33m:\u001b[0m \u001b[0mstr\u001b[0m\u001b[1;33m,\u001b[0m \u001b[0mvalue\u001b[0m\u001b[1;33m)\u001b[0m \u001b[1;33m->\u001b[0m \u001b[1;32mNone\u001b[0m\u001b[1;33m:\u001b[0m\u001b[1;33m\u001b[0m\u001b[1;33m\u001b[0m\u001b[0m\n",
      "\u001b[1;31mAttributeError\u001b[0m: 'DataFrame' object has no attribute 'to_list'"
     ]
    }
   ],
   "source": [
    "fn=path.join(dr, r\"stat ND.xlsx\")\n",
    "writer = pd.ExcelWriter(\"stat ND.xlsx\", engine='xlsxwriter')\n",
    "for i in sn:\n",
    "    print(i)\n",
    "    y=1978-1946\n",
    "    fr2=fr[i].dropna(axis=1,thresh=60)#выбираем район\n",
    "    res=[pd.DataFrame(fr2.apply(tt,axis=0, yr=y).to_list(), index=fr2.columns),\n",
    "         fr2.apply(mw,axis=0, yr=y),\n",
    "         pd.DataFrame(fr2.apply(br,axis=0, yr=y).to_list(), index=fr2.columns),\n",
    "         fr2.apply(lv,axis=0, yr=y),\n",
    "         fr2.apply(f_test,axis=0, yr=y),\n",
    "         fr2.apply(an,axis=0, yr=y),\n",
    "         fr2.apply(mk,axis=0),fr2.apply(mk2,axis=0),fr2.apply(lr,axis=0)]\n",
    "    res=pd.concat(res, axis=1)\n",
    "    res.columns=cl\n",
    "    res.to_excel(writer,i)\n",
    "writer.save()"
   ]
  },
  {
   "cell_type": "code",
   "execution_count": null,
   "metadata": {},
   "outputs": [],
   "source": []
  }
 ],
 "metadata": {
  "kernelspec": {
   "display_name": "Python 3",
   "language": "python",
   "name": "python3"
  },
  "language_info": {
   "codemirror_mode": {
    "name": "ipython",
    "version": 3
   },
   "file_extension": ".py",
   "mimetype": "text/x-python",
   "name": "python",
   "nbconvert_exporter": "python",
   "pygments_lexer": "ipython3",
   "version": "3.8.8"
  }
 },
 "nbformat": 4,
 "nbformat_minor": 4
}
