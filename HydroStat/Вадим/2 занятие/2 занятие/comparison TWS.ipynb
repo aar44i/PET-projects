{
 "cells": [
  {
   "cell_type": "code",
   "execution_count": 2,
   "metadata": {},
   "outputs": [],
   "source": [
    "import pandas as pd\n",
    "from os import path"
   ]
  },
  {
   "cell_type": "code",
   "execution_count": 3,
   "metadata": {},
   "outputs": [],
   "source": [
    "import seaborn as sns\n",
    "import matplotlib.pyplot as plt"
   ]
  },
  {
   "cell_type": "code",
   "execution_count": 4,
   "metadata": {},
   "outputs": [],
   "source": [
    "dr=r\"C:\\Users\\gorba\\DataSciense\\PET-projects\\HydroStat\\Вадим\\2 занятие\\2 занятие\"\n",
    "fn=r\"TWS merged.xlsx\"\n",
    "fr=pd.read_excel(path.join(dr,fn),sheet_name=None,index_col=[0,1])\n",
    "sn=list(fr.keys())"
   ]
  },
  {
   "cell_type": "code",
   "execution_count": 7,
   "metadata": {
    "scrolled": true
   },
   "outputs": [
    {
     "data": {
      "text/plain": [
       "['ND', 'DON']"
      ]
     },
     "execution_count": 7,
     "metadata": {},
     "output_type": "execute_result"
    }
   ],
   "source": [
    "sn"
   ]
  },
  {
   "cell_type": "code",
   "execution_count": 6,
   "metadata": {},
   "outputs": [],
   "source": [
    "res=[]\n",
    "for i in sn:\n",
    "    x=fr[i].dropna(axis=0, thresh=4)#.drop(index=2017, level=0)\n",
    "    #res.append(x.std(axis=1).unstack(level=0).mean())\n",
    "    Ystd=x.std(axis=1).unstack(level=0)\n",
    "    #для level=1 month\n",
    "    Ystd.columns=[x for x in Ystd.columns.astype(str).str.slice(start=2)]\n",
    "    #Ystd.columns=[\"I\",\"II\",\"III\",\"IV\",\"V\",\"VI\",\n",
    "    #              \"VII\",\"VIII\",\"IX\",\"X\",\"XI\",\"XII\"]\n",
    "    flierprops = dict(marker='o', markerfacecolor='black', markersize=4,\n",
    "                  linestyle='none')\n",
    "    ax =Ystd.plot(kind='box', showmeans=True,widths=0.8,\n",
    "                  color=dict(boxes='black', whiskers='black',\n",
    "                             medians='black', caps='black'),\n",
    "                  flierprops=flierprops)\n",
    "    plt.rcParams[\"figure.figsize\"] = (10,5)\n",
    "    plt.xticks(fontsize=11)\n",
    "    plt.yticks(fontsize=11)\n",
    "    ax.set_ylabel(\"\\u03C3\"+r\"TWS, см\", fontsize=12,rotation='vertical')\n",
    "    ax.set_xlabel(\"год\",fontsize=12)#или год\n",
    "    plt.savefig(path.join(dr,\"TWS_\"+\"год\"+\"_\"+i+\".png\"),\n",
    "                bbox_inches='tight', dpi=450)\n",
    "    plt.close()"
   ]
  },
  {
   "cell_type": "raw",
   "metadata": {},
   "source": [
    "res=pd.concat(res, axis=1)"
   ]
  },
  {
   "cell_type": "raw",
   "metadata": {},
   "source": [
    "res.columns=sn\n",
    "res.to_excel(path.join(dr,r\"std of TWS.xlsx\"))"
   ]
  }
 ],
 "metadata": {
  "kernelspec": {
   "display_name": "Python 3",
   "language": "python",
   "name": "python3"
  },
  "language_info": {
   "codemirror_mode": {
    "name": "ipython",
    "version": 3
   },
   "file_extension": ".py",
   "mimetype": "text/x-python",
   "name": "python",
   "nbconvert_exporter": "python",
   "pygments_lexer": "ipython3",
   "version": "3.8.8"
  }
 },
 "nbformat": 4,
 "nbformat_minor": 4
}
