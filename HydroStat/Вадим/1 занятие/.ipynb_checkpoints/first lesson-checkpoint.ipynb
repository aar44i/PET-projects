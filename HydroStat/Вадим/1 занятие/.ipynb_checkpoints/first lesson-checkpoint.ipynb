{
 "cells": [
  {
   "cell_type": "markdown",
   "metadata": {},
   "source": [
    "# Начало, использование jupyter notebook"
   ]
  },
  {
   "cell_type": "code",
   "execution_count": 2,
   "metadata": {},
   "outputs": [],
   "source": [
    "import numpy as np\n",
    "import pandas as pd\n",
    "from os import path, listdir\n",
    "import datetime\n",
    "#pd.set_option('display.max_rows', 10)"
   ]
  },
  {
   "cell_type": "code",
   "execution_count": null,
   "metadata": {},
   "outputs": [],
   "source": []
  },
  {
   "cell_type": "code",
   "execution_count": 3,
   "metadata": {},
   "outputs": [],
   "source": [
    "dr=r\"C:\\google\\2021fall\\от НМ\\занятия\\first\""
   ]
  },
  {
   "cell_type": "code",
   "execution_count": 3,
   "metadata": {},
   "outputs": [
    {
     "name": "stdout",
     "output_type": "stream",
     "text": [
      "hello world\n"
     ]
    }
   ],
   "source": [
    "print(\"hello world\")#пример"
   ]
  },
  {
   "cell_type": "raw",
   "metadata": {},
   "source": [
    "hello world"
   ]
  },
  {
   "cell_type": "markdown",
   "metadata": {},
   "source": [
    "# hello world"
   ]
  },
  {
   "cell_type": "markdown",
   "metadata": {},
   "source": [
    "#### hello world первая программа"
   ]
  },
  {
   "cell_type": "markdown",
   "metadata": {},
   "source": [
    "$z=\\dfrac{2x}{3y}$"
   ]
  },
  {
   "cell_type": "markdown",
   "metadata": {},
   "source": [
    "<img src=\"files/annual cycle WB.png\" width=\"400\" height=\"200\">"
   ]
  },
  {
   "cell_type": "markdown",
   "metadata": {},
   "source": [
    "$$\\forall x \\in X, \\quad \\exists y \\leq \\epsilon$$"
   ]
  },
  {
   "cell_type": "raw",
   "metadata": {},
   "source": [
    "Волшебные команды"
   ]
  },
  {
   "cell_type": "code",
   "execution_count": 5,
   "metadata": {},
   "outputs": [],
   "source": [
    "#%env"
   ]
  },
  {
   "cell_type": "code",
   "execution_count": 8,
   "metadata": {},
   "outputs": [
    {
     "name": "stdout",
     "output_type": "stream",
     "text": [
      "Wall time: 0 ns\n"
     ]
    }
   ],
   "source": [
    "%time\n",
    "x=np.random.rand(100,100)"
   ]
  },
  {
   "cell_type": "code",
   "execution_count": 5,
   "metadata": {},
   "outputs": [
    {
     "name": "stdout",
     "output_type": "stream",
     "text": [
      "Wall time: 42.9 ms\n"
     ]
    }
   ],
   "source": [
    "%%time\n",
    "t=100\n",
    "x=np.random.rand(t,t)\n",
    "y=np.random.rand(t,t)\n",
    "z=x.dot(y)\n",
    "z1=np.linalg.det(z)"
   ]
  },
  {
   "cell_type": "code",
   "execution_count": 6,
   "metadata": {},
   "outputs": [
    {
     "name": "stdout",
     "output_type": "stream",
     "text": [
      "305 µs ± 16.9 µs per loop (mean ± std. dev. of 2 runs, 10 loops each)\n"
     ]
    }
   ],
   "source": [
    "%%timeit -n 10 -r 2 #n - number of loops, r - number of runs. The parameters are unnecessary\n",
    "t=100\n",
    "x=np.random.rand(t,t)\n",
    "y=np.random.rand(t,t)\n",
    "z=x.dot(y)\n",
    "z1=np.linalg.det(z)"
   ]
  },
  {
   "cell_type": "code",
   "execution_count": 9,
   "metadata": {},
   "outputs": [
    {
     "name": "stdout",
     "output_type": "stream",
     "text": [
      "import pandas as pd\n",
      "import numpy as np\n",
      "from os import path\n",
      "from scipy.optimize import curve_fit\n",
      "import matplotlib.pyplot as plt\n",
      "def crv(x,a,b):\n",
      "    return a*np.exp(b*x)\n"
     ]
    }
   ],
   "source": [
    "%history ~5/1-2"
   ]
  },
  {
   "cell_type": "markdown",
   "metadata": {},
   "source": [
    "## Ошибки во временных рядах"
   ]
  },
  {
   "cell_type": "code",
   "execution_count": 25,
   "metadata": {},
   "outputs": [],
   "source": [
    "#В ряду есть дата которой не существует, например 1900.02.29 (в григорианском календаре)\n",
    "#Эти даты не будут восприниматься как даты, поэтому попытка применения к ним функций которые работают с датами приведет к ошибке\n",
    "fn=path.join(dr, r\"34880.txt\")\n",
    "cl=[\"year\", \"month\", \"day\", \"height\"]\n",
    "fr=pd.read_csv(fn, sep=\";\", names=cl, index_col=False, usecols=[1,2,3,4],\n",
    "                   skipinitialspace=True)\n",
    "#fr.index=pd.to_datetime(fr.year*10000+fr.month*100+fr.day,format='%Y%m%d')"
   ]
  },
  {
   "cell_type": "code",
   "execution_count": 17,
   "metadata": {},
   "outputs": [],
   "source": [
    "#Ищем в чем дело\n",
    "for i, item in fr.iterrows():\n",
    "    try:\n",
    "        pd.to_datetime(item.year*10000+item.month*100+item.day,format='%Y%m%d')\n",
    "    except ValueError:\n",
    "        print('ERROR at index ', item)"
   ]
  },
  {
   "cell_type": "code",
   "execution_count": 26,
   "metadata": {},
   "outputs": [],
   "source": [
    "# Как решать проблему - дело конкретного случая. Тут очевидно что даты дореволюционных времен\n",
    "#представлены по юлианскому календарю.В данном случае, убедившись что наше предположение верно\n",
    "#надо 1900.02.29 удалить а к данным до 1919 прибавить 14 дней, для примера\n",
    "#+pd.to_timedelta(14, unit='D')\n",
    "fr=fr.query('month != 2 or day != 29 or year != 1900')\n",
    "#fr=fr[(fr.month != 2) or (fr.day != 29) or (fr.year != 1900)]\n",
    "fr1=fr[fr.year<1919]\n",
    "fr2=fr[fr.year>=1919]"
   ]
  },
  {
   "cell_type": "code",
   "execution_count": 28,
   "metadata": {},
   "outputs": [
    {
     "name": "stdout",
     "output_type": "stream",
     "text": [
      "      year  month  day  height\n",
      "6923  1900      2   15       0\n",
      "6924  1900      2   16       0\n",
      "6925  1900      2   17       0\n",
      "6926  1900      2   18       0\n",
      "6927  1900      2   19       0\n",
      "6928  1900      2   20       0\n",
      "6929  1900      2   21       0\n",
      "6930  1900      2   22       0\n",
      "6931  1900      2   23       0\n",
      "6932  1900      2   24       0\n",
      "6933  1900      2   25       0\n",
      "6934  1900      2   26       0\n",
      "6935  1900      2   27       0\n",
      "6936  1900      2   28       0\n",
      "6938  1900      3    1       0\n",
      "6939  1900      3    2       0\n",
      "6940  1900      3    3       0\n",
      "6941  1900      3    4       0\n",
      "6942  1900      3    5       0\n",
      "6943  1900      3    6       0\n",
      "6944  1900      3    7       0\n",
      "6945  1900      3    8       0\n",
      "6946  1900      3    9       0\n",
      "6947  1900      3   10       0\n",
      "6948  1900      3   11       0\n",
      "6949  1900      3   12       0\n",
      "6950  1900      3   13       0\n",
      "6951  1900      3   14       0\n",
      "6952  1900      3   15       0\n",
      "6953  1900      3   16       0\n",
      "6954  1900      3   17       0\n",
      "6955  1900      3   18       0\n",
      "6956  1900      3   19       0\n",
      "6957  1900      3   20       0\n",
      "6958  1900      3   21       0\n",
      "6959  1900      3   22       0\n",
      "6960  1900      3   23       0\n",
      "6961  1900      3   24       0\n",
      "6962  1900      3   25       0\n",
      "6963  1900      3   26       0\n"
     ]
    }
   ],
   "source": [
    "print(fr[fr.year < 1901].iloc[-320:-280])"
   ]
  },
  {
   "cell_type": "code",
   "execution_count": 30,
   "metadata": {},
   "outputs": [],
   "source": [
    "fr.index=pd.concat([pd.to_datetime(fr1.year*10000+fr1.month*100+fr1.day,format='%Y%m%d')+pd.to_timedelta(14, unit='D'),\n",
    "              pd.to_datetime(fr2.year*10000+fr2.month*100+fr2.day,format='%Y%m%d')])"
   ]
  },
  {
   "cell_type": "code",
   "execution_count": 31,
   "metadata": {},
   "outputs": [
    {
     "name": "stdout",
     "output_type": "stream",
     "text": [
      "DatetimeIndex(['1976-04-04', '1976-10-26'], dtype='datetime64[ns]', freq=None)\n",
      "            year  month  day  height\n",
      "1976-04-04  1976      4    4       1\n",
      "1976-10-26  1976     10   26      23\n",
      "            year  month  day  height\n",
      "1976-04-04  1976      4    4       0\n",
      "1976-04-04  1976      4    4       1\n",
      "1976-10-26  1976     10   26       0\n",
      "1976-10-26  1976     10   26      23\n"
     ]
    }
   ],
   "source": [
    "#ищем дубликаты\n",
    "print(fr.index[fr.index.duplicated()])\n",
    "print(fr[fr.index.duplicated()])\n",
    "print(fr.loc[fr.index[fr.index.duplicated()]])"
   ]
  },
  {
   "cell_type": "code",
   "execution_count": 12,
   "metadata": {},
   "outputs": [],
   "source": [
    "#если просто надо удалить дубликаты\n",
    "fr.drop_duplicates(inplace=True)"
   ]
  },
  {
   "cell_type": "code",
   "execution_count": 32,
   "metadata": {},
   "outputs": [],
   "source": [
    "#Ситуация с перепутанными днями и месяцами\n",
    "fn=r\"Aldan.xlsx\"\n",
    "fr=pd.read_excel(path.join(dr,fn),sheet_name=0)#мы не указываем колонку с индексами, будет 0, 1.."
   ]
  },
  {
   "cell_type": "code",
   "execution_count": 14,
   "metadata": {
    "scrolled": true
   },
   "outputs": [
    {
     "name": "stdout",
     "output_type": "stream",
     "text": [
      "Пост            object\n",
      "Год              int64\n",
      "Месяц           object\n",
      "Магний         float64\n",
      "Хлориды        float64\n",
      "SO4            float64\n",
      "Сумма ионов    float64\n",
      "dtype: object\n"
     ]
    }
   ],
   "source": [
    "print(fr.dtypes)#"
   ]
  },
  {
   "cell_type": "raw",
   "metadata": {},
   "source": [
    "#Смотрим файл и понимаем в чем дело, когда вбивали данные сначала заполняли месяц, а потом день\n",
    "#где-то это привело к тому что дата воспринимается как строка, если день>12, а где-то месяц и сутки перепутаны."
   ]
  },
  {
   "cell_type": "code",
   "execution_count": 34,
   "metadata": {},
   "outputs": [],
   "source": [
    "#Выбираем где строка а где datetime, они потребуют разных преобразований\n",
    "fr1=fr['Месяц'].loc[fr['Месяц'].apply(type) == datetime.datetime]\n",
    "fr2=fr['Месяц'].loc[fr['Месяц'].apply(type) == str]"
   ]
  },
  {
   "cell_type": "code",
   "execution_count": 37,
   "metadata": {},
   "outputs": [
    {
     "name": "stdout",
     "output_type": "stream",
     "text": [
      "3     2010-08-04 00:00:00\n",
      "7     2010-03-07 00:00:00\n",
      "10    2010-07-08 00:00:00\n",
      "17    2011-11-04 00:00:00\n",
      "18    2011-04-05 00:00:00\n",
      "Name: Месяц, dtype: object\n"
     ]
    }
   ],
   "source": [
    "print(fr1.head())"
   ]
  },
  {
   "cell_type": "code",
   "execution_count": 16,
   "metadata": {},
   "outputs": [],
   "source": [
    "fr1r=pd.to_datetime(dict(day=fr1.dt.month,month=fr1.dt.day,year=fr1.dt.year))\n",
    "fr2r=pd.to_datetime(dict(day= fr2.str.split(\".\").str.get(1),\n",
    "                         month=fr2.str.split(\".\").str.get(0),year=fr2.str.split(\".\").str.get(2)))"
   ]
  },
  {
   "cell_type": "code",
   "execution_count": 17,
   "metadata": {},
   "outputs": [],
   "source": [
    "fr1=pd.concat([fr1r,fr2r]).sort_index()\n",
    "fr.index=fr1\n",
    "fr.drop(['Год', 'Месяц'], axis=1, inplace=True)"
   ]
  },
  {
   "cell_type": "raw",
   "metadata": {},
   "source": [
    "a=~np.isnan(b1indg[i])\n",
    "b=~np.isnan(b1.astype(float))\n",
    "x=a&b"
   ]
  },
  {
   "cell_type": "markdown",
   "metadata": {},
   "source": [
    "### Подготовка файла с суточными расходами из АИС ГМВО средствами pandas"
   ]
  },
  {
   "cell_type": "code",
   "execution_count": 18,
   "metadata": {},
   "outputs": [],
   "source": [
    "fn=r\"Ленский.xlsx\"\n",
    "res=[[]]\n",
    "fr=pd.read_excel(path.join(dr,fn),sheet_name=0,header=None, dtype=str)\n",
    "ind=fr.loc[fr.iloc[:,0] == \"Код поста\"].index#получаем номера строк где есть строчка (str) \"код поста\"\n",
    "fy=int(fr.loc[ind[0]+1,1])#первый год\n",
    "for j in ind:#итерация по отдельным таблицам\n",
    "    nm=[fr.loc[j,1]]#код поста\n",
    "    y=int(fr.loc[j+1,1])#год\n",
    "    fd=datetime.datetime(y, 1, 1)#начало года\n",
    "    ld=datetime.datetime(y+1, 1, 1)#конец года, не включая\n",
    "    listOfDates=[date for date in np.arange(fd,ld,datetime.timedelta(days=1))]#лист с датами в этом году\n",
    "    yd=fr.iloc[j+5:j+36,1:13]#непосредственно таблица с данными. Всегда так расположена относительно \"код поста\"\n",
    "    if y%4!=0:#не весокосный год, т.е. остаток от делления на 4 не равен 0:\n",
    "        #ravel делает из 2d 1d строка за строкой, при этом где-то будут пустые ячейки т.к. не все месяцы по 31 день \n",
    "        d=np.delete(yd.values.transpose().ravel(),[59,60,61,123,185,278,340])\n",
    "    else:\n",
    "        d=np.delete(yd.values.transpose().ravel(),[60,61,123,185,278,340])\n",
    "    r=pd.DataFrame(d, columns=nm, index=listOfDates)#делаем datarfame, который по сути series\n",
    "    #в файле сначала идут одинаковые годы, но разные посты. До тех пор пока идет один год, все собирается в один лист\n",
    "    if fy==y:\n",
    "        res[-1].append(r)\n",
    "    #если пошел следующий год, лист с датафреймами из старого кода соеденяется, а новый датафрейм помещается в лист и \n",
    "    #становится основой для сбора расходов со следующего года\n",
    "    else:\n",
    "        res[-1]=pd.concat(res[-1], axis=1,sort=False)\n",
    "        res.append([r])\n",
    "        fy=y\n",
    "#последний год объеденяется в единый фрейм уже вне тела цикла\n",
    "res[-1]=pd.concat(res[-1], axis=1,sort=False)\n",
    "#наконец все в месте соеденяется\n",
    "res=pd.concat(res, axis=0,sort=False)"
   ]
  },
  {
   "cell_type": "code",
   "execution_count": 19,
   "metadata": {},
   "outputs": [],
   "source": [
    "res=res.astype(str)#разные типы данных нам не к чему"
   ]
  },
  {
   "cell_type": "code",
   "execution_count": 20,
   "metadata": {},
   "outputs": [],
   "source": [
    "#нб - не было в 0, а те ячейки где были дополнительные символы разделяем по пробелу и берем первую часть - число\n",
    "def str_int(x):\n",
    "    if x==\"нб\":\n",
    "        return 0\n",
    "    else:\n",
    "        return float(x.replace(\",\",\".\").split(\" \")[0])"
   ]
  },
  {
   "cell_type": "code",
   "execution_count": 21,
   "metadata": {},
   "outputs": [],
   "source": [
    "res=res.applymap(str_int)# применяем функцию ко всем элементам фрейма"
   ]
  },
  {
   "cell_type": "code",
   "execution_count": 22,
   "metadata": {},
   "outputs": [],
   "source": [
    "res.to_excel(path.join(dr,\"Lena Daily.xlsx\"))"
   ]
  },
  {
   "cell_type": "markdown",
   "metadata": {},
   "source": [
    "### Подготовка файла скана ежегодника с суточными расходами с помощью openpyxl"
   ]
  },
  {
   "cell_type": "code",
   "execution_count": 23,
   "metadata": {},
   "outputs": [],
   "source": [
    "import openpyxl as op"
   ]
  },
  {
   "cell_type": "code",
   "execution_count": 24,
   "metadata": {},
   "outputs": [],
   "source": [
    "dr1=r\"C:\\google\\2021fall\\от НМ\\занятия\\first\\для 1947\"\n",
    "riv=listdir(dr1)\n",
    "dr2=r\"C:\\google\\2021fall\\от НМ\\занятия\\first\\результат 1947\""
   ]
  },
  {
   "cell_type": "code",
   "execution_count": 25,
   "metadata": {},
   "outputs": [],
   "source": [
    "rp={'воз': 603, 'по': 110, 'изо':1130, 'кюо':1000, 'зз.с':33.6, 'из':113}"
   ]
  },
  {
   "cell_type": "code",
   "execution_count": 26,
   "metadata": {},
   "outputs": [],
   "source": [
    "cols=[\"дата\"]+[str(q) for q in range (1,13)]#название колонок\n",
    "rows=[str(q) for q in range (1,32)]+[\"средние\", \"наибольшие\", \"наименьшие\"]#НАЗВАНИЕ СТРОК"
   ]
  },
  {
   "cell_type": "code",
   "execution_count": 37,
   "metadata": {},
   "outputs": [
    {
     "name": "stdout",
     "output_type": "stream",
     "text": [
      "OK\n"
     ]
    }
   ],
   "source": [
    "for i in riv[:1]:#итерация по книгам\n",
    "    sh=0\n",
    "    #workbook - книга со сканами\n",
    "    wb = op.load_workbook(path.join(dr1,i))#открываем ее\n",
    "    #wb2 - книга куда мы записываем обработанные сканы\n",
    "    wb2 = op.Workbook()#пустая книга, сюда будем что-то запмчывать\n",
    "    for sheet in wb.sheetnames[:1]:#итерация по листам\n",
    "        ws=wb[sheet]\n",
    "        #определяю положение объедененных ячеек, воспользуемся этим в конце\n",
    "        br=ws.merged_cells.ranges#дает верхнюю левую и нижнюю правую ячейки\n",
    "        brl=[str(x).split(\":\") for x in br]#from <MergedCellRange A34:B34> to ['A34', 'B34']\n",
    "        brn=[ws[x[1]].column-ws[x[0]].column for x in brl]#длина объедененных ячеек -1\n",
    "        #brn - длина объедененных ячеек -1\n",
    "        brf=[[ws[x[0]].column,ws[x[0]].row] for x in brl]#номера колонок и строк, начиная с 1\n",
    "        sh+=1\n",
    "        if sh!=1:\n",
    "            wb2.create_sheet()\n",
    "        ws2=wb2[wb2.sheetnames[-1]]#выбираем только что созданный лист (условие сверху или при создании)\n",
    "        for t in range(len(cols)):\n",
    "            ws2.cell(1, t+1).value=cols[t]#заполняем на пустом листе строку названием колонок\n",
    "        for t in range(len(rows)):#и названием строк\n",
    "            ws2.cell(t+2, 1).value=rows[t]#по идеи t+2\n",
    "    #мы не считываем 1 строку, а последняя - 32\n",
    "        start, stop = 0, 32 \n",
    "        rw=0#счетчик строк\n",
    "        rw1=1 \n",
    "        #ws.iter_rows() - возвращает строки\n",
    "#enumerate создает что то вроде (1, строка0), (2, строка1)...\n",
    "        for index, row in enumerate(ws.iter_rows()):\n",
    "            if start<index<stop:\n",
    "                cn=0#номер колонки оригинального фоайла. Начинаем с 1 колонки\n",
    "                cn1=1#номер колонки заполянемого файла\n",
    "                rw+=1\n",
    "                rw1+=1\n",
    "                for cell in row:\n",
    "                    cn+=1#прибавляем когда открываем новую клетку в wb\n",
    "                    vl=str(ws.cell(row = rw, column = cn).value).lower()\n",
    "                    if  0<=vl.find(\" \")<=2: vl=vl[vl.find(\" \")+1:]#find возврщает индекс первого пробела\n",
    "                    #если до пробела стоит менее 3 значений - удаляем то что слева\n",
    "                    #однако, если \" \" нет совсем, то возвращает -1, т.е. True\n",
    "                    #тоже самое что и наверху, но для 1 элемента\n",
    "                    #заменяем запятые на точки\n",
    "                    vl=vl.replace(\",\", \".\")\n",
    "                    #во первых меняем буквы на числа, во вторых меняем все о которые стоят до\n",
    "                    #последней цифры на нули (оо1 в 001)\n",
    "                    a=0\n",
    "                    for h, j in enumerate(vl):\n",
    "                        if j in rp: vl=vl.replace(j, rp[j])\n",
    "                        if j.isdigit(): a=h\n",
    "                    #если п последние, но при этом строка слишком длинная чтобы быть числом удаляем его\n",
    "                    if (vl[-1]==\"п\" and len(vl)>3 and \".\" not in vl) or(vl[-1]==\"п\" and len(vl)>4): \n",
    "                        vl=vl[:-1]\n",
    "                    vl=vl.replace(\"п\", \"11\")\n",
    "                    if len(vl)>2:\n",
    "                        vl=vl[:a+1].replace(\"о\", \"0\")+vl[a+1:]#*\n",
    "                        if len(vl)>1 and vl[-1]!=\"е\":  vl=vl.replace(\"е\", \"0\")#надо как в * в идеале\n",
    "                        if vl[-1].isdigit()==False and vl[-1]!=\"о\": vl=vl[:-1]\n",
    "                        if vl[-1].isdigit()==False and vl[-1]!=\"о\": vl=vl[:-1]\n",
    "                        if vl[0].isdigit()==False: vl=vl[1:]\n",
    "                        if len(vl)>2 and (vl[1] or vl[2]) == \".\":vl=vl.replace(\"о\",\"\")\n",
    "                        if len(vl)>1 and vl[-2]==\".\" and vl[-1]==\"о\": vl=vl[:-1]+\"0\"\n",
    "                    #так, дальше нас по идеи интересуют только 4 знака\n",
    "                        cn1+=1\n",
    "                    else:\n",
    "                        cn1+=1\n",
    "                    ws2.cell(row = rw1, column = cn1).value=vl\n",
    "    wb2.save(path.join(dr2,i[:-5]+\"A\"+i[-5:]))\n",
    "print(\"OK\")"
   ]
  },
  {
   "cell_type": "code",
   "execution_count": 35,
   "metadata": {},
   "outputs": [
    {
     "name": "stdout",
     "output_type": "stream",
     "text": [
      "['Sheet']\n"
     ]
    }
   ],
   "source": []
  }
 ],
 "metadata": {
  "kernelspec": {
   "display_name": "Python 3",
   "language": "python",
   "name": "python3"
  },
  "language_info": {
   "codemirror_mode": {
    "name": "ipython",
    "version": 3
   },
   "file_extension": ".py",
   "mimetype": "text/x-python",
   "name": "python",
   "nbconvert_exporter": "python",
   "pygments_lexer": "ipython3",
   "version": "3.8.8"
  }
 },
 "nbformat": 4,
 "nbformat_minor": 4
}
