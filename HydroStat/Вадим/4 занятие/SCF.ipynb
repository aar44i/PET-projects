{
 "cells": [
  {
   "cell_type": "code",
   "execution_count": 20,
   "metadata": {},
   "outputs": [],
   "source": [
    "import pandas as pd\n",
    "import numpy as np\n",
    "from os import path, listdir"
   ]
  },
  {
   "cell_type": "code",
   "execution_count": 2,
   "metadata": {},
   "outputs": [],
   "source": [
    "dr1=r\"C:\\Users\\vadim\\Desktop\\fourth\\correl\"\n",
    "dr2=r\"C:\\Users\\vadim\\Desktop\\fourth\"\n",
    "fn2=r\"температура.xlsx\"\n",
    "fn1=r\"станции по бассейнам.xlsx\"\n",
    "fn3=r\"станции ЕЧР1.xlsx\""
   ]
  },
  {
   "cell_type": "code",
   "execution_count": 3,
   "metadata": {},
   "outputs": [],
   "source": [
    "np.seterr(invalid='ignore')\n",
    "np.set_printoptions(precision=3, suppress=True)\n",
    "dtr=np.pi/180.0#degrees_to_radians"
   ]
  },
  {
   "cell_type": "code",
   "execution_count": 5,
   "metadata": {},
   "outputs": [],
   "source": [
    "ind_st=pd.read_excel(path.join(dr2,fn1),sheet_name=0,header=0,index_col=0)\n",
    "ind=ind_st.index.unique()\n",
    "coor_st=pd.read_excel(path.join(dr2,fn3),sheet_name=0,header=0,index_col=0)\n",
    "err=pd.read_excel(path.join(dr2,fn2),sheet_name=0,header=0,index_col=0)"
   ]
  },
  {
   "cell_type": "code",
   "execution_count": 15,
   "metadata": {},
   "outputs": [],
   "source": [
    "for i in ind:\n",
    "    stn=pd.Index(ind_st[\"index_st\"].loc[i]).intersection(err.columns)\n",
    "    coor=coor_st.loc[stn, [\"lat_1\",\"lon_1\"]]\n",
    "    lat=np.array(coor[\"lat_1\"])*dtr\n",
    "    lon=np.array(coor[\"lon_1\"])*dtr\n",
    "    lon1, lon2 = np.meshgrid(lon, lon)\n",
    "    lon_diff = lon1 - lon2\n",
    "    lat1, lat2 = np.meshgrid(lat, lat)\n",
    "    angle = (np.sin((lat2-lat1)/2)**2+np.cos(lat1)*np.cos(lat2)*np.sin(lon_diff/2)**2)**0.5\n",
    "    arc = 6371*2*np.arcsin(angle)\n",
    "    \n",
    "    cor=err.loc[:,stn].corr().values\n",
    "    arc=arc.ravel()\n",
    "    cor=cor.ravel()\n",
    "    a=np.vstack((arc,cor))\n",
    "    a=pd.DataFrame(a.transpose(), columns=[\"расстояние\", \"корреляция\"])\n",
    "    a=a[a[\"расстояние\"]>1]\n",
    "    a.to_excel(path.join(dr1,i+\"_temp\"+\".xlsx\"))"
   ]
  },
  {
   "cell_type": "code",
   "execution_count": 17,
   "metadata": {
    "scrolled": false
   },
   "outputs": [],
   "source": [
    "from scipy.optimize import curve_fit"
   ]
  },
  {
   "cell_type": "code",
   "execution_count": 18,
   "metadata": {},
   "outputs": [],
   "source": [
    "def func2(x, a, b):\n",
    "    return a-x/b"
   ]
  },
  {
   "cell_type": "code",
   "execution_count": 21,
   "metadata": {},
   "outputs": [],
   "source": [
    "dr=listdir(dr1)\n",
    "fns=[x[:-5] for x in dr]"
   ]
  },
  {
   "cell_type": "code",
   "execution_count": 22,
   "metadata": {},
   "outputs": [
    {
     "name": "stdout",
     "output_type": "stream",
     "text": [
      "Дон-Беляевский_temp.xlsx\n",
      "Ока_temp.xlsx\n",
      "Печора_temp.xlsx\n",
      "Северная Двина_temp.xlsx\n"
     ]
    }
   ],
   "source": [
    "res=[]\n",
    "for i in dr:\n",
    "    print(i)\n",
    "    fr=pd.read_excel(path.join(dr1,i),sheet_name=0,header=0,index_col=0)\n",
    "    fr = fr[fr[\"расстояние\"]< 200].sort_values(by=[\"расстояние\"]).values[::2]\n",
    "    fr[:,1]=0.5*np.log((fr[:,1]+1)/(1-fr[:,1]))\n",
    "    k=4*(fr.shape[0]//4)\n",
    "    fr=np.mean(np.reshape(fr[:k],(-1,4,2)), axis=1)\n",
    "    fr[:,1]=(np.exp(2*fr[:,1])-1)/(np.exp(2*fr[:,1])+1)\n",
    "    fr[fr<0] = 0\n",
    "    popt, pcov = curve_fit(func2, fr[:,0], fr[:,1],bounds=([0.5,1], [1., 300]))\n",
    "    res.append(popt)"
   ]
  },
  {
   "cell_type": "code",
   "execution_count": 23,
   "metadata": {},
   "outputs": [],
   "source": [
    "res=pd.DataFrame(np.stack(res), index=fns, columns=[r\"r(0)/a\",r\"l0\"])"
   ]
  },
  {
   "cell_type": "code",
   "execution_count": 24,
   "metadata": {},
   "outputs": [],
   "source": [
    "res.to_excel(path.join(dr2,\"curve_parameter_stations1.xlsx\"))"
   ]
  }
 ],
 "metadata": {
  "kernelspec": {
   "display_name": "Python 3",
   "language": "python",
   "name": "python3"
  },
  "language_info": {
   "codemirror_mode": {
    "name": "ipython",
    "version": 3
   },
   "file_extension": ".py",
   "mimetype": "text/x-python",
   "name": "python",
   "nbconvert_exporter": "python",
   "pygments_lexer": "ipython3",
   "version": "3.8.3"
  }
 },
 "nbformat": 4,
 "nbformat_minor": 4
}
