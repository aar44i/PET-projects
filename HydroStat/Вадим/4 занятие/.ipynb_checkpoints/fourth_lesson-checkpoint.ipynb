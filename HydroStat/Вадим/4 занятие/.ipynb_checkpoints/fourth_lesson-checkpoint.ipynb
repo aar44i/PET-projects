{
 "cells": [
  {
   "cell_type": "code",
   "execution_count": null,
   "id": "12426f94",
   "metadata": {},
   "outputs": [],
   "source": [
    "pip install geopandas"
   ]
  },
  {
   "cell_type": "code",
   "execution_count": 1,
   "id": "6a56fd7e",
   "metadata": {},
   "outputs": [
    {
     "ename": "ModuleNotFoundError",
     "evalue": "No module named 'geopandas'",
     "output_type": "error",
     "traceback": [
      "\u001b[1;31m---------------------------------------------------------------------------\u001b[0m",
      "\u001b[1;31mModuleNotFoundError\u001b[0m                       Traceback (most recent call last)",
      "\u001b[1;32m<ipython-input-1-52b0f62708dc>\u001b[0m in \u001b[0;36m<module>\u001b[1;34m\u001b[0m\n\u001b[0;32m      1\u001b[0m \u001b[1;32mimport\u001b[0m \u001b[0mpandas\u001b[0m \u001b[1;32mas\u001b[0m \u001b[0mpd\u001b[0m\u001b[1;33m\u001b[0m\u001b[1;33m\u001b[0m\u001b[0m\n\u001b[0;32m      2\u001b[0m \u001b[1;32mimport\u001b[0m \u001b[0mnumpy\u001b[0m \u001b[1;32mas\u001b[0m \u001b[0mnp\u001b[0m\u001b[1;33m\u001b[0m\u001b[1;33m\u001b[0m\u001b[0m\n\u001b[1;32m----> 3\u001b[1;33m \u001b[1;32mimport\u001b[0m \u001b[0mgeopandas\u001b[0m \u001b[1;32mas\u001b[0m \u001b[0mgpd\u001b[0m\u001b[1;33m\u001b[0m\u001b[1;33m\u001b[0m\u001b[0m\n\u001b[0m\u001b[0;32m      4\u001b[0m \u001b[1;32mfrom\u001b[0m \u001b[0mos\u001b[0m \u001b[1;32mimport\u001b[0m \u001b[0mpath\u001b[0m\u001b[1;33m,\u001b[0m \u001b[0mlistdir\u001b[0m\u001b[1;33m\u001b[0m\u001b[1;33m\u001b[0m\u001b[0m\n",
      "\u001b[1;31mModuleNotFoundError\u001b[0m: No module named 'geopandas'"
     ]
    }
   ],
   "source": [
    "import pandas as pd\n",
    "import numpy as np\n",
    "import geopandas as gpd\n",
    "from os import path, listdir"
   ]
  },
  {
   "cell_type": "code",
   "execution_count": 5,
   "id": "d566d74e",
   "metadata": {},
   "outputs": [],
   "source": [
    "import rasterio as rst\n",
    "from rasterstats import zonal_stats"
   ]
  },
  {
   "cell_type": "code",
   "execution_count": 6,
   "id": "4f9fb0a0",
   "metadata": {},
   "outputs": [],
   "source": [
    "import matplotlib.pyplot as plt"
   ]
  },
  {
   "cell_type": "code",
   "execution_count": 5,
   "id": "30209d94",
   "metadata": {},
   "outputs": [],
   "source": [
    "dr=r\"C:\\Users\\vadim\\Desktop\\fourth\\catchments_crimea\"\n",
    "nms=[x for x in listdir(dr) if x[-3:]==r\"shp\"]"
   ]
  },
  {
   "cell_type": "code",
   "execution_count": 6,
   "id": "bc6a6125",
   "metadata": {},
   "outputs": [],
   "source": [
    "prj=\"EPSG:2586\"\n",
    "dr1=r\"C:\\Users\\vadim\\Desktop\\fourth\\crimea_prec_pet\"\n",
    "fn1=r\"Осадки.shp\"\n",
    "fn2=r\"Испаряемость.shp\"\n",
    "pr=gpd.read_file(path.join(dr1, fn1), encoding='utf-8').to_crs(crs=prj)\n",
    "ev=gpd.read_file(path.join(dr1, fn2), encoding='utf-8').to_crs(crs=prj)"
   ]
  },
  {
   "cell_type": "code",
   "execution_count": 7,
   "id": "502bfce9",
   "metadata": {},
   "outputs": [],
   "source": [
    "c1, c2=pr.columns[1], ev.columns[3]#колонки с данными"
   ]
  },
  {
   "cell_type": "code",
   "execution_count": 10,
   "id": "8e5c4807",
   "metadata": {},
   "outputs": [],
   "source": [
    "wds=[gpd.read_file(path.join(dr, x), encoding='utf-8').to_crs(crs=prj) for x in nms]"
   ]
  },
  {
   "cell_type": "code",
   "execution_count": 12,
   "id": "988cb5a1",
   "metadata": {},
   "outputs": [],
   "source": [
    "#wds[0]"
   ]
  },
  {
   "cell_type": "code",
   "execution_count": 14,
   "id": "c1c30c26",
   "metadata": {},
   "outputs": [],
   "source": [
    "#wds[0].plot()"
   ]
  },
  {
   "cell_type": "code",
   "execution_count": 20,
   "id": "8a8589d4",
   "metadata": {},
   "outputs": [],
   "source": [
    "#pr.plot(edgecolor=\"red\")"
   ]
  },
  {
   "cell_type": "code",
   "execution_count": 34,
   "id": "381394be",
   "metadata": {},
   "outputs": [],
   "source": [
    "#pr.plot(cmap=\"cool\",column=c1,edgecolor=\"black\")"
   ]
  },
  {
   "cell_type": "code",
   "execution_count": 36,
   "id": "c6a39c58",
   "metadata": {},
   "outputs": [
    {
     "data": {
      "text/plain": [
       "<AxesSubplot:>"
      ]
     },
     "execution_count": 36,
     "metadata": {},
     "output_type": "execute_result"
    },
    {
     "data": {
      "image/png": "[encoded data removed]",
      "text/plain": [
       "<Figure size 432x288 with 1 Axes>"
      ]
     },
     "metadata": {
      "needs_background": "light"
     },
     "output_type": "display_data"
    }
   ],
   "source": [
    "#fig, ax = plt.subplots(1, 1)\n",
    "#ax.legend([\"P, mm\"])\n",
    "#pr.plot(cmap=\"cool\",column=c1, ax=ax, legend=True)"
   ]
  },
  {
   "cell_type": "code",
   "execution_count": 38,
   "id": "98c2a279",
   "metadata": {},
   "outputs": [],
   "source": [
    "#fig, ax = plt.subplots()\n",
    "#pr.plot(cmap=\"cool\",column=c1, ax=ax, legend=True)\n",
    "#wds[0].plot(ax=ax, color='none',edgecolor=\"yellow\")"
   ]
  },
  {
   "cell_type": "code",
   "execution_count": 40,
   "id": "862db578",
   "metadata": {},
   "outputs": [],
   "source": [
    "#wds[0].crs"
   ]
  },
  {
   "cell_type": "code",
   "execution_count": null,
   "id": "a1735515",
   "metadata": {},
   "outputs": [],
   "source": [
    "area=[i['geometry'].area[0]/ 10**6 for i in wds]"
   ]
  },
  {
   "cell_type": "code",
   "execution_count": null,
   "id": "3e00748b",
   "metadata": {},
   "outputs": [],
   "source": [
    "pr1=[gpd.clip(pr, x) for x in wds]\n",
    "ev1=[gpd.clip(ev, x) for x in wds]"
   ]
  },
  {
   "cell_type": "code",
   "execution_count": null,
   "id": "df404525",
   "metadata": {},
   "outputs": [],
   "source": [
    "for i in pr1:\n",
    "    i[\"Area\"] = i['geometry'].area/ 10**6\n",
    "    i[c1]=i[c1].astype(float)\n",
    "for i in ev1:\n",
    "    i[\"Area\"] = i['geometry'].area/ 10**6\n",
    "    i[c2]=i[c2].astype(float)"
   ]
  },
  {
   "cell_type": "code",
   "execution_count": null,
   "id": "ca7635c7",
   "metadata": {},
   "outputs": [],
   "source": [
    "pr2=[(x[\"Area\"]*x[c1]).sum()/x[\"Area\"].sum() for x in pr1]\n",
    "ev2=[(x[\"Area\"]*x[c2]).sum()/x[\"Area\"].sum() for x in ev1]"
   ]
  },
  {
   "cell_type": "code",
   "execution_count": null,
   "id": "1f2c7aa4",
   "metadata": {},
   "outputs": [],
   "source": [
    "#Теперь средние по tif"
   ]
  },
  {
   "cell_type": "code",
   "execution_count": 41,
   "id": "4789c6b6",
   "metadata": {},
   "outputs": [],
   "source": [
    "dr=r\"C:\\Users\\vadim\\Desktop\\fourth\"\n",
    "fn=r\"evap_fill.tif\"\n",
    "raster = rst.open(path.join(dr,fn))#\n",
    "affine = raster.transform\n",
    "raster=raster.read(1)"
   ]
  },
  {
   "cell_type": "code",
   "execution_count": 42,
   "id": "ceb75d94",
   "metadata": {},
   "outputs": [
    {
     "name": "stderr",
     "output_type": "stream",
     "text": [
      "C:\\Users\\vadim\\anaconda3\\envs\\myenv\\lib\\site-packages\\rasterstats\\io.py:313: UserWarning: Setting nodata to -999; specify nodata explicitly\n",
      "  warnings.warn(\"Setting nodata to -999; specify nodata explicitly\")\n"
     ]
    }
   ],
   "source": [
    "res1=[zonal_stats(x, raster, affine=affine, stats=['mean'])[0].get(\"mean\") for x in wds]"
   ]
  },
  {
   "cell_type": "code",
   "execution_count": 48,
   "id": "6e656d4c",
   "metadata": {},
   "outputs": [
    {
     "data": {
      "text/plain": [
       "8998.941"
      ]
     },
     "execution_count": 48,
     "metadata": {},
     "output_type": "execute_result"
    }
   ],
   "source": [
    "#zonal_stats(wds[0], raster, affine=affine, stats=['mean'])\n",
    "#raster.max()"
   ]
  },
  {
   "cell_type": "code",
   "execution_count": null,
   "id": "64f1ceef",
   "metadata": {},
   "outputs": [],
   "source": [
    "res=pd.DataFrame([[x[:-4] for x in nms],[int(x.iloc[0,0]) for x in wds],\n",
    "                   pr2,ev2,res1,area])"
   ]
  },
  {
   "cell_type": "code",
   "execution_count": null,
   "id": "d37948b5",
   "metadata": {},
   "outputs": [],
   "source": [
    "res=res.transpose()\n",
    "res.columns=[\"fn\",\"ind_st\",\"prec\",\"PET\",\"evap\",\"area\"]\n",
    "res.index=res[\"ind_st\"]\n",
    "res.evap/=10"
   ]
  },
  {
   "cell_type": "code",
   "execution_count": null,
   "id": "689e6b6a",
   "metadata": {},
   "outputs": [],
   "source": [
    "res.to_excel(path.join(r\"C:\\Users\\vadim\\Desktop\\fourth\",\n",
    "                      \"meteo1.xlsx\"))"
   ]
  },
  {
   "cell_type": "code",
   "execution_count": null,
   "id": "93225768",
   "metadata": {},
   "outputs": [],
   "source": [
    "#работа с netcdf"
   ]
  },
  {
   "cell_type": "code",
   "execution_count": 7,
   "id": "787f880e",
   "metadata": {},
   "outputs": [],
   "source": [
    "import xarray as xr"
   ]
  },
  {
   "cell_type": "code",
   "execution_count": 8,
   "id": "9d8d1275",
   "metadata": {},
   "outputs": [],
   "source": [
    "from pyproj import CRS"
   ]
  },
  {
   "cell_type": "code",
   "execution_count": 9,
   "id": "821d45c2",
   "metadata": {},
   "outputs": [],
   "source": [
    "dr=r\"C:\\Users\\vadim\\Desktop\\fourth\\globsnow\"\n",
    "fns=listdir(dr)"
   ]
  },
  {
   "cell_type": "code",
   "execution_count": 47,
   "id": "56487911",
   "metadata": {},
   "outputs": [],
   "source": [
    "y1=slice(-4000000, 0)\n",
    "x1=slice(1500000, 4500000)"
   ]
  },
  {
   "cell_type": "code",
   "execution_count": 48,
   "id": "3becc128",
   "metadata": {},
   "outputs": [],
   "source": [
    "y=xr.open_dataset(path.join(dr, fns[0]),engine=\"netcdf4\")"
   ]
  },
  {
   "cell_type": "code",
   "execution_count": 49,
   "id": "3aea05fe",
   "metadata": {},
   "outputs": [],
   "source": [
    "#y"
   ]
  },
  {
   "cell_type": "code",
   "execution_count": 50,
   "id": "cdc38136",
   "metadata": {},
   "outputs": [],
   "source": [
    "swe0=y[\"swe\"].where(y[\"swe\"]>= 0)"
   ]
  },
  {
   "cell_type": "code",
   "execution_count": 51,
   "id": "0af0557a",
   "metadata": {},
   "outputs": [],
   "source": [
    "#y[\"swe\"]\n",
    "#swe0.plot(robust=True)"
   ]
  },
  {
   "cell_type": "code",
   "execution_count": 52,
   "id": "02ff0359",
   "metadata": {},
   "outputs": [],
   "source": [
    "cc = CRS.from_cf(y[\"crs\"].attrs)"
   ]
  },
  {
   "cell_type": "code",
   "execution_count": 53,
   "id": "a34ad7ea",
   "metadata": {},
   "outputs": [],
   "source": [
    "#cc"
   ]
  },
  {
   "cell_type": "code",
   "execution_count": 54,
   "id": "5464ba08",
   "metadata": {},
   "outputs": [],
   "source": [
    "res1=[]\n",
    "for i in range(len(fns)):\n",
    "    swe=xr.open_dataset(path.join(dr, fns[i]))\n",
    "    swe.rio.write_crs(cc.to_string(), inplace=True)\n",
    "    swe=swe[r\"swe\"].sel(y=y1, x=x1)\n",
    "    res1.append(swe.where(swe>= 0, drop=True))"
   ]
  },
  {
   "cell_type": "code",
   "execution_count": 55,
   "id": "52a8dd70",
   "metadata": {},
   "outputs": [],
   "source": [
    "swe=xr.concat(res1, pd.Index(np.arange(2,6), name=\"month\"))"
   ]
  },
  {
   "cell_type": "code",
   "execution_count": 56,
   "id": "e07900d8",
   "metadata": {},
   "outputs": [],
   "source": [
    "sweM=swe.mean(axis=0, skipna=True)"
   ]
  },
  {
   "cell_type": "code",
   "execution_count": 57,
   "id": "8b3813e5",
   "metadata": {},
   "outputs": [],
   "source": [
    "#sweM.plot()"
   ]
  },
  {
   "cell_type": "code",
   "execution_count": 58,
   "id": "70ac4ba1",
   "metadata": {},
   "outputs": [],
   "source": [
    "#swe.sel(x=[3500000,3000000,2500000],month=3,\n",
    "#        method=\"nearest\").plot(x=\"y\",hue=\"x\")"
   ]
  },
  {
   "cell_type": "code",
   "execution_count": 59,
   "id": "0ce3c801",
   "metadata": {},
   "outputs": [],
   "source": [
    "#sweM.sel(x=[3500000,3000000,2500000],method=\"nearest\").plot(x=\"y\",hue=\"x\")"
   ]
  },
  {
   "cell_type": "code",
   "execution_count": 60,
   "id": "722fb5ac",
   "metadata": {},
   "outputs": [],
   "source": [
    "#swe.plot(col=\"month\",col_wrap=6, robust=True)"
   ]
  },
  {
   "cell_type": "code",
   "execution_count": 61,
   "id": "2711df83",
   "metadata": {},
   "outputs": [],
   "source": [
    "import hvplot.xarray"
   ]
  },
  {
   "cell_type": "code",
   "execution_count": 62,
   "id": "7996408d",
   "metadata": {},
   "outputs": [],
   "source": [
    "#swe.hvplot()"
   ]
  },
  {
   "cell_type": "code",
   "execution_count": 66,
   "id": "768631d4",
   "metadata": {},
   "outputs": [],
   "source": [
    "#swe.isel(month=2).hvplot(cmap=\"cool\")"
   ]
  },
  {
   "cell_type": "code",
   "execution_count": 69,
   "id": "60dcc3f6",
   "metadata": {},
   "outputs": [],
   "source": [
    "#swe.hvplot(groupby=\"month\",clim=(0, swe.max()), cmap=\"cool\",\n",
    "#         widget_type=\"scrubber\",widget_location=\"bottom\")"
   ]
  },
  {
   "cell_type": "code",
   "execution_count": 117,
   "id": "c476a700",
   "metadata": {},
   "outputs": [],
   "source": [
    "dr=r\"C:\\Users\\vadim\\Desktop\\fourth\"\n",
    "fn=r\"total_precipitation.nc\"\n",
    "T = xr.open_dataset(path.join(dr,fn),engine=\"netcdf4\")[r\"tp\"]*1000"
   ]
  },
  {
   "cell_type": "code",
   "execution_count": 118,
   "id": "709e346d",
   "metadata": {},
   "outputs": [],
   "source": [
    "T=T.loc[T.time.dt.year<2021]"
   ]
  },
  {
   "cell_type": "code",
   "execution_count": 119,
   "id": "ffd85b9c",
   "metadata": {},
   "outputs": [],
   "source": [
    "y=T.sel(time=slice(\"2000-01-01\",\"2020-12-31\")).sum(dim=r\"time\")-T.sel(time=slice(\"1979-01-01\",\"1999-12-31\")).sum(dim=r\"time\")"
   ]
  },
  {
   "cell_type": "code",
   "execution_count": 120,
   "id": "138f19a9",
   "metadata": {},
   "outputs": [
    {
     "data": {
      "text/plain": [
       "(504, 169, 697)"
      ]
     },
     "execution_count": 120,
     "metadata": {},
     "output_type": "execute_result"
    }
   ],
   "source": [
    "T.shape"
   ]
  },
  {
   "cell_type": "code",
   "execution_count": 121,
   "id": "91a87132",
   "metadata": {},
   "outputs": [],
   "source": [
    "#y.plot(robust=True)"
   ]
  },
  {
   "cell_type": "code",
   "execution_count": 122,
   "id": "1885df96",
   "metadata": {},
   "outputs": [],
   "source": [
    "#fig=y.plot(robust=True)\n",
    "#fn=path.join(dr,\"anomaly_y.jpg\")\n",
    "#fig.figure.savefig(fn,dpi=300)\n",
    "#plt.close()"
   ]
  },
  {
   "cell_type": "code",
   "execution_count": 123,
   "id": "353d711d",
   "metadata": {},
   "outputs": [],
   "source": [
    "T1=T.loc[T.time.dt.month.isin([11,12,1,2,3])].resample(time='AS-OCT').sum('time')\n",
    "#Tm=T1.mean(axis=0, skipna=True).rio.write_crs(\"epsg:4326\", inplace=True)"
   ]
  },
  {
   "cell_type": "code",
   "execution_count": 124,
   "id": "69f289e8",
   "metadata": {},
   "outputs": [],
   "source": [
    "#fn1=path.join(dr,r\"T_mean_cold.tif\")\n",
    "#Tm.rio.to_raster(fn1)"
   ]
  },
  {
   "cell_type": "code",
   "execution_count": 125,
   "id": "c2cca699",
   "metadata": {},
   "outputs": [],
   "source": [
    "def get_tr(x,y):\n",
    "    yr=np.arange(y,2022)\n",
    "    yr=yr[:,np.newaxis,np.newaxis]\n",
    "    return 1000*((x-x.mean(axis=0))*(yr-yr.mean(axis=0))/yr.var(axis=0)).mean(axis=0)/x.mean(axis=0)"
   ]
  },
  {
   "cell_type": "code",
   "execution_count": 126,
   "id": "c46d9269",
   "metadata": {},
   "outputs": [],
   "source": [
    "#T1tr=get_tr(T1,1979).rio.write_crs(\"epsg:4326\", inplace=True)"
   ]
  },
  {
   "cell_type": "code",
   "execution_count": 127,
   "id": "55ca34d8",
   "metadata": {},
   "outputs": [],
   "source": [
    "#fn1=path.join(dr,r\"pr_trend_cold.tif\")"
   ]
  },
  {
   "cell_type": "code",
   "execution_count": 128,
   "id": "689611e1",
   "metadata": {},
   "outputs": [],
   "source": [
    "#T1tr.rio.to_raster(fn1)"
   ]
  },
  {
   "cell_type": "raw",
   "id": "385f9ad7",
   "metadata": {},
   "source": [
    "Средние по районам"
   ]
  },
  {
   "cell_type": "code",
   "execution_count": 133,
   "id": "21481c78",
   "metadata": {},
   "outputs": [],
   "source": [
    "fn=r\"Границы_районов.shp\""
   ]
  },
  {
   "cell_type": "code",
   "execution_count": 134,
   "id": "f7018aae",
   "metadata": {},
   "outputs": [],
   "source": [
    "shp=gpd.read_file(path.join(dr, fn), encoding='cp1251').to_crs(crs=\"epsg:3408\")[[\"geometry\",\"NAME_SUB\",\"Диапазон\"]].explode()"
   ]
  },
  {
   "cell_type": "code",
   "execution_count": 136,
   "id": "5aa0584e",
   "metadata": {},
   "outputs": [],
   "source": [
    "shp[\"area\"]=shp.area/ 10**6"
   ]
  },
  {
   "cell_type": "code",
   "execution_count": 137,
   "id": "c9f5ec18",
   "metadata": {},
   "outputs": [],
   "source": [
    "shp.to_crs(\"epsg:4326\", inplace=True)"
   ]
  },
  {
   "cell_type": "code",
   "execution_count": 138,
   "id": "1300f5a7",
   "metadata": {},
   "outputs": [],
   "source": [
    "shp.drop(index=shp.index[-2],inplace=True)"
   ]
  },
  {
   "cell_type": "code",
   "execution_count": 139,
   "id": "654f927b",
   "metadata": {},
   "outputs": [],
   "source": [
    "ind=shp.index"
   ]
  },
  {
   "cell_type": "code",
   "execution_count": 140,
   "id": "9e86a639",
   "metadata": {},
   "outputs": [],
   "source": [
    "shp1=shp[[\"NAME_SUB\",\"Диапазон\",\"area\"]]\n",
    "ar=shp1.groupby(['NAME_SUB']).sum()[\"area\"]"
   ]
  },
  {
   "cell_type": "code",
   "execution_count": 141,
   "id": "26e62f75",
   "metadata": {},
   "outputs": [],
   "source": [
    "def area_mean(x,y):\n",
    "    return (x*y).sum(dim=('latitude','longitude'))/y.sum(dim=('latitude','longitude'))"
   ]
  },
  {
   "cell_type": "code",
   "execution_count": 145,
   "id": "3a86a28a",
   "metadata": {},
   "outputs": [],
   "source": [
    "fn1=path.join(dr,\"snow_after.nc\")"
   ]
  },
  {
   "cell_type": "code",
   "execution_count": 152,
   "id": "46ac84a8",
   "metadata": {},
   "outputs": [],
   "source": [
    "#a=xr.open_dataset(fn1)[\"sf\"]"
   ]
  },
  {
   "cell_type": "code",
   "execution_count": null,
   "id": "b04cb859",
   "metadata": {},
   "outputs": [],
   "source": []
  },
  {
   "cell_type": "code",
   "execution_count": 154,
   "id": "a2a85dfd",
   "metadata": {},
   "outputs": [],
   "source": [
    "def value_calc(file1,wb):\n",
    "    a=xr.open_dataset(file1)\n",
    "    for i in a.keys():#если вдруг не одна переменная в файле\n",
    "        c=a[i].resample(time='1A').mean()*1000\n",
    "        c.rio.set_spatial_dims(x_dim=\"longitude\", y_dim=\"latitude\",\n",
    "                               inplace=True)\n",
    "        c.rio.write_crs(\"epsg:4326\", inplace=True)\n",
    "    #создаем xarray тех же размеров, где величина это площадь ячейки\n",
    "        lat = c[0]['latitude'].values\n",
    "        long = c[0]['longitude'].values\n",
    "        ms = xr.DataArray(np.ones(c[0].shape),\n",
    "                          coords={'latitude': lat, 'longitude': long},\n",
    "                                  dims=['latitude', 'longitude'])\n",
    "        #ms*=xr.DataArray(np.cos(lat*np.pi/180),coords={'latitude': lat},\n",
    "        #                 dims=['latitude'])\n",
    "        ms.rio.write_crs(\"epsg:4326\", inplace=True)\n",
    "        Ams=[ms.rio.clip(shp[shp.index==j].geometry,drop=False) for j in ind]\n",
    "        res=[c.rio.clip(shp[shp.index==j].geometry,drop=False) for j in ind]\n",
    "    \n",
    "        res1=[area_mean(k,l).to_series() for k, l in zip(res, Ams)]\n",
    "    \n",
    "        res=pd.concat(res1, axis=1).transpose()\n",
    "        res.index=ind\n",
    "        res=res.mul(shp1[\"area\"], axis=0)\n",
    "        res=pd.concat([shp1['NAME_SUB'],res], axis=1).groupby(['NAME_SUB']).sum()\n",
    "        #after groupby column turns out to index\n",
    "        res=res.divide(ar, axis=0)\n",
    "        yrs=shp1.set_index('NAME_SUB')[\n",
    "            ~shp1.set_index('NAME_SUB').index.duplicated(keep='first')][\"Диапазон\"]\n",
    "        pd.concat([yrs, res], axis=1).transpose().to_excel(wb, i)"
   ]
  },
  {
   "cell_type": "code",
   "execution_count": 155,
   "id": "cf65d2d9",
   "metadata": {},
   "outputs": [],
   "source": [
    "fn=path.join(dr, r\"meteo yearly new.xlsx\")\n",
    "writer = pd.ExcelWriter(fn, engine='xlsxwriter')"
   ]
  },
  {
   "cell_type": "code",
   "execution_count": 156,
   "id": "afad181c",
   "metadata": {},
   "outputs": [],
   "source": [
    "value_calc(fn1,writer)\n",
    "writer.save()"
   ]
  }
 ],
 "metadata": {
  "kernelspec": {
   "display_name": "Python 3",
   "language": "python",
   "name": "python3"
  },
  "language_info": {
   "codemirror_mode": {
    "name": "ipython",
    "version": 3
   },
   "file_extension": ".py",
   "mimetype": "text/x-python",
   "name": "python",
   "nbconvert_exporter": "python",
   "pygments_lexer": "ipython3",
   "version": "3.8.8"
  }
 },
 "nbformat": 4,
 "nbformat_minor": 5
}
