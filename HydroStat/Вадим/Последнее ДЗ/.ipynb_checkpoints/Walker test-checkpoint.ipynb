{
 "cells": [
  {
   "cell_type": "code",
   "execution_count": 1,
   "metadata": {},
   "outputs": [],
   "source": [
    "import pandas as pd\n",
    "import numpy as np"
   ]
  },
  {
   "cell_type": "code",
   "execution_count": 78,
   "metadata": {},
   "outputs": [],
   "source": [
    "df = pd.read_excel('p_value.xlsx')"
   ]
  },
  {
   "cell_type": "code",
   "execution_count": 12,
   "metadata": {},
   "outputs": [],
   "source": [
    "def Pfdr(x,y=5):\n",
    "    if len(x)==1:\n",
    "        return 1 if x.iloc[0]<=y else 0\n",
    "    else:\n",
    "        a=np.sort(x.dropna().values)\n",
    "        N=len(a)\n",
    "        Pwalk=y*np.arange(1,N+1)/N\n",
    "        Pwalk-=a\n",
    "        return 1 if np.any(Pwalk>=0) else 0"
   ]
  },
  {
   "cell_type": "code",
   "execution_count": 18,
   "metadata": {},
   "outputs": [
    {
     "name": "stdout",
     "output_type": "stream",
     "text": [
      "средние: 1\n",
      "максимум: 1\n",
      "время: 0\n"
     ]
    }
   ],
   "source": [
    "print('средние:', Pfdr(df['средние']))\n",
    "print('максимум:', Pfdr(df['максимум']))\n",
    "print('время:', Pfdr(df['время']))"
   ]
  },
  {
   "cell_type": "code",
   "execution_count": 75,
   "metadata": {},
   "outputs": [],
   "source": [
    "def Pfdr_mod(x,y=5):\n",
    "    a=np.sort(x.dropna().values)\n",
    "    N=len(a)\n",
    "    Pwalk=y*np.arange(1,N+1)/N\n",
    "    values = []\n",
    "    for i in range(len(a)):\n",
    "        if (a[i] < Pwalk[i]):\n",
    "            values.append(a[i])\n",
    "    return 1 if len(values) > 0 else 0"
   ]
  },
  {
   "cell_type": "code",
   "execution_count": 77,
   "metadata": {},
   "outputs": [
    {
     "name": "stdout",
     "output_type": "stream",
     "text": [
      "средние: 1\n",
      "максимум: 1\n",
      "время: 0\n"
     ]
    }
   ],
   "source": [
    "print('средние:', Pfdr_mod(df['средние']))\n",
    "print('максимум:', Pfdr_mod(df['максимум']))\n",
    "print('время:', Pfdr_mod(df['время']))"
   ]
  }
 ],
 "metadata": {
  "kernelspec": {
   "display_name": "Python 3",
   "language": "python",
   "name": "python3"
  },
  "language_info": {
   "codemirror_mode": {
    "name": "ipython",
    "version": 3
   },
   "file_extension": ".py",
   "mimetype": "text/x-python",
   "name": "python",
   "nbconvert_exporter": "python",
   "pygments_lexer": "ipython3",
   "version": "3.8.8"
  }
 },
 "nbformat": 4,
 "nbformat_minor": 4
}
