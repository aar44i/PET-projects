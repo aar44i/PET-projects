{
 "cells": [
  {
   "cell_type": "code",
   "execution_count": 1,
   "id": "2bf700f7",
   "metadata": {},
   "outputs": [],
   "source": [
    "import pandas as pd\n",
    "import numpy as np\n",
    "import datetime \n",
    "import re"
   ]
  },
  {
   "cell_type": "code",
   "execution_count": 2,
   "id": "f6faa2b9",
   "metadata": {},
   "outputs": [],
   "source": [
    "# fr.head(20)"
   ]
  },
  {
   "cell_type": "code",
   "execution_count": 3,
   "id": "9f3eea63",
   "metadata": {},
   "outputs": [],
   "source": [
    "res=[[]]\n",
    "gauge_list = []\n",
    "nm_list = []\n",
    "dicts = {}\n",
    "\n",
    "fr = pd.read_excel('Унжа_данные.xlsx')\n",
    "ind=fr.loc[fr.iloc[:,0] == \"Код поста\"].index\n",
    "fy=int(fr.iloc[ind[0]+1,1])#первый год\n",
    "for j in ind:#итерация по отдельным таблицам\n",
    "    nm=[fr.iloc[j,1]]#код поста\n",
    "    nm_list.append(nm)\n",
    "    y=int(fr.iloc[j+1,1])#год\n",
    "    gauge = [fr.iloc[j+2,1]]\n",
    "    gauge_list.append(gauge)\n",
    "    \n",
    "    fd=datetime.datetime(y, 1, 1)#начало года\n",
    "    ld=datetime.datetime(y+1, 1, 1)#конец года, не включая\n",
    "    listOfDates=[date for date in np.arange(fd,ld,datetime.timedelta(days=1))]#лист с датами в этом году\n",
    "    yd=fr.iloc[j+5:j+36,1:13]\n",
    "    if y%4!=0:#не весокосный год, т.е. остаток от делления на 4 не равен 0:\n",
    "        #ravel делает из 2d 1d строка за строкой, при этом где-то будут пустые ячейки т.к. не все месяцы по 31 день \n",
    "        d=np.delete(yd.values.transpose().ravel(),[59,60,61,123,185,278,340])\n",
    "    else:\n",
    "        d=np.delete(yd.values.transpose().ravel(),[60,61,123,185,278,340])\n",
    "    r=pd.DataFrame(d, columns=nm, index=listOfDates)#делаем datarfame, который по сути series\n",
    "    if fy==y:\n",
    "        res[-1].append(r)\n",
    "    #если пошел следующий год, лист с датафреймами из старого кода соеденяется, а новый датафрейм помещается в лист и \n",
    "    #становится основой для сбора расходов со следующего года\n",
    "    else:\n",
    "        res[-1]=pd.concat(res[-1], axis=1,sort=False)\n",
    "        res.append([r])\n",
    "        fy=y\n",
    "#последний год объеденяется в единый фрейм уже вне тела цикла\n",
    "res[-1]=pd.concat(res[-1], axis=1,sort=False)\n",
    "#наконец все в месте соеденяется\n",
    "res=pd.concat(res, axis=0,sort=False)"
   ]
  },
  {
   "cell_type": "code",
   "execution_count": 4,
   "id": "fe6bdf17",
   "metadata": {},
   "outputs": [],
   "source": [
    "res=res.astype(str)#разные типы данных нам не к чему"
   ]
  },
  {
   "cell_type": "code",
   "execution_count": 5,
   "id": "ecd00a30",
   "metadata": {},
   "outputs": [],
   "source": [
    "#нб - не было в 0, а те ячейки где были дополнительные символы разделяем по пробелу и берем первую часть - число\n",
    "def str_int(x):\n",
    "    if x==\"нб\":\n",
    "        return 0\n",
    "    else:\n",
    "        return float(x.replace(\",\",\".\").split(\" \")[0])"
   ]
  },
  {
   "cell_type": "code",
   "execution_count": 6,
   "id": "d5f47197",
   "metadata": {},
   "outputs": [],
   "source": [
    "res=res.applymap(str_int)# применяем функцию ко всем элементам фрейма"
   ]
  },
  {
   "cell_type": "code",
   "execution_count": 7,
   "id": "6515d2fd",
   "metadata": {},
   "outputs": [
    {
     "data": {
      "text/html": [
       "<div>\n",
       "<style scoped>\n",
       "    .dataframe tbody tr th:only-of-type {\n",
       "        vertical-align: middle;\n",
       "    }\n",
       "\n",
       "    .dataframe tbody tr th {\n",
       "        vertical-align: top;\n",
       "    }\n",
       "\n",
       "    .dataframe thead th {\n",
       "        text-align: right;\n",
       "    }\n",
       "</style>\n",
       "<table border=\"1\" class=\"dataframe\">\n",
       "  <thead>\n",
       "    <tr style=\"text-align: right;\">\n",
       "      <th></th>\n",
       "      <th>75284</th>\n",
       "    </tr>\n",
       "  </thead>\n",
       "  <tbody>\n",
       "    <tr>\n",
       "      <th>2008-01-01</th>\n",
       "      <td>26.7</td>\n",
       "    </tr>\n",
       "    <tr>\n",
       "      <th>2008-01-02</th>\n",
       "      <td>26.0</td>\n",
       "    </tr>\n",
       "    <tr>\n",
       "      <th>2008-01-03</th>\n",
       "      <td>26.0</td>\n",
       "    </tr>\n",
       "    <tr>\n",
       "      <th>2008-01-04</th>\n",
       "      <td>26.0</td>\n",
       "    </tr>\n",
       "    <tr>\n",
       "      <th>2008-01-05</th>\n",
       "      <td>25.6</td>\n",
       "    </tr>\n",
       "    <tr>\n",
       "      <th>...</th>\n",
       "      <td>...</td>\n",
       "    </tr>\n",
       "    <tr>\n",
       "      <th>2019-12-27</th>\n",
       "      <td>69.9</td>\n",
       "    </tr>\n",
       "    <tr>\n",
       "      <th>2019-12-28</th>\n",
       "      <td>75.2</td>\n",
       "    </tr>\n",
       "    <tr>\n",
       "      <th>2019-12-29</th>\n",
       "      <td>86.4</td>\n",
       "    </tr>\n",
       "    <tr>\n",
       "      <th>2019-12-30</th>\n",
       "      <td>87.2</td>\n",
       "    </tr>\n",
       "    <tr>\n",
       "      <th>2019-12-31</th>\n",
       "      <td>80.6</td>\n",
       "    </tr>\n",
       "  </tbody>\n",
       "</table>\n",
       "<p>4383 rows × 1 columns</p>\n",
       "</div>"
      ],
      "text/plain": [
       "            75284\n",
       "2008-01-01   26.7\n",
       "2008-01-02   26.0\n",
       "2008-01-03   26.0\n",
       "2008-01-04   26.0\n",
       "2008-01-05   25.6\n",
       "...           ...\n",
       "2019-12-27   69.9\n",
       "2019-12-28   75.2\n",
       "2019-12-29   86.4\n",
       "2019-12-30   87.2\n",
       "2019-12-31   80.6\n",
       "\n",
       "[4383 rows x 1 columns]"
      ]
     },
     "execution_count": 7,
     "metadata": {},
     "output_type": "execute_result"
    }
   ],
   "source": [
    "res"
   ]
  },
  {
   "cell_type": "code",
   "execution_count": 8,
   "id": "846a857c",
   "metadata": {},
   "outputs": [],
   "source": [
    "df = res.copy()\n",
    "df['date'] = df.index"
   ]
  },
  {
   "cell_type": "code",
   "execution_count": 9,
   "id": "bd352aa5",
   "metadata": {},
   "outputs": [
    {
     "data": {
      "text/html": [
       "<div>\n",
       "<style scoped>\n",
       "    .dataframe tbody tr th:only-of-type {\n",
       "        vertical-align: middle;\n",
       "    }\n",
       "\n",
       "    .dataframe tbody tr th {\n",
       "        vertical-align: top;\n",
       "    }\n",
       "\n",
       "    .dataframe thead th {\n",
       "        text-align: right;\n",
       "    }\n",
       "</style>\n",
       "<table border=\"1\" class=\"dataframe\">\n",
       "  <thead>\n",
       "    <tr style=\"text-align: right;\">\n",
       "      <th></th>\n",
       "      <th>75284</th>\n",
       "      <th>date</th>\n",
       "    </tr>\n",
       "  </thead>\n",
       "  <tbody>\n",
       "    <tr>\n",
       "      <th>2008-01-01</th>\n",
       "      <td>26.7</td>\n",
       "      <td>2008-01-01</td>\n",
       "    </tr>\n",
       "    <tr>\n",
       "      <th>2008-01-02</th>\n",
       "      <td>26.0</td>\n",
       "      <td>2008-01-02</td>\n",
       "    </tr>\n",
       "    <tr>\n",
       "      <th>2008-01-03</th>\n",
       "      <td>26.0</td>\n",
       "      <td>2008-01-03</td>\n",
       "    </tr>\n",
       "    <tr>\n",
       "      <th>2008-01-04</th>\n",
       "      <td>26.0</td>\n",
       "      <td>2008-01-04</td>\n",
       "    </tr>\n",
       "    <tr>\n",
       "      <th>2008-01-05</th>\n",
       "      <td>25.6</td>\n",
       "      <td>2008-01-05</td>\n",
       "    </tr>\n",
       "    <tr>\n",
       "      <th>...</th>\n",
       "      <td>...</td>\n",
       "      <td>...</td>\n",
       "    </tr>\n",
       "    <tr>\n",
       "      <th>2019-12-27</th>\n",
       "      <td>69.9</td>\n",
       "      <td>2019-12-27</td>\n",
       "    </tr>\n",
       "    <tr>\n",
       "      <th>2019-12-28</th>\n",
       "      <td>75.2</td>\n",
       "      <td>2019-12-28</td>\n",
       "    </tr>\n",
       "    <tr>\n",
       "      <th>2019-12-29</th>\n",
       "      <td>86.4</td>\n",
       "      <td>2019-12-29</td>\n",
       "    </tr>\n",
       "    <tr>\n",
       "      <th>2019-12-30</th>\n",
       "      <td>87.2</td>\n",
       "      <td>2019-12-30</td>\n",
       "    </tr>\n",
       "    <tr>\n",
       "      <th>2019-12-31</th>\n",
       "      <td>80.6</td>\n",
       "      <td>2019-12-31</td>\n",
       "    </tr>\n",
       "  </tbody>\n",
       "</table>\n",
       "<p>4383 rows × 2 columns</p>\n",
       "</div>"
      ],
      "text/plain": [
       "            75284       date\n",
       "2008-01-01   26.7 2008-01-01\n",
       "2008-01-02   26.0 2008-01-02\n",
       "2008-01-03   26.0 2008-01-03\n",
       "2008-01-04   26.0 2008-01-04\n",
       "2008-01-05   25.6 2008-01-05\n",
       "...           ...        ...\n",
       "2019-12-27   69.9 2019-12-27\n",
       "2019-12-28   75.2 2019-12-28\n",
       "2019-12-29   86.4 2019-12-29\n",
       "2019-12-30   87.2 2019-12-30\n",
       "2019-12-31   80.6 2019-12-31\n",
       "\n",
       "[4383 rows x 2 columns]"
      ]
     },
     "execution_count": 9,
     "metadata": {},
     "output_type": "execute_result"
    }
   ],
   "source": [
    "df"
   ]
  },
  {
   "cell_type": "code",
   "execution_count": 10,
   "id": "64eb9c11",
   "metadata": {},
   "outputs": [
    {
     "data": {
      "text/html": [
       "<div>\n",
       "<style scoped>\n",
       "    .dataframe tbody tr th:only-of-type {\n",
       "        vertical-align: middle;\n",
       "    }\n",
       "\n",
       "    .dataframe tbody tr th {\n",
       "        vertical-align: top;\n",
       "    }\n",
       "\n",
       "    .dataframe thead th {\n",
       "        text-align: right;\n",
       "    }\n",
       "</style>\n",
       "<table border=\"1\" class=\"dataframe\">\n",
       "  <thead>\n",
       "    <tr style=\"text-align: right;\">\n",
       "      <th></th>\n",
       "      <th>75284</th>\n",
       "      <th>date</th>\n",
       "    </tr>\n",
       "  </thead>\n",
       "  <tbody>\n",
       "    <tr>\n",
       "      <th>0</th>\n",
       "      <td>26.7</td>\n",
       "      <td>1 1 2008</td>\n",
       "    </tr>\n",
       "    <tr>\n",
       "      <th>1</th>\n",
       "      <td>26.0</td>\n",
       "      <td>2 1 2008</td>\n",
       "    </tr>\n",
       "    <tr>\n",
       "      <th>2</th>\n",
       "      <td>26.0</td>\n",
       "      <td>3 1 2008</td>\n",
       "    </tr>\n",
       "    <tr>\n",
       "      <th>3</th>\n",
       "      <td>26.0</td>\n",
       "      <td>4 1 2008</td>\n",
       "    </tr>\n",
       "    <tr>\n",
       "      <th>4</th>\n",
       "      <td>25.6</td>\n",
       "      <td>5 1 2008</td>\n",
       "    </tr>\n",
       "    <tr>\n",
       "      <th>...</th>\n",
       "      <td>...</td>\n",
       "      <td>...</td>\n",
       "    </tr>\n",
       "    <tr>\n",
       "      <th>4378</th>\n",
       "      <td>69.9</td>\n",
       "      <td>27 12 2019</td>\n",
       "    </tr>\n",
       "    <tr>\n",
       "      <th>4379</th>\n",
       "      <td>75.2</td>\n",
       "      <td>28 12 2019</td>\n",
       "    </tr>\n",
       "    <tr>\n",
       "      <th>4380</th>\n",
       "      <td>86.4</td>\n",
       "      <td>29 12 2019</td>\n",
       "    </tr>\n",
       "    <tr>\n",
       "      <th>4381</th>\n",
       "      <td>87.2</td>\n",
       "      <td>30 12 2019</td>\n",
       "    </tr>\n",
       "    <tr>\n",
       "      <th>4382</th>\n",
       "      <td>80.6</td>\n",
       "      <td>31 12 2019</td>\n",
       "    </tr>\n",
       "  </tbody>\n",
       "</table>\n",
       "<p>4383 rows × 2 columns</p>\n",
       "</div>"
      ],
      "text/plain": [
       "     75284        date\n",
       "0     26.7    1 1 2008\n",
       "1     26.0    2 1 2008\n",
       "2     26.0    3 1 2008\n",
       "3     26.0    4 1 2008\n",
       "4     25.6    5 1 2008\n",
       "...    ...         ...\n",
       "4378  69.9  27 12 2019\n",
       "4379  75.2  28 12 2019\n",
       "4380  86.4  29 12 2019\n",
       "4381  87.2  30 12 2019\n",
       "4382  80.6  31 12 2019\n",
       "\n",
       "[4383 rows x 2 columns]"
      ]
     },
     "execution_count": 10,
     "metadata": {},
     "output_type": "execute_result"
    }
   ],
   "source": [
    "df.reset_index(drop=True, inplace=True)\n",
    "df['date'] = pd.to_datetime(df['date']).apply(lambda x: datetime.datetime.strftime(x, '%#d %#m %Y'))\n",
    "# df.columns = ['Q', 'date']\n",
    "df=df.astype(str)\n",
    "df"
   ]
  },
  {
   "cell_type": "code",
   "execution_count": 11,
   "id": "ea73a2c3",
   "metadata": {},
   "outputs": [],
   "source": [
    "df2 = pd.DataFrame()\n",
    "for i in df.columns:\n",
    "    df2[i] = df[\"date\"] + ' ' + df[i]\n",
    "df2 = df2.drop(columns=['date'])"
   ]
  },
  {
   "cell_type": "code",
   "execution_count": 12,
   "id": "8c2857c3",
   "metadata": {},
   "outputs": [
    {
     "data": {
      "text/html": [
       "<div>\n",
       "<style scoped>\n",
       "    .dataframe tbody tr th:only-of-type {\n",
       "        vertical-align: middle;\n",
       "    }\n",
       "\n",
       "    .dataframe tbody tr th {\n",
       "        vertical-align: top;\n",
       "    }\n",
       "\n",
       "    .dataframe thead th {\n",
       "        text-align: right;\n",
       "    }\n",
       "</style>\n",
       "<table border=\"1\" class=\"dataframe\">\n",
       "  <thead>\n",
       "    <tr style=\"text-align: right;\">\n",
       "      <th></th>\n",
       "      <th>75284</th>\n",
       "    </tr>\n",
       "  </thead>\n",
       "  <tbody>\n",
       "    <tr>\n",
       "      <th>0</th>\n",
       "      <td>1 1 2008 26.7</td>\n",
       "    </tr>\n",
       "    <tr>\n",
       "      <th>1</th>\n",
       "      <td>2 1 2008 26.0</td>\n",
       "    </tr>\n",
       "    <tr>\n",
       "      <th>2</th>\n",
       "      <td>3 1 2008 26.0</td>\n",
       "    </tr>\n",
       "    <tr>\n",
       "      <th>3</th>\n",
       "      <td>4 1 2008 26.0</td>\n",
       "    </tr>\n",
       "    <tr>\n",
       "      <th>4</th>\n",
       "      <td>5 1 2008 25.6</td>\n",
       "    </tr>\n",
       "    <tr>\n",
       "      <th>...</th>\n",
       "      <td>...</td>\n",
       "    </tr>\n",
       "    <tr>\n",
       "      <th>4378</th>\n",
       "      <td>27 12 2019 69.9</td>\n",
       "    </tr>\n",
       "    <tr>\n",
       "      <th>4379</th>\n",
       "      <td>28 12 2019 75.2</td>\n",
       "    </tr>\n",
       "    <tr>\n",
       "      <th>4380</th>\n",
       "      <td>29 12 2019 86.4</td>\n",
       "    </tr>\n",
       "    <tr>\n",
       "      <th>4381</th>\n",
       "      <td>30 12 2019 87.2</td>\n",
       "    </tr>\n",
       "    <tr>\n",
       "      <th>4382</th>\n",
       "      <td>31 12 2019 80.6</td>\n",
       "    </tr>\n",
       "  </tbody>\n",
       "</table>\n",
       "<p>4383 rows × 1 columns</p>\n",
       "</div>"
      ],
      "text/plain": [
       "                75284\n",
       "0       1 1 2008 26.7\n",
       "1       2 1 2008 26.0\n",
       "2       3 1 2008 26.0\n",
       "3       4 1 2008 26.0\n",
       "4       5 1 2008 25.6\n",
       "...               ...\n",
       "4378  27 12 2019 69.9\n",
       "4379  28 12 2019 75.2\n",
       "4380  29 12 2019 86.4\n",
       "4381  30 12 2019 87.2\n",
       "4382  31 12 2019 80.6\n",
       "\n",
       "[4383 rows x 1 columns]"
      ]
     },
     "execution_count": 12,
     "metadata": {},
     "output_type": "execute_result"
    }
   ],
   "source": [
    "df2"
   ]
  },
  {
   "cell_type": "code",
   "execution_count": 13,
   "id": "485b9689",
   "metadata": {},
   "outputs": [],
   "source": [
    "df2.to_excel('Унжа_для_продления.xlsx')"
   ]
  },
  {
   "cell_type": "code",
   "execution_count": 14,
   "id": "3fd356e1",
   "metadata": {},
   "outputs": [],
   "source": [
    "flat_gauge = [item for sublist in gauge_list for item in sublist]\n",
    "flat_nm = [item for sublist in nm_list for item in sublist]\n"
   ]
  },
  {
   "cell_type": "code",
   "execution_count": 15,
   "id": "43521670",
   "metadata": {},
   "outputs": [
    {
     "data": {
      "text/plain": [
       "['Унжа - Р.УНЖА - Г.КОЛОГРИВ',\n",
       " 'Унжа - р.Унжа - г.Кологрив',\n",
       " 'Унжа - р. Унжа - г. Кологрив',\n",
       " 'Унжа - р. Унжа - г.Кологрив']"
      ]
     },
     "execution_count": 15,
     "metadata": {},
     "output_type": "execute_result"
    }
   ],
   "source": [
    "list(set(flat_gauge))"
   ]
  },
  {
   "cell_type": "code",
   "execution_count": 16,
   "id": "0c22b93c",
   "metadata": {},
   "outputs": [
    {
     "data": {
      "text/plain": [
       "[75284]"
      ]
     },
     "execution_count": 16,
     "metadata": {},
     "output_type": "execute_result"
    }
   ],
   "source": [
    "list(set(flat_nm))"
   ]
  },
  {
   "cell_type": "code",
   "execution_count": null,
   "id": "978cca52",
   "metadata": {},
   "outputs": [],
   "source": []
  }
 ],
 "metadata": {
  "kernelspec": {
   "display_name": "Python 3",
   "language": "python",
   "name": "python3"
  },
  "language_info": {
   "codemirror_mode": {
    "name": "ipython",
    "version": 3
   },
   "file_extension": ".py",
   "mimetype": "text/x-python",
   "name": "python",
   "nbconvert_exporter": "python",
   "pygments_lexer": "ipython3",
   "version": "3.8.8"
  }
 },
 "nbformat": 4,
 "nbformat_minor": 5
}
