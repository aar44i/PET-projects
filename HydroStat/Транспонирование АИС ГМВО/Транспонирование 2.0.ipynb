{
 "cells": [
  {
   "cell_type": "code",
   "execution_count": 407,
   "id": "2bf700f7",
   "metadata": {},
   "outputs": [],
   "source": [
    "import pandas as pd\n",
    "import numpy as np\n",
    "import datetime \n",
    "import re"
   ]
  },
  {
   "cell_type": "code",
   "execution_count": 408,
   "id": "9b025c9a",
   "metadata": {},
   "outputs": [
    {
     "data": {
      "text/plain": [
       "2013"
      ]
     },
     "execution_count": 408,
     "metadata": {},
     "output_type": "execute_result"
    }
   ],
   "source": [
    "fr.iloc[ind[0]+1,1]"
   ]
  },
  {
   "cell_type": "code",
   "execution_count": 409,
   "id": "f6faa2b9",
   "metadata": {},
   "outputs": [],
   "source": [
    "# fr.head(20)"
   ]
  },
  {
   "cell_type": "code",
   "execution_count": 410,
   "id": "9f3eea63",
   "metadata": {},
   "outputs": [],
   "source": [
    "res=[[]]\n",
    "gauge_list = []\n",
    "nm_list = []\n",
    "dicts = {}\n",
    "\n",
    "fr = pd.read_excel('Сев.Двина.xlsx')\n",
    "ind=fr.loc[fr.iloc[:,0] == \"Код поста\"].index\n",
    "fy=int(fr.iloc[ind[0]+1,1])#первый год\n",
    "for j in ind:#итерация по отдельным таблицам\n",
    "    nm=[fr.iloc[j,1]]#код поста\n",
    "    nm_list.append(nm)\n",
    "    y=int(fr.iloc[j+1,1])#год\n",
    "    gauge = [fr.iloc[j+2,1]]\n",
    "    gauge_list.append(gauge)\n",
    "    \n",
    "    fd=datetime.datetime(y, 1, 1)#начало года\n",
    "    ld=datetime.datetime(y+1, 1, 1)#конец года, не включая\n",
    "    listOfDates=[date for date in np.arange(fd,ld,datetime.timedelta(days=1))]#лист с датами в этом году\n",
    "    yd=fr.iloc[j+5:j+36,1:13]\n",
    "    if y%4!=0:#не весокосный год, т.е. остаток от делления на 4 не равен 0:\n",
    "        #ravel делает из 2d 1d строка за строкой, при этом где-то будут пустые ячейки т.к. не все месяцы по 31 день \n",
    "        d=np.delete(yd.values.transpose().ravel(),[59,60,61,123,185,278,340])\n",
    "    else:\n",
    "        d=np.delete(yd.values.transpose().ravel(),[60,61,123,185,278,340])\n",
    "    r=pd.DataFrame(d, columns=nm, index=listOfDates)#делаем datarfame, который по сути series\n",
    "    if fy==y:\n",
    "        res[-1].append(r)\n",
    "    #если пошел следующий год, лист с датафреймами из старого кода соеденяется, а новый датафрейм помещается в лист и \n",
    "    #становится основой для сбора расходов со следующего года\n",
    "    else:\n",
    "        res[-1]=pd.concat(res[-1], axis=1,sort=False)\n",
    "        res.append([r])\n",
    "        fy=y\n",
    "#последний год объеденяется в единый фрейм уже вне тела цикла\n",
    "res[-1]=pd.concat(res[-1], axis=1,sort=False)\n",
    "#наконец все в месте соеденяется\n",
    "res=pd.concat(res, axis=0,sort=False)"
   ]
  },
  {
   "cell_type": "code",
   "execution_count": 411,
   "id": "fe6bdf17",
   "metadata": {},
   "outputs": [],
   "source": [
    "res=res.astype(str)#разные типы данных нам не к чему"
   ]
  },
  {
   "cell_type": "code",
   "execution_count": 412,
   "id": "ecd00a30",
   "metadata": {},
   "outputs": [],
   "source": [
    "#нб - не было в 0, а те ячейки где были дополнительные символы разделяем по пробелу и берем первую часть - число\n",
    "def str_int(x):\n",
    "    if x==\"нб\":\n",
    "        return 0\n",
    "    else:\n",
    "        return float(x.replace(\",\",\".\").split(\" \")[0])"
   ]
  },
  {
   "cell_type": "code",
   "execution_count": 413,
   "id": "d5f47197",
   "metadata": {},
   "outputs": [],
   "source": [
    "res=res.applymap(str_int)# применяем функцию ко всем элементам фрейма"
   ]
  },
  {
   "cell_type": "code",
   "execution_count": 414,
   "id": "6515d2fd",
   "metadata": {},
   "outputs": [
    {
     "data": {
      "text/html": [
       "<div>\n",
       "<style scoped>\n",
       "    .dataframe tbody tr th:only-of-type {\n",
       "        vertical-align: middle;\n",
       "    }\n",
       "\n",
       "    .dataframe tbody tr th {\n",
       "        vertical-align: top;\n",
       "    }\n",
       "\n",
       "    .dataframe thead th {\n",
       "        text-align: right;\n",
       "    }\n",
       "</style>\n",
       "<table border=\"1\" class=\"dataframe\">\n",
       "  <thead>\n",
       "    <tr style=\"text-align: right;\">\n",
       "      <th></th>\n",
       "      <th>70801</th>\n",
       "    </tr>\n",
       "  </thead>\n",
       "  <tbody>\n",
       "    <tr>\n",
       "      <th>2014-01-01</th>\n",
       "      <td>NaN</td>\n",
       "    </tr>\n",
       "    <tr>\n",
       "      <th>2014-01-02</th>\n",
       "      <td>NaN</td>\n",
       "    </tr>\n",
       "    <tr>\n",
       "      <th>2014-01-03</th>\n",
       "      <td>NaN</td>\n",
       "    </tr>\n",
       "    <tr>\n",
       "      <th>2014-01-04</th>\n",
       "      <td>NaN</td>\n",
       "    </tr>\n",
       "    <tr>\n",
       "      <th>2014-01-05</th>\n",
       "      <td>NaN</td>\n",
       "    </tr>\n",
       "    <tr>\n",
       "      <th>...</th>\n",
       "      <td>...</td>\n",
       "    </tr>\n",
       "    <tr>\n",
       "      <th>2019-12-27</th>\n",
       "      <td>NaN</td>\n",
       "    </tr>\n",
       "    <tr>\n",
       "      <th>2019-12-28</th>\n",
       "      <td>NaN</td>\n",
       "    </tr>\n",
       "    <tr>\n",
       "      <th>2019-12-29</th>\n",
       "      <td>NaN</td>\n",
       "    </tr>\n",
       "    <tr>\n",
       "      <th>2019-12-30</th>\n",
       "      <td>NaN</td>\n",
       "    </tr>\n",
       "    <tr>\n",
       "      <th>2019-12-31</th>\n",
       "      <td>NaN</td>\n",
       "    </tr>\n",
       "  </tbody>\n",
       "</table>\n",
       "<p>2191 rows × 1 columns</p>\n",
       "</div>"
      ],
      "text/plain": [
       "            70801\n",
       "2014-01-01    NaN\n",
       "2014-01-02    NaN\n",
       "2014-01-03    NaN\n",
       "2014-01-04    NaN\n",
       "2014-01-05    NaN\n",
       "...           ...\n",
       "2019-12-27    NaN\n",
       "2019-12-28    NaN\n",
       "2019-12-29    NaN\n",
       "2019-12-30    NaN\n",
       "2019-12-31    NaN\n",
       "\n",
       "[2191 rows x 1 columns]"
      ]
     },
     "execution_count": 414,
     "metadata": {},
     "output_type": "execute_result"
    }
   ],
   "source": [
    "res"
   ]
  },
  {
   "cell_type": "code",
   "execution_count": 415,
   "id": "846a857c",
   "metadata": {},
   "outputs": [],
   "source": [
    "df = res.copy()\n",
    "df['date'] = df.index"
   ]
  },
  {
   "cell_type": "code",
   "execution_count": 416,
   "id": "bd352aa5",
   "metadata": {},
   "outputs": [
    {
     "data": {
      "text/html": [
       "<div>\n",
       "<style scoped>\n",
       "    .dataframe tbody tr th:only-of-type {\n",
       "        vertical-align: middle;\n",
       "    }\n",
       "\n",
       "    .dataframe tbody tr th {\n",
       "        vertical-align: top;\n",
       "    }\n",
       "\n",
       "    .dataframe thead th {\n",
       "        text-align: right;\n",
       "    }\n",
       "</style>\n",
       "<table border=\"1\" class=\"dataframe\">\n",
       "  <thead>\n",
       "    <tr style=\"text-align: right;\">\n",
       "      <th></th>\n",
       "      <th>70801</th>\n",
       "      <th>date</th>\n",
       "    </tr>\n",
       "  </thead>\n",
       "  <tbody>\n",
       "    <tr>\n",
       "      <th>2014-01-01</th>\n",
       "      <td>NaN</td>\n",
       "      <td>2014-01-01</td>\n",
       "    </tr>\n",
       "    <tr>\n",
       "      <th>2014-01-02</th>\n",
       "      <td>NaN</td>\n",
       "      <td>2014-01-02</td>\n",
       "    </tr>\n",
       "    <tr>\n",
       "      <th>2014-01-03</th>\n",
       "      <td>NaN</td>\n",
       "      <td>2014-01-03</td>\n",
       "    </tr>\n",
       "    <tr>\n",
       "      <th>2014-01-04</th>\n",
       "      <td>NaN</td>\n",
       "      <td>2014-01-04</td>\n",
       "    </tr>\n",
       "    <tr>\n",
       "      <th>2014-01-05</th>\n",
       "      <td>NaN</td>\n",
       "      <td>2014-01-05</td>\n",
       "    </tr>\n",
       "    <tr>\n",
       "      <th>...</th>\n",
       "      <td>...</td>\n",
       "      <td>...</td>\n",
       "    </tr>\n",
       "    <tr>\n",
       "      <th>2019-12-27</th>\n",
       "      <td>NaN</td>\n",
       "      <td>2019-12-27</td>\n",
       "    </tr>\n",
       "    <tr>\n",
       "      <th>2019-12-28</th>\n",
       "      <td>NaN</td>\n",
       "      <td>2019-12-28</td>\n",
       "    </tr>\n",
       "    <tr>\n",
       "      <th>2019-12-29</th>\n",
       "      <td>NaN</td>\n",
       "      <td>2019-12-29</td>\n",
       "    </tr>\n",
       "    <tr>\n",
       "      <th>2019-12-30</th>\n",
       "      <td>NaN</td>\n",
       "      <td>2019-12-30</td>\n",
       "    </tr>\n",
       "    <tr>\n",
       "      <th>2019-12-31</th>\n",
       "      <td>NaN</td>\n",
       "      <td>2019-12-31</td>\n",
       "    </tr>\n",
       "  </tbody>\n",
       "</table>\n",
       "<p>2191 rows × 2 columns</p>\n",
       "</div>"
      ],
      "text/plain": [
       "            70801       date\n",
       "2014-01-01    NaN 2014-01-01\n",
       "2014-01-02    NaN 2014-01-02\n",
       "2014-01-03    NaN 2014-01-03\n",
       "2014-01-04    NaN 2014-01-04\n",
       "2014-01-05    NaN 2014-01-05\n",
       "...           ...        ...\n",
       "2019-12-27    NaN 2019-12-27\n",
       "2019-12-28    NaN 2019-12-28\n",
       "2019-12-29    NaN 2019-12-29\n",
       "2019-12-30    NaN 2019-12-30\n",
       "2019-12-31    NaN 2019-12-31\n",
       "\n",
       "[2191 rows x 2 columns]"
      ]
     },
     "execution_count": 416,
     "metadata": {},
     "output_type": "execute_result"
    }
   ],
   "source": [
    "df"
   ]
  },
  {
   "cell_type": "code",
   "execution_count": 417,
   "id": "64eb9c11",
   "metadata": {},
   "outputs": [
    {
     "data": {
      "text/html": [
       "<div>\n",
       "<style scoped>\n",
       "    .dataframe tbody tr th:only-of-type {\n",
       "        vertical-align: middle;\n",
       "    }\n",
       "\n",
       "    .dataframe tbody tr th {\n",
       "        vertical-align: top;\n",
       "    }\n",
       "\n",
       "    .dataframe thead th {\n",
       "        text-align: right;\n",
       "    }\n",
       "</style>\n",
       "<table border=\"1\" class=\"dataframe\">\n",
       "  <thead>\n",
       "    <tr style=\"text-align: right;\">\n",
       "      <th></th>\n",
       "      <th>70801</th>\n",
       "      <th>date</th>\n",
       "    </tr>\n",
       "  </thead>\n",
       "  <tbody>\n",
       "    <tr>\n",
       "      <th>0</th>\n",
       "      <td>nan</td>\n",
       "      <td>1 1 2014</td>\n",
       "    </tr>\n",
       "    <tr>\n",
       "      <th>1</th>\n",
       "      <td>nan</td>\n",
       "      <td>2 1 2014</td>\n",
       "    </tr>\n",
       "    <tr>\n",
       "      <th>2</th>\n",
       "      <td>nan</td>\n",
       "      <td>3 1 2014</td>\n",
       "    </tr>\n",
       "    <tr>\n",
       "      <th>3</th>\n",
       "      <td>nan</td>\n",
       "      <td>4 1 2014</td>\n",
       "    </tr>\n",
       "    <tr>\n",
       "      <th>4</th>\n",
       "      <td>nan</td>\n",
       "      <td>5 1 2014</td>\n",
       "    </tr>\n",
       "    <tr>\n",
       "      <th>...</th>\n",
       "      <td>...</td>\n",
       "      <td>...</td>\n",
       "    </tr>\n",
       "    <tr>\n",
       "      <th>2186</th>\n",
       "      <td>nan</td>\n",
       "      <td>27 12 2019</td>\n",
       "    </tr>\n",
       "    <tr>\n",
       "      <th>2187</th>\n",
       "      <td>nan</td>\n",
       "      <td>28 12 2019</td>\n",
       "    </tr>\n",
       "    <tr>\n",
       "      <th>2188</th>\n",
       "      <td>nan</td>\n",
       "      <td>29 12 2019</td>\n",
       "    </tr>\n",
       "    <tr>\n",
       "      <th>2189</th>\n",
       "      <td>nan</td>\n",
       "      <td>30 12 2019</td>\n",
       "    </tr>\n",
       "    <tr>\n",
       "      <th>2190</th>\n",
       "      <td>nan</td>\n",
       "      <td>31 12 2019</td>\n",
       "    </tr>\n",
       "  </tbody>\n",
       "</table>\n",
       "<p>2191 rows × 2 columns</p>\n",
       "</div>"
      ],
      "text/plain": [
       "     70801        date\n",
       "0      nan    1 1 2014\n",
       "1      nan    2 1 2014\n",
       "2      nan    3 1 2014\n",
       "3      nan    4 1 2014\n",
       "4      nan    5 1 2014\n",
       "...    ...         ...\n",
       "2186   nan  27 12 2019\n",
       "2187   nan  28 12 2019\n",
       "2188   nan  29 12 2019\n",
       "2189   nan  30 12 2019\n",
       "2190   nan  31 12 2019\n",
       "\n",
       "[2191 rows x 2 columns]"
      ]
     },
     "execution_count": 417,
     "metadata": {},
     "output_type": "execute_result"
    }
   ],
   "source": [
    "df.reset_index(drop=True, inplace=True)\n",
    "df['date'] = pd.to_datetime(df['date']).apply(lambda x: datetime.datetime.strftime(x, '%#d %#m %Y'))\n",
    "# df.columns = ['Q', 'date']\n",
    "df=df.astype(str)\n",
    "df"
   ]
  },
  {
   "cell_type": "code",
   "execution_count": 418,
   "id": "ea73a2c3",
   "metadata": {},
   "outputs": [],
   "source": [
    "df2 = pd.DataFrame()\n",
    "for i in df.columns:\n",
    "    df2[i] = df[\"date\"] + ' ' + df[i]\n",
    "df2 = df2.drop(columns=['date'])"
   ]
  },
  {
   "cell_type": "code",
   "execution_count": 419,
   "id": "8c2857c3",
   "metadata": {},
   "outputs": [
    {
     "data": {
      "text/html": [
       "<div>\n",
       "<style scoped>\n",
       "    .dataframe tbody tr th:only-of-type {\n",
       "        vertical-align: middle;\n",
       "    }\n",
       "\n",
       "    .dataframe tbody tr th {\n",
       "        vertical-align: top;\n",
       "    }\n",
       "\n",
       "    .dataframe thead th {\n",
       "        text-align: right;\n",
       "    }\n",
       "</style>\n",
       "<table border=\"1\" class=\"dataframe\">\n",
       "  <thead>\n",
       "    <tr style=\"text-align: right;\">\n",
       "      <th></th>\n",
       "      <th>70801</th>\n",
       "    </tr>\n",
       "  </thead>\n",
       "  <tbody>\n",
       "    <tr>\n",
       "      <th>0</th>\n",
       "      <td>1 1 2014 nan</td>\n",
       "    </tr>\n",
       "    <tr>\n",
       "      <th>1</th>\n",
       "      <td>2 1 2014 nan</td>\n",
       "    </tr>\n",
       "    <tr>\n",
       "      <th>2</th>\n",
       "      <td>3 1 2014 nan</td>\n",
       "    </tr>\n",
       "    <tr>\n",
       "      <th>3</th>\n",
       "      <td>4 1 2014 nan</td>\n",
       "    </tr>\n",
       "    <tr>\n",
       "      <th>4</th>\n",
       "      <td>5 1 2014 nan</td>\n",
       "    </tr>\n",
       "    <tr>\n",
       "      <th>...</th>\n",
       "      <td>...</td>\n",
       "    </tr>\n",
       "    <tr>\n",
       "      <th>2186</th>\n",
       "      <td>27 12 2019 nan</td>\n",
       "    </tr>\n",
       "    <tr>\n",
       "      <th>2187</th>\n",
       "      <td>28 12 2019 nan</td>\n",
       "    </tr>\n",
       "    <tr>\n",
       "      <th>2188</th>\n",
       "      <td>29 12 2019 nan</td>\n",
       "    </tr>\n",
       "    <tr>\n",
       "      <th>2189</th>\n",
       "      <td>30 12 2019 nan</td>\n",
       "    </tr>\n",
       "    <tr>\n",
       "      <th>2190</th>\n",
       "      <td>31 12 2019 nan</td>\n",
       "    </tr>\n",
       "  </tbody>\n",
       "</table>\n",
       "<p>2191 rows × 1 columns</p>\n",
       "</div>"
      ],
      "text/plain": [
       "               70801\n",
       "0       1 1 2014 nan\n",
       "1       2 1 2014 nan\n",
       "2       3 1 2014 nan\n",
       "3       4 1 2014 nan\n",
       "4       5 1 2014 nan\n",
       "...              ...\n",
       "2186  27 12 2019 nan\n",
       "2187  28 12 2019 nan\n",
       "2188  29 12 2019 nan\n",
       "2189  30 12 2019 nan\n",
       "2190  31 12 2019 nan\n",
       "\n",
       "[2191 rows x 1 columns]"
      ]
     },
     "execution_count": 419,
     "metadata": {},
     "output_type": "execute_result"
    }
   ],
   "source": [
    "df2"
   ]
  },
  {
   "cell_type": "code",
   "execution_count": 420,
   "id": "485b9689",
   "metadata": {},
   "outputs": [],
   "source": [
    "df2.to_excel('Сев_Двина_для_продления.xlsx')"
   ]
  },
  {
   "cell_type": "code",
   "execution_count": 421,
   "id": "3fd356e1",
   "metadata": {},
   "outputs": [],
   "source": [
    "flat_gauge = [item for sublist in gauge_list for item in sublist]\n",
    "flat_nm = [item for sublist in nm_list for item in sublist]\n"
   ]
  },
  {
   "cell_type": "code",
   "execution_count": 422,
   "id": "43521670",
   "metadata": {},
   "outputs": [
    {
     "data": {
      "text/plain": [
       "['Сев. Двина - р. Северная Двина - с. Усть-Пинега']"
      ]
     },
     "execution_count": 422,
     "metadata": {},
     "output_type": "execute_result"
    }
   ],
   "source": [
    "list(set(flat_gauge))"
   ]
  },
  {
   "cell_type": "code",
   "execution_count": 423,
   "id": "0c22b93c",
   "metadata": {},
   "outputs": [
    {
     "data": {
      "text/plain": [
       "[70801]"
      ]
     },
     "execution_count": 423,
     "metadata": {},
     "output_type": "execute_result"
    }
   ],
   "source": [
    "list(set(flat_nm))"
   ]
  },
  {
   "cell_type": "code",
   "execution_count": null,
   "id": "978cca52",
   "metadata": {},
   "outputs": [],
   "source": []
  }
 ],
 "metadata": {
  "kernelspec": {
   "display_name": "Python 3",
   "language": "python",
   "name": "python3"
  },
  "language_info": {
   "codemirror_mode": {
    "name": "ipython",
    "version": 3
   },
   "file_extension": ".py",
   "mimetype": "text/x-python",
   "name": "python",
   "nbconvert_exporter": "python",
   "pygments_lexer": "ipython3",
   "version": "3.8.8"
  }
 },
 "nbformat": 4,
 "nbformat_minor": 5
}
