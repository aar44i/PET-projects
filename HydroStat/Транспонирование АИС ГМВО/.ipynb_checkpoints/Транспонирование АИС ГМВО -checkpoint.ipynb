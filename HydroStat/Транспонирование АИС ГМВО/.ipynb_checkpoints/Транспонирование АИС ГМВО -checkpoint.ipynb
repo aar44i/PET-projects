{
 "cells": [
  {
   "cell_type": "code",
   "execution_count": 1333,
   "id": "0c45ca92",
   "metadata": {},
   "outputs": [],
   "source": [
    "import pandas as pd\n",
    "import numpy as np\n",
    "import datetime \n",
    "import re"
   ]
  },
  {
   "cell_type": "code",
   "execution_count": 1334,
   "id": "9bb91b8c",
   "metadata": {},
   "outputs": [
    {
     "name": "stdout",
     "output_type": "stream",
     "text": [
      "2017 Клязьма - р. Клязьма - г. Ковров\n"
     ]
    },
    {
     "data": {
      "text/html": [
       "<div>\n",
       "<style scoped>\n",
       "    .dataframe tbody tr th:only-of-type {\n",
       "        vertical-align: middle;\n",
       "    }\n",
       "\n",
       "    .dataframe tbody tr th {\n",
       "        vertical-align: top;\n",
       "    }\n",
       "\n",
       "    .dataframe thead th {\n",
       "        text-align: right;\n",
       "    }\n",
       "</style>\n",
       "<table border=\"1\" class=\"dataframe\">\n",
       "  <thead>\n",
       "    <tr style=\"text-align: right;\">\n",
       "      <th>3</th>\n",
       "      <th>1.0</th>\n",
       "      <th>2.0</th>\n",
       "      <th>3.0</th>\n",
       "      <th>4.0</th>\n",
       "      <th>5.0</th>\n",
       "      <th>6.0</th>\n",
       "      <th>7.0</th>\n",
       "      <th>8.0</th>\n",
       "      <th>9.0</th>\n",
       "      <th>10.0</th>\n",
       "      <th>11.0</th>\n",
       "      <th>12.0</th>\n",
       "    </tr>\n",
       "  </thead>\n",
       "  <tbody>\n",
       "    <tr>\n",
       "      <th>0</th>\n",
       "      <td>65,9</td>\n",
       "      <td>62,1</td>\n",
       "      <td>71.5 _</td>\n",
       "      <td>606 ^</td>\n",
       "      <td>248</td>\n",
       "      <td>144</td>\n",
       "      <td>117</td>\n",
       "      <td>119</td>\n",
       "      <td>71</td>\n",
       "      <td>69,2</td>\n",
       "      <td>95 _</td>\n",
       "      <td>118 ю</td>\n",
       "    </tr>\n",
       "    <tr>\n",
       "      <th>1</th>\n",
       "      <td>65,5</td>\n",
       "      <td>62,6</td>\n",
       "      <td>72 ю</td>\n",
       "      <td>604</td>\n",
       "      <td>265</td>\n",
       "      <td>143</td>\n",
       "      <td>115 _</td>\n",
       "      <td>115</td>\n",
       "      <td>70</td>\n",
       "      <td>69,2</td>\n",
       "      <td>104</td>\n",
       "      <td>107 ю</td>\n",
       "    </tr>\n",
       "    <tr>\n",
       "      <th>2</th>\n",
       "      <td>65,5</td>\n",
       "      <td>62,6</td>\n",
       "      <td>73 ю</td>\n",
       "      <td>596</td>\n",
       "      <td>295</td>\n",
       "      <td>147</td>\n",
       "      <td>115 _</td>\n",
       "      <td>114</td>\n",
       "      <td>69,6</td>\n",
       "      <td>69,2</td>\n",
       "      <td>116</td>\n",
       "      <td>104 _</td>\n",
       "    </tr>\n",
       "  </tbody>\n",
       "</table>\n",
       "</div>"
      ],
      "text/plain": [
       "3  1.0   2.0     3.0    4.0  5.0  6.0    7.0  8.0   9.0   10.0  11.0   12.0\n",
       "0  65,9  62,1  71.5 _  606 ^  248  144    117  119    71  69,2  95 _  118 ю\n",
       "1  65,5  62,6    72 ю    604  265  143  115 _  115    70  69,2   104  107 ю\n",
       "2  65,5  62,6    73 ю    596  295  147  115 _  114  69,6  69,2   116  104 _"
      ]
     },
     "execution_count": 1334,
     "metadata": {},
     "output_type": "execute_result"
    }
   ],
   "source": [
    "df = pd.read_excel('input_discharge.xlsx')\n",
    "year = df.iat[0,1]\n",
    "gauge = (df.iat[1,1])\n",
    "df = df[3:len(df)]\n",
    "new_header = df.iloc[0] #grab the first row for the header\n",
    "df = df[1:] #take the data less the header row\n",
    "df.columns = new_header #set the header row as the df header\n",
    "df = df.loc[:, 1:12]\n",
    "df.reset_index(drop=True, inplace=True)\n",
    "print(year, gauge)\n",
    "df.head(3)"
   ]
  },
  {
   "cell_type": "code",
   "execution_count": 1335,
   "id": "1fcf01e9",
   "metadata": {},
   "outputs": [],
   "source": [
    "fd=datetime.datetime(year, 1, 1)#начало года\n",
    "ld=datetime.datetime(year+1, 1, 1)#конец года, не включая\n",
    "listOfDates=[date for date in np.arange(fd,ld,datetime.timedelta(days=1))]#лист с датами в этом году"
   ]
  },
  {
   "cell_type": "code",
   "execution_count": 1336,
   "id": "90df6ec3",
   "metadata": {},
   "outputs": [],
   "source": [
    "if year % 4 != 0:#не весокосный год, т.е. остаток от делления на 4 не равен 0:\n",
    "        #ravel делает из 2d 1d строка за строкой, при этом где-то будут пустые ячейки т.к. не все месяцы по 31 день \n",
    "    d = np.delete(df.values.transpose().ravel(),[59,60,61,123,185,278,340])\n",
    "else:\n",
    "    d = np.delete(df.values.transpose().ravel(),[60,61,123,185,278,340])"
   ]
  },
  {
   "cell_type": "code",
   "execution_count": 1337,
   "id": "f50b35af",
   "metadata": {},
   "outputs": [],
   "source": [
    "r=pd.DataFrame(d, index = listOfDates) #делаем datarfame, который по сути series\n",
    "res=r.astype(str)#разные типы данных нам не к чему"
   ]
  },
  {
   "cell_type": "code",
   "execution_count": 1338,
   "id": "cbef9f18",
   "metadata": {},
   "outputs": [
    {
     "data": {
      "text/html": [
       "<div>\n",
       "<style scoped>\n",
       "    .dataframe tbody tr th:only-of-type {\n",
       "        vertical-align: middle;\n",
       "    }\n",
       "\n",
       "    .dataframe tbody tr th {\n",
       "        vertical-align: top;\n",
       "    }\n",
       "\n",
       "    .dataframe thead th {\n",
       "        text-align: right;\n",
       "    }\n",
       "</style>\n",
       "<table border=\"1\" class=\"dataframe\">\n",
       "  <thead>\n",
       "    <tr style=\"text-align: right;\">\n",
       "      <th></th>\n",
       "      <th>0</th>\n",
       "    </tr>\n",
       "  </thead>\n",
       "  <tbody>\n",
       "    <tr>\n",
       "      <th>2017-01-01</th>\n",
       "      <td>65,9</td>\n",
       "    </tr>\n",
       "    <tr>\n",
       "      <th>2017-01-02</th>\n",
       "      <td>65,5</td>\n",
       "    </tr>\n",
       "    <tr>\n",
       "      <th>2017-01-03</th>\n",
       "      <td>65,5</td>\n",
       "    </tr>\n",
       "    <tr>\n",
       "      <th>2017-01-04</th>\n",
       "      <td>64,8</td>\n",
       "    </tr>\n",
       "    <tr>\n",
       "      <th>2017-01-05</th>\n",
       "      <td>64,4</td>\n",
       "    </tr>\n",
       "    <tr>\n",
       "      <th>...</th>\n",
       "      <td>...</td>\n",
       "    </tr>\n",
       "    <tr>\n",
       "      <th>2017-12-27</th>\n",
       "      <td>298 ю</td>\n",
       "    </tr>\n",
       "    <tr>\n",
       "      <th>2017-12-28</th>\n",
       "      <td>290 ю</td>\n",
       "    </tr>\n",
       "    <tr>\n",
       "      <th>2017-12-29</th>\n",
       "      <td>282 ю</td>\n",
       "    </tr>\n",
       "    <tr>\n",
       "      <th>2017-12-30</th>\n",
       "      <td>285 ю</td>\n",
       "    </tr>\n",
       "    <tr>\n",
       "      <th>2017-12-31</th>\n",
       "      <td>284 ю</td>\n",
       "    </tr>\n",
       "  </tbody>\n",
       "</table>\n",
       "<p>365 rows × 1 columns</p>\n",
       "</div>"
      ],
      "text/plain": [
       "                0\n",
       "2017-01-01   65,9\n",
       "2017-01-02   65,5\n",
       "2017-01-03   65,5\n",
       "2017-01-04   64,8\n",
       "2017-01-05   64,4\n",
       "...           ...\n",
       "2017-12-27  298 ю\n",
       "2017-12-28  290 ю\n",
       "2017-12-29  282 ю\n",
       "2017-12-30  285 ю\n",
       "2017-12-31  284 ю\n",
       "\n",
       "[365 rows x 1 columns]"
      ]
     },
     "execution_count": 1338,
     "metadata": {},
     "output_type": "execute_result"
    }
   ],
   "source": [
    "res"
   ]
  },
  {
   "cell_type": "code",
   "execution_count": 1339,
   "id": "5e1ce886",
   "metadata": {},
   "outputs": [],
   "source": [
    "def str_int(x):\n",
    "    if x==\"нб\":\n",
    "        return 0\n",
    "    else:\n",
    "        return float(x.replace(\",\",\".\").split(\" \")[0])"
   ]
  },
  {
   "cell_type": "code",
   "execution_count": 1340,
   "id": "397245fd",
   "metadata": {},
   "outputs": [
    {
     "name": "stdout",
     "output_type": "stream",
     "text": [
      "Клязьма - р. Клязьма - г. Ковров 2017\n",
      "                0\n",
      "2017-01-01   65.9\n",
      "2017-01-02   65.5\n",
      "2017-01-03   65.5\n",
      "2017-01-04   64.8\n",
      "2017-01-05   64.4\n",
      "...           ...\n",
      "2017-12-27  298.0\n",
      "2017-12-28  290.0\n",
      "2017-12-29  282.0\n",
      "2017-12-30  285.0\n",
      "2017-12-31  284.0\n",
      "\n",
      "[365 rows x 1 columns]\n"
     ]
    }
   ],
   "source": [
    "res=res.applymap(str_int)# применяем функцию ко всем элементам фрейма\n",
    "print(gauge, year)\n",
    "print(res)"
   ]
  },
  {
   "cell_type": "code",
   "execution_count": 1341,
   "id": "3786be2d",
   "metadata": {},
   "outputs": [],
   "source": [
    "df = res.copy()\n",
    "df['date'] = df.index"
   ]
  },
  {
   "cell_type": "code",
   "execution_count": 1342,
   "id": "b47d0337",
   "metadata": {},
   "outputs": [],
   "source": [
    "df.reset_index(drop=True, inplace=True)\n",
    "df['date'] = pd.to_datetime(df['date']).apply(lambda x: datetime.datetime.strftime(x, '%#d %#m %Y'))\n",
    "df.columns = ['Q', 'date']\n",
    "df=df.astype(str)"
   ]
  },
  {
   "cell_type": "code",
   "execution_count": 1343,
   "id": "2c3011a5",
   "metadata": {},
   "outputs": [
    {
     "data": {
      "text/html": [
       "<div>\n",
       "<style scoped>\n",
       "    .dataframe tbody tr th:only-of-type {\n",
       "        vertical-align: middle;\n",
       "    }\n",
       "\n",
       "    .dataframe tbody tr th {\n",
       "        vertical-align: top;\n",
       "    }\n",
       "\n",
       "    .dataframe thead th {\n",
       "        text-align: right;\n",
       "    }\n",
       "</style>\n",
       "<table border=\"1\" class=\"dataframe\">\n",
       "  <thead>\n",
       "    <tr style=\"text-align: right;\">\n",
       "      <th></th>\n",
       "      <th>Q</th>\n",
       "    </tr>\n",
       "  </thead>\n",
       "  <tbody>\n",
       "    <tr>\n",
       "      <th>0</th>\n",
       "      <td>1 1 2017 65.9</td>\n",
       "    </tr>\n",
       "    <tr>\n",
       "      <th>1</th>\n",
       "      <td>2 1 2017 65.5</td>\n",
       "    </tr>\n",
       "    <tr>\n",
       "      <th>2</th>\n",
       "      <td>3 1 2017 65.5</td>\n",
       "    </tr>\n",
       "    <tr>\n",
       "      <th>3</th>\n",
       "      <td>4 1 2017 64.8</td>\n",
       "    </tr>\n",
       "    <tr>\n",
       "      <th>4</th>\n",
       "      <td>5 1 2017 64.4</td>\n",
       "    </tr>\n",
       "    <tr>\n",
       "      <th>...</th>\n",
       "      <td>...</td>\n",
       "    </tr>\n",
       "    <tr>\n",
       "      <th>360</th>\n",
       "      <td>27 12 2017 298.0</td>\n",
       "    </tr>\n",
       "    <tr>\n",
       "      <th>361</th>\n",
       "      <td>28 12 2017 290.0</td>\n",
       "    </tr>\n",
       "    <tr>\n",
       "      <th>362</th>\n",
       "      <td>29 12 2017 282.0</td>\n",
       "    </tr>\n",
       "    <tr>\n",
       "      <th>363</th>\n",
       "      <td>30 12 2017 285.0</td>\n",
       "    </tr>\n",
       "    <tr>\n",
       "      <th>364</th>\n",
       "      <td>31 12 2017 284.0</td>\n",
       "    </tr>\n",
       "  </tbody>\n",
       "</table>\n",
       "<p>365 rows × 1 columns</p>\n",
       "</div>"
      ],
      "text/plain": [
       "                    Q\n",
       "0       1 1 2017 65.9\n",
       "1       2 1 2017 65.5\n",
       "2       3 1 2017 65.5\n",
       "3       4 1 2017 64.8\n",
       "4       5 1 2017 64.4\n",
       "..                ...\n",
       "360  27 12 2017 298.0\n",
       "361  28 12 2017 290.0\n",
       "362  29 12 2017 282.0\n",
       "363  30 12 2017 285.0\n",
       "364  31 12 2017 284.0\n",
       "\n",
       "[365 rows x 1 columns]"
      ]
     },
     "execution_count": 1343,
     "metadata": {},
     "output_type": "execute_result"
    }
   ],
   "source": [
    "df2 = pd.DataFrame()\n",
    "df2[\"Q\"] = df[\"date\"] + ' ' + df['Q'] \n",
    "# df2[\"В\"] = df[\"date\"] + ' ' + '-999'\n",
    "df2"
   ]
  },
  {
   "cell_type": "code",
   "execution_count": 1344,
   "id": "8ff2166c",
   "metadata": {},
   "outputs": [],
   "source": [
    "df2.to_excel('%s_%s_in.xlsx' % (year, gauge), header=None, index=None)\n",
    "# filename = \"simple%d%d.csv\" % (minLength,minBF)"
   ]
  }
 ],
 "metadata": {
  "kernelspec": {
   "display_name": "Python 3",
   "language": "python",
   "name": "python3"
  },
  "language_info": {
   "codemirror_mode": {
    "name": "ipython",
    "version": 3
   },
   "file_extension": ".py",
   "mimetype": "text/x-python",
   "name": "python",
   "nbconvert_exporter": "python",
   "pygments_lexer": "ipython3",
   "version": "3.8.8"
  }
 },
 "nbformat": 4,
 "nbformat_minor": 5
}
